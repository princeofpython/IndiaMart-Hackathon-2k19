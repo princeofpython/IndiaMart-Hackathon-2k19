{
 "cells": [
  {
   "cell_type": "markdown",
   "metadata": {
    "colab_type": "text",
    "id": "0v9ps2nJa0qC"
   },
   "source": [
    "# Phase-1 IndiaMART Hackathon\n",
    "This notebook is a working prototype solution to gauge the appropriate unit wise price range for the 3 categories(Gloves,Kurtas,Drills) based on their units by removing outliers from the data.\n",
    "\n",
    "**Instructions for running this notebook**\n",
    "\n",
    "\n",
    "*   Jupyter notebook is needed to run this notebook if it is not available Please use Colab from google  to run it.\n",
    "*   required libraries to run this notebook are pandas,numpy,seaborn and scipy.\n",
    "*   Incase you are running this notebook please make sure all **.csv** files are uploaded \n",
    "\n",
    "\n",
    "\n",
    "\n",
    "\n",
    "\n",
    "\n",
    "\n",
    "\n"
   ]
  },
  {
   "cell_type": "code",
   "execution_count": 0,
   "metadata": {
    "colab": {},
    "colab_type": "code",
    "id": "YokkO0iBEe2t"
   },
   "outputs": [],
   "source": [
    "import pandas as pd\n",
    "import matplotlib.pyplot as plt\n",
    "import seaborn as sns\n",
    "import numpy as np\n",
    "from scipy.stats import norm\n",
    "from scipy.signal import argrelextrema\n",
    "from scipy import stats"
   ]
  },
  {
   "cell_type": "markdown",
   "metadata": {
    "colab_type": "text",
    "id": "VSxTFtO7idsg"
   },
   "source": [
    "we can import the required data either from the folder or our git repository.\n",
    "The given .xlsx file is split into Three parts and and converted to .csv file which is easy to handle."
   ]
  },
  {
   "cell_type": "code",
   "execution_count": 0,
   "metadata": {
    "colab": {},
    "colab_type": "code",
    "id": "V_JxW7kwEe2x"
   },
   "outputs": [],
   "source": [
    "try:\n",
    "  drilldf = pd.read_csv('./phaseone-drill.csv')\n",
    "  glovedf = pd.read_csv('./phaseone-gloves.csv')\n",
    "  kurtadf = pd.read_csv('./phaseone-kurta.csv')\n",
    "except:\n",
    "  try:\n",
    "    drilldf = pd.read_csv('https://raw.githubusercontent.com/nik299/IndiaMart-Hackathon-2k19/master/phaseone-drill.csv')\n",
    "    glovedf = pd.read_csv('https://raw.githubusercontent.com/nik299/IndiaMart-Hackathon-2k19/master/phaseone-gloves.csv')\n",
    "    kurtadf = pd.read_csv('https://raw.githubusercontent.com/nik299/IndiaMart-Hackathon-2k19/master/phaseone-kurta.csv')\n",
    "  except:\n",
    "    print(\"no file found and no internet connection\")\n"
   ]
  },
  {
   "cell_type": "markdown",
   "metadata": {
    "colab_type": "text",
    "id": "daJD4M3eoS6G"
   },
   "source": [
    "the following piece of code prints out all unique units of the three item given"
   ]
  },
  {
   "cell_type": "code",
   "execution_count": 5,
   "metadata": {
    "colab": {
     "base_uri": "https://localhost:8080/",
     "height": 289
    },
    "colab_type": "code",
    "id": "-dHGmh-5Ee24",
    "outputId": "f80ae834-79ca-44a6-8e77-d9634cb823c3"
   },
   "outputs": [
    {
     "name": "stdout",
     "output_type": "stream",
     "text": [
      "['Piece' 'Piece(s)' 'pack' 'unit' 'Number' 'Unit' 'Pack' '1nos' 'Unit(s)'\n",
      " 'kit' 'Set' 'Pc_Onwards' 'ONWARDS' 'Kit'] drills\n",
      "['Pair' 'Piece' 'pack' 'Unit' 'Pack' 'Unit/Onwards' 'Pair(s)' 'unit' 'Set'\n",
      " 'Pieces'] gloves\n",
      "['Piece' 'dollar' 'Packet' 'piece' 'Meter' 'Piece(s)' 'Set' 'Per piece'\n",
      " 'Unit' '1' '1pc' 'Box' '170 per peice' 'Unstitch' 'Barrel' 'Carton'\n",
      " 'peice' 'Pieces' 'Sets' 'Unit(s)' 'one' 'Bag' 'Selfie Kurtis' 'Pack'\n",
      " 'Pair' 'Pound' 'Peice' '1piece' 'No' 'Kilogram' 'Number' \"40' Container\"\n",
      " 'pack' '100 pic' 'Year' \"20' Container\" 'Pcs' 'Piece(s) Onwards' 'One'\n",
      " 'kurtI' 'Ounce' 'onwards' '10-10000' 'per piese' 'Day' 'Set(s)'\n",
      " '12 units' '1pis' 'Onwards' 'One peace' 'Set(S)' 'Pair piece' 'Ounce(s)'\n",
      " 'Packet(s)' 'Single' 'one pcs' 'Pc' '4 pcs' '4 units' '5' 'set' 'kurti'\n",
      " 'pcs' 'pices' 'Pics' 'single piece' 'pi' 'per piece' 'Kurti' 'one unit'\n",
      " '1 piece' '1 pice' 'Suit' 'pair piece' '10' 'pieces' '1pcs' '1 pc'\n",
      " '3 set' 'Xl size' '1000 per unit' '1pcd' 'Psc' 'Gram' 'Rs' 'in' '1 pcs'\n",
      " 'Feet' 'onepices'] kurtas\n"
     ]
    }
   ],
   "source": [
    "drill_units=drilldf['Unit'].unique()\n",
    "print(drill_units,'drills')\n",
    "glove_units=glovedf['Unit'].unique()\n",
    "print(glove_units,'gloves')\n",
    "kurta_units=kurtadf['Unit'].unique()\n",
    "print(kurta_units,'kurtas')"
   ]
  },
  {
   "cell_type": "markdown",
   "metadata": {
    "colab_type": "text",
    "id": "0s7fEGG0o6T4"
   },
   "source": [
    "The following three cells prints out the count of each unique unts."
   ]
  },
  {
   "cell_type": "code",
   "execution_count": 6,
   "metadata": {
    "colab": {
     "base_uri": "https://localhost:8080/",
     "height": 272
    },
    "colab_type": "code",
    "id": "7dKAIEMGEe28",
    "outputId": "7a841d49-c97f-4f24-bd52-ad487122dc7c"
   },
   "outputs": [
    {
     "data": {
      "text/plain": [
       "Piece         119\n",
       "pack           47\n",
       "unit           25\n",
       "Unit           17\n",
       "Number         14\n",
       "Pack            9\n",
       "Pc_Onwards      5\n",
       "Piece(s)        5\n",
       "Kit             1\n",
       "Set             1\n",
       "kit             1\n",
       "Unit(s)         1\n",
       "ONWARDS         1\n",
       "1nos            1\n",
       "Name: Unit, dtype: int64"
      ]
     },
     "execution_count": 6,
     "metadata": {
      "tags": []
     },
     "output_type": "execute_result"
    }
   ],
   "source": [
    "drilldf['Unit'].value_counts()"
   ]
  },
  {
   "cell_type": "code",
   "execution_count": 7,
   "metadata": {
    "colab": {
     "base_uri": "https://localhost:8080/",
     "height": 204
    },
    "colab_type": "code",
    "id": "_aMEixII92Ku",
    "outputId": "ce705f93-a93d-4a33-85be-6eb81af2a56c"
   },
   "outputs": [
    {
     "data": {
      "text/plain": [
       "Pair            113\n",
       "unit              9\n",
       "Piece             6\n",
       "pack              5\n",
       "Pack              3\n",
       "Unit              3\n",
       "Pair(s)           2\n",
       "Unit/Onwards      1\n",
       "Set               1\n",
       "Pieces            1\n",
       "Name: Unit, dtype: int64"
      ]
     },
     "execution_count": 7,
     "metadata": {
      "tags": []
     },
     "output_type": "execute_result"
    }
   ],
   "source": [
    "glovedf['Unit'].value_counts()"
   ]
  },
  {
   "cell_type": "code",
   "execution_count": 8,
   "metadata": {
    "colab": {
     "base_uri": "https://localhost:8080/",
     "height": 1071
    },
    "colab_type": "code",
    "id": "_2f3W73W92vW",
    "outputId": "234a74ef-08f3-4efb-cefd-467730db501c"
   },
   "outputs": [
    {
     "data": {
      "text/plain": [
       "Piece            3334\n",
       "Piece(s)          500\n",
       "1                  76\n",
       "Unit               63\n",
       "Set                43\n",
       "Onwards            39\n",
       "piece              38\n",
       "No                 37\n",
       "Number             23\n",
       "Bag                23\n",
       "Pair               17\n",
       "Pack               13\n",
       "Pieces             13\n",
       "Unit(s)            11\n",
       "onwards             9\n",
       "Box                 9\n",
       "20' Container       6\n",
       "Set(s)              5\n",
       "40' Container       5\n",
       "Packet              4\n",
       "Ounce               4\n",
       "Psc                 3\n",
       "one                 3\n",
       "Meter               3\n",
       "1piece              3\n",
       "kurti               3\n",
       "peice               3\n",
       "1pc                 3\n",
       "Day                 2\n",
       "5                   2\n",
       "                 ... \n",
       "Sets                1\n",
       "one unit            1\n",
       "pcs                 1\n",
       "170 per peice       1\n",
       "1 pcs               1\n",
       "Kilogram            1\n",
       "1 pc                1\n",
       "pi                  1\n",
       "Gram                1\n",
       "per piece           1\n",
       "Suit                1\n",
       "set                 1\n",
       "Single              1\n",
       "Selfie Kurtis       1\n",
       "1pis                1\n",
       "Carton              1\n",
       "1 piece             1\n",
       "Pair piece          1\n",
       "100 pic             1\n",
       "Set(S)              1\n",
       "Ounce(s)            1\n",
       "3 set               1\n",
       "single piece        1\n",
       "per piese           1\n",
       "Unstitch            1\n",
       "Year                1\n",
       "dollar              1\n",
       "onepices            1\n",
       "Feet                1\n",
       "one pcs             1\n",
       "Name: Unit, Length: 89, dtype: int64"
      ]
     },
     "execution_count": 8,
     "metadata": {
      "tags": []
     },
     "output_type": "execute_result"
    }
   ],
   "source": [
    "kurtadf['Unit'].value_counts()\n"
   ]
  },
  {
   "cell_type": "markdown",
   "metadata": {
    "colab_type": "text",
    "id": "gMo3-4EasS61"
   },
   "source": [
    "# Calculating Z-score\n",
    "Z-score is meausure of how much given sample is deviating compared to Standaed deviation.\n",
    "In python the function is available in scipy.stats which we are using in the following cells\n",
    "\n",
    "**note:**we are calculating only abolsolute values as sign of z-score doesn't matter in finding outliers\n",
    "\n",
    "\n",
    "\n",
    "\n"
   ]
  },
  {
   "cell_type": "code",
   "execution_count": 0,
   "metadata": {
    "colab": {},
    "colab_type": "code",
    "id": "iebcrhEEEDId"
   },
   "outputs": [],
   "source": [
    "drill_z = np.abs(stats.zscore(drilldf['Price']))\n",
    "glove_z = np.abs(stats.zscore(glovedf.loc[glovedf['Unit']=='Pair']['Price']))\n",
    "kurta_z = np.abs(stats.zscore(kurtadf.loc[((kurtadf['Unit']=='Piece') | (kurtadf['Unit']=='Piece(s)'))]['Price']))"
   ]
  },
  {
   "cell_type": "markdown",
   "metadata": {
    "colab_type": "text",
    "id": "YPxPlQ3GtSRL"
   },
   "source": [
    "After obtaing z-score we are not considering all entries whse z-score is greater than 3 or less than -3 and also we are considering only some units values as unit conversion is not as indicative as the sugar example given."
   ]
  },
  {
   "cell_type": "code",
   "execution_count": 0,
   "metadata": {
    "colab": {},
    "colab_type": "code",
    "id": "I-o75iBmEe2_"
   },
   "outputs": [],
   "source": [
    "drill_ol=drilldf[(drill_z < 3)]\n",
    "npa=drilldf[(drill_z < 3)]['Price']\n",
    "npa1=glovedf.loc[glovedf['Unit']=='Pair'][(glove_z < 3)]['Price']\n",
    "npa2=kurtadf.loc[((kurtadf['Unit']=='Piece') | (kurtadf['Unit']=='Piece(s)'))][(kurta_z < 3)]['Price'][:-1]"
   ]
  },
  {
   "cell_type": "markdown",
   "metadata": {
    "colab_type": "text",
    "id": "SQXO07qSg6Na"
   },
   "source": [
    "The following 3 cells describe the data taken for consideration"
   ]
  },
  {
   "cell_type": "code",
   "execution_count": 32,
   "metadata": {
    "colab": {
     "base_uri": "https://localhost:8080/",
     "height": 297
    },
    "colab_type": "code",
    "id": "Qc9raGLAgckP",
    "outputId": "20749e70-d90b-4a0a-8b72-967b3828f59f"
   },
   "outputs": [
    {
     "data": {
      "text/html": [
       "<div>\n",
       "<style scoped>\n",
       "    .dataframe tbody tr th:only-of-type {\n",
       "        vertical-align: middle;\n",
       "    }\n",
       "\n",
       "    .dataframe tbody tr th {\n",
       "        vertical-align: top;\n",
       "    }\n",
       "\n",
       "    .dataframe thead th {\n",
       "        text-align: right;\n",
       "    }\n",
       "</style>\n",
       "<table border=\"1\" class=\"dataframe\">\n",
       "  <thead>\n",
       "    <tr style=\"text-align: right;\">\n",
       "      <th></th>\n",
       "      <th>Price</th>\n",
       "    </tr>\n",
       "  </thead>\n",
       "  <tbody>\n",
       "    <tr>\n",
       "      <th>count</th>\n",
       "      <td>238.000000</td>\n",
       "    </tr>\n",
       "    <tr>\n",
       "      <th>mean</th>\n",
       "      <td>5106.016807</td>\n",
       "    </tr>\n",
       "    <tr>\n",
       "      <th>std</th>\n",
       "      <td>5777.683116</td>\n",
       "    </tr>\n",
       "    <tr>\n",
       "      <th>min</th>\n",
       "      <td>2.000000</td>\n",
       "    </tr>\n",
       "    <tr>\n",
       "      <th>25%</th>\n",
       "      <td>2100.000000</td>\n",
       "    </tr>\n",
       "    <tr>\n",
       "      <th>50%</th>\n",
       "      <td>2954.000000</td>\n",
       "    </tr>\n",
       "    <tr>\n",
       "      <th>75%</th>\n",
       "      <td>5638.500000</td>\n",
       "    </tr>\n",
       "    <tr>\n",
       "      <th>max</th>\n",
       "      <td>35000.000000</td>\n",
       "    </tr>\n",
       "  </tbody>\n",
       "</table>\n",
       "</div>"
      ],
      "text/plain": [
       "              Price\n",
       "count    238.000000\n",
       "mean    5106.016807\n",
       "std     5777.683116\n",
       "min        2.000000\n",
       "25%     2100.000000\n",
       "50%     2954.000000\n",
       "75%     5638.500000\n",
       "max    35000.000000"
      ]
     },
     "execution_count": 32,
     "metadata": {
      "tags": []
     },
     "output_type": "execute_result"
    }
   ],
   "source": [
    "drilldf[(drill_z < 3)].describe()"
   ]
  },
  {
   "cell_type": "code",
   "execution_count": 31,
   "metadata": {
    "colab": {
     "base_uri": "https://localhost:8080/",
     "height": 297
    },
    "colab_type": "code",
    "id": "pF0IYXASgUee",
    "outputId": "b105ae20-a767-474c-ed3b-959c976a86a8"
   },
   "outputs": [
    {
     "data": {
      "text/html": [
       "<div>\n",
       "<style scoped>\n",
       "    .dataframe tbody tr th:only-of-type {\n",
       "        vertical-align: middle;\n",
       "    }\n",
       "\n",
       "    .dataframe tbody tr th {\n",
       "        vertical-align: top;\n",
       "    }\n",
       "\n",
       "    .dataframe thead th {\n",
       "        text-align: right;\n",
       "    }\n",
       "</style>\n",
       "<table border=\"1\" class=\"dataframe\">\n",
       "  <thead>\n",
       "    <tr style=\"text-align: right;\">\n",
       "      <th></th>\n",
       "      <th>Price</th>\n",
       "    </tr>\n",
       "  </thead>\n",
       "  <tbody>\n",
       "    <tr>\n",
       "      <th>count</th>\n",
       "      <td>112.000000</td>\n",
       "    </tr>\n",
       "    <tr>\n",
       "      <th>mean</th>\n",
       "      <td>100.348214</td>\n",
       "    </tr>\n",
       "    <tr>\n",
       "      <th>std</th>\n",
       "      <td>64.894469</td>\n",
       "    </tr>\n",
       "    <tr>\n",
       "      <th>min</th>\n",
       "      <td>10.000000</td>\n",
       "    </tr>\n",
       "    <tr>\n",
       "      <th>25%</th>\n",
       "      <td>48.750000</td>\n",
       "    </tr>\n",
       "    <tr>\n",
       "      <th>50%</th>\n",
       "      <td>80.000000</td>\n",
       "    </tr>\n",
       "    <tr>\n",
       "      <th>75%</th>\n",
       "      <td>170.000000</td>\n",
       "    </tr>\n",
       "    <tr>\n",
       "      <th>max</th>\n",
       "      <td>250.000000</td>\n",
       "    </tr>\n",
       "  </tbody>\n",
       "</table>\n",
       "</div>"
      ],
      "text/plain": [
       "            Price\n",
       "count  112.000000\n",
       "mean   100.348214\n",
       "std     64.894469\n",
       "min     10.000000\n",
       "25%     48.750000\n",
       "50%     80.000000\n",
       "75%    170.000000\n",
       "max    250.000000"
      ]
     },
     "execution_count": 31,
     "metadata": {
      "tags": []
     },
     "output_type": "execute_result"
    }
   ],
   "source": [
    "glovedf.loc[glovedf['Unit']=='Pair'][(glove_z < 3)].describe()"
   ]
  },
  {
   "cell_type": "code",
   "execution_count": 12,
   "metadata": {
    "colab": {
     "base_uri": "https://localhost:8080/",
     "height": 297
    },
    "colab_type": "code",
    "id": "7FXyP-a689Mv",
    "outputId": "bf32eed3-5a24-4ae4-b42f-bdfe0a019bee"
   },
   "outputs": [
    {
     "data": {
      "text/html": [
       "<div>\n",
       "<style scoped>\n",
       "    .dataframe tbody tr th:only-of-type {\n",
       "        vertical-align: middle;\n",
       "    }\n",
       "\n",
       "    .dataframe tbody tr th {\n",
       "        vertical-align: top;\n",
       "    }\n",
       "\n",
       "    .dataframe thead th {\n",
       "        text-align: right;\n",
       "    }\n",
       "</style>\n",
       "<table border=\"1\" class=\"dataframe\">\n",
       "  <thead>\n",
       "    <tr style=\"text-align: right;\">\n",
       "      <th></th>\n",
       "      <th>Price</th>\n",
       "    </tr>\n",
       "  </thead>\n",
       "  <tbody>\n",
       "    <tr>\n",
       "      <th>count</th>\n",
       "      <td>3821.000000</td>\n",
       "    </tr>\n",
       "    <tr>\n",
       "      <th>mean</th>\n",
       "      <td>696.981942</td>\n",
       "    </tr>\n",
       "    <tr>\n",
       "      <th>std</th>\n",
       "      <td>675.809564</td>\n",
       "    </tr>\n",
       "    <tr>\n",
       "      <th>min</th>\n",
       "      <td>1.000000</td>\n",
       "    </tr>\n",
       "    <tr>\n",
       "      <th>25%</th>\n",
       "      <td>325.000000</td>\n",
       "    </tr>\n",
       "    <tr>\n",
       "      <th>50%</th>\n",
       "      <td>500.000000</td>\n",
       "    </tr>\n",
       "    <tr>\n",
       "      <th>75%</th>\n",
       "      <td>800.000000</td>\n",
       "    </tr>\n",
       "    <tr>\n",
       "      <th>max</th>\n",
       "      <td>6589.000000</td>\n",
       "    </tr>\n",
       "  </tbody>\n",
       "</table>\n",
       "</div>"
      ],
      "text/plain": [
       "             Price\n",
       "count  3821.000000\n",
       "mean    696.981942\n",
       "std     675.809564\n",
       "min       1.000000\n",
       "25%     325.000000\n",
       "50%     500.000000\n",
       "75%     800.000000\n",
       "max    6589.000000"
      ]
     },
     "execution_count": 12,
     "metadata": {
      "tags": []
     },
     "output_type": "execute_result"
    }
   ],
   "source": [
    "kurtadf.loc[((kurtadf['Unit']=='Piece') | (kurtadf['Unit']=='Piece(s)'))][(kurta_z < 3)].describe()"
   ]
  },
  {
   "cell_type": "markdown",
   "metadata": {
    "colab_type": "text",
    "id": "NG_Ijss11-As"
   },
   "source": [
    "The following cell is used to store standard deviation which is very important to calculate the bandwidth in later part"
   ]
  },
  {
   "cell_type": "code",
   "execution_count": 13,
   "metadata": {
    "colab": {
     "base_uri": "https://localhost:8080/",
     "height": 34
    },
    "colab_type": "code",
    "id": "PCtYTrCoF8Gh",
    "outputId": "96739a0b-8e68-4dc4-8ef4-90daee8f56d5"
   },
   "outputs": [
    {
     "name": "stdout",
     "output_type": "stream",
     "text": [
      "5765.5323498379985 64.60411168657322 669.0502683105965\n"
     ]
    }
   ],
   "source": [
    "stdev=np.std(npa)\n",
    "stdev1=np.std(npa1)\n",
    "stdev2=np.std(npa2)\n",
    "print(stdev,stdev1,stdev2)"
   ]
  },
  {
   "cell_type": "markdown",
   "metadata": {
    "colab_type": "text",
    "id": "jh2vYAYr2g1S"
   },
   "source": [
    "# Kernel Density estimation method for calculation of Probabilty Disribution Function\n",
    "we are using probability distribution function for find ing require range as pdf is more suitable for finding relationship in general population.\n",
    "\n",
    "kernel Density Estimation is useful method for calculating pdf from discret samples.\n",
    "\n"
   ]
  },
  {
   "cell_type": "code",
   "execution_count": 0,
   "metadata": {
    "colab": {},
    "colab_type": "code",
    "id": "nRb0nWC4Ee3I"
   },
   "outputs": [],
   "source": [
    "from scipy.stats import gaussian_kde\n",
    "def kde_scipy(x, x_grid, bandwidth, **kwargs):\n",
    "    \"\"\"Kernel Density Estimation with Scipy\"\"\"\n",
    "    # Note that scipy weights its bandwidth by the covariance of the\n",
    "    # input data.  To make the results comparable to the other methods,\n",
    "    # we divide the bandwidth by the sample standard deviation here.\n",
    "    kde = gaussian_kde(x, bw_method=bandwidth / x.std(ddof=1), **kwargs)\n",
    "    return kde.evaluate(x_grid)"
   ]
  },
  {
   "cell_type": "code",
   "execution_count": 41,
   "metadata": {
    "colab": {
     "base_uri": "https://localhost:8080/",
     "height": 295
    },
    "colab_type": "code",
    "id": "PBAlRD6kEe3K",
    "outputId": "126ac20a-ca3f-42b1-b92a-338a246f4386"
   },
   "outputs": [
    {
     "data": {
      "image/png": "[encoded data removed]",
      "text/plain": [
       "<Figure size 432x288 with 1 Axes>"
      ]
     },
     "metadata": {
      "tags": []
     },
     "output_type": "display_data"
    }
   ],
   "source": [
    "y_grid=np.linspace(np.amin(npa)-(np.amax(npa)-np.amin(npa))*0.4,np.amax(npa)+(np.amax(npa)-np.amin(npa))*0.4,10000)\n",
    "ideal=1.06*(np.std(npa))*((len(npa)**(-1/5)))\n",
    "pdf = kde_scipy(npa, y_grid, bandwidth=ideal)\n",
    "plt.plot(y_grid, pdf, color='blue', alpha=1, lw=1)\n",
    "plt.title('PDF for drill')\n",
    "plt.xlabel('Price')\n",
    "plt.show()"
   ]
  },
  {
   "cell_type": "code",
   "execution_count": 42,
   "metadata": {
    "colab": {
     "base_uri": "https://localhost:8080/",
     "height": 295
    },
    "colab_type": "code",
    "id": "TzAdVqipNti5",
    "outputId": "248ccde0-d95d-4c58-e676-90e57df87e41"
   },
   "outputs": [
    {
     "data": {
      "image/png": "[encoded data removed]",
      "text/plain": [
       "<Figure size 432x288 with 1 Axes>"
      ]
     },
     "metadata": {
      "tags": []
     },
     "output_type": "display_data"
    }
   ],
   "source": [
    "y_grid1=np.linspace(np.amin(npa1)-(np.amax(npa1)-np.amin(npa1))*0.4,np.amax(npa1)+(np.amax(npa1)-np.amin(npa1))*0.4,10000)\n",
    "ideal1=1.06*(np.std(npa1))*((len(npa1)**(-1/5)))\n",
    "pdf1 = kde_scipy(npa1, y_grid1, bandwidth=ideal1)\n",
    "plt.plot(y_grid1, pdf1, color='blue', alpha=1, lw=1)\n",
    "plt.title('PDF for gloves')\n",
    "plt.xlabel('Price')\n",
    "plt.show()"
   ]
  },
  {
   "cell_type": "code",
   "execution_count": 43,
   "metadata": {
    "colab": {
     "base_uri": "https://localhost:8080/",
     "height": 295
    },
    "colab_type": "code",
    "id": "Y3reUnhuOQh0",
    "outputId": "1fa2f1ae-056f-4950-9e8b-72a795c9d21d"
   },
   "outputs": [
    {
     "data": {
      "image/png": "[encoded data removed]",
      "text/plain": [
       "<Figure size 432x288 with 1 Axes>"
      ]
     },
     "metadata": {
      "tags": []
     },
     "output_type": "display_data"
    }
   ],
   "source": [
    "y_grid2=np.linspace(-(np.amax(npa2)-np.amin(npa2))*0.05,np.amax(npa2)*1.05,10000)\n",
    "ideal2=1.06*(np.std(npa2))*((len(npa2)**(-1/5)))\n",
    "pdf2 = kde_scipy(npa2, y_grid2, bandwidth=ideal2)\n",
    "plt.plot(y_grid2, pdf2, color='blue', alpha=1, lw=1)\n",
    "plt.title('PDF for kurta')\n",
    "plt.xlabel('Price')\n",
    "plt.show()"
   ]
  },
  {
   "cell_type": "code",
   "execution_count": 34,
   "metadata": {
    "colab": {
     "base_uri": "https://localhost:8080/",
     "height": 34
    },
    "colab_type": "code",
    "id": "yLFkxtdUJNj-",
    "outputId": "61e6220e-35e5-4c4f-a9a9-35689b2f5cdb"
   },
   "outputs": [
    {
     "name": "stdout",
     "output_type": "stream",
     "text": [
      "0.9998999999999422 0.9998891844204684 0.9998524408904884\n"
     ]
    }
   ],
   "source": [
    "w=((np.amax(npa)-np.amin(npa))*1.8)/10000\n",
    "w1=((np.amax(npa1)-np.amin(npa1))*1.8)/10000\n",
    "w2=((np.amax(npa2)-np.amin(npa2))*0.05+np.amax(npa2)*1.05)/10000\n",
    "print(np.sum(pdf)*w,np.sum(pdf1)*w1,np.sum(pdf2)*w2)"
   ]
  },
  {
   "cell_type": "code",
   "execution_count": 20,
   "metadata": {
    "colab": {
     "base_uri": "https://localhost:8080/",
     "height": 34
    },
    "colab_type": "code",
    "id": "jHBGAYDqMYTC",
    "outputId": "9732e499-0b66-4589-964c-8529a5ab2470"
   },
   "outputs": [
    {
     "name": "stdout",
     "output_type": "stream",
     "text": [
      "9.998999999999414\n"
     ]
    }
   ],
   "source": [
    "pdf_area=np.zeros(len(pdf)-1)\n",
    "for a in range(len(pdf_area)):\n",
    "  pdf_area[a]=(pdf[a]+pdf[a+1])*(w/2)\n",
    "print(np.sum(pdf_area))"
   ]
  },
  {
   "cell_type": "markdown",
   "metadata": {
    "colab_type": "text",
    "id": "2-gcDmLQhisW"
   },
   "source": [
    "# Range calculation from PDF \n",
    "we used 2 methods for calculating a range they are \n",
    "\n",
    "1.   finding the peak and finding a range which covers 50% of the area under pdf and having peak as mean point of that range(it means there is 50% chance for a product to be in that range) this ensures price which has maximum entries lies in that region\n",
    "\n",
    "2.   finding the smallest range which covers majority of the region(we can use range which covers 50% of the region)the advantage with this method is it ensures ranges is minimum.\n",
    "\n"
   ]
  },
  {
   "cell_type": "code",
   "execution_count": 40,
   "metadata": {
    "colab": {
     "base_uri": "https://localhost:8080/",
     "height": 51
    },
    "colab_type": "code",
    "id": "00CBOvWMH7WT",
    "outputId": "e9a1ff6f-4565-42c2-a658-3c507d9f3061"
   },
   "outputs": [
    {
     "name": "stdout",
     "output_type": "stream",
     "text": [
      "0.5000598877991991 345\n",
      "This is the range obtained for drill  492.0 4839.0\n"
     ]
    }
   ],
   "source": [
    "f_peak=argrelextrema(pdf, np.greater)[0][0]\n",
    "for q in range(f_peak):\n",
    "  if np.sum(pdf[f_peak-q:f_peak+q])*w > 0.5:\n",
    "    print(np.sum(pdf[f_peak-q:f_peak+q])*w,q)\n",
    "    break\n",
    "print('This is the range obtained for drill ',np.round((f_peak-q)*w+np.amin(npa)-(np.amax(npa)-np.amin(npa))*0.4),np.round((f_peak+q)*w+np.amin(npa)-(np.amax(npa)-np.amin(npa))*0.4))"
   ]
  },
  {
   "cell_type": "code",
   "execution_count": 39,
   "metadata": {
    "colab": {
     "base_uri": "https://localhost:8080/",
     "height": 51
    },
    "colab_type": "code",
    "id": "7mS56QZLQhrN",
    "outputId": "edefdf3d-02e1-4d72-b145-0ba8f0ccbcb9"
   },
   "outputs": [
    {
     "name": "stdout",
     "output_type": "stream",
     "text": [
      "0.5001481762058778 665\n",
      "This is the range obtained for gloves  30.0 116.0\n"
     ]
    }
   ],
   "source": [
    "f_peak1=argrelextrema(pdf1, np.greater)[0][0]\n",
    "q=0\n",
    "for q in range(f_peak1):\n",
    "  if np.sum(pdf1[f_peak1-q:f_peak1+2*q])*w1 > 0.5:\n",
    "    print(np.sum(pdf1[f_peak1-q:f_peak1+2*q])*w1,q)\n",
    "    break\n",
    "print('This is the range obtained for gloves ',np.round((f_peak1-q)*w1+np.amin(npa1)-(np.amax(npa1)-np.amin(npa1))*0.4),np.round((f_peak1+2*q)*w1+np.amin(npa1)-(np.amax(npa1)-np.amin(npa1))*0.4))"
   ]
  },
  {
   "cell_type": "code",
   "execution_count": 45,
   "metadata": {
    "colab": {
     "base_uri": "https://localhost:8080/",
     "height": 51
    },
    "colab_type": "code",
    "id": "rFq5MSF4QiNI",
    "outputId": "dbe9fcc8-aee3-4e82-91e8-060d5f8cd2d1"
   },
   "outputs": [
    {
     "name": "stdout",
     "output_type": "stream",
     "text": [
      "0.5010971844000225 308\n",
      "This is the range obtained for Kurta  185.0 625.0\n"
     ]
    }
   ],
   "source": [
    "f_peak2=argrelextrema(pdf2, np.greater)[0][0]\n",
    "for q in range(f_peak2):\n",
    "  if np.sum(pdf2[f_peak2-q:f_peak2+q])*w2 > 0.5:\n",
    "    print(np.sum(pdf2[f_peak2-q:f_peak2+q])*w2,q)\n",
    "    break\n",
    "print('This is the range obtained for Kurta ',np.round((f_peak2-q)*w2-(np.amax(npa2)-np.amin(npa2))*0.05),np.round((f_peak2+q)*w2-(np.amax(npa2)-np.amin(npa2))*0.05))"
   ]
  },
  {
   "cell_type": "code",
   "execution_count": 47,
   "metadata": {
    "colab": {
     "base_uri": "https://localhost:8080/",
     "height": 51
    },
    "colab_type": "code",
    "id": "43E_-ON6Xgsh",
    "outputId": "819f6730-6475-499d-f434-e00f0a201cd4"
   },
   "outputs": [
    {
     "name": "stdout",
     "output_type": "stream",
     "text": [
      "0.5000016451939738 2316 688\n",
      "This is the range obtained for drill  593.0 4933.0\n"
     ]
    }
   ],
   "source": [
    "qq1=len(pdf)\n",
    "for q in range(len(pdf)):\n",
    "  for p in range(len(pdf)-(q+1)):\n",
    "     if np.sum(pdf[p:p+q+1])*w > 0.5:\n",
    "        print(np.sum(pdf[p:p+q+1])*w,p,q)\n",
    "        break\n",
    "  if np.sum(pdf[p:p+q+1])*w > 0.5:\n",
    "    break\n",
    "print('This is the range obtained for drill ',np.round((p)*w+np.amin(npa)-(np.amax(npa)-np.amin(npa))*0.4),np.round((p+q+1)*w+np.amin(npa)-(np.amax(npa)-np.amin(npa))*0.4))  \n",
    "     \n",
    "        "
   ]
  },
  {
   "cell_type": "code",
   "execution_count": 48,
   "metadata": {
    "colab": {
     "base_uri": "https://localhost:8080/",
     "height": 51
    },
    "colab_type": "code",
    "id": "iS3Nmo98wL7L",
    "outputId": "0f6ab28c-ab50-46be-a491-a498359c1df5"
   },
   "outputs": [
    {
     "name": "stdout",
     "output_type": "stream",
     "text": [
      "0.5000096568509714 2418 1933\n",
      "This is the range obtained for gloves  18.0 102.0\n"
     ]
    }
   ],
   "source": [
    "qq2=len(pdf1)\n",
    "for q in range(len(pdf1)):\n",
    "  for p in range(len(pdf1)-(q+1)):\n",
    "     if np.sum(pdf1[p:p+q+1])*w1 > 0.5:\n",
    "        print(np.sum(pdf1[p:p+q+1])*w1,p,q)\n",
    "        break\n",
    "  if np.sum(pdf1[p:p+q+1])*w1 > 0.5:\n",
    "    break\n",
    "print('This is the range obtained for gloves ',np.round((p)*w1+np.amin(npa1)-(np.amax(npa1)-np.amin(npa1))*0.4),np.round((p+q+1)*w1+np.amin(npa1)-(np.amax(npa1)-np.amin(npa1))*0.4))  \n",
    " "
   ]
  },
  {
   "cell_type": "code",
   "execution_count": 50,
   "metadata": {
    "colab": {
     "base_uri": "https://localhost:8080/",
     "height": 51
    },
    "colab_type": "code",
    "id": "5jp7a2JZ3b9f",
    "outputId": "10986e22-849c-4643-8105-346a109c7f1b"
   },
   "outputs": [
    {
     "name": "stdout",
     "output_type": "stream",
     "text": [
      "0.6000482159633659 652 789\n",
      "This is the range obtained for Kurta  141.0 706.0\n"
     ]
    }
   ],
   "source": [
    "qq3=len(pdf2)\n",
    "for q in range(len(pdf2)):\n",
    "  for p in range(len(pdf2)-(q+1)):\n",
    "     if np.sum(pdf2[p:p+q+1])*w2 > 0.6:\n",
    "        print(np.sum(pdf2[p:p+q+1])*w2,p,q)\n",
    "        break\n",
    "  if np.sum(pdf2[p:p+q+1])*w2 > 0.6:\n",
    "    break\n",
    "print('This is the range obtained for Kurta ',np.round((p)*w2-(np.amax(npa2)-np.amin(npa2))*0.05),np.round((p+q+1)*w2-(np.amax(npa2)-np.amin(npa2))*0.05))"
   ]
  }
 ],
 "metadata": {
  "colab": {
   "name": "Copy of phase1.ipynb",
   "provenance": [],
   "version": "0.3.2"
  },
  "kernelspec": {
   "display_name": "Python 3",
   "language": "python",
   "name": "python3"
  },
  "language_info": {
   "codemirror_mode": {
    "name": "ipython",
    "version": 3
   },
   "file_extension": ".py",
   "mimetype": "text/x-python",
   "name": "python",
   "nbconvert_exporter": "python",
   "pygments_lexer": "ipython3",
   "version": "3.6.5"
  }
 },
 "nbformat": 4,
 "nbformat_minor": 1
}
