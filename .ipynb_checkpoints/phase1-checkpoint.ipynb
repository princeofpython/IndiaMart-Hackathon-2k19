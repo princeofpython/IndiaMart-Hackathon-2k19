{
 "cells": [
  {
   "cell_type": "markdown",
   "metadata": {
    "colab_type": "text",
    "id": "0v9ps2nJa0qC"
   },
   "source": [
    "# Phase-1 IndiaMart Hackathon\n",
    "This notebook is a working prototype solution to gauge the appropriate unit wise price range for the 3 categories(Gloves,Kurtas,Drills) based on their units by removing outliers from the data.\n",
    "\n",
    "**Instructions for running this notebook**\n",
    "\n",
    "\n",
    "*   Jupyter notebook is needed to run this notebook if it is not available Please use Colab from google  to run it.\n",
    "*   required libraries to run this notebook are pandas,numpy,seaborn and scipy.\n",
    "*   Incase you are running this notebook please make sure all **.csv** files are uploaded \n",
    "\n",
    "\n",
    "\n",
    "\n",
    "\n",
    "\n",
    "\n",
    "\n",
    "\n"
   ]
  },
  {
   "cell_type": "code",
   "execution_count": 60,
   "metadata": {
    "colab": {},
    "colab_type": "code",
    "id": "YokkO0iBEe2t"
   },
   "outputs": [],
   "source": [
    "import pandas as pd\n",
    "import matplotlib.pyplot as plt\n",
    "import seaborn as sns\n",
    "import numpy as np\n",
    "from scipy.stats import norm\n",
    "from scipy.signal import argrelextrema\n",
    "from scipy import stats"
   ]
  },
  {
   "cell_type": "markdown",
   "metadata": {
    "colab_type": "text",
    "id": "VSxTFtO7idsg"
   },
   "source": [
    "we can import the required data either from the folder or our git repository.\n",
    "The given .xlsx file is split into Three parts and and converted to .csv file which is easy to handle."
   ]
  },
  {
   "cell_type": "code",
   "execution_count": 61,
   "metadata": {
    "colab": {},
    "colab_type": "code",
    "id": "V_JxW7kwEe2x"
   },
   "outputs": [],
   "source": [
    "try:\n",
    "    drilldf = pd.read_csv('./phaseone-drill.csv')\n",
    "    glovedf = pd.read_csv('./phaseone-gloves.csv')\n",
    "    kurtadf = pd.read_csv('./phaseone-kurta.csv')\n",
    "except:\n",
    "    try:\n",
    "        drilldf = pd.read_csv('https://raw.githubusercontent.com/nik299/IndiaMart-Hackathon-2k19/master/phaseone-drill.csv')\n",
    "        glovedf = pd.read_csv('https://raw.githubusercontent.com/nik299/IndiaMart-Hackathon-2k19/master/phaseone-gloves.csv')\n",
    "        kurtadf = pd.read_csv('https://raw.githubusercontent.com/nik299/IndiaMart-Hackathon-2k19/master/phaseone-kurta.csv')\n",
    "    except:\n",
    "        print(\"no file found and no internet connection\")\n"
   ]
  },
  {
   "cell_type": "markdown",
   "metadata": {
    "colab_type": "text",
    "id": "daJD4M3eoS6G"
   },
   "source": [
    "The following piece of code prints out all unique units of the three item given."
   ]
  },
  {
   "cell_type": "code",
   "execution_count": 62,
   "metadata": {
    "colab": {
     "base_uri": "https://localhost:8080/",
     "height": 289
    },
    "colab_type": "code",
    "id": "-dHGmh-5Ee24",
    "outputId": "fe327a95-ae89-466d-9efc-e37f2372ebb4"
   },
   "outputs": [
    {
     "name": "stdout",
     "output_type": "stream",
     "text": [
      "['Piece' 'Piece(s)' 'pack' 'unit' 'Number' 'Unit' 'Pack' '1nos' 'Unit(s)'\n",
      " 'kit' 'Set' 'Pc_Onwards' 'ONWARDS' 'Kit'] drills\n",
      "['Pair' 'Piece' 'pack' 'Unit' 'Pack' 'Unit/Onwards' 'Pair(s)' 'unit' 'Set'\n",
      " 'Pieces'] gloves\n",
      "['Piece' 'dollar' 'Packet' 'piece' 'Meter' 'Piece(s)' 'Set' 'Per piece'\n",
      " 'Unit' '1' '1pc' 'Box' '170 per peice' 'Unstitch' 'Barrel' 'Carton'\n",
      " 'peice' 'Pieces' 'Sets' 'Unit(s)' 'one' 'Bag' 'Selfie Kurtis' 'Pack'\n",
      " 'Pair' 'Pound' 'Peice' '1piece' 'No' 'Kilogram' 'Number' \"40' Container\"\n",
      " 'pack' '100 pic' 'Year' \"20' Container\" 'Pcs' 'Piece(s) Onwards' 'One'\n",
      " 'kurtI' 'Ounce' 'onwards' '10-10000' 'per piese' 'Day' 'Set(s)'\n",
      " '12 units' '1pis' 'Onwards' 'One peace' 'Set(S)' 'Pair piece' 'Ounce(s)'\n",
      " 'Packet(s)' 'Single' 'one pcs' 'Pc' '4 pcs' '4 units' '5' 'set' 'kurti'\n",
      " 'pcs' 'pices' 'Pics' 'single piece' 'pi' 'per piece' 'Kurti' 'one unit'\n",
      " '1 piece' '1 pice' 'Suit' 'pair piece' '10' 'pieces' '1pcs' '1 pc'\n",
      " '3 set' 'Xl size' '1000 per unit' '1pcd' 'Psc' 'Gram' 'Rs' 'in' '1 pcs'\n",
      " 'Feet' 'onepices'] kurtas\n"
     ]
    }
   ],
   "source": [
    "drill_units=drilldf['Unit'].unique()\n",
    "print(drill_units,'drills')\n",
    "glove_units=glovedf['Unit'].unique()\n",
    "print(glove_units,'gloves')\n",
    "kurta_units=kurtadf['Unit'].unique()\n",
    "print(kurta_units,'kurtas')"
   ]
  },
  {
   "cell_type": "markdown",
   "metadata": {
    "colab_type": "text",
    "id": "0s7fEGG0o6T4"
   },
   "source": [
    "## Cleaning Data"
   ]
  },
  {
   "cell_type": "markdown",
   "metadata": {},
   "source": [
    "### Impact Drill\n",
    "\n",
    "Let us know the count of each unique unit."
   ]
  },
  {
   "cell_type": "code",
   "execution_count": 63,
   "metadata": {
    "colab": {
     "base_uri": "https://localhost:8080/",
     "height": 272
    },
    "colab_type": "code",
    "id": "7dKAIEMGEe28",
    "outputId": "db9f2577-2e5f-4dac-d868-18a7a72aeaa5"
   },
   "outputs": [
    {
     "data": {
      "text/plain": [
       "Piece         119\n",
       "pack           47\n",
       "unit           25\n",
       "Unit           17\n",
       "Number         14\n",
       "Pack            9\n",
       "Pc_Onwards      5\n",
       "Piece(s)        5\n",
       "ONWARDS         1\n",
       "Set             1\n",
       "Unit(s)         1\n",
       "Kit             1\n",
       "1nos            1\n",
       "kit             1\n",
       "Name: Unit, dtype: int64"
      ]
     },
     "execution_count": 63,
     "metadata": {},
     "output_type": "execute_result"
    }
   ],
   "source": [
    "drilldf['Unit'].value_counts()"
   ]
  },
  {
   "cell_type": "markdown",
   "metadata": {},
   "source": [
    "Following units are unsignificant in Impact Drill dataframe.\n",
    "\n",
    "'Pc_Onwards', 'ONWARDS', 'Set', 'Kit', 'kit'\n",
    "\n",
    "We have to remove them."
   ]
  },
  {
   "cell_type": "code",
   "execution_count": 78,
   "metadata": {},
   "outputs": [],
   "source": [
    "removal=['Pc_Onwards', 'ONWARDS', 'Set', 'Kit', 'kit']\n",
    "for each in removal:\n",
    "    drilldf=drilldf.drop(drilldf[(drilldf['Unit']==each)].index)"
   ]
  },
  {
   "cell_type": "markdown",
   "metadata": {},
   "source": [
    "Let us assume that all other units, are trying to represent a single piece of impact drill. So, drill dataframe is cleaned. Below table represents the description of data."
   ]
  },
  {
   "cell_type": "code",
   "execution_count": 81,
   "metadata": {},
   "outputs": [
    {
     "data": {
      "text/html": [
       "<div>\n",
       "<style scoped>\n",
       "    .dataframe tbody tr th:only-of-type {\n",
       "        vertical-align: middle;\n",
       "    }\n",
       "\n",
       "    .dataframe tbody tr th {\n",
       "        vertical-align: top;\n",
       "    }\n",
       "\n",
       "    .dataframe thead th {\n",
       "        text-align: right;\n",
       "    }\n",
       "</style>\n",
       "<table border=\"1\" class=\"dataframe\">\n",
       "  <thead>\n",
       "    <tr style=\"text-align: right;\">\n",
       "      <th></th>\n",
       "      <th>Price</th>\n",
       "    </tr>\n",
       "  </thead>\n",
       "  <tbody>\n",
       "    <tr>\n",
       "      <th>count</th>\n",
       "      <td>238.000000</td>\n",
       "    </tr>\n",
       "    <tr>\n",
       "      <th>mean</th>\n",
       "      <td>6571.428571</td>\n",
       "    </tr>\n",
       "    <tr>\n",
       "      <th>std</th>\n",
       "      <td>9709.722619</td>\n",
       "    </tr>\n",
       "    <tr>\n",
       "      <th>min</th>\n",
       "      <td>2.000000</td>\n",
       "    </tr>\n",
       "    <tr>\n",
       "      <th>25%</th>\n",
       "      <td>2100.000000</td>\n",
       "    </tr>\n",
       "    <tr>\n",
       "      <th>50%</th>\n",
       "      <td>2999.500000</td>\n",
       "    </tr>\n",
       "    <tr>\n",
       "      <th>75%</th>\n",
       "      <td>5939.000000</td>\n",
       "    </tr>\n",
       "    <tr>\n",
       "      <th>max</th>\n",
       "      <td>55000.000000</td>\n",
       "    </tr>\n",
       "  </tbody>\n",
       "</table>\n",
       "</div>"
      ],
      "text/plain": [
       "              Price\n",
       "count    238.000000\n",
       "mean    6571.428571\n",
       "std     9709.722619\n",
       "min        2.000000\n",
       "25%     2100.000000\n",
       "50%     2999.500000\n",
       "75%     5939.000000\n",
       "max    55000.000000"
      ]
     },
     "execution_count": 81,
     "metadata": {},
     "output_type": "execute_result"
    }
   ],
   "source": [
    "drilldf.describe()"
   ]
  },
  {
   "cell_type": "markdown",
   "metadata": {},
   "source": [
    "This is a normal scatter plot of Price."
   ]
  },
  {
   "cell_type": "code",
   "execution_count": 83,
   "metadata": {},
   "outputs": [
    {
     "data": {
      "image/png": "[encoded data removed]",
      "text/plain": [
       "<Figure size 432x288 with 1 Axes>"
      ]
     },
     "metadata": {},
     "output_type": "display_data"
    }
   ],
   "source": [
    "array=np.arange(238)\n",
    "plt.scatter(drilldf['Price'],array);"
   ]
  },
  {
   "cell_type": "markdown",
   "metadata": {},
   "source": [
    "### Leather safety gloves"
   ]
  },
  {
   "cell_type": "markdown",
   "metadata": {},
   "source": [
    "Let us know the count of each unique unit."
   ]
  },
  {
   "cell_type": "code",
   "execution_count": 64,
   "metadata": {
    "colab": {
     "base_uri": "https://localhost:8080/",
     "height": 204
    },
    "colab_type": "code",
    "id": "_aMEixII92Ku",
    "outputId": "3412f975-9b5d-48fa-9d18-5910c307d8fb"
   },
   "outputs": [
    {
     "data": {
      "text/plain": [
       "Pair            113\n",
       "unit              9\n",
       "Piece             6\n",
       "pack              5\n",
       "Pack              3\n",
       "Unit              3\n",
       "Pair(s)           2\n",
       "Unit/Onwards      1\n",
       "Pieces            1\n",
       "Set               1\n",
       "Name: Unit, dtype: int64"
      ]
     },
     "execution_count": 64,
     "metadata": {},
     "output_type": "execute_result"
    }
   ],
   "source": [
    "glovedf['Unit'].value_counts()"
   ]
  },
  {
   "cell_type": "markdown",
   "metadata": {},
   "source": [
    "Some of the above units like 'Pack', 'Set', 'pack' are unsignificant as we do not know how many are inside that. 'Unit/Onwards' is also unsignificant as that is like a starting range for the product. We assume remaining all units 'Pair', 'Piece', 'pack', 'Unit','Pair(s)' 'unit', 'Pieces' are trying to represent the same, which is 'Pair', a pair of leather gloves."
   ]
  },
  {
   "cell_type": "code",
   "execution_count": 67,
   "metadata": {},
   "outputs": [],
   "source": [
    "glovedf=glovedf.drop(glovedf[(glovedf['Unit']=='Pack')].index)\n",
    "glovedf=glovedf.drop(glovedf[(glovedf['Unit']=='pack')].index)\n",
    "glovedf=glovedf.drop(glovedf[(glovedf['Unit']=='Set')].index)"
   ]
  },
  {
   "cell_type": "markdown",
   "metadata": {},
   "source": [
    "Let us know the mean price of each significant unit."
   ]
  },
  {
   "cell_type": "code",
   "execution_count": 66,
   "metadata": {},
   "outputs": [
    {
     "name": "stdout",
     "output_type": "stream",
     "text": [
      "Pair 102.5575221238938\n",
      "Piece 136.66666666666666\n",
      "pack 4507.0\n",
      "Unit 318.6666666666667\n",
      "Pack 766.3333333333334\n",
      "Unit/Onwards 100.0\n",
      "Pair(s) 315.0\n",
      "unit 2442.777777777778\n",
      "Set 600.0\n",
      "Pieces 695.0\n"
     ]
    }
   ],
   "source": [
    "for each in glove_units:\n",
    "    print(each,glovedf[glovedf['Unit']==each]['Price'].mean())"
   ]
  },
  {
   "cell_type": "markdown",
   "metadata": {},
   "source": [
    "Below table represents the description of data."
   ]
  },
  {
   "cell_type": "code",
   "execution_count": 80,
   "metadata": {},
   "outputs": [
    {
     "data": {
      "text/html": [
       "<div>\n",
       "<style scoped>\n",
       "    .dataframe tbody tr th:only-of-type {\n",
       "        vertical-align: middle;\n",
       "    }\n",
       "\n",
       "    .dataframe tbody tr th {\n",
       "        vertical-align: top;\n",
       "    }\n",
       "\n",
       "    .dataframe thead th {\n",
       "        text-align: right;\n",
       "    }\n",
       "</style>\n",
       "<table border=\"1\" class=\"dataframe\">\n",
       "  <thead>\n",
       "    <tr style=\"text-align: right;\">\n",
       "      <th></th>\n",
       "      <th>Price</th>\n",
       "    </tr>\n",
       "  </thead>\n",
       "  <tbody>\n",
       "    <tr>\n",
       "      <th>count</th>\n",
       "      <td>135.000000</td>\n",
       "    </tr>\n",
       "    <tr>\n",
       "      <th>mean</th>\n",
       "      <td>272.407407</td>\n",
       "    </tr>\n",
       "    <tr>\n",
       "      <th>std</th>\n",
       "      <td>898.047453</td>\n",
       "    </tr>\n",
       "    <tr>\n",
       "      <th>min</th>\n",
       "      <td>10.000000</td>\n",
       "    </tr>\n",
       "    <tr>\n",
       "      <th>25%</th>\n",
       "      <td>50.000000</td>\n",
       "    </tr>\n",
       "    <tr>\n",
       "      <th>50%</th>\n",
       "      <td>90.000000</td>\n",
       "    </tr>\n",
       "    <tr>\n",
       "      <th>75%</th>\n",
       "      <td>180.000000</td>\n",
       "    </tr>\n",
       "    <tr>\n",
       "      <th>max</th>\n",
       "      <td>8978.000000</td>\n",
       "    </tr>\n",
       "  </tbody>\n",
       "</table>\n",
       "</div>"
      ],
      "text/plain": [
       "             Price\n",
       "count   135.000000\n",
       "mean    272.407407\n",
       "std     898.047453\n",
       "min      10.000000\n",
       "25%      50.000000\n",
       "50%      90.000000\n",
       "75%     180.000000\n",
       "max    8978.000000"
      ]
     },
     "execution_count": 80,
     "metadata": {},
     "output_type": "execute_result"
    }
   ],
   "source": [
    "glovedf.describe()"
   ]
  },
  {
   "cell_type": "markdown",
   "metadata": {},
   "source": [
    "This is a normal scatter plot of Price."
   ]
  },
  {
   "cell_type": "code",
   "execution_count": 68,
   "metadata": {},
   "outputs": [
    {
     "data": {
      "image/png": "[encoded data removed]",
      "text/plain": [
       "<Figure size 432x288 with 1 Axes>"
      ]
     },
     "metadata": {},
     "output_type": "display_data"
    }
   ],
   "source": [
    "array=np.arange(135)\n",
    "plt.scatter(glovedf['Price'],array);"
   ]
  },
  {
   "cell_type": "markdown",
   "metadata": {},
   "source": [
    "### Ladies Kurta\n",
    "\n",
    "In kurta dataframe, there are many meaningless units (Unsignificant to be specific). \n",
    "Those are 'dollar', 'Packet', 'Meter', 'Set', 'Box', '170 per peice', 'Unstitch', 'Barrel', 'Carton', 'Sets', 'Bag', 'Selfie Kurtis', 'Pack', 'Pair', 'Pound', 'Kilogram', \"40' Container\", 'pack', '100 pic', 'Year', \"20' Container\", 'Ounce', '10-10000', 'Day', 'Set(s)', 'Set(S)', 'Pair piece', 'Ounce(s)', 'Packet(s)', 'set', 'Suit', 'pair piece', '3 set', 'Gram', 'Rs', 'Feet', '1000 per unit','in','5','10','Piece(s) Onwards','onwards','Onwards','Xl size'. Let us remove them all."
   ]
  },
  {
   "cell_type": "code",
   "execution_count": 69,
   "metadata": {},
   "outputs": [],
   "source": [
    "removal=['dollar', 'Packet', 'Meter', 'Set', 'Box', '170 per peice', 'Unstitch', 'Barrel', 'Carton', 'Sets', 'Bag', 'Selfie Kurtis', 'Pack', 'Pair', 'Pound', 'Kilogram', \"40' Container\", 'pack', '100 pic', 'Year', \"20' Container\", 'Ounce', '10-10000', 'Day', 'Set(s)', 'Set(S)', 'Pair piece', 'Ounce(s)', 'Packet(s)', 'set', 'Suit', 'pair piece', '3 set', 'Gram', 'Rs', 'Feet', '1000 per unit','in','5','10','Piece(s) Onwards','onwards','Onwards','Xl size']"
   ]
  },
  {
   "cell_type": "code",
   "execution_count": 70,
   "metadata": {},
   "outputs": [],
   "source": [
    "for each in removal:\n",
    "    kurtadf=kurtadf.drop(kurtadf[(kurtadf['Unit']==each)].index)"
   ]
  },
  {
   "cell_type": "code",
   "execution_count": 71,
   "metadata": {},
   "outputs": [
    {
     "name": "stdout",
     "output_type": "stream",
     "text": [
      "['Piece' 'piece' 'Piece(s)' 'Per piece' 'Unit' '1' '1pc' 'peice' 'Pieces'\n",
      " 'Unit(s)' 'one' 'Peice' '1piece' 'No' 'Number' 'Pcs' 'One' 'kurtI'\n",
      " 'per piese' '12 units' '1pis' 'One peace' 'Single' 'one pcs' 'Pc' '4 pcs'\n",
      " '4 units' 'kurti' 'pcs' 'pices' 'Pics' 'single piece' 'pi' 'per piece'\n",
      " 'Kurti' 'one unit' '1 piece' '1 pice' 'pieces' '1pcs' '1 pc' '1pcd' 'Psc'\n",
      " '1 pcs' 'onepices'] kurtas\n"
     ]
    }
   ],
   "source": [
    "kurta_units=kurtadf['Unit'].unique()\n",
    "print(kurta_units,'kurtas')"
   ]
  },
  {
   "cell_type": "markdown",
   "metadata": {},
   "source": [
    "Some units like '4 pcs', '4 pieces', '12 units' are unsignificant, but they contain significant information about the price. We can divide the price by 4 for the unit '4 pcs' to know the price of each."
   ]
  },
  {
   "cell_type": "code",
   "execution_count": 72,
   "metadata": {},
   "outputs": [],
   "source": [
    "kurtadf.loc[(kurtadf['Unit']=='4 units'),'Price']=kurtadf.loc[(kurtadf['Unit']=='4 units'),'Price']/4\n",
    "kurtadf.loc[(kurtadf['Unit']=='4 pcs'),'Price']=kurtadf.loc[(kurtadf['Unit']=='4 pcs'),'Price']/4\n",
    "kurtadf.loc[(kurtadf['Unit']=='12 units'),'Price']=kurtadf.loc[(kurtadf['Unit']=='12 units'),'Price']/12"
   ]
  },
  {
   "cell_type": "markdown",
   "metadata": {},
   "source": [
    "Let us know the count of each unique and significant unit."
   ]
  },
  {
   "cell_type": "code",
   "execution_count": 65,
   "metadata": {
    "colab": {
     "base_uri": "https://localhost:8080/",
     "height": 1071
    },
    "colab_type": "code",
    "id": "_2f3W73W92vW",
    "outputId": "a923065a-aac7-4569-c6f5-154c7a77b795"
   },
   "outputs": [
    {
     "data": {
      "text/plain": [
       "Piece       3334\n",
       "Piece(s)     500\n",
       "1             76\n",
       "Unit          63\n",
       "Set           43\n",
       "Onwards       39\n",
       "piece         38\n",
       "No            37\n",
       "Bag           23\n",
       "Number        23\n",
       "Pair          17\n",
       "Pack          13\n",
       "Pieces        13\n",
       "Unit(s)       11\n",
       "onwards        9\n",
       "Name: Unit, dtype: int64"
      ]
     },
     "execution_count": 65,
     "metadata": {},
     "output_type": "execute_result"
    }
   ],
   "source": [
    "kurtadf['Unit'].value_counts().head(15)"
   ]
  },
  {
   "cell_type": "markdown",
   "metadata": {
    "colab_type": "text",
    "id": "Xkipaxewzs7G"
   },
   "source": [
    "Let us find the mean price for each unit."
   ]
  },
  {
   "cell_type": "code",
   "execution_count": 76,
   "metadata": {},
   "outputs": [
    {
     "data": {
      "text/html": [
       "<div>\n",
       "<style scoped>\n",
       "    .dataframe tbody tr th:only-of-type {\n",
       "        vertical-align: middle;\n",
       "    }\n",
       "\n",
       "    .dataframe tbody tr th {\n",
       "        vertical-align: top;\n",
       "    }\n",
       "\n",
       "    .dataframe thead th {\n",
       "        text-align: right;\n",
       "    }\n",
       "</style>\n",
       "<table border=\"1\" class=\"dataframe\">\n",
       "  <thead>\n",
       "    <tr style=\"text-align: right;\">\n",
       "      <th></th>\n",
       "      <th>Price</th>\n",
       "    </tr>\n",
       "  </thead>\n",
       "  <tbody>\n",
       "    <tr>\n",
       "      <th>count</th>\n",
       "      <td>4149.000000</td>\n",
       "    </tr>\n",
       "    <tr>\n",
       "      <th>mean</th>\n",
       "      <td>787.490600</td>\n",
       "    </tr>\n",
       "    <tr>\n",
       "      <th>std</th>\n",
       "      <td>2178.518976</td>\n",
       "    </tr>\n",
       "    <tr>\n",
       "      <th>min</th>\n",
       "      <td>1.000000</td>\n",
       "    </tr>\n",
       "    <tr>\n",
       "      <th>25%</th>\n",
       "      <td>325.000000</td>\n",
       "    </tr>\n",
       "    <tr>\n",
       "      <th>50%</th>\n",
       "      <td>500.000000</td>\n",
       "    </tr>\n",
       "    <tr>\n",
       "      <th>75%</th>\n",
       "      <td>800.000000</td>\n",
       "    </tr>\n",
       "    <tr>\n",
       "      <th>max</th>\n",
       "      <td>109000.000000</td>\n",
       "    </tr>\n",
       "  </tbody>\n",
       "</table>\n",
       "</div>"
      ],
      "text/plain": [
       "               Price\n",
       "count    4149.000000\n",
       "mean      787.490600\n",
       "std      2178.518976\n",
       "min         1.000000\n",
       "25%       325.000000\n",
       "50%       500.000000\n",
       "75%       800.000000\n",
       "max    109000.000000"
      ]
     },
     "execution_count": 76,
     "metadata": {},
     "output_type": "execute_result"
    }
   ],
   "source": [
    "kurtadf.describe()"
   ]
  },
  {
   "cell_type": "markdown",
   "metadata": {},
   "source": [
    "This is a normal scatter plot of Price."
   ]
  },
  {
   "cell_type": "code",
   "execution_count": 77,
   "metadata": {},
   "outputs": [
    {
     "data": {
      "image/png": "[encoded data removed]",
      "text/plain": [
       "<Figure size 432x288 with 1 Axes>"
      ]
     },
     "metadata": {},
     "output_type": "display_data"
    }
   ],
   "source": [
    "array=np.arange(4149)\n",
    "plt.scatter(kurtadf['Price'],array);"
   ]
  },
  {
   "cell_type": "code",
   "execution_count": 17,
   "metadata": {
    "colab": {},
    "colab_type": "code",
    "id": "1TBNb_ByzsOV"
   },
   "outputs": [],
   "source": [
    "d_entries=list(['Piece','Piece(s)','unit','Unit','Unit(s)','1nos'])\n",
    "g_entries=list(['Pair','Pair(s)','Unit'])\n",
    "k_entries=list(['Piece','Piece(s)','unit','Unit','Unit(s)','1','piece','1pc','1piece'])"
   ]
  },
  {
   "cell_type": "code",
   "execution_count": 18,
   "metadata": {
    "colab": {
     "base_uri": "https://localhost:8080/",
     "height": 34
    },
    "colab_type": "code",
    "id": "Q0fCIbLI5sBo",
    "outputId": "b54d996f-224b-4609-e571-931e5bf7a21d"
   },
   "outputs": [
    {
     "data": {
      "text/plain": [
       "False"
      ]
     },
     "execution_count": 18,
     "metadata": {},
     "output_type": "execute_result"
    }
   ],
   "source": [
    "all(map(lambda each: each in [2,3,4], [1,5]))"
   ]
  },
  {
   "cell_type": "code",
   "execution_count": 19,
   "metadata": {
    "colab": {
     "base_uri": "https://localhost:8080/",
     "height": 34
    },
    "colab_type": "code",
    "id": "TZzU9Gyi8JoN",
    "outputId": "dc15ff09-84ba-427a-e847-9c40d992c707"
   },
   "outputs": [
    {
     "data": {
      "text/plain": [
       "False"
      ]
     },
     "execution_count": 19,
     "metadata": {},
     "output_type": "execute_result"
    }
   ],
   "source": [
    "[2,3,4] == 2"
   ]
  },
  {
   "cell_type": "markdown",
   "metadata": {
    "colab_type": "text",
    "id": "gMo3-4EasS61"
   },
   "source": [
    "## Removing Outliers : Calculating Z-score\n",
    "Z-score is meausure of how much given sample is deviating compared to Standaed deviation.\n",
    "In python the function is available in scipy.stats which we are using in the following cells.\n",
    "\n",
    "**Note:** we are calculating only absolute values as sign of z-score doesn't matter in finding outliers.\n",
    "\n",
    "\n",
    "\n",
    "\n"
   ]
  },
  {
   "cell_type": "code",
   "execution_count": 20,
   "metadata": {
    "colab": {},
    "colab_type": "code",
    "id": "YQLauvs_9aiU"
   },
   "outputs": [],
   "source": [
    "drill_cl=drilldf[drilldf['Unit'].isin(d_entries)]\n",
    "glove_cl=glovedf[glovedf['Unit'].isin(g_entries)]\n",
    "kurta_cl=kurtadf[kurtadf['Unit'].isin(k_entries)]"
   ]
  },
  {
   "cell_type": "code",
   "execution_count": 21,
   "metadata": {
    "colab": {
     "base_uri": "https://localhost:8080/",
     "height": 297
    },
    "colab_type": "code",
    "id": "sGrgdp3J-dKr",
    "outputId": "bfa65ff5-808a-479b-a8d2-0247cde3affd"
   },
   "outputs": [
    {
     "data": {
      "text/html": [
       "<div>\n",
       "<style scoped>\n",
       "    .dataframe tbody tr th:only-of-type {\n",
       "        vertical-align: middle;\n",
       "    }\n",
       "\n",
       "    .dataframe tbody tr th {\n",
       "        vertical-align: top;\n",
       "    }\n",
       "\n",
       "    .dataframe thead th {\n",
       "        text-align: right;\n",
       "    }\n",
       "</style>\n",
       "<table border=\"1\" class=\"dataframe\">\n",
       "  <thead>\n",
       "    <tr style=\"text-align: right;\">\n",
       "      <th></th>\n",
       "      <th>Price</th>\n",
       "    </tr>\n",
       "  </thead>\n",
       "  <tbody>\n",
       "    <tr>\n",
       "      <th>count</th>\n",
       "      <td>168.000000</td>\n",
       "    </tr>\n",
       "    <tr>\n",
       "      <th>mean</th>\n",
       "      <td>6042.964286</td>\n",
       "    </tr>\n",
       "    <tr>\n",
       "      <th>std</th>\n",
       "      <td>9341.145784</td>\n",
       "    </tr>\n",
       "    <tr>\n",
       "      <th>min</th>\n",
       "      <td>2.000000</td>\n",
       "    </tr>\n",
       "    <tr>\n",
       "      <th>25%</th>\n",
       "      <td>1999.750000</td>\n",
       "    </tr>\n",
       "    <tr>\n",
       "      <th>50%</th>\n",
       "      <td>2745.000000</td>\n",
       "    </tr>\n",
       "    <tr>\n",
       "      <th>75%</th>\n",
       "      <td>5636.750000</td>\n",
       "    </tr>\n",
       "    <tr>\n",
       "      <th>max</th>\n",
       "      <td>55000.000000</td>\n",
       "    </tr>\n",
       "  </tbody>\n",
       "</table>\n",
       "</div>"
      ],
      "text/plain": [
       "              Price\n",
       "count    168.000000\n",
       "mean    6042.964286\n",
       "std     9341.145784\n",
       "min        2.000000\n",
       "25%     1999.750000\n",
       "50%     2745.000000\n",
       "75%     5636.750000\n",
       "max    55000.000000"
      ]
     },
     "execution_count": 21,
     "metadata": {},
     "output_type": "execute_result"
    }
   ],
   "source": [
    "drill_cl.describe()"
   ]
  },
  {
   "cell_type": "code",
   "execution_count": 22,
   "metadata": {
    "colab": {},
    "colab_type": "code",
    "id": "iebcrhEEEDId"
   },
   "outputs": [],
   "source": [
    "drill_z = np.abs(stats.zscore(drill_cl['Price']))\n",
    "glove_z = np.abs(stats.zscore(glove_cl['Price']))\n",
    "kurta_z = np.abs(stats.zscore(kurta_cl['Price']))"
   ]
  },
  {
   "cell_type": "markdown",
   "metadata": {
    "colab_type": "text",
    "id": "YPxPlQ3GtSRL"
   },
   "source": [
    "After obtaing z-score we are not considering all entries whse z-score is greater than 3 or less than -3 and also we are considering only some units values as unit conversion is not as indicative as the sugar example given."
   ]
  },
  {
   "cell_type": "code",
   "execution_count": 23,
   "metadata": {
    "colab": {},
    "colab_type": "code",
    "id": "I-o75iBmEe2_"
   },
   "outputs": [],
   "source": [
    "npa=drill_cl[(drill_z < 3)]['Price']\n",
    "npa1=glove_cl[(glove_z < 3)]['Price']\n",
    "npa2=kurta_cl[(kurta_z < 3)]['Price'][:-1]"
   ]
  },
  {
   "cell_type": "markdown",
   "metadata": {
    "colab_type": "text",
    "id": "SQXO07qSg6Na"
   },
   "source": [
    "The following 3 cells describe the data taken for consideration"
   ]
  },
  {
   "cell_type": "code",
   "execution_count": 24,
   "metadata": {
    "colab": {
     "base_uri": "https://localhost:8080/",
     "height": 297
    },
    "colab_type": "code",
    "id": "Qc9raGLAgckP",
    "outputId": "e5628428-918d-4900-8dca-0165a7126be5"
   },
   "outputs": [
    {
     "data": {
      "text/html": [
       "<div>\n",
       "<style scoped>\n",
       "    .dataframe tbody tr th:only-of-type {\n",
       "        vertical-align: middle;\n",
       "    }\n",
       "\n",
       "    .dataframe tbody tr th {\n",
       "        vertical-align: top;\n",
       "    }\n",
       "\n",
       "    .dataframe thead th {\n",
       "        text-align: right;\n",
       "    }\n",
       "</style>\n",
       "<table border=\"1\" class=\"dataframe\">\n",
       "  <thead>\n",
       "    <tr style=\"text-align: right;\">\n",
       "      <th></th>\n",
       "      <th>Price</th>\n",
       "    </tr>\n",
       "  </thead>\n",
       "  <tbody>\n",
       "    <tr>\n",
       "      <th>count</th>\n",
       "      <td>161.000000</td>\n",
       "    </tr>\n",
       "    <tr>\n",
       "      <th>mean</th>\n",
       "      <td>4363.602484</td>\n",
       "    </tr>\n",
       "    <tr>\n",
       "      <th>std</th>\n",
       "      <td>4399.815752</td>\n",
       "    </tr>\n",
       "    <tr>\n",
       "      <th>min</th>\n",
       "      <td>2.000000</td>\n",
       "    </tr>\n",
       "    <tr>\n",
       "      <th>25%</th>\n",
       "      <td>1906.000000</td>\n",
       "    </tr>\n",
       "    <tr>\n",
       "      <th>50%</th>\n",
       "      <td>2699.000000</td>\n",
       "    </tr>\n",
       "    <tr>\n",
       "      <th>75%</th>\n",
       "      <td>5200.000000</td>\n",
       "    </tr>\n",
       "    <tr>\n",
       "      <th>max</th>\n",
       "      <td>28000.000000</td>\n",
       "    </tr>\n",
       "  </tbody>\n",
       "</table>\n",
       "</div>"
      ],
      "text/plain": [
       "              Price\n",
       "count    161.000000\n",
       "mean    4363.602484\n",
       "std     4399.815752\n",
       "min        2.000000\n",
       "25%     1906.000000\n",
       "50%     2699.000000\n",
       "75%     5200.000000\n",
       "max    28000.000000"
      ]
     },
     "execution_count": 24,
     "metadata": {},
     "output_type": "execute_result"
    }
   ],
   "source": [
    "drill_cl[(drill_z < 3)].describe()"
   ]
  },
  {
   "cell_type": "code",
   "execution_count": 25,
   "metadata": {
    "colab": {
     "base_uri": "https://localhost:8080/",
     "height": 297
    },
    "colab_type": "code",
    "id": "pF0IYXASgUee",
    "outputId": "de63f710-5aeb-4065-b0a5-22388e139e1d"
   },
   "outputs": [
    {
     "data": {
      "text/html": [
       "<div>\n",
       "<style scoped>\n",
       "    .dataframe tbody tr th:only-of-type {\n",
       "        vertical-align: middle;\n",
       "    }\n",
       "\n",
       "    .dataframe tbody tr th {\n",
       "        vertical-align: top;\n",
       "    }\n",
       "\n",
       "    .dataframe thead th {\n",
       "        text-align: right;\n",
       "    }\n",
       "</style>\n",
       "<table border=\"1\" class=\"dataframe\">\n",
       "  <thead>\n",
       "    <tr style=\"text-align: right;\">\n",
       "      <th></th>\n",
       "      <th>Price</th>\n",
       "    </tr>\n",
       "  </thead>\n",
       "  <tbody>\n",
       "    <tr>\n",
       "      <th>count</th>\n",
       "      <td>116.000000</td>\n",
       "    </tr>\n",
       "    <tr>\n",
       "      <th>mean</th>\n",
       "      <td>102.922414</td>\n",
       "    </tr>\n",
       "    <tr>\n",
       "      <th>std</th>\n",
       "      <td>68.288156</td>\n",
       "    </tr>\n",
       "    <tr>\n",
       "      <th>min</th>\n",
       "      <td>10.000000</td>\n",
       "    </tr>\n",
       "    <tr>\n",
       "      <th>25%</th>\n",
       "      <td>50.000000</td>\n",
       "    </tr>\n",
       "    <tr>\n",
       "      <th>50%</th>\n",
       "      <td>80.000000</td>\n",
       "    </tr>\n",
       "    <tr>\n",
       "      <th>75%</th>\n",
       "      <td>171.250000</td>\n",
       "    </tr>\n",
       "    <tr>\n",
       "      <th>max</th>\n",
       "      <td>350.000000</td>\n",
       "    </tr>\n",
       "  </tbody>\n",
       "</table>\n",
       "</div>"
      ],
      "text/plain": [
       "            Price\n",
       "count  116.000000\n",
       "mean   102.922414\n",
       "std     68.288156\n",
       "min     10.000000\n",
       "25%     50.000000\n",
       "50%     80.000000\n",
       "75%    171.250000\n",
       "max    350.000000"
      ]
     },
     "execution_count": 25,
     "metadata": {},
     "output_type": "execute_result"
    }
   ],
   "source": [
    "glove_cl[(glove_z < 3)].describe()"
   ]
  },
  {
   "cell_type": "code",
   "execution_count": 26,
   "metadata": {
    "colab": {
     "base_uri": "https://localhost:8080/",
     "height": 297
    },
    "colab_type": "code",
    "id": "7FXyP-a689Mv",
    "outputId": "b09299be-8275-48cb-a521-f24775573f2c"
   },
   "outputs": [
    {
     "data": {
      "text/html": [
       "<div>\n",
       "<style scoped>\n",
       "    .dataframe tbody tr th:only-of-type {\n",
       "        vertical-align: middle;\n",
       "    }\n",
       "\n",
       "    .dataframe tbody tr th {\n",
       "        vertical-align: top;\n",
       "    }\n",
       "\n",
       "    .dataframe thead th {\n",
       "        text-align: right;\n",
       "    }\n",
       "</style>\n",
       "<table border=\"1\" class=\"dataframe\">\n",
       "  <thead>\n",
       "    <tr style=\"text-align: right;\">\n",
       "      <th></th>\n",
       "      <th>Price</th>\n",
       "    </tr>\n",
       "  </thead>\n",
       "  <tbody>\n",
       "    <tr>\n",
       "      <th>count</th>\n",
       "      <td>4013.000000</td>\n",
       "    </tr>\n",
       "    <tr>\n",
       "      <th>mean</th>\n",
       "      <td>698.637179</td>\n",
       "    </tr>\n",
       "    <tr>\n",
       "      <th>std</th>\n",
       "      <td>681.340749</td>\n",
       "    </tr>\n",
       "    <tr>\n",
       "      <th>min</th>\n",
       "      <td>1.000000</td>\n",
       "    </tr>\n",
       "    <tr>\n",
       "      <th>25%</th>\n",
       "      <td>325.000000</td>\n",
       "    </tr>\n",
       "    <tr>\n",
       "      <th>50%</th>\n",
       "      <td>500.000000</td>\n",
       "    </tr>\n",
       "    <tr>\n",
       "      <th>75%</th>\n",
       "      <td>800.000000</td>\n",
       "    </tr>\n",
       "    <tr>\n",
       "      <th>max</th>\n",
       "      <td>6589.000000</td>\n",
       "    </tr>\n",
       "  </tbody>\n",
       "</table>\n",
       "</div>"
      ],
      "text/plain": [
       "             Price\n",
       "count  4013.000000\n",
       "mean    698.637179\n",
       "std     681.340749\n",
       "min       1.000000\n",
       "25%     325.000000\n",
       "50%     500.000000\n",
       "75%     800.000000\n",
       "max    6589.000000"
      ]
     },
     "execution_count": 26,
     "metadata": {},
     "output_type": "execute_result"
    }
   ],
   "source": [
    "kurta_cl[(kurta_z < 3)].describe()"
   ]
  },
  {
   "cell_type": "markdown",
   "metadata": {
    "colab_type": "text",
    "id": "NG_Ijss11-As"
   },
   "source": [
    "The following cell is used to store standard deviation which is very important to calculate the bandwidth in later part"
   ]
  },
  {
   "cell_type": "code",
   "execution_count": 27,
   "metadata": {
    "colab": {
     "base_uri": "https://localhost:8080/",
     "height": 34
    },
    "colab_type": "code",
    "id": "PCtYTrCoF8Gh",
    "outputId": "0a5b8e5f-18d2-41af-9cd5-9a872a2af7a9"
   },
   "outputs": [
    {
     "name": "stdout",
     "output_type": "stream",
     "text": [
      "4386.130444567741 67.99317294101957 674.9628964771468\n"
     ]
    }
   ],
   "source": [
    "stdev=np.std(npa)\n",
    "stdev1=np.std(npa1)\n",
    "stdev2=np.std(npa2)\n",
    "print(stdev,stdev1,stdev2)"
   ]
  },
  {
   "cell_type": "markdown",
   "metadata": {
    "colab_type": "text",
    "id": "jh2vYAYr2g1S"
   },
   "source": [
    "## Kernel Density Estimation method for calculation of Probabilty Disribution Function\n",
    "We are using probability distribution function for find ing require range as pdf is more suitable for finding relationship in general population.\n",
    "\n",
    "kernel Density Estimation is useful method for calculating pdf from discrete samples.\n",
    "\n"
   ]
  },
  {
   "cell_type": "code",
   "execution_count": 28,
   "metadata": {
    "colab": {},
    "colab_type": "code",
    "id": "nRb0nWC4Ee3I"
   },
   "outputs": [],
   "source": [
    "from scipy.stats import gaussian_kde\n",
    "def kde_scipy(x, x_grid, bandwidth, **kwargs):\n",
    "    \"\"\"Kernel Density Estimation with Scipy\"\"\"\n",
    "    # Note that scipy weights its bandwidth by the covariance of the\n",
    "    # input data.  To make the results comparable to the other methods,\n",
    "    # we divide the bandwidth by the sample standard deviation here.\n",
    "    kde = gaussian_kde(x, bw_method=bandwidth / x.std(ddof=1), **kwargs)\n",
    "    return kde.evaluate(x_grid)"
   ]
  },
  {
   "cell_type": "code",
   "execution_count": 29,
   "metadata": {
    "colab": {
     "base_uri": "https://localhost:8080/",
     "height": 295
    },
    "colab_type": "code",
    "id": "PBAlRD6kEe3K",
    "outputId": "553d68a6-42f5-4993-de1d-09acbbb7d6e5"
   },
   "outputs": [
    {
     "data": {
      "image/png": "[encoded data removed]",
      "text/plain": [
       "<Figure size 432x288 with 1 Axes>"
      ]
     },
     "metadata": {},
     "output_type": "display_data"
    }
   ],
   "source": [
    "y_grid=np.linspace(np.amin(npa)-(np.amax(npa)-np.amin(npa))*0.4,np.amax(npa)+(np.amax(npa)-np.amin(npa))*0.4,10000)\n",
    "ideal=1.06*(np.std(npa))*((len(npa)**(-1/5)))\n",
    "pdf = kde_scipy(npa, y_grid, bandwidth=ideal)\n",
    "plt.plot(y_grid, pdf, color='blue', alpha=1, lw=1)\n",
    "plt.title('PDF for drill')\n",
    "plt.xlabel('Price')\n",
    "plt.show()"
   ]
  },
  {
   "cell_type": "code",
   "execution_count": 30,
   "metadata": {
    "colab": {
     "base_uri": "https://localhost:8080/",
     "height": 295
    },
    "colab_type": "code",
    "id": "TzAdVqipNti5",
    "outputId": "c83c103e-01f7-4f47-b033-7a08812dee06"
   },
   "outputs": [
    {
     "data": {
      "image/png": "[encoded data removed]",
      "text/plain": [
       "<Figure size 432x288 with 1 Axes>"
      ]
     },
     "metadata": {},
     "output_type": "display_data"
    }
   ],
   "source": [
    "y_grid1=np.linspace(np.amin(npa1)-(np.amax(npa1)-np.amin(npa1))*0.4,np.amax(npa1)+(np.amax(npa1)-np.amin(npa1))*0.4,10000)\n",
    "ideal1=1.06*(np.std(npa1))*((len(npa1)**(-1/5)))\n",
    "pdf1 = kde_scipy(npa1, y_grid1, bandwidth=ideal1)\n",
    "plt.plot(y_grid1, pdf1, color='blue', alpha=1, lw=1)\n",
    "plt.title('PDF for gloves')\n",
    "plt.xlabel('Price')\n",
    "plt.show()"
   ]
  },
  {
   "cell_type": "code",
   "execution_count": 31,
   "metadata": {
    "colab": {
     "base_uri": "https://localhost:8080/",
     "height": 295
    },
    "colab_type": "code",
    "id": "Y3reUnhuOQh0",
    "outputId": "bdad55d5-48c6-41cd-dff9-2366bbe359ec"
   },
   "outputs": [
    {
     "data": {
      "image/png": "[encoded data removed]",
      "text/plain": [
       "<Figure size 432x288 with 1 Axes>"
      ]
     },
     "metadata": {},
     "output_type": "display_data"
    }
   ],
   "source": [
    "y_grid2=np.linspace(-(np.amax(npa2)-np.amin(npa2))*0.05,np.amax(npa2)*1.05,10000)\n",
    "ideal2=1.06*(np.std(npa2))*((len(npa2)**(-1/5)))\n",
    "pdf2 = kde_scipy(npa2, y_grid2, bandwidth=ideal2)\n",
    "plt.plot(y_grid2, pdf2, color='blue', alpha=1, lw=1)\n",
    "plt.title('PDF for kurta')\n",
    "plt.xlabel('Price')\n",
    "plt.show()"
   ]
  },
  {
   "cell_type": "code",
   "execution_count": 32,
   "metadata": {
    "colab": {
     "base_uri": "https://localhost:8080/",
     "height": 34
    },
    "colab_type": "code",
    "id": "yLFkxtdUJNj-",
    "outputId": "5788ed61-023e-429b-c209-cf99d900867a"
   },
   "outputs": [
    {
     "name": "stdout",
     "output_type": "stream",
     "text": [
      "0.9998999999997891 0.9998999824582104 0.9998531520797174\n"
     ]
    }
   ],
   "source": [
    "w=((np.amax(npa)-np.amin(npa))*1.8)/10000\n",
    "w1=((np.amax(npa1)-np.amin(npa1))*1.8)/10000\n",
    "w2=((np.amax(npa2)-np.amin(npa2))*0.05+np.amax(npa2)*1.05)/10000\n",
    "print(np.sum(pdf)*w,np.sum(pdf1)*w1,np.sum(pdf2)*w2)"
   ]
  },
  {
   "cell_type": "code",
   "execution_count": 33,
   "metadata": {
    "colab": {
     "base_uri": "https://localhost:8080/",
     "height": 34
    },
    "colab_type": "code",
    "id": "jHBGAYDqMYTC",
    "outputId": "d459d787-2454-47fb-813d-5f93650cc63a"
   },
   "outputs": [
    {
     "name": "stdout",
     "output_type": "stream",
     "text": [
      "0.9998999999997868\n"
     ]
    }
   ],
   "source": [
    "pdf_area=np.zeros(len(pdf)-1)\n",
    "for a in range(len(pdf_area)):\n",
    "  pdf_area[a]=(pdf[a]+pdf[a+1])*(w/2)\n",
    "print(np.sum(pdf_area))\n"
   ]
  },
  {
   "cell_type": "markdown",
   "metadata": {
    "colab_type": "text",
    "id": "js_jelVdRZVy"
   },
   "source": [
    "before going to calculation for area we need to make sure that probability of a product price below Rupees 0 is 0( for PDF calculated above we have finite probability for price less than 0 ) we can usee bayes theorem to re calculate the PDF.\n",
    "\n",
    "\\begin{equation*}\n",
    "PDF(x | Price > 0)   = \\frac{probab(x>0)*PDF(x)}{probab(Price >0)}\n",
    "\\end{equation*}\n",
    "here PDF(x) is the pdf function \n",
    "\n",
    "probab(price >0) is probabilty that price >0 which sum of area under pdf for price >0\n",
    "\n",
    "probab(x>0) is eiter 1 or 0 depending on x"
   ]
  },
  {
   "cell_type": "code",
   "execution_count": 34,
   "metadata": {
    "colab": {
     "base_uri": "https://localhost:8080/",
     "height": 312
    },
    "colab_type": "code",
    "id": "JYvorUBqVTYU",
    "outputId": "f53f0b95-5045-4f90-a0f5-db3718d2fe35"
   },
   "outputs": [
    {
     "name": "stdout",
     "output_type": "stream",
     "text": [
      "1.0\n"
     ]
    },
    {
     "data": {
      "image/png": "[encoded data removed]",
      "text/plain": [
       "<Figure size 432x288 with 1 Axes>"
      ]
     },
     "metadata": {},
     "output_type": "display_data"
    }
   ],
   "source": [
    "for a in range(len(pdf)):\n",
    "  if y_grid[a] > 0:\n",
    "    break\n",
    "probab=np.sum(pdf[a:])*w\n",
    "for a in range(len(pdf)):\n",
    "  if y_grid[a] > 0:\n",
    "    break\n",
    "  pdf[a]=0\n",
    "pdf=pdf/probab\n",
    "print(np.sum(pdf)*w)\n",
    "plt.plot(y_grid, pdf, color='blue', alpha=1, lw=1)\n",
    "plt.title('PDF for drill')\n",
    "plt.xlabel('Price')\n",
    "plt.show()"
   ]
  },
  {
   "cell_type": "code",
   "execution_count": 35,
   "metadata": {
    "colab": {
     "base_uri": "https://localhost:8080/",
     "height": 295
    },
    "colab_type": "code",
    "id": "PS6R3R45aBfN",
    "outputId": "5fb35b75-ea00-4dc8-a9c4-3376be66a03b"
   },
   "outputs": [
    {
     "data": {
      "image/png": "[encoded data removed]",
      "text/plain": [
       "<Figure size 432x288 with 1 Axes>"
      ]
     },
     "metadata": {},
     "output_type": "display_data"
    }
   ],
   "source": [
    "for a in range(len(pdf1)):\n",
    "  if y_grid1[a] > 0:\n",
    "    break\n",
    "probab1=np.sum(pdf1[a:])*w1\n",
    "for a in range(len(pdf1)):\n",
    "  if y_grid1[a] > 0:\n",
    "    break\n",
    "  pdf1[a]=0\n",
    "pdf1=pdf1/probab1\n",
    "plt.plot(y_grid1, pdf1, color='blue', alpha=1, lw=1)\n",
    "plt.title('PDF for gloves')\n",
    "plt.xlabel('Price')\n",
    "plt.show()"
   ]
  },
  {
   "cell_type": "code",
   "execution_count": 36,
   "metadata": {
    "colab": {
     "base_uri": "https://localhost:8080/",
     "height": 295
    },
    "colab_type": "code",
    "id": "3ZJm7QQXaBSO",
    "outputId": "2f271f82-752e-4728-ad07-305bfc5e6afc"
   },
   "outputs": [
    {
     "data": {
      "image/png": "[encoded data removed]",
      "text/plain": [
       "<Figure size 432x288 with 1 Axes>"
      ]
     },
     "metadata": {},
     "output_type": "display_data"
    }
   ],
   "source": [
    "for a in range(len(pdf2)):\n",
    "  if y_grid2[a] > 0:\n",
    "    break\n",
    "probab2=np.sum(pdf2[a:])*w2\n",
    "for a in range(len(pdf2)):\n",
    "  if y_grid2[a] > 0:\n",
    "    break\n",
    "  pdf2[a]=0\n",
    "pdf2=pdf2/probab2\n",
    "plt.plot(y_grid2, pdf2, color='blue', alpha=1, lw=1)\n",
    "plt.title('PDF for kurta')\n",
    "plt.xlabel('Price')\n",
    "plt.show()"
   ]
  },
  {
   "cell_type": "markdown",
   "metadata": {
    "colab_type": "text",
    "id": "2-gcDmLQhisW"
   },
   "source": [
    "# Range calculation from PDF \n",
    "we used 2 methods for calculating a range they are \n",
    "\n",
    "1.   finding the peak and finding a range which covers 50% of the area under pdf and having peak as mean point of that range(it means there is 50% chance for a product to be in that range) this ensures price which has maximum entries lies in that region\n",
    "\n",
    "2.   finding the smallest range which covers majority of the region(we can use range which covers 50% of the region)the advantage with this method is it ensures ranges is minimum.\n",
    "\n"
   ]
  },
  {
   "cell_type": "code",
   "execution_count": 37,
   "metadata": {
    "colab": {
     "base_uri": "https://localhost:8080/",
     "height": 51
    },
    "colab_type": "code",
    "id": "00CBOvWMH7WT",
    "outputId": "626b18a2-0034-4b71-c177-15fbf8cf8aca"
   },
   "outputs": [
    {
     "name": "stdout",
     "output_type": "stream",
     "text": [
      "0.5000541938213798 330\n",
      "This is the range obtained for drill  711.0 4038.0\n"
     ]
    }
   ],
   "source": [
    "f_peak=argrelextrema(pdf, np.greater)[0][0]\n",
    "for q in range(f_peak):\n",
    "  if np.sum(pdf[f_peak-q:f_peak+q])*w > 0.5:\n",
    "    print(np.sum(pdf[f_peak-q:f_peak+q])*w,q)\n",
    "    break\n",
    "print('This is the range obtained for drill ',np.round((f_peak-q)*w+np.amin(npa)-(np.amax(npa)-np.amin(npa))*0.4),np.round((f_peak+q)*w+np.amin(npa)-(np.amax(npa)-np.amin(npa))*0.4))"
   ]
  },
  {
   "cell_type": "code",
   "execution_count": 38,
   "metadata": {
    "colab": {
     "base_uri": "https://localhost:8080/",
     "height": 51
    },
    "colab_type": "code",
    "id": "7mS56QZLQhrN",
    "outputId": "79c73979-c94e-40a2-9b2b-d11c107d8a6b"
   },
   "outputs": [
    {
     "name": "stdout",
     "output_type": "stream",
     "text": [
      "0.5002469522162394 460\n",
      "This is the range obtained for gloves  31.0 116.0\n"
     ]
    }
   ],
   "source": [
    "f_peak1=argrelextrema(pdf1, np.greater)[0][0]\n",
    "q=0\n",
    "for q in range(f_peak1):\n",
    "  if np.sum(pdf1[f_peak1-q:f_peak1+2*q])*w1 > 0.5:\n",
    "    print(np.sum(pdf1[f_peak1-q:f_peak1+2*q])*w1,q)\n",
    "    break\n",
    "print('This is the range obtained for gloves ',np.round((f_peak1-q)*w1+np.amin(npa1)-(np.amax(npa1)-np.amin(npa1))*0.4),np.round((f_peak1+2*q)*w1+np.amin(npa1)-(np.amax(npa1)-np.amin(npa1))*0.4))"
   ]
  },
  {
   "cell_type": "code",
   "execution_count": 39,
   "metadata": {
    "colab": {
     "base_uri": "https://localhost:8080/",
     "height": 51
    },
    "colab_type": "code",
    "id": "rFq5MSF4QiNI",
    "outputId": "93c971ad-d206-45cf-b79a-b73e55cc1cb5"
   },
   "outputs": [
    {
     "name": "stdout",
     "output_type": "stream",
     "text": [
      "0.5004857371061543 301\n",
      "This is the range obtained for Kurta  188.0 619.0\n"
     ]
    }
   ],
   "source": [
    "f_peak2=argrelextrema(pdf2, np.greater)[0][0]\n",
    "for q in range(f_peak2):\n",
    "  if np.sum(pdf2[f_peak2-q:f_peak2+q])*w2 > 0.5:\n",
    "    print(np.sum(pdf2[f_peak2-q:f_peak2+q])*w2,q)\n",
    "    break\n",
    "print('This is the range obtained for Kurta ',np.round((f_peak2-q)*w2-(np.amax(npa2)-np.amin(npa2))*0.05),np.round((f_peak2+q)*w2-(np.amax(npa2)-np.amin(npa2))*0.05))"
   ]
  },
  {
   "cell_type": "code",
   "execution_count": 40,
   "metadata": {
    "colab": {
     "base_uri": "https://localhost:8080/",
     "height": 51
    },
    "colab_type": "code",
    "id": "43E_-ON6Xgsh",
    "outputId": "b9b10934-75b1-4be4-e016-23265c8488aa"
   },
   "outputs": [
    {
     "name": "stdout",
     "output_type": "stream",
     "text": [
      "0.5000100077814926 2362 659\n",
      "This is the range obtained for drill  706.0 4033.0\n"
     ]
    }
   ],
   "source": [
    "qq1=len(pdf)\n",
    "for q in range(len(pdf)):\n",
    "  for p in range(len(pdf)-(q+1)):\n",
    "     if np.sum(pdf[p:p+q+1])*w > 0.5:\n",
    "        print(np.sum(pdf[p:p+q+1])*w,p,q)\n",
    "        break\n",
    "  if np.sum(pdf[p:p+q+1])*w > 0.5:\n",
    "    break\n",
    "print('This is the range obtained for drill ',np.round((p)*w+np.amin(npa)-(np.amax(npa)-np.amin(npa))*0.4),np.round((p+q+1)*w+np.amin(npa)-(np.amax(npa)-np.amin(npa))*0.4))  \n",
    "     \n",
    "        "
   ]
  },
  {
   "cell_type": "code",
   "execution_count": 41,
   "metadata": {
    "colab": {
     "base_uri": "https://localhost:8080/",
     "height": 51
    },
    "colab_type": "code",
    "id": "iS3Nmo98wL7L",
    "outputId": "930696ca-9608-4156-cd14-c3e5c0abbfe6"
   },
   "outputs": [
    {
     "ename": "KeyboardInterrupt",
     "evalue": "",
     "output_type": "error",
     "traceback": [
      "\u001b[1;31m---------------------------------------------------------------------------\u001b[0m",
      "\u001b[1;31mKeyboardInterrupt\u001b[0m                         Traceback (most recent call last)",
      "\u001b[1;32m<ipython-input-41-54762b2c8b33>\u001b[0m in \u001b[0;36m<module>\u001b[1;34m()\u001b[0m\n\u001b[0;32m      2\u001b[0m \u001b[1;32mfor\u001b[0m \u001b[0mq\u001b[0m \u001b[1;32min\u001b[0m \u001b[0mrange\u001b[0m\u001b[1;33m(\u001b[0m\u001b[0mlen\u001b[0m\u001b[1;33m(\u001b[0m\u001b[0mpdf1\u001b[0m\u001b[1;33m)\u001b[0m\u001b[1;33m)\u001b[0m\u001b[1;33m:\u001b[0m\u001b[1;33m\u001b[0m\u001b[0m\n\u001b[0;32m      3\u001b[0m   \u001b[1;32mfor\u001b[0m \u001b[0mp\u001b[0m \u001b[1;32min\u001b[0m \u001b[0mrange\u001b[0m\u001b[1;33m(\u001b[0m\u001b[0mlen\u001b[0m\u001b[1;33m(\u001b[0m\u001b[0mpdf1\u001b[0m\u001b[1;33m)\u001b[0m\u001b[1;33m-\u001b[0m\u001b[1;33m(\u001b[0m\u001b[0mq\u001b[0m\u001b[1;33m+\u001b[0m\u001b[1;36m1\u001b[0m\u001b[1;33m)\u001b[0m\u001b[1;33m)\u001b[0m\u001b[1;33m:\u001b[0m\u001b[1;33m\u001b[0m\u001b[0m\n\u001b[1;32m----> 4\u001b[1;33m      \u001b[1;32mif\u001b[0m \u001b[0mnp\u001b[0m\u001b[1;33m.\u001b[0m\u001b[0msum\u001b[0m\u001b[1;33m(\u001b[0m\u001b[0mpdf1\u001b[0m\u001b[1;33m[\u001b[0m\u001b[0mp\u001b[0m\u001b[1;33m:\u001b[0m\u001b[0mp\u001b[0m\u001b[1;33m+\u001b[0m\u001b[0mq\u001b[0m\u001b[1;33m+\u001b[0m\u001b[1;36m1\u001b[0m\u001b[1;33m]\u001b[0m\u001b[1;33m)\u001b[0m\u001b[1;33m*\u001b[0m\u001b[0mw1\u001b[0m \u001b[1;33m>\u001b[0m \u001b[1;36m0.75\u001b[0m\u001b[1;33m:\u001b[0m\u001b[1;33m\u001b[0m\u001b[0m\n\u001b[0m\u001b[0;32m      5\u001b[0m         \u001b[0mprint\u001b[0m\u001b[1;33m(\u001b[0m\u001b[0mnp\u001b[0m\u001b[1;33m.\u001b[0m\u001b[0msum\u001b[0m\u001b[1;33m(\u001b[0m\u001b[0mpdf1\u001b[0m\u001b[1;33m[\u001b[0m\u001b[0mp\u001b[0m\u001b[1;33m:\u001b[0m\u001b[0mp\u001b[0m\u001b[1;33m+\u001b[0m\u001b[0mq\u001b[0m\u001b[1;33m+\u001b[0m\u001b[1;36m1\u001b[0m\u001b[1;33m]\u001b[0m\u001b[1;33m)\u001b[0m\u001b[1;33m*\u001b[0m\u001b[0mw1\u001b[0m\u001b[1;33m,\u001b[0m\u001b[0mp\u001b[0m\u001b[1;33m,\u001b[0m\u001b[0mq\u001b[0m\u001b[1;33m)\u001b[0m\u001b[1;33m\u001b[0m\u001b[0m\n\u001b[0;32m      6\u001b[0m         \u001b[1;32mbreak\u001b[0m\u001b[1;33m\u001b[0m\u001b[0m\n",
      "\u001b[1;32m~\\Anaconda3\\lib\\site-packages\\numpy\\core\\fromnumeric.py\u001b[0m in \u001b[0;36msum\u001b[1;34m(a, axis, dtype, out, keepdims)\u001b[0m\n\u001b[0;32m   1880\u001b[0m             \u001b[1;32mreturn\u001b[0m \u001b[0msum\u001b[0m\u001b[1;33m(\u001b[0m\u001b[0maxis\u001b[0m\u001b[1;33m=\u001b[0m\u001b[0maxis\u001b[0m\u001b[1;33m,\u001b[0m \u001b[0mdtype\u001b[0m\u001b[1;33m=\u001b[0m\u001b[0mdtype\u001b[0m\u001b[1;33m,\u001b[0m \u001b[0mout\u001b[0m\u001b[1;33m=\u001b[0m\u001b[0mout\u001b[0m\u001b[1;33m,\u001b[0m \u001b[1;33m**\u001b[0m\u001b[0mkwargs\u001b[0m\u001b[1;33m)\u001b[0m\u001b[1;33m\u001b[0m\u001b[0m\n\u001b[0;32m   1881\u001b[0m     return _methods._sum(a, axis=axis, dtype=dtype,\n\u001b[1;32m-> 1882\u001b[1;33m                          out=out, **kwargs)\n\u001b[0m\u001b[0;32m   1883\u001b[0m \u001b[1;33m\u001b[0m\u001b[0m\n\u001b[0;32m   1884\u001b[0m \u001b[1;33m\u001b[0m\u001b[0m\n",
      "\u001b[1;32m~\\Anaconda3\\lib\\site-packages\\numpy\\core\\_methods.py\u001b[0m in \u001b[0;36m_sum\u001b[1;34m(a, axis, dtype, out, keepdims)\u001b[0m\n\u001b[0;32m     30\u001b[0m \u001b[1;33m\u001b[0m\u001b[0m\n\u001b[0;32m     31\u001b[0m \u001b[1;32mdef\u001b[0m \u001b[0m_sum\u001b[0m\u001b[1;33m(\u001b[0m\u001b[0ma\u001b[0m\u001b[1;33m,\u001b[0m \u001b[0maxis\u001b[0m\u001b[1;33m=\u001b[0m\u001b[1;32mNone\u001b[0m\u001b[1;33m,\u001b[0m \u001b[0mdtype\u001b[0m\u001b[1;33m=\u001b[0m\u001b[1;32mNone\u001b[0m\u001b[1;33m,\u001b[0m \u001b[0mout\u001b[0m\u001b[1;33m=\u001b[0m\u001b[1;32mNone\u001b[0m\u001b[1;33m,\u001b[0m \u001b[0mkeepdims\u001b[0m\u001b[1;33m=\u001b[0m\u001b[1;32mFalse\u001b[0m\u001b[1;33m)\u001b[0m\u001b[1;33m:\u001b[0m\u001b[1;33m\u001b[0m\u001b[0m\n\u001b[1;32m---> 32\u001b[1;33m     \u001b[1;32mreturn\u001b[0m \u001b[0mumr_sum\u001b[0m\u001b[1;33m(\u001b[0m\u001b[0ma\u001b[0m\u001b[1;33m,\u001b[0m \u001b[0maxis\u001b[0m\u001b[1;33m,\u001b[0m \u001b[0mdtype\u001b[0m\u001b[1;33m,\u001b[0m \u001b[0mout\u001b[0m\u001b[1;33m,\u001b[0m \u001b[0mkeepdims\u001b[0m\u001b[1;33m)\u001b[0m\u001b[1;33m\u001b[0m\u001b[0m\n\u001b[0m\u001b[0;32m     33\u001b[0m \u001b[1;33m\u001b[0m\u001b[0m\n\u001b[0;32m     34\u001b[0m \u001b[1;32mdef\u001b[0m \u001b[0m_prod\u001b[0m\u001b[1;33m(\u001b[0m\u001b[0ma\u001b[0m\u001b[1;33m,\u001b[0m \u001b[0maxis\u001b[0m\u001b[1;33m=\u001b[0m\u001b[1;32mNone\u001b[0m\u001b[1;33m,\u001b[0m \u001b[0mdtype\u001b[0m\u001b[1;33m=\u001b[0m\u001b[1;32mNone\u001b[0m\u001b[1;33m,\u001b[0m \u001b[0mout\u001b[0m\u001b[1;33m=\u001b[0m\u001b[1;32mNone\u001b[0m\u001b[1;33m,\u001b[0m \u001b[0mkeepdims\u001b[0m\u001b[1;33m=\u001b[0m\u001b[1;32mFalse\u001b[0m\u001b[1;33m)\u001b[0m\u001b[1;33m:\u001b[0m\u001b[1;33m\u001b[0m\u001b[0m\n",
      "\u001b[1;31mKeyboardInterrupt\u001b[0m: "
     ]
    }
   ],
   "source": [
    "qq2=len(pdf1)\n",
    "for q in range(len(pdf1)):\n",
    "  for p in range(len(pdf1)-(q+1)):\n",
    "     if np.sum(pdf1[p:p+q+1])*w1 > 0.75:\n",
    "        print(np.sum(pdf1[p:p+q+1])*w1,p,q)\n",
    "        break\n",
    "  if np.sum(pdf1[p:p+q+1])*w1 > 0.5:\n",
    "    break\n",
    "print('This is the range obtained for gloves ',np.round((p)*w1+np.amin(npa1)-(np.amax(npa1)-np.amin(npa1))*0.4),np.round((p+q+1)*w1+np.amin(npa1)-(np.amax(npa1)-np.amin(npa1))*0.4))  \n",
    " "
   ]
  },
  {
   "cell_type": "code",
   "execution_count": null,
   "metadata": {
    "colab": {
     "base_uri": "https://localhost:8080/",
     "height": 51
    },
    "colab_type": "code",
    "id": "5jp7a2JZ3b9f",
    "outputId": "ccd507e7-dcb6-493b-efae-6cae59f1c4ae"
   },
   "outputs": [],
   "source": [
    "qq3=len(pdf2)\n",
    "for q in range(len(pdf2)):\n",
    "  for p in range(len(pdf2)-(q+1)):\n",
    "     if np.sum(pdf2[p:p+q+1])*w2 > 0.7:\n",
    "        print(np.sum(pdf2[p:p+q+1])*w2,p,q)\n",
    "        break\n",
    "  if np.sum(pdf2[p:p+q+1])*w2 > 0.6:\n",
    "    break\n",
    "print('This is the range obtained for Kurta ',np.round((p)*w2-(np.amax(npa2)-np.amin(npa2))*0.05),np.round((p+q+1)*w2-(np.amax(npa2)-np.amin(npa2))*0.05))"
   ]
  }
 ],
 "metadata": {
  "colab": {
   "name": "Copy of phase1.ipynb",
   "provenance": [],
   "version": "0.3.2"
  },
  "kernelspec": {
   "display_name": "Python 3",
   "language": "python",
   "name": "python3"
  },
  "language_info": {
   "codemirror_mode": {
    "name": "ipython",
    "version": 3
   },
   "file_extension": ".py",
   "mimetype": "text/x-python",
   "name": "python",
   "nbconvert_exporter": "python",
   "pygments_lexer": "ipython3",
   "version": "3.6.5"
  }
 },
 "nbformat": 4,
 "nbformat_minor": 1
}
