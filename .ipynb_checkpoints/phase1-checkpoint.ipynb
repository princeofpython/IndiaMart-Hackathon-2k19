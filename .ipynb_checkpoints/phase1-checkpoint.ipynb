{
 "cells": [
  {
   "cell_type": "markdown",
   "metadata": {
    "colab_type": "text",
    "id": "0v9ps2nJa0qC"
   },
   "source": [
<<<<<<< HEAD
    "# Phase-1 IndiaMART Hackathon\n",
=======
    "# Phase-1 IndiaMart Hackathon\n",
>>>>>>> nikversion
    "This notebook is a working prototype solution to gauge the appropriate unit wise price range for the 3 categories(Gloves,Kurtas,Drills) based on their units by removing outliers from the data.\n",
    "\n",
    "**Instructions for running this notebook**\n",
    "\n",
    "\n",
    "*   Jupyter notebook is needed to run this notebook if it is not available Please use Colab from google  to run it.\n",
    "*   required libraries to run this notebook are pandas,numpy,seaborn and scipy.\n",
    "*   Incase you are running this notebook please make sure all **.csv** files are uploaded \n",
    "\n",
    "\n",
    "\n",
    "\n",
    "\n",
    "\n",
    "\n",
    "\n",
    "\n"
   ]
  },
  {
   "cell_type": "code",
<<<<<<< HEAD
   "execution_count": 0,
=======
   "execution_count": 60,
>>>>>>> nikversion
   "metadata": {
    "colab": {},
    "colab_type": "code",
    "id": "YokkO0iBEe2t"
   },
   "outputs": [],
   "source": [
    "import pandas as pd\n",
    "import matplotlib.pyplot as plt\n",
    "import seaborn as sns\n",
    "import numpy as np\n",
    "from scipy.stats import norm\n",
    "from scipy.signal import argrelextrema\n",
    "from scipy import stats"
   ]
  },
  {
   "cell_type": "markdown",
   "metadata": {
    "colab_type": "text",
    "id": "VSxTFtO7idsg"
   },
   "source": [
    "we can import the required data either from the folder or our git repository.\n",
    "The given .xlsx file is split into Three parts and and converted to .csv file which is easy to handle."
   ]
  },
  {
   "cell_type": "code",
<<<<<<< HEAD
   "execution_count": 0,
=======
   "execution_count": 61,
>>>>>>> nikversion
   "metadata": {
    "colab": {},
    "colab_type": "code",
    "id": "V_JxW7kwEe2x"
   },
   "outputs": [],
   "source": [
    "try:\n",
<<<<<<< HEAD
    "  drilldf = pd.read_csv('./phaseone-drill.csv')\n",
    "  glovedf = pd.read_csv('./phaseone-gloves.csv')\n",
    "  kurtadf = pd.read_csv('./phaseone-kurta.csv')\n",
    "except:\n",
    "  try:\n",
    "    drilldf = pd.read_csv('https://raw.githubusercontent.com/nik299/IndiaMart-Hackathon-2k19/master/phaseone-drill.csv')\n",
    "    glovedf = pd.read_csv('https://raw.githubusercontent.com/nik299/IndiaMart-Hackathon-2k19/master/phaseone-gloves.csv')\n",
    "    kurtadf = pd.read_csv('https://raw.githubusercontent.com/nik299/IndiaMart-Hackathon-2k19/master/phaseone-kurta.csv')\n",
    "  except:\n",
    "    print(\"no file found and no internet connection\")\n"
=======
    "    drilldf = pd.read_csv('./phaseone-drill.csv')\n",
    "    glovedf = pd.read_csv('./phaseone-gloves.csv')\n",
    "    kurtadf = pd.read_csv('./phaseone-kurta.csv')\n",
    "except:\n",
    "    try:\n",
    "        drilldf = pd.read_csv('https://raw.githubusercontent.com/nik299/IndiaMart-Hackathon-2k19/master/phaseone-drill.csv')\n",
    "        glovedf = pd.read_csv('https://raw.githubusercontent.com/nik299/IndiaMart-Hackathon-2k19/master/phaseone-gloves.csv')\n",
    "        kurtadf = pd.read_csv('https://raw.githubusercontent.com/nik299/IndiaMart-Hackathon-2k19/master/phaseone-kurta.csv')\n",
    "    except:\n",
    "        print(\"no file found and no internet connection\")\n"
>>>>>>> nikversion
   ]
  },
  {
   "cell_type": "markdown",
   "metadata": {
    "colab_type": "text",
    "id": "daJD4M3eoS6G"
   },
   "source": [
<<<<<<< HEAD
    "the following piece of code prints out all unique units of the three item given"
=======
    "The following piece of code prints out all unique units of the three item given."
>>>>>>> nikversion
   ]
  },
  {
   "cell_type": "code",
<<<<<<< HEAD
   "execution_count": 5,
=======
   "execution_count": 62,
>>>>>>> nikversion
   "metadata": {
    "colab": {
     "base_uri": "https://localhost:8080/",
     "height": 289
    },
    "colab_type": "code",
    "id": "-dHGmh-5Ee24",
<<<<<<< HEAD
    "outputId": "f80ae834-79ca-44a6-8e77-d9634cb823c3"
=======
    "outputId": "fe327a95-ae89-466d-9efc-e37f2372ebb4"
>>>>>>> nikversion
   },
   "outputs": [
    {
     "name": "stdout",
     "output_type": "stream",
     "text": [
      "['Piece' 'Piece(s)' 'pack' 'unit' 'Number' 'Unit' 'Pack' '1nos' 'Unit(s)'\n",
      " 'kit' 'Set' 'Pc_Onwards' 'ONWARDS' 'Kit'] drills\n",
      "['Pair' 'Piece' 'pack' 'Unit' 'Pack' 'Unit/Onwards' 'Pair(s)' 'unit' 'Set'\n",
      " 'Pieces'] gloves\n",
      "['Piece' 'dollar' 'Packet' 'piece' 'Meter' 'Piece(s)' 'Set' 'Per piece'\n",
      " 'Unit' '1' '1pc' 'Box' '170 per peice' 'Unstitch' 'Barrel' 'Carton'\n",
      " 'peice' 'Pieces' 'Sets' 'Unit(s)' 'one' 'Bag' 'Selfie Kurtis' 'Pack'\n",
      " 'Pair' 'Pound' 'Peice' '1piece' 'No' 'Kilogram' 'Number' \"40' Container\"\n",
      " 'pack' '100 pic' 'Year' \"20' Container\" 'Pcs' 'Piece(s) Onwards' 'One'\n",
      " 'kurtI' 'Ounce' 'onwards' '10-10000' 'per piese' 'Day' 'Set(s)'\n",
      " '12 units' '1pis' 'Onwards' 'One peace' 'Set(S)' 'Pair piece' 'Ounce(s)'\n",
      " 'Packet(s)' 'Single' 'one pcs' 'Pc' '4 pcs' '4 units' '5' 'set' 'kurti'\n",
      " 'pcs' 'pices' 'Pics' 'single piece' 'pi' 'per piece' 'Kurti' 'one unit'\n",
      " '1 piece' '1 pice' 'Suit' 'pair piece' '10' 'pieces' '1pcs' '1 pc'\n",
      " '3 set' 'Xl size' '1000 per unit' '1pcd' 'Psc' 'Gram' 'Rs' 'in' '1 pcs'\n",
      " 'Feet' 'onepices'] kurtas\n"
     ]
    }
   ],
   "source": [
    "drill_units=drilldf['Unit'].unique()\n",
    "print(drill_units,'drills')\n",
    "glove_units=glovedf['Unit'].unique()\n",
    "print(glove_units,'gloves')\n",
    "kurta_units=kurtadf['Unit'].unique()\n",
    "print(kurta_units,'kurtas')"
   ]
  },
  {
   "cell_type": "markdown",
   "metadata": {
    "colab_type": "text",
    "id": "0s7fEGG0o6T4"
   },
   "source": [
<<<<<<< HEAD
    "The following three cells prints out the count of each unique unts."
=======
    "## Cleaning Data"
   ]
  },
  {
   "cell_type": "markdown",
   "metadata": {},
   "source": [
    "### Impact Drill\n",
    "\n",
    "Let us know the count of each unique unit."
>>>>>>> nikversion
   ]
  },
  {
   "cell_type": "code",
<<<<<<< HEAD
   "execution_count": 6,
=======
   "execution_count": 63,
>>>>>>> nikversion
   "metadata": {
    "colab": {
     "base_uri": "https://localhost:8080/",
     "height": 272
    },
    "colab_type": "code",
    "id": "7dKAIEMGEe28",
<<<<<<< HEAD
    "outputId": "7a841d49-c97f-4f24-bd52-ad487122dc7c"
=======
    "outputId": "db9f2577-2e5f-4dac-d868-18a7a72aeaa5"
>>>>>>> nikversion
   },
   "outputs": [
    {
     "data": {
      "text/plain": [
       "Piece         119\n",
       "pack           47\n",
       "unit           25\n",
       "Unit           17\n",
       "Number         14\n",
       "Pack            9\n",
       "Pc_Onwards      5\n",
       "Piece(s)        5\n",
<<<<<<< HEAD
       "Kit             1\n",
       "Set             1\n",
       "kit             1\n",
       "Unit(s)         1\n",
       "ONWARDS         1\n",
       "1nos            1\n",
       "Name: Unit, dtype: int64"
      ]
     },
     "execution_count": 6,
     "metadata": {
      "tags": []
     },
     "output_type": "execute_result"
    }
   ],
   "source": [
    "drilldf['Unit'].value_counts()"
=======
       "ONWARDS         1\n",
       "Set             1\n",
       "Unit(s)         1\n",
       "Kit             1\n",
       "1nos            1\n",
       "kit             1\n",
       "Name: Unit, dtype: int64"
      ]
     },
     "execution_count": 63,
     "metadata": {},
     "output_type": "execute_result"
    }
   ],
   "source": [
    "drilldf['Unit'].value_counts()"
   ]
  },
  {
   "cell_type": "markdown",
   "metadata": {},
   "source": [
    "Following units are unsignificant in Impact Drill dataframe.\n",
    "\n",
    "'Pc_Onwards', 'ONWARDS', 'Set', 'Kit', 'kit'\n",
    "\n",
    "We have to remove them."
   ]
  },
  {
   "cell_type": "code",
   "execution_count": 78,
   "metadata": {},
   "outputs": [],
   "source": [
    "removal=['Pc_Onwards', 'ONWARDS', 'Set', 'Kit', 'kit']\n",
    "for each in removal:\n",
    "    drilldf=drilldf.drop(drilldf[(drilldf['Unit']==each)].index)"
   ]
  },
  {
   "cell_type": "markdown",
   "metadata": {},
   "source": [
    "Let us assume that all other units, are trying to represent a single piece of impact drill. So, drill dataframe is cleaned. Below table represents the description of data."
   ]
  },
  {
   "cell_type": "code",
   "execution_count": 81,
   "metadata": {},
   "outputs": [
    {
     "data": {
      "text/html": [
       "<div>\n",
       "<style scoped>\n",
       "    .dataframe tbody tr th:only-of-type {\n",
       "        vertical-align: middle;\n",
       "    }\n",
       "\n",
       "    .dataframe tbody tr th {\n",
       "        vertical-align: top;\n",
       "    }\n",
       "\n",
       "    .dataframe thead th {\n",
       "        text-align: right;\n",
       "    }\n",
       "</style>\n",
       "<table border=\"1\" class=\"dataframe\">\n",
       "  <thead>\n",
       "    <tr style=\"text-align: right;\">\n",
       "      <th></th>\n",
       "      <th>Price</th>\n",
       "    </tr>\n",
       "  </thead>\n",
       "  <tbody>\n",
       "    <tr>\n",
       "      <th>count</th>\n",
       "      <td>238.000000</td>\n",
       "    </tr>\n",
       "    <tr>\n",
       "      <th>mean</th>\n",
       "      <td>6571.428571</td>\n",
       "    </tr>\n",
       "    <tr>\n",
       "      <th>std</th>\n",
       "      <td>9709.722619</td>\n",
       "    </tr>\n",
       "    <tr>\n",
       "      <th>min</th>\n",
       "      <td>2.000000</td>\n",
       "    </tr>\n",
       "    <tr>\n",
       "      <th>25%</th>\n",
       "      <td>2100.000000</td>\n",
       "    </tr>\n",
       "    <tr>\n",
       "      <th>50%</th>\n",
       "      <td>2999.500000</td>\n",
       "    </tr>\n",
       "    <tr>\n",
       "      <th>75%</th>\n",
       "      <td>5939.000000</td>\n",
       "    </tr>\n",
       "    <tr>\n",
       "      <th>max</th>\n",
       "      <td>55000.000000</td>\n",
       "    </tr>\n",
       "  </tbody>\n",
       "</table>\n",
       "</div>"
      ],
      "text/plain": [
       "              Price\n",
       "count    238.000000\n",
       "mean    6571.428571\n",
       "std     9709.722619\n",
       "min        2.000000\n",
       "25%     2100.000000\n",
       "50%     2999.500000\n",
       "75%     5939.000000\n",
       "max    55000.000000"
      ]
     },
     "execution_count": 81,
     "metadata": {},
     "output_type": "execute_result"
    }
   ],
   "source": [
    "drilldf.describe()"
   ]
  },
  {
   "cell_type": "markdown",
   "metadata": {},
   "source": [
    "This is a normal scatter plot of Price."
   ]
  },
  {
   "cell_type": "code",
   "execution_count": 83,
   "metadata": {},
   "outputs": [
    {
     "data": {
      "image/png": "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\n",
      "text/plain": [
       "<Figure size 432x288 with 1 Axes>"
      ]
     },
     "metadata": {},
     "output_type": "display_data"
    }
   ],
   "source": [
    "array=np.arange(238)\n",
    "plt.scatter(drilldf['Price'],array);"
   ]
  },
  {
   "cell_type": "markdown",
   "metadata": {},
   "source": [
    "### Leather safety gloves"
   ]
  },
  {
   "cell_type": "markdown",
   "metadata": {},
   "source": [
    "Let us know the count of each unique unit."
   ]
  },
  {
   "cell_type": "code",
   "execution_count": 64,
   "metadata": {
    "colab": {
     "base_uri": "https://localhost:8080/",
     "height": 204
    },
    "colab_type": "code",
    "id": "_aMEixII92Ku",
    "outputId": "3412f975-9b5d-48fa-9d18-5910c307d8fb"
   },
   "outputs": [
    {
     "data": {
      "text/plain": [
       "Pair            113\n",
       "unit              9\n",
       "Piece             6\n",
       "pack              5\n",
       "Pack              3\n",
       "Unit              3\n",
       "Pair(s)           2\n",
       "Unit/Onwards      1\n",
       "Pieces            1\n",
       "Set               1\n",
       "Name: Unit, dtype: int64"
      ]
     },
     "execution_count": 64,
     "metadata": {},
     "output_type": "execute_result"
    }
   ],
   "source": [
    "glovedf['Unit'].value_counts()"
   ]
  },
  {
   "cell_type": "markdown",
   "metadata": {},
   "source": [
    "Some of the above units like 'Pack', 'Set', 'pack' are unsignificant as we do not know how many are inside that. 'Unit/Onwards' is also unsignificant as that is like a starting range for the product. We assume remaining all units 'Pair', 'Piece', 'pack', 'Unit','Pair(s)' 'unit', 'Pieces' are trying to represent the same, which is 'Pair', a pair of leather gloves."
   ]
  },
  {
   "cell_type": "code",
   "execution_count": 67,
   "metadata": {},
   "outputs": [],
   "source": [
    "glovedf=glovedf.drop(glovedf[(glovedf['Unit']=='Pack')].index)\n",
    "glovedf=glovedf.drop(glovedf[(glovedf['Unit']=='pack')].index)\n",
    "glovedf=glovedf.drop(glovedf[(glovedf['Unit']=='Set')].index)"
   ]
  },
  {
   "cell_type": "markdown",
   "metadata": {},
   "source": [
    "Let us know the mean price of each significant unit."
   ]
  },
  {
   "cell_type": "code",
   "execution_count": 66,
   "metadata": {},
   "outputs": [
    {
     "name": "stdout",
     "output_type": "stream",
     "text": [
      "Pair 102.5575221238938\n",
      "Piece 136.66666666666666\n",
      "pack 4507.0\n",
      "Unit 318.6666666666667\n",
      "Pack 766.3333333333334\n",
      "Unit/Onwards 100.0\n",
      "Pair(s) 315.0\n",
      "unit 2442.777777777778\n",
      "Set 600.0\n",
      "Pieces 695.0\n"
     ]
    }
   ],
   "source": [
    "for each in glove_units:\n",
    "    print(each,glovedf[glovedf['Unit']==each]['Price'].mean())"
   ]
  },
  {
   "cell_type": "markdown",
   "metadata": {},
   "source": [
    "Below table represents the description of data."
   ]
  },
  {
   "cell_type": "code",
   "execution_count": 80,
   "metadata": {},
   "outputs": [
    {
     "data": {
      "text/html": [
       "<div>\n",
       "<style scoped>\n",
       "    .dataframe tbody tr th:only-of-type {\n",
       "        vertical-align: middle;\n",
       "    }\n",
       "\n",
       "    .dataframe tbody tr th {\n",
       "        vertical-align: top;\n",
       "    }\n",
       "\n",
       "    .dataframe thead th {\n",
       "        text-align: right;\n",
       "    }\n",
       "</style>\n",
       "<table border=\"1\" class=\"dataframe\">\n",
       "  <thead>\n",
       "    <tr style=\"text-align: right;\">\n",
       "      <th></th>\n",
       "      <th>Price</th>\n",
       "    </tr>\n",
       "  </thead>\n",
       "  <tbody>\n",
       "    <tr>\n",
       "      <th>count</th>\n",
       "      <td>135.000000</td>\n",
       "    </tr>\n",
       "    <tr>\n",
       "      <th>mean</th>\n",
       "      <td>272.407407</td>\n",
       "    </tr>\n",
       "    <tr>\n",
       "      <th>std</th>\n",
       "      <td>898.047453</td>\n",
       "    </tr>\n",
       "    <tr>\n",
       "      <th>min</th>\n",
       "      <td>10.000000</td>\n",
       "    </tr>\n",
       "    <tr>\n",
       "      <th>25%</th>\n",
       "      <td>50.000000</td>\n",
       "    </tr>\n",
       "    <tr>\n",
       "      <th>50%</th>\n",
       "      <td>90.000000</td>\n",
       "    </tr>\n",
       "    <tr>\n",
       "      <th>75%</th>\n",
       "      <td>180.000000</td>\n",
       "    </tr>\n",
       "    <tr>\n",
       "      <th>max</th>\n",
       "      <td>8978.000000</td>\n",
       "    </tr>\n",
       "  </tbody>\n",
       "</table>\n",
       "</div>"
      ],
      "text/plain": [
       "             Price\n",
       "count   135.000000\n",
       "mean    272.407407\n",
       "std     898.047453\n",
       "min      10.000000\n",
       "25%      50.000000\n",
       "50%      90.000000\n",
       "75%     180.000000\n",
       "max    8978.000000"
      ]
     },
     "execution_count": 80,
     "metadata": {},
     "output_type": "execute_result"
    }
   ],
   "source": [
    "glovedf.describe()"
   ]
  },
  {
   "cell_type": "markdown",
   "metadata": {},
   "source": [
    "This is a normal scatter plot of Price."
   ]
  },
  {
   "cell_type": "code",
   "execution_count": 68,
   "metadata": {},
   "outputs": [
    {
     "data": {
      "image/png": "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\n",
      "text/plain": [
       "<Figure size 432x288 with 1 Axes>"
      ]
     },
     "metadata": {},
     "output_type": "display_data"
    }
   ],
   "source": [
    "array=np.arange(135)\n",
    "plt.scatter(glovedf['Price'],array);"
   ]
  },
  {
   "cell_type": "markdown",
   "metadata": {},
   "source": [
    "### Ladies Kurta\n",
    "\n",
    "In kurta dataframe, there are many meaningless units (Unsignificant to be specific). \n",
    "Those are 'dollar', 'Packet', 'Meter', 'Set', 'Box', '170 per peice', 'Unstitch', 'Barrel', 'Carton', 'Sets', 'Bag', 'Selfie Kurtis', 'Pack', 'Pair', 'Pound', 'Kilogram', \"40' Container\", 'pack', '100 pic', 'Year', \"20' Container\", 'Ounce', '10-10000', 'Day', 'Set(s)', 'Set(S)', 'Pair piece', 'Ounce(s)', 'Packet(s)', 'set', 'Suit', 'pair piece', '3 set', 'Gram', 'Rs', 'Feet', '1000 per unit','in','5','10','Piece(s) Onwards','onwards','Onwards','Xl size'. Let us remove them all."
   ]
  },
  {
   "cell_type": "code",
   "execution_count": 69,
   "metadata": {},
   "outputs": [],
   "source": [
    "removal=['dollar', 'Packet', 'Meter', 'Set', 'Box', '170 per peice', 'Unstitch', 'Barrel', 'Carton', 'Sets', 'Bag', 'Selfie Kurtis', 'Pack', 'Pair', 'Pound', 'Kilogram', \"40' Container\", 'pack', '100 pic', 'Year', \"20' Container\", 'Ounce', '10-10000', 'Day', 'Set(s)', 'Set(S)', 'Pair piece', 'Ounce(s)', 'Packet(s)', 'set', 'Suit', 'pair piece', '3 set', 'Gram', 'Rs', 'Feet', '1000 per unit','in','5','10','Piece(s) Onwards','onwards','Onwards','Xl size']"
   ]
  },
  {
   "cell_type": "code",
   "execution_count": 70,
   "metadata": {},
   "outputs": [],
   "source": [
    "for each in removal:\n",
    "    kurtadf=kurtadf.drop(kurtadf[(kurtadf['Unit']==each)].index)"
   ]
  },
  {
   "cell_type": "code",
   "execution_count": 71,
   "metadata": {},
   "outputs": [
    {
     "name": "stdout",
     "output_type": "stream",
     "text": [
      "['Piece' 'piece' 'Piece(s)' 'Per piece' 'Unit' '1' '1pc' 'peice' 'Pieces'\n",
      " 'Unit(s)' 'one' 'Peice' '1piece' 'No' 'Number' 'Pcs' 'One' 'kurtI'\n",
      " 'per piese' '12 units' '1pis' 'One peace' 'Single' 'one pcs' 'Pc' '4 pcs'\n",
      " '4 units' 'kurti' 'pcs' 'pices' 'Pics' 'single piece' 'pi' 'per piece'\n",
      " 'Kurti' 'one unit' '1 piece' '1 pice' 'pieces' '1pcs' '1 pc' '1pcd' 'Psc'\n",
      " '1 pcs' 'onepices'] kurtas\n"
     ]
    }
   ],
   "source": [
    "kurta_units=kurtadf['Unit'].unique()\n",
    "print(kurta_units,'kurtas')"
   ]
  },
  {
   "cell_type": "markdown",
   "metadata": {},
   "source": [
    "Some units like '4 pcs', '4 pieces', '12 units' are unsignificant, but they contain significant information about the price. We can divide the price by 4 for the unit '4 pcs' to know the price of each."
   ]
  },
  {
   "cell_type": "code",
   "execution_count": 72,
   "metadata": {},
   "outputs": [],
   "source": [
    "kurtadf.loc[(kurtadf['Unit']=='4 units'),'Price']=kurtadf.loc[(kurtadf['Unit']=='4 units'),'Price']/4\n",
    "kurtadf.loc[(kurtadf['Unit']=='4 pcs'),'Price']=kurtadf.loc[(kurtadf['Unit']=='4 pcs'),'Price']/4\n",
    "kurtadf.loc[(kurtadf['Unit']=='12 units'),'Price']=kurtadf.loc[(kurtadf['Unit']=='12 units'),'Price']/12"
   ]
  },
  {
   "cell_type": "markdown",
   "metadata": {},
   "source": [
    "Let us know the count of each unique and significant unit."
   ]
  },
  {
   "cell_type": "code",
   "execution_count": 65,
   "metadata": {
    "colab": {
     "base_uri": "https://localhost:8080/",
     "height": 1071
    },
    "colab_type": "code",
    "id": "_2f3W73W92vW",
    "outputId": "a923065a-aac7-4569-c6f5-154c7a77b795"
   },
   "outputs": [
    {
     "data": {
      "text/plain": [
       "Piece       3334\n",
       "Piece(s)     500\n",
       "1             76\n",
       "Unit          63\n",
       "Set           43\n",
       "Onwards       39\n",
       "piece         38\n",
       "No            37\n",
       "Bag           23\n",
       "Number        23\n",
       "Pair          17\n",
       "Pack          13\n",
       "Pieces        13\n",
       "Unit(s)       11\n",
       "onwards        9\n",
       "Name: Unit, dtype: int64"
      ]
     },
     "execution_count": 65,
     "metadata": {},
     "output_type": "execute_result"
    }
   ],
   "source": [
    "kurtadf['Unit'].value_counts().head(15)"
   ]
  },
  {
   "cell_type": "markdown",
   "metadata": {
    "colab_type": "text",
    "id": "Xkipaxewzs7G"
   },
   "source": [
    "Let us find the mean price for each unit."
   ]
  },
  {
   "cell_type": "code",
   "execution_count": 76,
   "metadata": {},
   "outputs": [
    {
     "data": {
      "text/html": [
       "<div>\n",
       "<style scoped>\n",
       "    .dataframe tbody tr th:only-of-type {\n",
       "        vertical-align: middle;\n",
       "    }\n",
       "\n",
       "    .dataframe tbody tr th {\n",
       "        vertical-align: top;\n",
       "    }\n",
       "\n",
       "    .dataframe thead th {\n",
       "        text-align: right;\n",
       "    }\n",
       "</style>\n",
       "<table border=\"1\" class=\"dataframe\">\n",
       "  <thead>\n",
       "    <tr style=\"text-align: right;\">\n",
       "      <th></th>\n",
       "      <th>Price</th>\n",
       "    </tr>\n",
       "  </thead>\n",
       "  <tbody>\n",
       "    <tr>\n",
       "      <th>count</th>\n",
       "      <td>4149.000000</td>\n",
       "    </tr>\n",
       "    <tr>\n",
       "      <th>mean</th>\n",
       "      <td>787.490600</td>\n",
       "    </tr>\n",
       "    <tr>\n",
       "      <th>std</th>\n",
       "      <td>2178.518976</td>\n",
       "    </tr>\n",
       "    <tr>\n",
       "      <th>min</th>\n",
       "      <td>1.000000</td>\n",
       "    </tr>\n",
       "    <tr>\n",
       "      <th>25%</th>\n",
       "      <td>325.000000</td>\n",
       "    </tr>\n",
       "    <tr>\n",
       "      <th>50%</th>\n",
       "      <td>500.000000</td>\n",
       "    </tr>\n",
       "    <tr>\n",
       "      <th>75%</th>\n",
       "      <td>800.000000</td>\n",
       "    </tr>\n",
       "    <tr>\n",
       "      <th>max</th>\n",
       "      <td>109000.000000</td>\n",
       "    </tr>\n",
       "  </tbody>\n",
       "</table>\n",
       "</div>"
      ],
      "text/plain": [
       "               Price\n",
       "count    4149.000000\n",
       "mean      787.490600\n",
       "std      2178.518976\n",
       "min         1.000000\n",
       "25%       325.000000\n",
       "50%       500.000000\n",
       "75%       800.000000\n",
       "max    109000.000000"
      ]
     },
     "execution_count": 76,
     "metadata": {},
     "output_type": "execute_result"
    }
   ],
   "source": [
    "kurtadf.describe()"
   ]
  },
  {
   "cell_type": "markdown",
   "metadata": {},
   "source": [
    "This is a normal scatter plot of Price."
   ]
  },
  {
   "cell_type": "code",
   "execution_count": 77,
   "metadata": {},
   "outputs": [
    {
     "data": {
      "image/png": "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\n",
      "text/plain": [
       "<Figure size 432x288 with 1 Axes>"
      ]
     },
     "metadata": {},
     "output_type": "display_data"
    }
   ],
   "source": [
    "array=np.arange(4149)\n",
    "plt.scatter(kurtadf['Price'],array);"
   ]
  },
  {
   "cell_type": "code",
   "execution_count": 17,
   "metadata": {
    "colab": {},
    "colab_type": "code",
    "id": "1TBNb_ByzsOV"
   },
   "outputs": [],
   "source": [
    "d_entries=list(['Piece','Piece(s)','unit','Unit','Unit(s)','1nos'])\n",
    "g_entries=list(['Pair','Pair(s)','Unit'])\n",
    "k_entries=list(['Piece','Piece(s)','unit','Unit','Unit(s)','1','piece','1pc','1piece'])"
>>>>>>> nikversion
   ]
  },
  {
   "cell_type": "code",
<<<<<<< HEAD
   "execution_count": 7,
   "metadata": {
    "colab": {
     "base_uri": "https://localhost:8080/",
     "height": 204
    },
    "colab_type": "code",
    "id": "_aMEixII92Ku",
    "outputId": "ce705f93-a93d-4a33-85be-6eb81af2a56c"
=======
   "execution_count": 18,
   "metadata": {
    "colab": {
     "base_uri": "https://localhost:8080/",
     "height": 34
    },
    "colab_type": "code",
    "id": "Q0fCIbLI5sBo",
    "outputId": "b54d996f-224b-4609-e571-931e5bf7a21d"
>>>>>>> nikversion
   },
   "outputs": [
    {
     "data": {
      "text/plain": [
<<<<<<< HEAD
       "Pair            113\n",
       "unit              9\n",
       "Piece             6\n",
       "pack              5\n",
       "Pack              3\n",
       "Unit              3\n",
       "Pair(s)           2\n",
       "Unit/Onwards      1\n",
       "Set               1\n",
       "Pieces            1\n",
       "Name: Unit, dtype: int64"
      ]
     },
     "execution_count": 7,
     "metadata": {
      "tags": []
     },
=======
       "False"
      ]
     },
     "execution_count": 18,
     "metadata": {},
>>>>>>> nikversion
     "output_type": "execute_result"
    }
   ],
   "source": [
<<<<<<< HEAD
    "glovedf['Unit'].value_counts()"
=======
    "all(map(lambda each: each in [2,3,4], [1,5]))"
>>>>>>> nikversion
   ]
  },
  {
   "cell_type": "code",
<<<<<<< HEAD
   "execution_count": 8,
   "metadata": {
    "colab": {
     "base_uri": "https://localhost:8080/",
     "height": 1071
    },
    "colab_type": "code",
    "id": "_2f3W73W92vW",
    "outputId": "234a74ef-08f3-4efb-cefd-467730db501c"
=======
   "execution_count": 19,
   "metadata": {
    "colab": {
     "base_uri": "https://localhost:8080/",
     "height": 34
    },
    "colab_type": "code",
    "id": "TZzU9Gyi8JoN",
    "outputId": "dc15ff09-84ba-427a-e847-9c40d992c707"
>>>>>>> nikversion
   },
   "outputs": [
    {
     "data": {
      "text/plain": [
<<<<<<< HEAD
       "Piece            3334\n",
       "Piece(s)          500\n",
       "1                  76\n",
       "Unit               63\n",
       "Set                43\n",
       "Onwards            39\n",
       "piece              38\n",
       "No                 37\n",
       "Number             23\n",
       "Bag                23\n",
       "Pair               17\n",
       "Pack               13\n",
       "Pieces             13\n",
       "Unit(s)            11\n",
       "onwards             9\n",
       "Box                 9\n",
       "20' Container       6\n",
       "Set(s)              5\n",
       "40' Container       5\n",
       "Packet              4\n",
       "Ounce               4\n",
       "Psc                 3\n",
       "one                 3\n",
       "Meter               3\n",
       "1piece              3\n",
       "kurti               3\n",
       "peice               3\n",
       "1pc                 3\n",
       "Day                 2\n",
       "5                   2\n",
       "                 ... \n",
       "Sets                1\n",
       "one unit            1\n",
       "pcs                 1\n",
       "170 per peice       1\n",
       "1 pcs               1\n",
       "Kilogram            1\n",
       "1 pc                1\n",
       "pi                  1\n",
       "Gram                1\n",
       "per piece           1\n",
       "Suit                1\n",
       "set                 1\n",
       "Single              1\n",
       "Selfie Kurtis       1\n",
       "1pis                1\n",
       "Carton              1\n",
       "1 piece             1\n",
       "Pair piece          1\n",
       "100 pic             1\n",
       "Set(S)              1\n",
       "Ounce(s)            1\n",
       "3 set               1\n",
       "single piece        1\n",
       "per piese           1\n",
       "Unstitch            1\n",
       "Year                1\n",
       "dollar              1\n",
       "onepices            1\n",
       "Feet                1\n",
       "one pcs             1\n",
       "Name: Unit, Length: 89, dtype: int64"
      ]
     },
     "execution_count": 8,
     "metadata": {
      "tags": []
     },
=======
       "False"
      ]
     },
     "execution_count": 19,
     "metadata": {},
>>>>>>> nikversion
     "output_type": "execute_result"
    }
   ],
   "source": [
<<<<<<< HEAD
    "kurtadf['Unit'].value_counts()\n"
=======
    "[2,3,4] == 2"
>>>>>>> nikversion
   ]
  },
  {
   "cell_type": "markdown",
   "metadata": {
    "colab_type": "text",
    "id": "gMo3-4EasS61"
   },
   "source": [
<<<<<<< HEAD
    "# Calculating Z-score\n",
    "Z-score is meausure of how much given sample is deviating compared to Standaed deviation.\n",
    "In python the function is available in scipy.stats which we are using in the following cells\n",
    "\n",
    "**note:**we are calculating only abolsolute values as sign of z-score doesn't matter in finding outliers\n",
=======
    "## Removing Outliers : Calculating Z-score\n",
    "Z-score is meausure of how much given sample is deviating compared to Standaed deviation.\n",
    "In python the function is available in scipy.stats which we are using in the following cells.\n",
    "\n",
    "**Note:** we are calculating only absolute values as sign of z-score doesn't matter in finding outliers.\n",
>>>>>>> nikversion
    "\n",
    "\n",
    "\n",
    "\n"
   ]
  },
  {
   "cell_type": "code",
<<<<<<< HEAD
   "execution_count": 0,
=======
   "execution_count": 20,
   "metadata": {
    "colab": {},
    "colab_type": "code",
    "id": "YQLauvs_9aiU"
   },
   "outputs": [],
   "source": [
    "drill_cl=drilldf[drilldf['Unit'].isin(d_entries)]\n",
    "glove_cl=glovedf[glovedf['Unit'].isin(g_entries)]\n",
    "kurta_cl=kurtadf[kurtadf['Unit'].isin(k_entries)]"
   ]
  },
  {
   "cell_type": "code",
   "execution_count": 21,
   "metadata": {
    "colab": {
     "base_uri": "https://localhost:8080/",
     "height": 297
    },
    "colab_type": "code",
    "id": "sGrgdp3J-dKr",
    "outputId": "bfa65ff5-808a-479b-a8d2-0247cde3affd"
   },
   "outputs": [
    {
     "data": {
      "text/html": [
       "<div>\n",
       "<style scoped>\n",
       "    .dataframe tbody tr th:only-of-type {\n",
       "        vertical-align: middle;\n",
       "    }\n",
       "\n",
       "    .dataframe tbody tr th {\n",
       "        vertical-align: top;\n",
       "    }\n",
       "\n",
       "    .dataframe thead th {\n",
       "        text-align: right;\n",
       "    }\n",
       "</style>\n",
       "<table border=\"1\" class=\"dataframe\">\n",
       "  <thead>\n",
       "    <tr style=\"text-align: right;\">\n",
       "      <th></th>\n",
       "      <th>Price</th>\n",
       "    </tr>\n",
       "  </thead>\n",
       "  <tbody>\n",
       "    <tr>\n",
       "      <th>count</th>\n",
       "      <td>168.000000</td>\n",
       "    </tr>\n",
       "    <tr>\n",
       "      <th>mean</th>\n",
       "      <td>6042.964286</td>\n",
       "    </tr>\n",
       "    <tr>\n",
       "      <th>std</th>\n",
       "      <td>9341.145784</td>\n",
       "    </tr>\n",
       "    <tr>\n",
       "      <th>min</th>\n",
       "      <td>2.000000</td>\n",
       "    </tr>\n",
       "    <tr>\n",
       "      <th>25%</th>\n",
       "      <td>1999.750000</td>\n",
       "    </tr>\n",
       "    <tr>\n",
       "      <th>50%</th>\n",
       "      <td>2745.000000</td>\n",
       "    </tr>\n",
       "    <tr>\n",
       "      <th>75%</th>\n",
       "      <td>5636.750000</td>\n",
       "    </tr>\n",
       "    <tr>\n",
       "      <th>max</th>\n",
       "      <td>55000.000000</td>\n",
       "    </tr>\n",
       "  </tbody>\n",
       "</table>\n",
       "</div>"
      ],
      "text/plain": [
       "              Price\n",
       "count    168.000000\n",
       "mean    6042.964286\n",
       "std     9341.145784\n",
       "min        2.000000\n",
       "25%     1999.750000\n",
       "50%     2745.000000\n",
       "75%     5636.750000\n",
       "max    55000.000000"
      ]
     },
     "execution_count": 21,
     "metadata": {},
     "output_type": "execute_result"
    }
   ],
   "source": [
    "drill_cl.describe()"
   ]
  },
  {
   "cell_type": "code",
   "execution_count": 22,
>>>>>>> nikversion
   "metadata": {
    "colab": {},
    "colab_type": "code",
    "id": "iebcrhEEEDId"
   },
   "outputs": [],
   "source": [
<<<<<<< HEAD
    "drill_z = np.abs(stats.zscore(drilldf['Price']))\n",
    "glove_z = np.abs(stats.zscore(glovedf.loc[glovedf['Unit']=='Pair']['Price']))\n",
    "kurta_z = np.abs(stats.zscore(kurtadf.loc[((kurtadf['Unit']=='Piece') | (kurtadf['Unit']=='Piece(s)'))]['Price']))"
=======
    "drill_z = np.abs(stats.zscore(drill_cl['Price']))\n",
    "glove_z = np.abs(stats.zscore(glove_cl['Price']))\n",
    "kurta_z = np.abs(stats.zscore(kurta_cl['Price']))"
>>>>>>> nikversion
   ]
  },
  {
   "cell_type": "markdown",
   "metadata": {
    "colab_type": "text",
    "id": "YPxPlQ3GtSRL"
   },
   "source": [
    "After obtaing z-score we are not considering all entries whse z-score is greater than 3 or less than -3 and also we are considering only some units values as unit conversion is not as indicative as the sugar example given."
   ]
  },
  {
   "cell_type": "code",
<<<<<<< HEAD
   "execution_count": 0,
=======
   "execution_count": 23,
>>>>>>> nikversion
   "metadata": {
    "colab": {},
    "colab_type": "code",
    "id": "I-o75iBmEe2_"
   },
   "outputs": [],
   "source": [
<<<<<<< HEAD
    "drill_ol=drilldf[(drill_z < 3)]\n",
    "npa=drilldf[(drill_z < 3)]['Price']\n",
    "npa1=glovedf.loc[glovedf['Unit']=='Pair'][(glove_z < 3)]['Price']\n",
    "npa2=kurtadf.loc[((kurtadf['Unit']=='Piece') | (kurtadf['Unit']=='Piece(s)'))][(kurta_z < 3)]['Price'][:-1]"
=======
    "npa=drill_cl[(drill_z < 3)]['Price']\n",
    "npa1=glove_cl[(glove_z < 3)]['Price']\n",
    "npa2=kurta_cl[(kurta_z < 3)]['Price'][:-1]"
>>>>>>> nikversion
   ]
  },
  {
   "cell_type": "markdown",
   "metadata": {
    "colab_type": "text",
    "id": "SQXO07qSg6Na"
   },
   "source": [
    "The following 3 cells describe the data taken for consideration"
   ]
  },
  {
   "cell_type": "code",
<<<<<<< HEAD
   "execution_count": 32,
=======
   "execution_count": 24,
>>>>>>> nikversion
   "metadata": {
    "colab": {
     "base_uri": "https://localhost:8080/",
     "height": 297
    },
    "colab_type": "code",
    "id": "Qc9raGLAgckP",
<<<<<<< HEAD
    "outputId": "20749e70-d90b-4a0a-8b72-967b3828f59f"
=======
    "outputId": "e5628428-918d-4900-8dca-0165a7126be5"
>>>>>>> nikversion
   },
   "outputs": [
    {
     "data": {
      "text/html": [
       "<div>\n",
       "<style scoped>\n",
       "    .dataframe tbody tr th:only-of-type {\n",
       "        vertical-align: middle;\n",
       "    }\n",
       "\n",
       "    .dataframe tbody tr th {\n",
       "        vertical-align: top;\n",
       "    }\n",
       "\n",
       "    .dataframe thead th {\n",
       "        text-align: right;\n",
       "    }\n",
       "</style>\n",
       "<table border=\"1\" class=\"dataframe\">\n",
       "  <thead>\n",
       "    <tr style=\"text-align: right;\">\n",
       "      <th></th>\n",
       "      <th>Price</th>\n",
       "    </tr>\n",
       "  </thead>\n",
       "  <tbody>\n",
       "    <tr>\n",
       "      <th>count</th>\n",
<<<<<<< HEAD
       "      <td>238.000000</td>\n",
       "    </tr>\n",
       "    <tr>\n",
       "      <th>mean</th>\n",
       "      <td>5106.016807</td>\n",
       "    </tr>\n",
       "    <tr>\n",
       "      <th>std</th>\n",
       "      <td>5777.683116</td>\n",
=======
       "      <td>161.000000</td>\n",
       "    </tr>\n",
       "    <tr>\n",
       "      <th>mean</th>\n",
       "      <td>4363.602484</td>\n",
       "    </tr>\n",
       "    <tr>\n",
       "      <th>std</th>\n",
       "      <td>4399.815752</td>\n",
>>>>>>> nikversion
       "    </tr>\n",
       "    <tr>\n",
       "      <th>min</th>\n",
       "      <td>2.000000</td>\n",
       "    </tr>\n",
       "    <tr>\n",
       "      <th>25%</th>\n",
<<<<<<< HEAD
       "      <td>2100.000000</td>\n",
       "    </tr>\n",
       "    <tr>\n",
       "      <th>50%</th>\n",
       "      <td>2954.000000</td>\n",
       "    </tr>\n",
       "    <tr>\n",
       "      <th>75%</th>\n",
       "      <td>5638.500000</td>\n",
       "    </tr>\n",
       "    <tr>\n",
       "      <th>max</th>\n",
       "      <td>35000.000000</td>\n",
=======
       "      <td>1906.000000</td>\n",
       "    </tr>\n",
       "    <tr>\n",
       "      <th>50%</th>\n",
       "      <td>2699.000000</td>\n",
       "    </tr>\n",
       "    <tr>\n",
       "      <th>75%</th>\n",
       "      <td>5200.000000</td>\n",
       "    </tr>\n",
       "    <tr>\n",
       "      <th>max</th>\n",
       "      <td>28000.000000</td>\n",
>>>>>>> nikversion
       "    </tr>\n",
       "  </tbody>\n",
       "</table>\n",
       "</div>"
      ],
      "text/plain": [
       "              Price\n",
<<<<<<< HEAD
       "count    238.000000\n",
       "mean    5106.016807\n",
       "std     5777.683116\n",
       "min        2.000000\n",
       "25%     2100.000000\n",
       "50%     2954.000000\n",
       "75%     5638.500000\n",
       "max    35000.000000"
      ]
     },
     "execution_count": 32,
     "metadata": {
      "tags": []
     },
=======
       "count    161.000000\n",
       "mean    4363.602484\n",
       "std     4399.815752\n",
       "min        2.000000\n",
       "25%     1906.000000\n",
       "50%     2699.000000\n",
       "75%     5200.000000\n",
       "max    28000.000000"
      ]
     },
     "execution_count": 24,
     "metadata": {},
>>>>>>> nikversion
     "output_type": "execute_result"
    }
   ],
   "source": [
<<<<<<< HEAD
    "drilldf[(drill_z < 3)].describe()"
=======
    "drill_cl[(drill_z < 3)].describe()"
>>>>>>> nikversion
   ]
  },
  {
   "cell_type": "code",
<<<<<<< HEAD
   "execution_count": 31,
=======
   "execution_count": 25,
>>>>>>> nikversion
   "metadata": {
    "colab": {
     "base_uri": "https://localhost:8080/",
     "height": 297
    },
    "colab_type": "code",
    "id": "pF0IYXASgUee",
<<<<<<< HEAD
    "outputId": "b105ae20-a767-474c-ed3b-959c976a86a8"
=======
    "outputId": "de63f710-5aeb-4065-b0a5-22388e139e1d"
>>>>>>> nikversion
   },
   "outputs": [
    {
     "data": {
      "text/html": [
       "<div>\n",
       "<style scoped>\n",
       "    .dataframe tbody tr th:only-of-type {\n",
       "        vertical-align: middle;\n",
       "    }\n",
       "\n",
       "    .dataframe tbody tr th {\n",
       "        vertical-align: top;\n",
       "    }\n",
       "\n",
       "    .dataframe thead th {\n",
       "        text-align: right;\n",
       "    }\n",
       "</style>\n",
       "<table border=\"1\" class=\"dataframe\">\n",
       "  <thead>\n",
       "    <tr style=\"text-align: right;\">\n",
       "      <th></th>\n",
       "      <th>Price</th>\n",
       "    </tr>\n",
       "  </thead>\n",
       "  <tbody>\n",
       "    <tr>\n",
       "      <th>count</th>\n",
<<<<<<< HEAD
       "      <td>112.000000</td>\n",
       "    </tr>\n",
       "    <tr>\n",
       "      <th>mean</th>\n",
       "      <td>100.348214</td>\n",
       "    </tr>\n",
       "    <tr>\n",
       "      <th>std</th>\n",
       "      <td>64.894469</td>\n",
=======
       "      <td>116.000000</td>\n",
       "    </tr>\n",
       "    <tr>\n",
       "      <th>mean</th>\n",
       "      <td>102.922414</td>\n",
       "    </tr>\n",
       "    <tr>\n",
       "      <th>std</th>\n",
       "      <td>68.288156</td>\n",
>>>>>>> nikversion
       "    </tr>\n",
       "    <tr>\n",
       "      <th>min</th>\n",
       "      <td>10.000000</td>\n",
       "    </tr>\n",
       "    <tr>\n",
       "      <th>25%</th>\n",
<<<<<<< HEAD
       "      <td>48.750000</td>\n",
=======
       "      <td>50.000000</td>\n",
>>>>>>> nikversion
       "    </tr>\n",
       "    <tr>\n",
       "      <th>50%</th>\n",
       "      <td>80.000000</td>\n",
       "    </tr>\n",
       "    <tr>\n",
       "      <th>75%</th>\n",
<<<<<<< HEAD
       "      <td>170.000000</td>\n",
       "    </tr>\n",
       "    <tr>\n",
       "      <th>max</th>\n",
       "      <td>250.000000</td>\n",
=======
       "      <td>171.250000</td>\n",
       "    </tr>\n",
       "    <tr>\n",
       "      <th>max</th>\n",
       "      <td>350.000000</td>\n",
>>>>>>> nikversion
       "    </tr>\n",
       "  </tbody>\n",
       "</table>\n",
       "</div>"
      ],
      "text/plain": [
       "            Price\n",
<<<<<<< HEAD
       "count  112.000000\n",
       "mean   100.348214\n",
       "std     64.894469\n",
       "min     10.000000\n",
       "25%     48.750000\n",
       "50%     80.000000\n",
       "75%    170.000000\n",
       "max    250.000000"
      ]
     },
     "execution_count": 31,
     "metadata": {
      "tags": []
     },
=======
       "count  116.000000\n",
       "mean   102.922414\n",
       "std     68.288156\n",
       "min     10.000000\n",
       "25%     50.000000\n",
       "50%     80.000000\n",
       "75%    171.250000\n",
       "max    350.000000"
      ]
     },
     "execution_count": 25,
     "metadata": {},
>>>>>>> nikversion
     "output_type": "execute_result"
    }
   ],
   "source": [
<<<<<<< HEAD
    "glovedf.loc[glovedf['Unit']=='Pair'][(glove_z < 3)].describe()"
=======
    "glove_cl[(glove_z < 3)].describe()"
>>>>>>> nikversion
   ]
  },
  {
   "cell_type": "code",
<<<<<<< HEAD
   "execution_count": 12,
=======
   "execution_count": 26,
>>>>>>> nikversion
   "metadata": {
    "colab": {
     "base_uri": "https://localhost:8080/",
     "height": 297
    },
    "colab_type": "code",
    "id": "7FXyP-a689Mv",
<<<<<<< HEAD
    "outputId": "bf32eed3-5a24-4ae4-b42f-bdfe0a019bee"
=======
    "outputId": "b09299be-8275-48cb-a521-f24775573f2c"
>>>>>>> nikversion
   },
   "outputs": [
    {
     "data": {
      "text/html": [
       "<div>\n",
       "<style scoped>\n",
       "    .dataframe tbody tr th:only-of-type {\n",
       "        vertical-align: middle;\n",
       "    }\n",
       "\n",
       "    .dataframe tbody tr th {\n",
       "        vertical-align: top;\n",
       "    }\n",
       "\n",
       "    .dataframe thead th {\n",
       "        text-align: right;\n",
       "    }\n",
       "</style>\n",
       "<table border=\"1\" class=\"dataframe\">\n",
       "  <thead>\n",
       "    <tr style=\"text-align: right;\">\n",
       "      <th></th>\n",
       "      <th>Price</th>\n",
       "    </tr>\n",
       "  </thead>\n",
       "  <tbody>\n",
       "    <tr>\n",
       "      <th>count</th>\n",
<<<<<<< HEAD
       "      <td>3821.000000</td>\n",
       "    </tr>\n",
       "    <tr>\n",
       "      <th>mean</th>\n",
       "      <td>696.981942</td>\n",
       "    </tr>\n",
       "    <tr>\n",
       "      <th>std</th>\n",
       "      <td>675.809564</td>\n",
=======
       "      <td>4013.000000</td>\n",
       "    </tr>\n",
       "    <tr>\n",
       "      <th>mean</th>\n",
       "      <td>698.637179</td>\n",
       "    </tr>\n",
       "    <tr>\n",
       "      <th>std</th>\n",
       "      <td>681.340749</td>\n",
>>>>>>> nikversion
       "    </tr>\n",
       "    <tr>\n",
       "      <th>min</th>\n",
       "      <td>1.000000</td>\n",
       "    </tr>\n",
       "    <tr>\n",
       "      <th>25%</th>\n",
       "      <td>325.000000</td>\n",
       "    </tr>\n",
       "    <tr>\n",
       "      <th>50%</th>\n",
       "      <td>500.000000</td>\n",
       "    </tr>\n",
       "    <tr>\n",
       "      <th>75%</th>\n",
       "      <td>800.000000</td>\n",
       "    </tr>\n",
       "    <tr>\n",
       "      <th>max</th>\n",
       "      <td>6589.000000</td>\n",
       "    </tr>\n",
       "  </tbody>\n",
       "</table>\n",
       "</div>"
      ],
      "text/plain": [
       "             Price\n",
<<<<<<< HEAD
       "count  3821.000000\n",
       "mean    696.981942\n",
       "std     675.809564\n",
=======
       "count  4013.000000\n",
       "mean    698.637179\n",
       "std     681.340749\n",
>>>>>>> nikversion
       "min       1.000000\n",
       "25%     325.000000\n",
       "50%     500.000000\n",
       "75%     800.000000\n",
       "max    6589.000000"
      ]
     },
<<<<<<< HEAD
     "execution_count": 12,
     "metadata": {
      "tags": []
     },
=======
     "execution_count": 26,
     "metadata": {},
>>>>>>> nikversion
     "output_type": "execute_result"
    }
   ],
   "source": [
<<<<<<< HEAD
    "kurtadf.loc[((kurtadf['Unit']=='Piece') | (kurtadf['Unit']=='Piece(s)'))][(kurta_z < 3)].describe()"
=======
    "kurta_cl[(kurta_z < 3)].describe()"
>>>>>>> nikversion
   ]
  },
  {
   "cell_type": "markdown",
   "metadata": {
    "colab_type": "text",
    "id": "NG_Ijss11-As"
   },
   "source": [
    "The following cell is used to store standard deviation which is very important to calculate the bandwidth in later part"
   ]
  },
  {
   "cell_type": "code",
<<<<<<< HEAD
   "execution_count": 13,
=======
   "execution_count": 27,
>>>>>>> nikversion
   "metadata": {
    "colab": {
     "base_uri": "https://localhost:8080/",
     "height": 34
    },
    "colab_type": "code",
    "id": "PCtYTrCoF8Gh",
<<<<<<< HEAD
    "outputId": "96739a0b-8e68-4dc4-8ef4-90daee8f56d5"
=======
    "outputId": "0a5b8e5f-18d2-41af-9cd5-9a872a2af7a9"
>>>>>>> nikversion
   },
   "outputs": [
    {
     "name": "stdout",
     "output_type": "stream",
     "text": [
<<<<<<< HEAD
      "5765.5323498379985 64.60411168657322 669.0502683105965\n"
=======
      "4386.130444567741 67.99317294101957 674.9628964771468\n"
>>>>>>> nikversion
     ]
    }
   ],
   "source": [
    "stdev=np.std(npa)\n",
    "stdev1=np.std(npa1)\n",
    "stdev2=np.std(npa2)\n",
    "print(stdev,stdev1,stdev2)"
   ]
  },
  {
   "cell_type": "markdown",
   "metadata": {
    "colab_type": "text",
    "id": "jh2vYAYr2g1S"
   },
   "source": [
<<<<<<< HEAD
    "# Kernel Density estimation method for calculation of Probabilty Disribution Function\n",
    "we are using probability distribution function for find ing require range as pdf is more suitable for finding relationship in general population.\n",
    "\n",
    "kernel Density Estimation is useful method for calculating pdf from discret samples.\n",
=======
    "## Kernel Density Estimation method for calculation of Probabilty Disribution Function\n",
    "We are using probability distribution function for find ing require range as pdf is more suitable for finding relationship in general population.\n",
    "\n",
    "kernel Density Estimation is useful method for calculating pdf from discrete samples.\n",
>>>>>>> nikversion
    "\n"
   ]
  },
  {
   "cell_type": "code",
<<<<<<< HEAD
   "execution_count": 0,
=======
   "execution_count": 28,
>>>>>>> nikversion
   "metadata": {
    "colab": {},
    "colab_type": "code",
    "id": "nRb0nWC4Ee3I"
   },
   "outputs": [],
   "source": [
    "from scipy.stats import gaussian_kde\n",
    "def kde_scipy(x, x_grid, bandwidth, **kwargs):\n",
    "    \"\"\"Kernel Density Estimation with Scipy\"\"\"\n",
    "    # Note that scipy weights its bandwidth by the covariance of the\n",
    "    # input data.  To make the results comparable to the other methods,\n",
    "    # we divide the bandwidth by the sample standard deviation here.\n",
    "    kde = gaussian_kde(x, bw_method=bandwidth / x.std(ddof=1), **kwargs)\n",
    "    return kde.evaluate(x_grid)"
   ]
  },
  {
   "cell_type": "code",
<<<<<<< HEAD
   "execution_count": 41,
=======
   "execution_count": 29,
>>>>>>> nikversion
   "metadata": {
    "colab": {
     "base_uri": "https://localhost:8080/",
     "height": 295
    },
    "colab_type": "code",
    "id": "PBAlRD6kEe3K",
<<<<<<< HEAD
    "outputId": "126ac20a-ca3f-42b1-b92a-338a246f4386"
=======
    "outputId": "553d68a6-42f5-4993-de1d-09acbbb7d6e5"
>>>>>>> nikversion
   },
   "outputs": [
    {
     "data": {
<<<<<<< HEAD
      "image/png": "iVBORw0KGgoAAAANSUhEUgAAAZIAAAEWCAYAAABMoxE0AAAABHNCSVQICAgIfAhkiAAAAAlwSFlz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\nm/bphwAAAABJRU5ErkJggg==\n",
=======
      "image/png": "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\n",
>>>>>>> nikversion
      "text/plain": [
       "<Figure size 432x288 with 1 Axes>"
      ]
     },
<<<<<<< HEAD
     "metadata": {
      "tags": []
     },
=======
     "metadata": {},
>>>>>>> nikversion
     "output_type": "display_data"
    }
   ],
   "source": [
    "y_grid=np.linspace(np.amin(npa)-(np.amax(npa)-np.amin(npa))*0.4,np.amax(npa)+(np.amax(npa)-np.amin(npa))*0.4,10000)\n",
    "ideal=1.06*(np.std(npa))*((len(npa)**(-1/5)))\n",
    "pdf = kde_scipy(npa, y_grid, bandwidth=ideal)\n",
    "plt.plot(y_grid, pdf, color='blue', alpha=1, lw=1)\n",
    "plt.title('PDF for drill')\n",
    "plt.xlabel('Price')\n",
    "plt.show()"
   ]
  },
  {
   "cell_type": "code",
<<<<<<< HEAD
   "execution_count": 42,
=======
   "execution_count": 30,
>>>>>>> nikversion
   "metadata": {
    "colab": {
     "base_uri": "https://localhost:8080/",
     "height": 295
    },
    "colab_type": "code",
    "id": "TzAdVqipNti5",
<<<<<<< HEAD
    "outputId": "248ccde0-d95d-4c58-e676-90e57df87e41"
=======
    "outputId": "c83c103e-01f7-4f47-b033-7a08812dee06"
>>>>>>> nikversion
   },
   "outputs": [
    {
     "data": {
<<<<<<< HEAD
      "image/png": "iVBORw0KGgoAAAANSUhEUgAAAYQAAAEWCAYAAABmE+CbAAAABHNCSVQICAgIfAhkiAAAAAlwSFlz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\n",
=======
      "image/png": "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\n",
>>>>>>> nikversion
      "text/plain": [
       "<Figure size 432x288 with 1 Axes>"
      ]
     },
<<<<<<< HEAD
     "metadata": {
      "tags": []
     },
=======
     "metadata": {},
>>>>>>> nikversion
     "output_type": "display_data"
    }
   ],
   "source": [
    "y_grid1=np.linspace(np.amin(npa1)-(np.amax(npa1)-np.amin(npa1))*0.4,np.amax(npa1)+(np.amax(npa1)-np.amin(npa1))*0.4,10000)\n",
    "ideal1=1.06*(np.std(npa1))*((len(npa1)**(-1/5)))\n",
    "pdf1 = kde_scipy(npa1, y_grid1, bandwidth=ideal1)\n",
    "plt.plot(y_grid1, pdf1, color='blue', alpha=1, lw=1)\n",
    "plt.title('PDF for gloves')\n",
    "plt.xlabel('Price')\n",
    "plt.show()"
   ]
  },
  {
   "cell_type": "code",
<<<<<<< HEAD
   "execution_count": 43,
=======
   "execution_count": 31,
>>>>>>> nikversion
   "metadata": {
    "colab": {
     "base_uri": "https://localhost:8080/",
     "height": 295
    },
    "colab_type": "code",
    "id": "Y3reUnhuOQh0",
<<<<<<< HEAD
    "outputId": "1fa2f1ae-056f-4950-9e8b-72a795c9d21d"
=======
    "outputId": "bdad55d5-48c6-41cd-dff9-2366bbe359ec"
>>>>>>> nikversion
   },
   "outputs": [
    {
     "data": {
<<<<<<< HEAD
      "image/png": "iVBORw0KGgoAAAANSUhEUgAAAYsAAAEWCAYAAACXGLsWAAAABHNCSVQICAgIfAhkiAAAAAlwSFlz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\nC+syu6EeWwAAAABJRU5ErkJggg==\n",
=======
      "image/png": "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\n",
>>>>>>> nikversion
      "text/plain": [
       "<Figure size 432x288 with 1 Axes>"
      ]
     },
<<<<<<< HEAD
     "metadata": {
      "tags": []
     },
=======
     "metadata": {},
>>>>>>> nikversion
     "output_type": "display_data"
    }
   ],
   "source": [
    "y_grid2=np.linspace(-(np.amax(npa2)-np.amin(npa2))*0.05,np.amax(npa2)*1.05,10000)\n",
    "ideal2=1.06*(np.std(npa2))*((len(npa2)**(-1/5)))\n",
    "pdf2 = kde_scipy(npa2, y_grid2, bandwidth=ideal2)\n",
    "plt.plot(y_grid2, pdf2, color='blue', alpha=1, lw=1)\n",
    "plt.title('PDF for kurta')\n",
    "plt.xlabel('Price')\n",
    "plt.show()"
   ]
  },
  {
   "cell_type": "code",
<<<<<<< HEAD
   "execution_count": 34,
=======
   "execution_count": 32,
>>>>>>> nikversion
   "metadata": {
    "colab": {
     "base_uri": "https://localhost:8080/",
     "height": 34
    },
    "colab_type": "code",
    "id": "yLFkxtdUJNj-",
<<<<<<< HEAD
    "outputId": "61e6220e-35e5-4c4f-a9a9-35689b2f5cdb"
=======
    "outputId": "5788ed61-023e-429b-c209-cf99d900867a"
>>>>>>> nikversion
   },
   "outputs": [
    {
     "name": "stdout",
     "output_type": "stream",
     "text": [
<<<<<<< HEAD
      "0.9998999999999422 0.9998891844204684 0.9998524408904884\n"
=======
      "0.9998999999997891 0.9998999824582104 0.9998531520797174\n"
>>>>>>> nikversion
     ]
    }
   ],
   "source": [
    "w=((np.amax(npa)-np.amin(npa))*1.8)/10000\n",
    "w1=((np.amax(npa1)-np.amin(npa1))*1.8)/10000\n",
    "w2=((np.amax(npa2)-np.amin(npa2))*0.05+np.amax(npa2)*1.05)/10000\n",
    "print(np.sum(pdf)*w,np.sum(pdf1)*w1,np.sum(pdf2)*w2)"
   ]
  },
  {
   "cell_type": "code",
<<<<<<< HEAD
   "execution_count": 20,
=======
   "execution_count": 33,
>>>>>>> nikversion
   "metadata": {
    "colab": {
     "base_uri": "https://localhost:8080/",
     "height": 34
    },
    "colab_type": "code",
    "id": "jHBGAYDqMYTC",
<<<<<<< HEAD
    "outputId": "9732e499-0b66-4589-964c-8529a5ab2470"
=======
    "outputId": "d459d787-2454-47fb-813d-5f93650cc63a"
>>>>>>> nikversion
   },
   "outputs": [
    {
     "name": "stdout",
     "output_type": "stream",
     "text": [
<<<<<<< HEAD
      "9.998999999999414\n"
=======
      "0.9998999999997868\n"
>>>>>>> nikversion
     ]
    }
   ],
   "source": [
    "pdf_area=np.zeros(len(pdf)-1)\n",
    "for a in range(len(pdf_area)):\n",
    "  pdf_area[a]=(pdf[a]+pdf[a+1])*(w/2)\n",
<<<<<<< HEAD
    "print(np.sum(pdf_area))"
=======
    "print(np.sum(pdf_area))\n"
   ]
  },
  {
   "cell_type": "markdown",
   "metadata": {
    "colab_type": "text",
    "id": "js_jelVdRZVy"
   },
   "source": [
    "before going to calculation for area we need to make sure that probability of a product price below Rupees 0 is 0( for PDF calculated above we have finite probability for price less than 0 ) we can usee bayes theorem to re calculate the PDF.\n",
    "\n",
    "\\begin{equation*}\n",
    "PDF(x | Price > 0)   = \\frac{probab(x>0)*PDF(x)}{probab(Price >0)}\n",
    "\\end{equation*}\n",
    "here PDF(x) is the pdf function \n",
    "\n",
    "probab(price >0) is probabilty that price >0 which sum of area under pdf for price >0\n",
    "\n",
    "probab(x>0) is eiter 1 or 0 depending on x"
   ]
  },
  {
   "cell_type": "code",
   "execution_count": 34,
   "metadata": {
    "colab": {
     "base_uri": "https://localhost:8080/",
     "height": 312
    },
    "colab_type": "code",
    "id": "JYvorUBqVTYU",
    "outputId": "f53f0b95-5045-4f90-a0f5-db3718d2fe35"
   },
   "outputs": [
    {
     "name": "stdout",
     "output_type": "stream",
     "text": [
      "1.0\n"
     ]
    },
    {
     "data": {
      "image/png": "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\n",
      "text/plain": [
       "<Figure size 432x288 with 1 Axes>"
      ]
     },
     "metadata": {},
     "output_type": "display_data"
    }
   ],
   "source": [
    "for a in range(len(pdf)):\n",
    "  if y_grid[a] > 0:\n",
    "    break\n",
    "probab=np.sum(pdf[a:])*w\n",
    "for a in range(len(pdf)):\n",
    "  if y_grid[a] > 0:\n",
    "    break\n",
    "  pdf[a]=0\n",
    "pdf=pdf/probab\n",
    "print(np.sum(pdf)*w)\n",
    "plt.plot(y_grid, pdf, color='blue', alpha=1, lw=1)\n",
    "plt.title('PDF for drill')\n",
    "plt.xlabel('Price')\n",
    "plt.show()"
   ]
  },
  {
   "cell_type": "code",
   "execution_count": 35,
   "metadata": {
    "colab": {
     "base_uri": "https://localhost:8080/",
     "height": 295
    },
    "colab_type": "code",
    "id": "PS6R3R45aBfN",
    "outputId": "5fb35b75-ea00-4dc8-a9c4-3376be66a03b"
   },
   "outputs": [
    {
     "data": {
      "image/png": "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\n",
      "text/plain": [
       "<Figure size 432x288 with 1 Axes>"
      ]
     },
     "metadata": {},
     "output_type": "display_data"
    }
   ],
   "source": [
    "for a in range(len(pdf1)):\n",
    "  if y_grid1[a] > 0:\n",
    "    break\n",
    "probab1=np.sum(pdf1[a:])*w1\n",
    "for a in range(len(pdf1)):\n",
    "  if y_grid1[a] > 0:\n",
    "    break\n",
    "  pdf1[a]=0\n",
    "pdf1=pdf1/probab1\n",
    "plt.plot(y_grid1, pdf1, color='blue', alpha=1, lw=1)\n",
    "plt.title('PDF for gloves')\n",
    "plt.xlabel('Price')\n",
    "plt.show()"
   ]
  },
  {
   "cell_type": "code",
   "execution_count": 36,
   "metadata": {
    "colab": {
     "base_uri": "https://localhost:8080/",
     "height": 295
    },
    "colab_type": "code",
    "id": "3ZJm7QQXaBSO",
    "outputId": "2f271f82-752e-4728-ad07-305bfc5e6afc"
   },
   "outputs": [
    {
     "data": {
      "image/png": "iVBORw0KGgoAAAANSUhEUgAAAYsAAAEWCAYAAACXGLsWAAAABHNCSVQICAgIfAhkiAAAAAlwSFlzAAALEgAACxIB0t1+/AAAADl0RVh0U29mdHdhcmUAbWF0cGxvdGxpYiB2ZXJzaW9uIDIuMi4yLCBodHRwOi8vbWF0cGxvdGxpYi5vcmcvhp/UCwAAIABJREFUeJzt3Xu4XHV97/H3J9lJuORGLlxyDyYCQanILkKl2IJI8EJ8NGpSW7Hi4TkVvLa1wfp4PFRaqU9Lq4AWC4oeJEQ4aqoooOhRqQYCAhJCYJME2EBIQiBcJPfv+eP3GzNsZu+ZPXtm1uydz+t55tlrfvNbv/Vducxn/9Zas0YRgZmZWV+GFV2AmZm1P4eFmZlV5bAwM7OqHBZmZlaVw8LMzKpyWJiZWVUOC7N+knSEpN9Iek7SRxow3mcl/Z9G1GbWLA4LGxIkrZf0oqTnJT0p6WuSRufXfiZpW35zf1bSHZKWSBpVtv5nJe3M65cen+xlc58EfhYRYyLii63Yv/7IfxZvLLoOG1ocFjaUvC0iRgOvBf4Q+HTZa+dFxBjgMOCvgUXADZJU1ufaiBhd9vjnXrYzE1hVT4GSOupZr+ixzRwWNuRExGPAD4FXVXjthYj4GXAmcCLwlv6MLekW4E+BS/Ls45WSxkn6hqRNkh6W9GlJw3L/90u6VdLFkrYAn60y/ghJ10i6XtJISV+X9Lmy1/9EUnfZ8/WS/k7SPcALkq4BZgD/VT47kvRtSRskbZX0c0lH92e/zRwWNuRImg68GfhNb30i4hFgJfDH/Rk7Ik4BfkGaqYyOiAeALwHjgMOBNwDvA/6ybLXXAWuBg4EL+6h7f+C7wHbg3RGxo8ayFpNCb3xELAYeIc+yymZHPwTm5hruBK6ucWwzADxttaHku5J2AVuBHwD/WKX/48CEsufvlvTWsufzIuLxvgaQNBx4D3BsRDwHPCfpX4C/AK4obScivpSXd/Uy1FjgR8DdwEejfzdt+2JEPNpXh4i4sqzmzwJPSxoXEVv7sR3bhzksbCh5e0T8uB/9pwL/XfZ8WUT8eT+3OQkYCTxc1vZwHrukzzfy7ARgBLC4n0FRdfwcaBcC7wImA3vyS5NIwWpWlQ9D2T4pH6o6jnRIaSA2AztJJ71LZgCPlT2v5c3/JuCfgJ9IOqSs/QXggLLnh1ZYt+f4PZ//GbAAeCPpcNms3C7MauSwsH2KpAMkvQH4HnAbcMNAxouI3cAy4EJJYyTNBD4B9PtzE/n8wrdIgTEpN98FvFnSBEmHAh+rYagnSedPSsaQzoM8RQqeaofnzF7GYWH7ikskPUd6I/034HpgfkTs6Xu1mnyYNANYC/yS9IZ/ZZ9r9CIi/oF0kvvHkiYA3ySdx1hPmn1cW8Mw/wR8WtIzkv4G+Abp0NhjwH3Ar+upzfZt8pcfmZlZNZ5ZmJlZVQ4LMzOrymFhZmZVOSzMzKyqIfGhvEmTJsWsWbOKLsPMbFC54447NkfE5Fr6DomwmDVrFitXriy6DDOzQUXSw9V7JT4MZWZmVTkszMysKoeFmZlV5bAwM7OqHBZmZlaVw8LMzKpyWJiZWVUOi4Js2QKrVxddhZlZbRwWBdiwAV7zGjjpJPjqV4uuxsysOodFAT73OVi4EG69FZYsga3+FmQza3MOixbbtg2+9S34m7+BI4+EN74RvvnNoqsyM+ubw6LFbroJjjkGpkxJz886C5YtK7YmM7NqHBYtdvPN8Na37n1+yilw993w1FPF1WRmVo3DosV+8Qv44z/e+3y//eDkk+HHPy6uJjOzahwWLbR1K3R1wbHHvrT9pJPSyW4zs3blsGihFSvguONg5MiXtjsszKzdOSxa6Le/TZ+v6Om44+D+++H551tfk5lZLRwWLXTvvfCqV728fb/94Kij4J57Wl+TmVktHBYt1FtYAPzBH6SroszM2pHDokX27IH77oOjj678usPCzNpZTWEhab6kNZK6JC2p8PooSdfm11dImlX22vm5fY2k08var5S0UdK9Pcb6gqT7Jd0j6TuSxte/e+1j3TqYNAnGjq38usPCzNpZ1bCQNBy4FDgDmAcsljSvR7ezgacjYg5wMXBRXncesAg4GpgPXJbHA/h6buvpZuBVEXEM8ABwfj/3qS098AAccUTvrx9zTDoBvmdP62oyM6tVLTOL44GuiFgbETuApcCCHn0WAFfl5euAUyUpty+NiO0RsQ7oyuMRET8HtvTcWETcFBG78tNfA9P6uU9t6aGH4BWv6P31gw6C8ePh4YdbV5OZWa1qCYupwKNlz7tzW8U++Y1+KzCxxnX78gHgh/3o37bWroXDD++7zxFHwJo1ranHzKw/agkLVWiLGvvUsm7ljUp/D+wCru7l9XMkrZS0ctOmTbUMWSiHhZkNZrWERTcwvez5NODx3vpI6gDGkQ4x1bLuy0g6C3gr8N6IqBguEXF5RHRGROfkyZNr2I1iVTsMBSksHnigNfWYmfVHLWFxOzBX0mxJI0knrJf36LMcOCsvLwRuyW/yy4FF+Wqp2cBc4La+NiZpPvB3wJkR8bvad6V9RaSZxezZfffzzMLM2lXVsMjnIM4DbgRWA8siYpWkCySdmbtdAUyU1AV8AliS110FLAPuA34EnBsRuwEkXQP8CjhCUreks/NYlwBjgJsl3SXpKw3a18Js3Aj77w/jxvXdz2FhZu1KvRzlGVQ6Oztj5cqVRZfRq1/9Cj76UbitzzkV7N4No0fD5s1w4IGtqc3M9l2S7oiIzlr6+hPcLfDwwzBjRvV+w4en8xoPPtj8mszM+sNh0QKPPQbTavy0yOGHp/MbZmbtxGHRAv0Ni3XrmluPmVl/OSxaoLsbptb4UcTZsx0WZtZ+HBYt0J+ZhcPCzNqRw6IFPLMws8HOYdFke/bAhg0wZUpt/WfPhvXr0wf5zMzahcOiyTZtSh/G22+/2vqPHp0+Y7FhQ3PrMjPrD4dFk/XnEFSJr4gys3bjsGiy/pzcLvF5CzNrNw6LJnvssf7PLBwWZtZuHBZNVk9YzJqVTnKbmbULh0WTbdgAhx7av3WmT4dHH63ez8ysVRwWTfbkk3DIIf1bZ8YMh4WZtReHRZM9+SQcfHD/1inNLPxZCzNrFw6LJtu4sf8zi3HjQIKtW5tTk5lZfzksmiiivsNQkGYXjzzS+JrMzOrhsGii556Djg444ID+r+uT3GbWThwWTVTvrAJ8ktvM2ovDoonqObld4pmFmbUTh0UT1XNyu8RhYWbtxGHRRAM5DOUT3GbWTmoKC0nzJa2R1CVpSYXXR0m6Nr++QtKsstfOz+1rJJ1e1n6lpI2S7u0x1gRJN0t6MP88qP7dK5bPWZjZUFE1LCQNBy4FzgDmAYslzevR7Wzg6YiYA1wMXJTXnQcsAo4G5gOX5fEAvp7beloC/CQi5gI/yc8HpYGcs5g2Ld1Xas+extZkZlaPWmYWxwNdEbE2InYAS4EFPfosAK7Ky9cBp0pSbl8aEdsjYh3QlccjIn4ObKmwvfKxrgLe3o/9aSsDmVnsvz+MGZO+PMnMrGi1hMVUoPyASHduq9gnInYBW4GJNa7b0yER8UQe6wmg4u/mks6RtFLSyk1t+o46kLAAn+Q2s/ZRS1ioQlvPuxb11qeWdesSEZdHRGdEdE6ePLkRQzbcQK6GgnTewie5zawd1BIW3cD0sufTgMd76yOpAxhHOsRUy7o9PSnpsDzWYcDGGmpsS55ZmNlQUUtY3A7MlTRb0kjSCevlPfosB87KywuBWyIicvuifLXUbGAucFuV7ZWPdRbwvRpqbDsvvgjbt8PYsfWPMX16+g5vM7OiVQ2LfA7iPOBGYDWwLCJWSbpA0pm52xXAREldwCfIVzBFxCpgGXAf8CPg3IjYDSDpGuBXwBGSuiWdncf6PHCapAeB0/LzQWfzZpg8Od09tl7TpnlmYWbtoaOWThFxA3BDj7bPlC1vA97Vy7oXAhdWaF/cS/+ngFNrqaudPfUUTJw4sDF8GMrM2oU/wd0kmzfDpEkDG8OHocysXTgsmqQRM4spU9J3eO/e3ZiazMzq5bBokkbMLEaOhAkTUmCYmRXJYdEkjQgLSCe5fSjKzIrmsGiSRhyGAp/kNrP24LBokkbNLBwWZtYOHBZN0qiZhQ9DmVk7cFg0iWcWZjaUOCyaxOcszGwocVg0ia+GMrOhxGHRBNu2wc6dMHr0wMeaMiXdvXbXroGPZWZWL4dFE5QOQQ3kJoIlI0akGxI+8cTAxzIzq5fDogkadQiqxIeizKxoDosmaNTJ7RKf5DazojksmqDRMwuHhZkVzWHRBI2eWfgwlJkVzWHRBJ5ZmNlQ47BoAoeFmQ01DosmaMZhKIeFmRXJYdEEjZ5ZHHZYGnPnzsaNaWbWHw6LJmj0zKKjAw45BB5/vHFjmpn1R01hIWm+pDWSuiQtqfD6KEnX5tdXSJpV9tr5uX2NpNOrjSnpVEl3SrpL0i8lzRnYLrZeo2cW4ENRZlasqmEhaThwKXAGMA9YLGlej25nA09HxBzgYuCivO48YBFwNDAfuEzS8Cpjfhl4b0S8BvgW8OmB7WLrNXpmAekkty+fNbOi1DKzOB7oioi1EbEDWAos6NFnAXBVXr4OOFWScvvSiNgeEeuArjxeX2MGMDYvjwMG1cGX7dvTjQTHjq3etz98RZSZFamjhj5TgfK3qW7gdb31iYhdkrYCE3P7r3usOzUv9zbmB4EbJL0IPAucUKkoSecA5wDMmDGjht1ojUbeRLDctGmwbl1jxzQzq1UtM4tKb3tRY5/+tgN8HHhzREwDvgb8a6WiIuLyiOiMiM7JkydXLLwIzTgEBT4MZWbFqiUsuoHpZc+n8fJDQ7/vI6mDdPhoSx/rVmyXNBn4g4hYkduvBf6opj1pE804uQ0+DGVmxaolLG4H5kqaLWkk6YT18h59lgNn5eWFwC0REbl9Ub5aajYwF7itjzGfBsZJemUe6zRgdf2713rNmln4aigzK1LVcxb5HMR5wI3AcODKiFgl6QJgZUQsB64AvimpizSjWJTXXSVpGXAfsAs4NyJ2A1QaM7f/D+B6SXtI4fGBhu5xkzVrZnHoobBlC+zYASNHNn58M7O+KE0ABrfOzs5YuXJl0WUAcOGF8MIL8I//2PixZ86En/0MZs9u/Nhmtu+RdEdEdNbS15/gbrBmzSzAh6LMrDgOiwZrZlj4iigzK4rDosGadYIbfEWUmRXHYdFgmzc3Lyx8GMrMiuKwaLBmzyx8GMrMiuCwaDAfhjKzochh0UC7dsHzz8P48c0Z34ehzKwoDosG2rIlBcWwJv2pHnIIbN2a7mprZtZKDosGeuqp5l02CymEpkyBxx5r3jbMzCpxWDRQM89XlPhQlJkVwWHRQK0Ii5kz4eGHm7sNM7OeHBYN1IqwOPxwWLu2udswM+vJYdFArQiLV7zCYWFmreewaKBWzSweeqi52zAz68lh0UCeWZjZUOWwaKBWhMWhh8Kzz6YP/5mZtYrDooGaeRPBkmHD0pcfrVvX3O2YmZVzWDRQK2YW4PMWZtZ6DosGalVY+LyFmbWaw6JBItK9oTyzMLOhyGHRIM89ByNHwqhRzd+WZxZm1moOiwZp9k0Ey3lmYWatVlNYSJovaY2kLklLKrw+StK1+fUVkmaVvXZ+bl8j6fRqYyq5UNIDklZL+sjAdrE1WnW+AlJYPPII7NzZmu2ZmVUNC0nDgUuBM4B5wGJJ83p0Oxt4OiLmABcDF+V15wGLgKOB+cBlkoZXGfP9wHTgyIg4Clg6oD1skVaGxahR6Vvzurpasz0zs1pmFscDXRGxNiJ2kN68F/ToswC4Ki9fB5wqSbl9aURsj4h1QFcer68x/wq4ICL2AETExvp3r3VaGRYARx0Fq1e3bntmtm+rJSymAuXfoNCd2yr2iYhdwFZgYh/r9jXmK4D3SFop6YeS5lYqStI5uc/KTZs21bAbzeWwMLOhrJawUIW2qLFPf9sBRgHbIqIT+CpwZaWiIuLyiOiMiM7JkydXLLyVigiL++9v3fbMbN9WS1h0k84hlEwDHu+tj6QOYBywpY91+xqzG7g+L38HOKaGGgvX6rA48kjPLMysdWoJi9uBuZJmSxpJOmG9vEef5cBZeXkhcEtERG5flK+Wmg3MBW6rMuZ3gVPy8huAB+rbtdYqamaxZ0/rtmlm+66Oah0iYpek84AbgeHAlRGxStIFwMqIWA5cAXxTUhdpRrEor7tK0jLgPmAXcG5E7AaoNGbe5OeBqyV9HHge+GDjdrd5WnETwXLjxsHYsdDdDTNmtG67ZrZvqhoWABFxA3BDj7bPlC1vA97Vy7oXAhfWMmZufwZ4Sy11tZNWzyxg70luh4WZNZs/wd0gRYTFMcfA3Xe3dptmtm9yWDRIEWFx7LHwm9+0dptmtm9yWDTAjh2wbVs6h9BKDgszaxWHRQOUZhWq9OmRJjryyHSPKH/Fqpk1m8OiAYo4BAUwYgTMmwf33NP6bZvZvsVh0QCtvmy2nA9FmVkrOCwaYNMmKOqOI699LdxxRzHbNrN9h8OiAYoMixNOgF/9qphtm9m+w2HRAEWGxatfDY89ls6bmJk1i8OiAYoMi44OeN3r4L//u5jtm9m+wWHRAEWGBcDrXw+33lrc9s1s6HNYNIDDwsyGOodFA2zaBAcfXNz2TzwR7roLXnihuBrMbGhzWDRA0TOL0aPhuOPg5z8vrgYzG9ocFgO0Z0+6EmnSpGLreNOb4MYbi63BzIYuh8UAPfNM+s1+xIhi6zj9dLjppmJrMLOhy2ExQEUfgio59thUyyOPFF2JmQ1FDosB2rixPcJi2DA44wxY3vPb0c3MGsBhMUDtMrMAeOc74frri67CzIYih8UAtVNYvOlN6Q60mzYVXYmZDTUOiwFqp7DYf/90ovu73y26EjMbamoKC0nzJa2R1CVpSYXXR0m6Nr++QtKsstfOz+1rJJ3ejzG/JKntvwOuncIC4B3v8KEoM2u8qmEhaThwKXAGMA9YLGlej25nA09HxBzgYuCivO48YBFwNDAfuEzS8GpjSuoExg9w31qi3cLiLW9Jtyz3XWjNrJFqmVkcD3RFxNqI2AEsBRb06LMAuCovXwecKkm5fWlEbI+IdUBXHq/XMXOQfAH45MB2rTXaLSxGj07nLr7znaIrMbOhpJawmAo8Wva8O7dV7BMRu4CtwMQ+1u1rzPOA5RHxRF9FSTpH0kpJKzcVeEa33cIC4D3vgWuvLboKMxtKagkLVWiLGvv0q13SFOBdwJeqFRURl0dEZ0R0Ti7w3frJJ+HQQwvbfEVvfjPcfnv6DIiZWSPUEhbdwPSy59OAx3vrI6kDGAds6WPd3tqPBeYAXZLWAwdI6qpxX1pu927YvLn9ZhYHHJA+oOcT3WbWKLWExe3AXEmzJY0knbDu+Tnh5cBZeXkhcEtERG5flK+Wmg3MBW7rbcyI+EFEHBoRsyJiFvC7fNK8LW3eDAcdVPx9oSrxoSgza6SqYZHPQZwH3AisBpZFxCpJF0g6M3e7ApiYZwGfAJbkdVcBy4D7gB8B50bE7t7GbOyuNd+GDe13CKpk/ny4+254os8zP2ZmtemopVNE3ADc0KPtM2XL20jnGiqteyFwYS1jVugzupb6ivLEE+0bFvvtB297G1x3HXz4w0VXY2aDnT/BPQDtPLMAH4oys8ZxWAxAu4fFaafB6tXw6KPV+5qZ9cVhMQAbNsBhhxVdRe9GjoQFC+Db3y66EjMb7BwWA9DuMwtIh6KWLSu6CjMb7BwWAzAYwuKUU+Chh2D9+qIrMbPBzGExAO18NVTJiBHpTrSeXZjZQDgsBmAwzCzAV0WZ2cA5LOr0u9/Btm0wfhDcSP3kk6G7G7ra9sYpZtbuHBZ1Kt1AUJVuidhmOjpg4ULPLsysfg6LOj3+OEyZUnQVtfNVUWY2EA6LOj36KEyfXr1fuzjppHTjw/vvL7oSMxuMHBZ16u6GadOKrqJ2w4bBu97lQ1FmVh+HRZ0GW1gAvPvdPhRlZvVxWNRpsB2GAjjhBNi6Fe67r+hKzGywcVjUaTDOLIYNS1dF+V5RZtZfDos6DcawgHTewmFhZv3lsKjDzp2waVN733G2NyeeCM88k25dbmZWK4dFHZ54Ag4+OH3YbbDxoSgzq4fDog6D9RBUiQ9FmVl/OSzqMBivhCp34onw9NM+FGVmtXNY1OHZZ2HcuKKrqN+wYekzF1dfXXQlZjZY1BQWkuZLWiOpS9KSCq+PknRtfn2FpFllr52f29dIOr3amJKuzu33SrpS0oiB7WLjRQyOGwj25QMfgK9/HXbvLroSMxsMqoaFpOHApcAZwDxgsaR5PbqdDTwdEXOAi4GL8rrzgEXA0cB84DJJw6uMeTVwJPBqYH/ggwPawyYYCmHxqlfB1Klw441FV2Jmg0EtM4vjga6IWBsRO4ClwIIefRYAV+Xl64BTJSm3L42I7RGxDujK4/U6ZkTcEBlwG9B2p5KHQlgAnH02XHFF0VWY2WBQS1hMBR4te96d2yr2iYhdwFZgYh/rVh0zH376C+BHNdTYUkMlLBYtgp/+NF3dZWbWl1rCotLbYtTYp7/t5S4Dfh4Rv6hYlHSOpJWSVm7atKlSl6YZKmExdiy8//1w8cVFV2Jm7a6WsOgGyi8UnQY83lsfSR3AOGBLH+v2Oaak/wVMBj7RW1ERcXlEdEZE5+TJk2vYjcYZKmEB8PGPw9e+li6lNTPrTS1hcTswV9JsSSNJJ6yX9+izHDgrLy8EbsnnHJYDi/LVUrOBuaTzEL2OKemDwOnA4ojYM7Dda46hFBbTp8Pb3w5f+ELRlZhZO6saFvkcxHnAjcBqYFlErJJ0gaQzc7crgImSukizgSV53VXAMuA+0rmHcyNid29j5rG+AhwC/ErSXZI+06B9bZihFBYA//APcPnlsH590ZWYWbuq6e5GEXEDcEOPts+ULW8D3tXLuhcCF9YyZm4fhHdcGtymToWPfQzOOw/+67+GVhCaWWP4E9x1GGozC4BPfhKefBIuuaToSsysHfm3+DoMxbAYORKuuQZOOglmzYK3va3oisysnXhmUYehGBYAc+akw1Bnnw1f/WraTzMzcFjUZaiGBcAf/iH88pfwxS/C/Plwxx1FV2Rm7cBhUYehHBYAr3wl3HknvOUt8I53wAknpJsO/u53RVdmZkVxWNRhqIcFwIgR8JGPwNq18KlPpS9Lmj4dPvxheOCBoqszs1ZzWNRhXwiLkuHD4cwz4Qc/SLONcePgj/4I/vZvPdMw25c4LOqwL4VFuZkz4XOfg1Wr0s0HX/c6f9ue2b7CYVGHff0qoUMOgW99Cz76UXjDG+CWW4quyMyazWFRh311ZlFOgg9+MJ3LWLw4fUbDzIYufyivTvt6WJS84Q3w4x+nK6eeeAI+0et9gs1sMPPMog6eWbzUq18Nt96avnXvr/8a9rTlvYLNbCAcFnVwWLzc9Onwi1/AbbfBn/85bN9edEVm1kgOizo4LCqbMAFuuikFxcknw4MPFl2RmTWKw6IODove7b9/Oun93vfCiSemS21feKHoqsxsoBwWdXBY9G3YsPTp71//On0mY+ZM+NCH4Pvfh02bfOmx2WDkq6Hq4LCozZw56ZLahx+Gq69ONydcsSL9+U2fvvcxbRrMmAHHHQdHH50+NW5m7cVhUQf/Ztw/M2em+0t96lPpz27rVnjkkfQp8EcfTY9bboHPfz59AdNpp8E735kuxx0zpujqzQwcFnXxzKJ+Eowfnx7HHPPy1598Mh2u+sY34Jxz4JRTYOHC9GVM48a1vl4zS3zOog4Oi+Y55JD05Us33JAOX73jHbBsWTpc9da3wpe/DHfdBbt2FV2p2b7FM4s6OSya76CD4H3vS49nn00zjptvTuc+Hnkkff3rrFkwaRIceGB6HHBAeuy//97lKVPgFa+AqVPTyXcz6z+HRR08s2i9sWPhz/4sPQCeew7Wr4d162DLlnR57gsvpNumb9mSfr74Ymrr7oaHHoKnn04n3Y84Ao48Mj2OOCI9xo59+Tb37EnnV556CjZvTj9Ly88/n77zY9So9CiFU6WfI0bAzp1pNlT+E9LJ/OHD03egT54MBx8MHf5faW2opn+WkuYD/w4MB/4zIj7f4/VRwDeA44CngPdExPr82vnA2cBu4CMRcWNfY0qaDSwFJgB3An8RETsGtpuNFeHfUIs2Zky6zcirX137Oi+8kL64ac0auP/+9B0d//IvqW306DQzGTkyfahw69Y0mznwQJg4Mc1eyn+OGZMCafv29HjxxfQohVT5z507U2CMGJGCoPQTYPfu9NixAzZuTGF08MF7w+yoo9Jj9ux0KG7EiOb8eZpVUzUsJA0HLgVOA7qB2yUtj4j7yrqdDTwdEXMkLQIuAt4jaR6wCDgamAL8WNIr8zq9jXkRcHFELJX0lTz2lxuxs43imcXgdOCBcOyx6VFuz550Yv3FF9Mb/8iR6QT82LGtf3PetQseeyyF2erV8Nvfpg85rl8PGzakIJkwIc1Y9tsvhUwpqLZtS/WXfu7cmfZ57Nh0cUAp7Pp6HHRQ2v+OjjTjaeUvRRGp5u3b059DadbWqkupI/aG95496eeuXenPeOfO9LP06OhIfwflj46Oof2+UMvM4nigKyLWAkhaCiwAysNiAfDZvHwdcIkk5falEbEdWCepK49HpTElrQZOAfLBBq7K4zYlLO68M938rr9WrIAFCxpfjxVj2DA47LCiq0g6OtKlxjNnwumnv/S1UpA880yasWzblt7YS29W++2XHqNGpZ8dHanfs8+mdUqH0EqPdevg9ttf2rZlS3pjLL1RSmmcUniUlns+7+u1YcP2hsCOHb3/3LEjhXMprHbsSPs4fPhL96t8efjwvW/w5Y/Sm31vj0qvl44YlA4NDhuW6hg5Mj1KtY0Ykf5stm3bG9QvvpjWL9VV/rM8eMvHrtZWy2vDhsEll7Tml5pawmIq8GjZ827gdb31iYhdkrYCE3P7r3usOzUvVxpzIvBMROyq0P8lJJ0DnAMwY8aMGnbj5caOhXnz+r/evHlwxhl1bdKsbuVBUqvSLKme/yIRL/0Nu/Qof97bcvnz3bv3vuGOGtX7zxEjXj6Tidj7xlw+cyph3lDCAAAHmElEQVQt79q19w2156P8zbaW14cNG9jMYNeuvYcle9ZYHk6l5f62Vfq5Z0/rZn+1hEWlP76eH0vrrU9v7ZV2r6/+L2+MuBy4HKCzs7Ouj8nNmZMeZvZy0ktPwBdVQ+l8T7t/QLM0kzrwwKIraY5aMqkbmF72fBrweG99JHUA44AtfazbW/tmYHweo7dtmZlZi9USFrcDcyXNljSSdMJ6eY8+y4Gz8vJC4JaIiNy+SNKofJXTXOC23sbM6/w0j0Ee83v1756ZmTVC1cNQ+RzEecCNpMtcr4yIVZIuAFZGxHLgCuCb+QT2FtKbP7nfMtLJ8F3AuRGxG6DSmHmTfwcslfQ54Dd5bDMzK5BiCNwVr7OzM1auXFl0GWZmg4qkOyKis5a+/miZmZlV5bAwM7OqHBZmZlaVw8LMzKoaEie4JW0CHm7xZieRPhcyGAyWWgdLnTB4ah0sdcLgqXWw1AnVa50ZEZNrGWhIhEURJK2s9SqCog2WWgdLnTB4ah0sdcLgqXWw1AmNrdWHoczMrCqHhZmZVeWwqN/lRRfQD4Ol1sFSJwyeWgdLnTB4ah0sdUIDa/U5CzMzq8ozCzMzq8phYWZmVTks6iBpvqQ1krokLSlg+1dK2ijp3rK2CZJulvRg/nlQbpekL+Za75H02rJ1zsr9H5R0VqVtDbDO6ZJ+Kmm1pFWSPtrGte4n6TZJd+da/3duny1pRd7utfmW+uTb7l+ba10haVbZWOfn9jWSTq+8xQHXO1zSbyR9v83rXC/pt5LukrQyt7Xd33/exnhJ10m6P/+bPbHdapV0RP6zLD2elfSxltQZEX7040G6pfpDwOHASOBuYF6LazgZeC1wb1nbPwNL8vIS4KK8/Gbgh6RvITwBWJHbJwBr88+D8vJBDa7zMOC1eXkM8AAwr01rFTA6L48AVuQalgGLcvtXgL/Kyx8CvpKXFwHX5uV5+d/EKGB2/rcyvAn/Bj4BfAv4fn7ernWuByb1aGu7v/+8nauAD+blkcD4dq01b2s4sAGY2Yo6G74DQ/0BnAjcWPb8fOD8AuqYxUvDYg1wWF4+DFiTl/8DWNyzH7AY+I+y9pf0a1LN3wNOa/dagQOAO0nfC78Z6Oj5d0/6LpYT83JH7qee/x7K+zWwvmnAT4BTgO/n7bZdnXnc9bw8LNru7x8YC6wjX/TTzrWWjf0m4NZW1enDUP03FXi07Hl3bivaIRHxBED+eXBu763elu5HPvxxLOk39rasNR/auQvYCNxM+m37mYjYVWG7v68pv74VmNiiWv8N+CSwJz+f2KZ1AgRwk6Q7JJ2T29rx7/9wYBPwtXx47z8lHdimtZYsAq7Jy02v02HRf6rQ1s7XH/dWb8v2Q9Jo4HrgYxHxbF9de6mpJbVGxO6IeA3pN/fjgaP62G4htUp6K7AxIu4ob+5jm0X//b8+Il4LnAGcK+nkPvoWWWsH6dDulyPiWOAF0uGc3hT655rPSZ0JfLta117q6XedDov+6wamlz2fBjxeUC3lnpR0GED+uTG391ZvS/ZD0ghSUFwdEf+3nWstiYhngJ+RjvGOl1T6+uHy7f6+pvz6ONJXCje71tcDZ0paDywlHYr6tzasE4CIeDz/3Ah8hxTC7fj33w10R8SK/Pw6Uni0Y62QwvfOiHgyP296nQ6L/rsdmJuvPhlJmgouL7gmSDWUrmg4i3R+oNT+vnxVxAnA1jxNvRF4k6SD8pUTb8ptDSNJpO9QXx0R/9rmtU6WND4v7w+8EVgN/BRY2EutpX1YCNwS6eDvcmBRvgppNjAXuK1RdUbE+RExLSJmkf7t3RIR7223OgEkHShpTGmZ9Pd2L2349x8RG4BHJR2Rm04F7mvHWrPF7D0EVaqnuXU248TLUH+QrjB4gHRM++8L2P41wBPATtJvCGeTjkP/BHgw/5yQ+wq4NNf6W6CzbJwPAF358ZdNqPMk0tT2HuCu/Hhzm9Z6DPCbXOu9wGdy++GkN9Eu0pR/VG7fLz/vyq8fXjbW3+d9WAOc0cR/B3/C3quh2q7OXNPd+bGq9H+lHf/+8zZeA6zM/wa+S7pKqO1qJV2A8RQwrqyt6XX6dh9mZlaVD0OZmVlVDgszM6vKYWFmZlU5LMzMrCqHhZmZVeWwMOsnSbvzHT/vlfRtSQf00u+G0mc3zAY7Xzpr1k+Sno+I0Xn5auCOKPvQYf4woiJiT29jmA02nlmYDcwvgDmSZil9B8JlpDvWTlf6LodJAJLel79P4G5J38xtkyVdL+n2/Hh9gfth1qeO6l3MrJJ8r6UzgB/lpiNIn4T9UH691O9o0qelXx8RmyVNyP3/Hbg4In4paQbpdguVbl5oVjiHhVn/7Z9vZQ5pZnEFMAV4OCJ+XaH/KcB1EbEZICK25PY3AvNKoQKMlTQmIp5rXulm9XFYmPXfi5FuZf57+Q3/hV76i8q3fx5G+sKhFxtbnlnj+ZyFWfP9BHi3pImQvoM6t98EnFfqJOk1FdY1awsOC7Mmi4hVwIXA/5N0N1C6cuojQGc+8X0f8D+LqtGsGl86a2ZmVXlmYWZmVTkszMysKoeFmZlV5bAwM7OqHBZmZlaVw8LMzKpyWJiZWVX/HwW01XWtHjvDAAAAAElFTkSuQmCC\n",
      "text/plain": [
       "<Figure size 432x288 with 1 Axes>"
      ]
     },
     "metadata": {},
     "output_type": "display_data"
    }
   ],
   "source": [
    "for a in range(len(pdf2)):\n",
    "  if y_grid2[a] > 0:\n",
    "    break\n",
    "probab2=np.sum(pdf2[a:])*w2\n",
    "for a in range(len(pdf2)):\n",
    "  if y_grid2[a] > 0:\n",
    "    break\n",
    "  pdf2[a]=0\n",
    "pdf2=pdf2/probab2\n",
    "plt.plot(y_grid2, pdf2, color='blue', alpha=1, lw=1)\n",
    "plt.title('PDF for kurta')\n",
    "plt.xlabel('Price')\n",
    "plt.show()"
>>>>>>> nikversion
   ]
  },
  {
   "cell_type": "markdown",
   "metadata": {
    "colab_type": "text",
    "id": "2-gcDmLQhisW"
   },
   "source": [
    "# Range calculation from PDF \n",
    "we used 2 methods for calculating a range they are \n",
    "\n",
    "1.   finding the peak and finding a range which covers 50% of the area under pdf and having peak as mean point of that range(it means there is 50% chance for a product to be in that range) this ensures price which has maximum entries lies in that region\n",
    "\n",
    "2.   finding the smallest range which covers majority of the region(we can use range which covers 50% of the region)the advantage with this method is it ensures ranges is minimum.\n",
    "\n"
   ]
  },
  {
   "cell_type": "code",
<<<<<<< HEAD
   "execution_count": 40,
=======
   "execution_count": 37,
>>>>>>> nikversion
   "metadata": {
    "colab": {
     "base_uri": "https://localhost:8080/",
     "height": 51
    },
    "colab_type": "code",
    "id": "00CBOvWMH7WT",
<<<<<<< HEAD
    "outputId": "e9a1ff6f-4565-42c2-a658-3c507d9f3061"
=======
    "outputId": "626b18a2-0034-4b71-c177-15fbf8cf8aca"
>>>>>>> nikversion
   },
   "outputs": [
    {
     "name": "stdout",
     "output_type": "stream",
     "text": [
<<<<<<< HEAD
      "0.5000598877991991 345\n",
      "This is the range obtained for drill  492.0 4839.0\n"
=======
      "0.5000541938213798 330\n",
      "This is the range obtained for drill  711.0 4038.0\n"
>>>>>>> nikversion
     ]
    }
   ],
   "source": [
    "f_peak=argrelextrema(pdf, np.greater)[0][0]\n",
    "for q in range(f_peak):\n",
    "  if np.sum(pdf[f_peak-q:f_peak+q])*w > 0.5:\n",
    "    print(np.sum(pdf[f_peak-q:f_peak+q])*w,q)\n",
    "    break\n",
    "print('This is the range obtained for drill ',np.round((f_peak-q)*w+np.amin(npa)-(np.amax(npa)-np.amin(npa))*0.4),np.round((f_peak+q)*w+np.amin(npa)-(np.amax(npa)-np.amin(npa))*0.4))"
   ]
  },
  {
   "cell_type": "code",
<<<<<<< HEAD
   "execution_count": 39,
=======
   "execution_count": 38,
>>>>>>> nikversion
   "metadata": {
    "colab": {
     "base_uri": "https://localhost:8080/",
     "height": 51
    },
    "colab_type": "code",
    "id": "7mS56QZLQhrN",
<<<<<<< HEAD
    "outputId": "edefdf3d-02e1-4d72-b145-0ba8f0ccbcb9"
=======
    "outputId": "79c73979-c94e-40a2-9b2b-d11c107d8a6b"
>>>>>>> nikversion
   },
   "outputs": [
    {
     "name": "stdout",
     "output_type": "stream",
     "text": [
<<<<<<< HEAD
      "0.5001481762058778 665\n",
      "This is the range obtained for gloves  30.0 116.0\n"
=======
      "0.5002469522162394 460\n",
      "This is the range obtained for gloves  31.0 116.0\n"
>>>>>>> nikversion
     ]
    }
   ],
   "source": [
    "f_peak1=argrelextrema(pdf1, np.greater)[0][0]\n",
    "q=0\n",
    "for q in range(f_peak1):\n",
    "  if np.sum(pdf1[f_peak1-q:f_peak1+2*q])*w1 > 0.5:\n",
    "    print(np.sum(pdf1[f_peak1-q:f_peak1+2*q])*w1,q)\n",
    "    break\n",
    "print('This is the range obtained for gloves ',np.round((f_peak1-q)*w1+np.amin(npa1)-(np.amax(npa1)-np.amin(npa1))*0.4),np.round((f_peak1+2*q)*w1+np.amin(npa1)-(np.amax(npa1)-np.amin(npa1))*0.4))"
   ]
  },
  {
   "cell_type": "code",
<<<<<<< HEAD
   "execution_count": 45,
=======
   "execution_count": 39,
>>>>>>> nikversion
   "metadata": {
    "colab": {
     "base_uri": "https://localhost:8080/",
     "height": 51
    },
    "colab_type": "code",
    "id": "rFq5MSF4QiNI",
<<<<<<< HEAD
    "outputId": "dbe9fcc8-aee3-4e82-91e8-060d5f8cd2d1"
=======
    "outputId": "93c971ad-d206-45cf-b79a-b73e55cc1cb5"
>>>>>>> nikversion
   },
   "outputs": [
    {
     "name": "stdout",
     "output_type": "stream",
     "text": [
<<<<<<< HEAD
      "0.5010971844000225 308\n",
      "This is the range obtained for Kurta  185.0 625.0\n"
=======
      "0.5004857371061543 301\n",
      "This is the range obtained for Kurta  188.0 619.0\n"
>>>>>>> nikversion
     ]
    }
   ],
   "source": [
    "f_peak2=argrelextrema(pdf2, np.greater)[0][0]\n",
    "for q in range(f_peak2):\n",
    "  if np.sum(pdf2[f_peak2-q:f_peak2+q])*w2 > 0.5:\n",
    "    print(np.sum(pdf2[f_peak2-q:f_peak2+q])*w2,q)\n",
    "    break\n",
    "print('This is the range obtained for Kurta ',np.round((f_peak2-q)*w2-(np.amax(npa2)-np.amin(npa2))*0.05),np.round((f_peak2+q)*w2-(np.amax(npa2)-np.amin(npa2))*0.05))"
   ]
  },
  {
   "cell_type": "code",
<<<<<<< HEAD
   "execution_count": 47,
=======
   "execution_count": 40,
>>>>>>> nikversion
   "metadata": {
    "colab": {
     "base_uri": "https://localhost:8080/",
     "height": 51
    },
    "colab_type": "code",
    "id": "43E_-ON6Xgsh",
<<<<<<< HEAD
    "outputId": "819f6730-6475-499d-f434-e00f0a201cd4"
=======
    "outputId": "b9b10934-75b1-4be4-e016-23265c8488aa"
>>>>>>> nikversion
   },
   "outputs": [
    {
     "name": "stdout",
     "output_type": "stream",
     "text": [
<<<<<<< HEAD
      "0.5000016451939738 2316 688\n",
      "This is the range obtained for drill  593.0 4933.0\n"
=======
      "0.5000100077814926 2362 659\n",
      "This is the range obtained for drill  706.0 4033.0\n"
>>>>>>> nikversion
     ]
    }
   ],
   "source": [
    "qq1=len(pdf)\n",
    "for q in range(len(pdf)):\n",
    "  for p in range(len(pdf)-(q+1)):\n",
    "     if np.sum(pdf[p:p+q+1])*w > 0.5:\n",
    "        print(np.sum(pdf[p:p+q+1])*w,p,q)\n",
    "        break\n",
    "  if np.sum(pdf[p:p+q+1])*w > 0.5:\n",
    "    break\n",
    "print('This is the range obtained for drill ',np.round((p)*w+np.amin(npa)-(np.amax(npa)-np.amin(npa))*0.4),np.round((p+q+1)*w+np.amin(npa)-(np.amax(npa)-np.amin(npa))*0.4))  \n",
    "     \n",
    "        "
   ]
  },
  {
   "cell_type": "code",
<<<<<<< HEAD
   "execution_count": 48,
=======
   "execution_count": 41,
>>>>>>> nikversion
   "metadata": {
    "colab": {
     "base_uri": "https://localhost:8080/",
     "height": 51
    },
    "colab_type": "code",
    "id": "iS3Nmo98wL7L",
<<<<<<< HEAD
    "outputId": "0f6ab28c-ab50-46be-a491-a498359c1df5"
   },
   "outputs": [
    {
     "name": "stdout",
     "output_type": "stream",
     "text": [
      "0.5000096568509714 2418 1933\n",
      "This is the range obtained for gloves  18.0 102.0\n"
=======
    "outputId": "930696ca-9608-4156-cd14-c3e5c0abbfe6"
   },
   "outputs": [
    {
     "ename": "KeyboardInterrupt",
     "evalue": "",
     "output_type": "error",
     "traceback": [
      "\u001b[1;31m---------------------------------------------------------------------------\u001b[0m",
      "\u001b[1;31mKeyboardInterrupt\u001b[0m                         Traceback (most recent call last)",
      "\u001b[1;32m<ipython-input-41-54762b2c8b33>\u001b[0m in \u001b[0;36m<module>\u001b[1;34m()\u001b[0m\n\u001b[0;32m      2\u001b[0m \u001b[1;32mfor\u001b[0m \u001b[0mq\u001b[0m \u001b[1;32min\u001b[0m \u001b[0mrange\u001b[0m\u001b[1;33m(\u001b[0m\u001b[0mlen\u001b[0m\u001b[1;33m(\u001b[0m\u001b[0mpdf1\u001b[0m\u001b[1;33m)\u001b[0m\u001b[1;33m)\u001b[0m\u001b[1;33m:\u001b[0m\u001b[1;33m\u001b[0m\u001b[0m\n\u001b[0;32m      3\u001b[0m   \u001b[1;32mfor\u001b[0m \u001b[0mp\u001b[0m \u001b[1;32min\u001b[0m \u001b[0mrange\u001b[0m\u001b[1;33m(\u001b[0m\u001b[0mlen\u001b[0m\u001b[1;33m(\u001b[0m\u001b[0mpdf1\u001b[0m\u001b[1;33m)\u001b[0m\u001b[1;33m-\u001b[0m\u001b[1;33m(\u001b[0m\u001b[0mq\u001b[0m\u001b[1;33m+\u001b[0m\u001b[1;36m1\u001b[0m\u001b[1;33m)\u001b[0m\u001b[1;33m)\u001b[0m\u001b[1;33m:\u001b[0m\u001b[1;33m\u001b[0m\u001b[0m\n\u001b[1;32m----> 4\u001b[1;33m      \u001b[1;32mif\u001b[0m \u001b[0mnp\u001b[0m\u001b[1;33m.\u001b[0m\u001b[0msum\u001b[0m\u001b[1;33m(\u001b[0m\u001b[0mpdf1\u001b[0m\u001b[1;33m[\u001b[0m\u001b[0mp\u001b[0m\u001b[1;33m:\u001b[0m\u001b[0mp\u001b[0m\u001b[1;33m+\u001b[0m\u001b[0mq\u001b[0m\u001b[1;33m+\u001b[0m\u001b[1;36m1\u001b[0m\u001b[1;33m]\u001b[0m\u001b[1;33m)\u001b[0m\u001b[1;33m*\u001b[0m\u001b[0mw1\u001b[0m \u001b[1;33m>\u001b[0m \u001b[1;36m0.75\u001b[0m\u001b[1;33m:\u001b[0m\u001b[1;33m\u001b[0m\u001b[0m\n\u001b[0m\u001b[0;32m      5\u001b[0m         \u001b[0mprint\u001b[0m\u001b[1;33m(\u001b[0m\u001b[0mnp\u001b[0m\u001b[1;33m.\u001b[0m\u001b[0msum\u001b[0m\u001b[1;33m(\u001b[0m\u001b[0mpdf1\u001b[0m\u001b[1;33m[\u001b[0m\u001b[0mp\u001b[0m\u001b[1;33m:\u001b[0m\u001b[0mp\u001b[0m\u001b[1;33m+\u001b[0m\u001b[0mq\u001b[0m\u001b[1;33m+\u001b[0m\u001b[1;36m1\u001b[0m\u001b[1;33m]\u001b[0m\u001b[1;33m)\u001b[0m\u001b[1;33m*\u001b[0m\u001b[0mw1\u001b[0m\u001b[1;33m,\u001b[0m\u001b[0mp\u001b[0m\u001b[1;33m,\u001b[0m\u001b[0mq\u001b[0m\u001b[1;33m)\u001b[0m\u001b[1;33m\u001b[0m\u001b[0m\n\u001b[0;32m      6\u001b[0m         \u001b[1;32mbreak\u001b[0m\u001b[1;33m\u001b[0m\u001b[0m\n",
      "\u001b[1;32m~\\Anaconda3\\lib\\site-packages\\numpy\\core\\fromnumeric.py\u001b[0m in \u001b[0;36msum\u001b[1;34m(a, axis, dtype, out, keepdims)\u001b[0m\n\u001b[0;32m   1880\u001b[0m             \u001b[1;32mreturn\u001b[0m \u001b[0msum\u001b[0m\u001b[1;33m(\u001b[0m\u001b[0maxis\u001b[0m\u001b[1;33m=\u001b[0m\u001b[0maxis\u001b[0m\u001b[1;33m,\u001b[0m \u001b[0mdtype\u001b[0m\u001b[1;33m=\u001b[0m\u001b[0mdtype\u001b[0m\u001b[1;33m,\u001b[0m \u001b[0mout\u001b[0m\u001b[1;33m=\u001b[0m\u001b[0mout\u001b[0m\u001b[1;33m,\u001b[0m \u001b[1;33m**\u001b[0m\u001b[0mkwargs\u001b[0m\u001b[1;33m)\u001b[0m\u001b[1;33m\u001b[0m\u001b[0m\n\u001b[0;32m   1881\u001b[0m     return _methods._sum(a, axis=axis, dtype=dtype,\n\u001b[1;32m-> 1882\u001b[1;33m                          out=out, **kwargs)\n\u001b[0m\u001b[0;32m   1883\u001b[0m \u001b[1;33m\u001b[0m\u001b[0m\n\u001b[0;32m   1884\u001b[0m \u001b[1;33m\u001b[0m\u001b[0m\n",
      "\u001b[1;32m~\\Anaconda3\\lib\\site-packages\\numpy\\core\\_methods.py\u001b[0m in \u001b[0;36m_sum\u001b[1;34m(a, axis, dtype, out, keepdims)\u001b[0m\n\u001b[0;32m     30\u001b[0m \u001b[1;33m\u001b[0m\u001b[0m\n\u001b[0;32m     31\u001b[0m \u001b[1;32mdef\u001b[0m \u001b[0m_sum\u001b[0m\u001b[1;33m(\u001b[0m\u001b[0ma\u001b[0m\u001b[1;33m,\u001b[0m \u001b[0maxis\u001b[0m\u001b[1;33m=\u001b[0m\u001b[1;32mNone\u001b[0m\u001b[1;33m,\u001b[0m \u001b[0mdtype\u001b[0m\u001b[1;33m=\u001b[0m\u001b[1;32mNone\u001b[0m\u001b[1;33m,\u001b[0m \u001b[0mout\u001b[0m\u001b[1;33m=\u001b[0m\u001b[1;32mNone\u001b[0m\u001b[1;33m,\u001b[0m \u001b[0mkeepdims\u001b[0m\u001b[1;33m=\u001b[0m\u001b[1;32mFalse\u001b[0m\u001b[1;33m)\u001b[0m\u001b[1;33m:\u001b[0m\u001b[1;33m\u001b[0m\u001b[0m\n\u001b[1;32m---> 32\u001b[1;33m     \u001b[1;32mreturn\u001b[0m \u001b[0mumr_sum\u001b[0m\u001b[1;33m(\u001b[0m\u001b[0ma\u001b[0m\u001b[1;33m,\u001b[0m \u001b[0maxis\u001b[0m\u001b[1;33m,\u001b[0m \u001b[0mdtype\u001b[0m\u001b[1;33m,\u001b[0m \u001b[0mout\u001b[0m\u001b[1;33m,\u001b[0m \u001b[0mkeepdims\u001b[0m\u001b[1;33m)\u001b[0m\u001b[1;33m\u001b[0m\u001b[0m\n\u001b[0m\u001b[0;32m     33\u001b[0m \u001b[1;33m\u001b[0m\u001b[0m\n\u001b[0;32m     34\u001b[0m \u001b[1;32mdef\u001b[0m \u001b[0m_prod\u001b[0m\u001b[1;33m(\u001b[0m\u001b[0ma\u001b[0m\u001b[1;33m,\u001b[0m \u001b[0maxis\u001b[0m\u001b[1;33m=\u001b[0m\u001b[1;32mNone\u001b[0m\u001b[1;33m,\u001b[0m \u001b[0mdtype\u001b[0m\u001b[1;33m=\u001b[0m\u001b[1;32mNone\u001b[0m\u001b[1;33m,\u001b[0m \u001b[0mout\u001b[0m\u001b[1;33m=\u001b[0m\u001b[1;32mNone\u001b[0m\u001b[1;33m,\u001b[0m \u001b[0mkeepdims\u001b[0m\u001b[1;33m=\u001b[0m\u001b[1;32mFalse\u001b[0m\u001b[1;33m)\u001b[0m\u001b[1;33m:\u001b[0m\u001b[1;33m\u001b[0m\u001b[0m\n",
      "\u001b[1;31mKeyboardInterrupt\u001b[0m: "
>>>>>>> nikversion
     ]
    }
   ],
   "source": [
    "qq2=len(pdf1)\n",
    "for q in range(len(pdf1)):\n",
    "  for p in range(len(pdf1)-(q+1)):\n",
<<<<<<< HEAD
    "     if np.sum(pdf1[p:p+q+1])*w1 > 0.5:\n",
=======
    "     if np.sum(pdf1[p:p+q+1])*w1 > 0.75:\n",
>>>>>>> nikversion
    "        print(np.sum(pdf1[p:p+q+1])*w1,p,q)\n",
    "        break\n",
    "  if np.sum(pdf1[p:p+q+1])*w1 > 0.5:\n",
    "    break\n",
    "print('This is the range obtained for gloves ',np.round((p)*w1+np.amin(npa1)-(np.amax(npa1)-np.amin(npa1))*0.4),np.round((p+q+1)*w1+np.amin(npa1)-(np.amax(npa1)-np.amin(npa1))*0.4))  \n",
    " "
   ]
  },
  {
   "cell_type": "code",
<<<<<<< HEAD
   "execution_count": 50,
=======
   "execution_count": null,
>>>>>>> nikversion
   "metadata": {
    "colab": {
     "base_uri": "https://localhost:8080/",
     "height": 51
    },
    "colab_type": "code",
    "id": "5jp7a2JZ3b9f",
<<<<<<< HEAD
    "outputId": "10986e22-849c-4643-8105-346a109c7f1b"
   },
   "outputs": [
    {
     "name": "stdout",
     "output_type": "stream",
     "text": [
      "0.6000482159633659 652 789\n",
      "This is the range obtained for Kurta  141.0 706.0\n"
     ]
    }
   ],
=======
    "outputId": "ccd507e7-dcb6-493b-efae-6cae59f1c4ae"
   },
   "outputs": [],
>>>>>>> nikversion
   "source": [
    "qq3=len(pdf2)\n",
    "for q in range(len(pdf2)):\n",
    "  for p in range(len(pdf2)-(q+1)):\n",
<<<<<<< HEAD
    "     if np.sum(pdf2[p:p+q+1])*w2 > 0.6:\n",
=======
    "     if np.sum(pdf2[p:p+q+1])*w2 > 0.7:\n",
>>>>>>> nikversion
    "        print(np.sum(pdf2[p:p+q+1])*w2,p,q)\n",
    "        break\n",
    "  if np.sum(pdf2[p:p+q+1])*w2 > 0.6:\n",
    "    break\n",
    "print('This is the range obtained for Kurta ',np.round((p)*w2-(np.amax(npa2)-np.amin(npa2))*0.05),np.round((p+q+1)*w2-(np.amax(npa2)-np.amin(npa2))*0.05))"
   ]
  }
 ],
 "metadata": {
  "colab": {
   "name": "Copy of phase1.ipynb",
   "provenance": [],
   "version": "0.3.2"
  },
  "kernelspec": {
   "display_name": "Python 3",
   "language": "python",
   "name": "python3"
  },
  "language_info": {
   "codemirror_mode": {
    "name": "ipython",
    "version": 3
   },
   "file_extension": ".py",
   "mimetype": "text/x-python",
   "name": "python",
   "nbconvert_exporter": "python",
   "pygments_lexer": "ipython3",
   "version": "3.6.5"
  }
 },
 "nbformat": 4,
 "nbformat_minor": 1
}
