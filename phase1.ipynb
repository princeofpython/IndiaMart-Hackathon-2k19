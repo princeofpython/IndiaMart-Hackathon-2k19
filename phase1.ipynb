{
  "nbformat": 4,
  "nbformat_minor": 0,
  "metadata": {
    "colab": {
      "name": "Copy of phase1.ipynb",
      "version": "0.3.2",
      "provenance": []
    },
    "language_info": {
      "codemirror_mode": {
        "name": "ipython",
        "version": 3
      },
      "file_extension": ".py",
      "mimetype": "text/x-python",
      "name": "python",
      "nbconvert_exporter": "python",
      "pygments_lexer": "ipython3",
      "version": "3.6.5"
    },
    "kernelspec": {
      "display_name": "Python 3",
      "language": "python",
      "name": "python3"
    }
  },
  "cells": [
    {
      "cell_type": "markdown",
      "metadata": {
        "id": "0v9ps2nJa0qC",
        "colab_type": "text"
      },
      "source": [
        "# Phase-1 IndiaMART Hackathon\n",
        "This notebook is a working prototype solution to gauge the appropriate unit wise price range for the 3 categories(Gloves,Kurtas,Drills) based on their units by removing outliers from the data.\n",
        "\n",
        "**Instructions for running this notebook**\n",
        "\n",
        "\n",
        "*   Jupyter notebook is needed to run this notebook if it is not available Please use Colab from google  to run it.\n",
        "*   required libraries to run this notebook are pandas,numpy,seaborn and scipy.\n",
        "*   Incase you are running this notebook please make sure all **.csv** files are uploaded \n",
        "\n",
        "\n",
        "\n",
        "\n",
        "\n",
        "\n",
        "\n",
        "\n",
        "\n"
      ]
    },
    {
      "cell_type": "code",
      "metadata": {
        "id": "YokkO0iBEe2t",
        "colab_type": "code",
        "colab": {}
      },
      "source": [
        "import pandas as pd\n",
        "import matplotlib.pyplot as plt\n",
        "import seaborn as sns\n",
        "import numpy as np\n",
        "from scipy.stats import norm\n",
        "from scipy.signal import argrelextrema\n",
        "from scipy import stats"
      ],
      "execution_count": 0,
      "outputs": []
    },
    {
      "cell_type": "markdown",
      "metadata": {
        "id": "VSxTFtO7idsg",
        "colab_type": "text"
      },
      "source": [
        "we can import the required data either from the folder or our git repository.\n",
        "The given .xlsx file is split into Three parts and and converted to .csv file which is easy to handle."
      ]
    },
    {
      "cell_type": "code",
      "metadata": {
        "id": "V_JxW7kwEe2x",
        "colab_type": "code",
        "colab": {}
      },
      "source": [
        "try:\n",
        "  drilldf = pd.read_csv('./phaseone-drill.csv')\n",
        "  glovedf = pd.read_csv('./phaseone-gloves.csv')\n",
        "  kurtadf = pd.read_csv('./phaseone-kurta.csv')\n",
        "except:\n",
        "  try:\n",
        "    drilldf = pd.read_csv('https://raw.githubusercontent.com/nik299/IndiaMart-Hackathon-2k19/master/phaseone-drill.csv')\n",
        "    glovedf = pd.read_csv('https://raw.githubusercontent.com/nik299/IndiaMart-Hackathon-2k19/master/phaseone-gloves.csv')\n",
        "    kurtadf = pd.read_csv('https://raw.githubusercontent.com/nik299/IndiaMart-Hackathon-2k19/master/phaseone-kurta.csv')\n",
        "  except:\n",
        "    print(\"no file found and no internet connection\")\n"
      ],
      "execution_count": 0,
      "outputs": []
    },
    {
      "cell_type": "markdown",
      "metadata": {
        "id": "daJD4M3eoS6G",
        "colab_type": "text"
      },
      "source": [
        "the following piece of code prints out all unique units of the three item given"
      ]
    },
    {
      "cell_type": "code",
      "metadata": {
        "id": "-dHGmh-5Ee24",
        "colab_type": "code",
        "outputId": "fe327a95-ae89-466d-9efc-e37f2372ebb4",
        "colab": {
          "base_uri": "https://localhost:8080/",
          "height": 289
        }
      },
      "source": [
        "drill_units=drilldf['Unit'].unique()\n",
        "print(drill_units,'drills')\n",
        "glove_units=glovedf['Unit'].unique()\n",
        "print(glove_units,'gloves')\n",
        "kurta_units=kurtadf['Unit'].unique()\n",
        "print(kurta_units,'kurtas')"
      ],
      "execution_count": 3,
      "outputs": [
        {
          "output_type": "stream",
          "text": [
            "['Piece' 'Piece(s)' 'pack' 'unit' 'Number' 'Unit' 'Pack' '1nos' 'Unit(s)'\n",
            " 'kit' 'Set' 'Pc_Onwards' 'ONWARDS' 'Kit'] drills\n",
            "['Pair' 'Piece' 'pack' 'Unit' 'Pack' 'Unit/Onwards' 'Pair(s)' 'unit' 'Set'\n",
            " 'Pieces'] gloves\n",
            "['Piece' 'dollar' 'Packet' 'piece' 'Meter' 'Piece(s)' 'Set' 'Per piece'\n",
            " 'Unit' '1' '1pc' 'Box' '170 per peice' 'Unstitch' 'Barrel' 'Carton'\n",
            " 'peice' 'Pieces' 'Sets' 'Unit(s)' 'one' 'Bag' 'Selfie Kurtis' 'Pack'\n",
            " 'Pair' 'Pound' 'Peice' '1piece' 'No' 'Kilogram' 'Number' \"40' Container\"\n",
            " 'pack' '100 pic' 'Year' \"20' Container\" 'Pcs' 'Piece(s) Onwards' 'One'\n",
            " 'kurtI' 'Ounce' 'onwards' '10-10000' 'per piese' 'Day' 'Set(s)'\n",
            " '12 units' '1pis' 'Onwards' 'One peace' 'Set(S)' 'Pair piece' 'Ounce(s)'\n",
            " 'Packet(s)' 'Single' 'one pcs' 'Pc' '4 pcs' '4 units' '5' 'set' 'kurti'\n",
            " 'pcs' 'pices' 'Pics' 'single piece' 'pi' 'per piece' 'Kurti' 'one unit'\n",
            " '1 piece' '1 pice' 'Suit' 'pair piece' '10' 'pieces' '1pcs' '1 pc'\n",
            " '3 set' 'Xl size' '1000 per unit' '1pcd' 'Psc' 'Gram' 'Rs' 'in' '1 pcs'\n",
            " 'Feet' 'onepices'] kurtas\n"
          ],
          "name": "stdout"
        }
      ]
    },
    {
      "cell_type": "markdown",
      "metadata": {
        "id": "0s7fEGG0o6T4",
        "colab_type": "text"
      },
      "source": [
        "The following three cells prints out the count of each unique unts."
      ]
    },
    {
      "cell_type": "code",
      "metadata": {
        "id": "7dKAIEMGEe28",
        "colab_type": "code",
        "outputId": "db9f2577-2e5f-4dac-d868-18a7a72aeaa5",
        "colab": {
          "base_uri": "https://localhost:8080/",
          "height": 272
        }
      },
      "source": [
        "drilldf['Unit'].value_counts()"
      ],
      "execution_count": 4,
      "outputs": [
        {
          "output_type": "execute_result",
          "data": {
            "text/plain": [
              "Piece         119\n",
              "pack           47\n",
              "unit           25\n",
              "Unit           17\n",
              "Number         14\n",
              "Pack            9\n",
              "Piece(s)        5\n",
              "Pc_Onwards      5\n",
              "ONWARDS         1\n",
              "kit             1\n",
              "Set             1\n",
              "1nos            1\n",
              "Unit(s)         1\n",
              "Kit             1\n",
              "Name: Unit, dtype: int64"
            ]
          },
          "metadata": {
            "tags": []
          },
          "execution_count": 4
        }
      ]
    },
    {
      "cell_type": "code",
      "metadata": {
        "id": "_aMEixII92Ku",
        "colab_type": "code",
        "outputId": "3412f975-9b5d-48fa-9d18-5910c307d8fb",
        "colab": {
          "base_uri": "https://localhost:8080/",
          "height": 204
        }
      },
      "source": [
        "glovedf['Unit'].value_counts()"
      ],
      "execution_count": 5,
      "outputs": [
        {
          "output_type": "execute_result",
          "data": {
            "text/plain": [
              "Pair            113\n",
              "unit              9\n",
              "Piece             6\n",
              "pack              5\n",
              "Unit              3\n",
              "Pack              3\n",
              "Pair(s)           2\n",
              "Set               1\n",
              "Unit/Onwards      1\n",
              "Pieces            1\n",
              "Name: Unit, dtype: int64"
            ]
          },
          "metadata": {
            "tags": []
          },
          "execution_count": 5
        }
      ]
    },
    {
      "cell_type": "code",
      "metadata": {
        "id": "_2f3W73W92vW",
        "colab_type": "code",
        "outputId": "a923065a-aac7-4569-c6f5-154c7a77b795",
        "colab": {
          "base_uri": "https://localhost:8080/",
          "height": 1071
        }
      },
      "source": [
        "kurtadf['Unit'].value_counts()\n"
      ],
      "execution_count": 6,
      "outputs": [
        {
          "output_type": "execute_result",
          "data": {
            "text/plain": [
              "Piece            3334\n",
              "Piece(s)          500\n",
              "1                  76\n",
              "Unit               63\n",
              "Set                43\n",
              "Onwards            39\n",
              "piece              38\n",
              "No                 37\n",
              "Bag                23\n",
              "Number             23\n",
              "Pair               17\n",
              "Pieces             13\n",
              "Pack               13\n",
              "Unit(s)            11\n",
              "Box                 9\n",
              "onwards             9\n",
              "20' Container       6\n",
              "Set(s)              5\n",
              "40' Container       5\n",
              "Ounce               4\n",
              "Packet              4\n",
              "1pc                 3\n",
              "1piece              3\n",
              "Psc                 3\n",
              "one                 3\n",
              "Meter               3\n",
              "peice               3\n",
              "kurti               3\n",
              "5                   2\n",
              "Day                 2\n",
              "                 ... \n",
              "Set(S)              1\n",
              "dollar              1\n",
              "Selfie Kurtis       1\n",
              "One peace           1\n",
              "Kurti               1\n",
              "pair piece          1\n",
              "pi                  1\n",
              "1pcd                1\n",
              "3 set               1\n",
              "Pair piece          1\n",
              "10-10000            1\n",
              "onepices            1\n",
              "Gram                1\n",
              "kurtI               1\n",
              "Feet                1\n",
              "one pcs             1\n",
              "Pcs                 1\n",
              "1 piece             1\n",
              "per piese           1\n",
              "Unstitch            1\n",
              "1 pcs               1\n",
              "Pc                  1\n",
              "per piece           1\n",
              "1 pc                1\n",
              "170 per peice       1\n",
              "Ounce(s)            1\n",
              "pcs                 1\n",
              "Sets                1\n",
              "100 pic             1\n",
              "Year                1\n",
              "Name: Unit, Length: 89, dtype: int64"
            ]
          },
          "metadata": {
            "tags": []
          },
          "execution_count": 6
        }
      ]
    },
    {
      "cell_type": "markdown",
      "metadata": {
        "id": "Xkipaxewzs7G",
        "colab_type": "text"
      },
      "source": [
        "The following lists are accepted entries for units "
      ]
    },
    {
      "cell_type": "code",
      "metadata": {
        "id": "1TBNb_ByzsOV",
        "colab_type": "code",
        "colab": {}
      },
      "source": [
        "d_entries=list(['Piece','Piece(s)','unit','Unit','Unit(s)','1nos'])\n",
        "g_entries=list(['Pair','Pair(s)','Unit'])\n",
        "k_entries=list(['Piece','Piece(s)','unit','Unit','Unit(s)','1','piece','1pc','1piece'])"
      ],
      "execution_count": 0,
      "outputs": []
    },
    {
      "cell_type": "code",
      "metadata": {
        "id": "Q0fCIbLI5sBo",
        "colab_type": "code",
        "colab": {
          "base_uri": "https://localhost:8080/",
          "height": 34
        },
        "outputId": "b54d996f-224b-4609-e571-931e5bf7a21d"
      },
      "source": [
        "all(map(lambda each: each in [2,3,4], [1,5]))"
      ],
      "execution_count": 8,
      "outputs": [
        {
          "output_type": "execute_result",
          "data": {
            "text/plain": [
              "False"
            ]
          },
          "metadata": {
            "tags": []
          },
          "execution_count": 8
        }
      ]
    },
    {
      "cell_type": "code",
      "metadata": {
        "id": "TZzU9Gyi8JoN",
        "colab_type": "code",
        "colab": {
          "base_uri": "https://localhost:8080/",
          "height": 34
        },
        "outputId": "dc15ff09-84ba-427a-e847-9c40d992c707"
      },
      "source": [
        "[2,3,4] == 2"
      ],
      "execution_count": 9,
      "outputs": [
        {
          "output_type": "execute_result",
          "data": {
            "text/plain": [
              "False"
            ]
          },
          "metadata": {
            "tags": []
          },
          "execution_count": 9
        }
      ]
    },
    {
      "cell_type": "markdown",
      "metadata": {
        "id": "gMo3-4EasS61",
        "colab_type": "text"
      },
      "source": [
        "# Calculating Z-score\n",
        "Z-score is meausure of how much given sample is deviating compared to Standaed deviation.\n",
        "In python the function is available in scipy.stats which we are using in the following cells\n",
        "\n",
        "**note:**we are calculating only abolsolute values as sign of z-score doesn't matter in finding outliers\n",
        "\n",
        "\n",
        "\n",
        "\n"
      ]
    },
    {
      "cell_type": "code",
      "metadata": {
        "id": "YQLauvs_9aiU",
        "colab_type": "code",
        "colab": {}
      },
      "source": [
        "drill_cl=drilldf[drilldf['Unit'].isin(d_entries)]\n",
        "glove_cl=glovedf[glovedf['Unit'].isin(g_entries)]\n",
        "kurta_cl=kurtadf[kurtadf['Unit'].isin(k_entries)]"
      ],
      "execution_count": 0,
      "outputs": []
    },
    {
      "cell_type": "code",
      "metadata": {
        "id": "sGrgdp3J-dKr",
        "colab_type": "code",
        "colab": {
          "base_uri": "https://localhost:8080/",
          "height": 297
        },
        "outputId": "bfa65ff5-808a-479b-a8d2-0247cde3affd"
      },
      "source": [
        "drill_cl.describe()"
      ],
      "execution_count": 11,
      "outputs": [
        {
          "output_type": "execute_result",
          "data": {
            "text/html": [
              "<div>\n",
              "<style scoped>\n",
              "    .dataframe tbody tr th:only-of-type {\n",
              "        vertical-align: middle;\n",
              "    }\n",
              "\n",
              "    .dataframe tbody tr th {\n",
              "        vertical-align: top;\n",
              "    }\n",
              "\n",
              "    .dataframe thead th {\n",
              "        text-align: right;\n",
              "    }\n",
              "</style>\n",
              "<table border=\"1\" class=\"dataframe\">\n",
              "  <thead>\n",
              "    <tr style=\"text-align: right;\">\n",
              "      <th></th>\n",
              "      <th>Price</th>\n",
              "    </tr>\n",
              "  </thead>\n",
              "  <tbody>\n",
              "    <tr>\n",
              "      <th>count</th>\n",
              "      <td>168.000000</td>\n",
              "    </tr>\n",
              "    <tr>\n",
              "      <th>mean</th>\n",
              "      <td>6042.964286</td>\n",
              "    </tr>\n",
              "    <tr>\n",
              "      <th>std</th>\n",
              "      <td>9341.145784</td>\n",
              "    </tr>\n",
              "    <tr>\n",
              "      <th>min</th>\n",
              "      <td>2.000000</td>\n",
              "    </tr>\n",
              "    <tr>\n",
              "      <th>25%</th>\n",
              "      <td>1999.750000</td>\n",
              "    </tr>\n",
              "    <tr>\n",
              "      <th>50%</th>\n",
              "      <td>2745.000000</td>\n",
              "    </tr>\n",
              "    <tr>\n",
              "      <th>75%</th>\n",
              "      <td>5636.750000</td>\n",
              "    </tr>\n",
              "    <tr>\n",
              "      <th>max</th>\n",
              "      <td>55000.000000</td>\n",
              "    </tr>\n",
              "  </tbody>\n",
              "</table>\n",
              "</div>"
            ],
            "text/plain": [
              "              Price\n",
              "count    168.000000\n",
              "mean    6042.964286\n",
              "std     9341.145784\n",
              "min        2.000000\n",
              "25%     1999.750000\n",
              "50%     2745.000000\n",
              "75%     5636.750000\n",
              "max    55000.000000"
            ]
          },
          "metadata": {
            "tags": []
          },
          "execution_count": 11
        }
      ]
    },
    {
      "cell_type": "code",
      "metadata": {
        "id": "iebcrhEEEDId",
        "colab_type": "code",
        "colab": {}
      },
      "source": [
        "drill_z = np.abs(stats.zscore(drill_cl['Price']))\n",
        "glove_z = np.abs(stats.zscore(glove_cl['Price']))\n",
        "kurta_z = np.abs(stats.zscore(kurta_cl['Price']))"
      ],
      "execution_count": 0,
      "outputs": []
    },
    {
      "cell_type": "markdown",
      "metadata": {
        "id": "YPxPlQ3GtSRL",
        "colab_type": "text"
      },
      "source": [
        "After obtaing z-score we are not considering all entries whse z-score is greater than 3 or less than -3 and also we are considering only some units values as unit conversion is not as indicative as the sugar example given."
      ]
    },
    {
      "cell_type": "code",
      "metadata": {
        "id": "I-o75iBmEe2_",
        "colab_type": "code",
        "colab": {}
      },
      "source": [
        "npa=drill_cl[(drill_z < 3)]['Price']\n",
        "npa1=glove_cl[(glove_z < 3)]['Price']\n",
        "npa2=kurta_cl[(kurta_z < 3)]['Price'][:-1]"
      ],
      "execution_count": 0,
      "outputs": []
    },
    {
      "cell_type": "markdown",
      "metadata": {
        "id": "SQXO07qSg6Na",
        "colab_type": "text"
      },
      "source": [
        "The following 3 cells describe the data taken for consideration"
      ]
    },
    {
      "cell_type": "code",
      "metadata": {
        "id": "Qc9raGLAgckP",
        "colab_type": "code",
        "outputId": "e5628428-918d-4900-8dca-0165a7126be5",
        "colab": {
          "base_uri": "https://localhost:8080/",
          "height": 297
        }
      },
      "source": [
        "drill_cl[(drill_z < 3)].describe()"
      ],
      "execution_count": 14,
      "outputs": [
        {
          "output_type": "execute_result",
          "data": {
            "text/html": [
              "<div>\n",
              "<style scoped>\n",
              "    .dataframe tbody tr th:only-of-type {\n",
              "        vertical-align: middle;\n",
              "    }\n",
              "\n",
              "    .dataframe tbody tr th {\n",
              "        vertical-align: top;\n",
              "    }\n",
              "\n",
              "    .dataframe thead th {\n",
              "        text-align: right;\n",
              "    }\n",
              "</style>\n",
              "<table border=\"1\" class=\"dataframe\">\n",
              "  <thead>\n",
              "    <tr style=\"text-align: right;\">\n",
              "      <th></th>\n",
              "      <th>Price</th>\n",
              "    </tr>\n",
              "  </thead>\n",
              "  <tbody>\n",
              "    <tr>\n",
              "      <th>count</th>\n",
              "      <td>161.000000</td>\n",
              "    </tr>\n",
              "    <tr>\n",
              "      <th>mean</th>\n",
              "      <td>4363.602484</td>\n",
              "    </tr>\n",
              "    <tr>\n",
              "      <th>std</th>\n",
              "      <td>4399.815752</td>\n",
              "    </tr>\n",
              "    <tr>\n",
              "      <th>min</th>\n",
              "      <td>2.000000</td>\n",
              "    </tr>\n",
              "    <tr>\n",
              "      <th>25%</th>\n",
              "      <td>1906.000000</td>\n",
              "    </tr>\n",
              "    <tr>\n",
              "      <th>50%</th>\n",
              "      <td>2699.000000</td>\n",
              "    </tr>\n",
              "    <tr>\n",
              "      <th>75%</th>\n",
              "      <td>5200.000000</td>\n",
              "    </tr>\n",
              "    <tr>\n",
              "      <th>max</th>\n",
              "      <td>28000.000000</td>\n",
              "    </tr>\n",
              "  </tbody>\n",
              "</table>\n",
              "</div>"
            ],
            "text/plain": [
              "              Price\n",
              "count    161.000000\n",
              "mean    4363.602484\n",
              "std     4399.815752\n",
              "min        2.000000\n",
              "25%     1906.000000\n",
              "50%     2699.000000\n",
              "75%     5200.000000\n",
              "max    28000.000000"
            ]
          },
          "metadata": {
            "tags": []
          },
          "execution_count": 14
        }
      ]
    },
    {
      "cell_type": "code",
      "metadata": {
        "id": "pF0IYXASgUee",
        "colab_type": "code",
        "outputId": "de63f710-5aeb-4065-b0a5-22388e139e1d",
        "colab": {
          "base_uri": "https://localhost:8080/",
          "height": 297
        }
      },
      "source": [
        "glove_cl[(glove_z < 3)].describe()"
      ],
      "execution_count": 15,
      "outputs": [
        {
          "output_type": "execute_result",
          "data": {
            "text/html": [
              "<div>\n",
              "<style scoped>\n",
              "    .dataframe tbody tr th:only-of-type {\n",
              "        vertical-align: middle;\n",
              "    }\n",
              "\n",
              "    .dataframe tbody tr th {\n",
              "        vertical-align: top;\n",
              "    }\n",
              "\n",
              "    .dataframe thead th {\n",
              "        text-align: right;\n",
              "    }\n",
              "</style>\n",
              "<table border=\"1\" class=\"dataframe\">\n",
              "  <thead>\n",
              "    <tr style=\"text-align: right;\">\n",
              "      <th></th>\n",
              "      <th>Price</th>\n",
              "    </tr>\n",
              "  </thead>\n",
              "  <tbody>\n",
              "    <tr>\n",
              "      <th>count</th>\n",
              "      <td>116.000000</td>\n",
              "    </tr>\n",
              "    <tr>\n",
              "      <th>mean</th>\n",
              "      <td>102.922414</td>\n",
              "    </tr>\n",
              "    <tr>\n",
              "      <th>std</th>\n",
              "      <td>68.288156</td>\n",
              "    </tr>\n",
              "    <tr>\n",
              "      <th>min</th>\n",
              "      <td>10.000000</td>\n",
              "    </tr>\n",
              "    <tr>\n",
              "      <th>25%</th>\n",
              "      <td>50.000000</td>\n",
              "    </tr>\n",
              "    <tr>\n",
              "      <th>50%</th>\n",
              "      <td>80.000000</td>\n",
              "    </tr>\n",
              "    <tr>\n",
              "      <th>75%</th>\n",
              "      <td>171.250000</td>\n",
              "    </tr>\n",
              "    <tr>\n",
              "      <th>max</th>\n",
              "      <td>350.000000</td>\n",
              "    </tr>\n",
              "  </tbody>\n",
              "</table>\n",
              "</div>"
            ],
            "text/plain": [
              "            Price\n",
              "count  116.000000\n",
              "mean   102.922414\n",
              "std     68.288156\n",
              "min     10.000000\n",
              "25%     50.000000\n",
              "50%     80.000000\n",
              "75%    171.250000\n",
              "max    350.000000"
            ]
          },
          "metadata": {
            "tags": []
          },
          "execution_count": 15
        }
      ]
    },
    {
      "cell_type": "code",
      "metadata": {
        "id": "7FXyP-a689Mv",
        "colab_type": "code",
        "outputId": "b09299be-8275-48cb-a521-f24775573f2c",
        "colab": {
          "base_uri": "https://localhost:8080/",
          "height": 297
        }
      },
      "source": [
        "kurta_cl[(kurta_z < 3)].describe()"
      ],
      "execution_count": 16,
      "outputs": [
        {
          "output_type": "execute_result",
          "data": {
            "text/html": [
              "<div>\n",
              "<style scoped>\n",
              "    .dataframe tbody tr th:only-of-type {\n",
              "        vertical-align: middle;\n",
              "    }\n",
              "\n",
              "    .dataframe tbody tr th {\n",
              "        vertical-align: top;\n",
              "    }\n",
              "\n",
              "    .dataframe thead th {\n",
              "        text-align: right;\n",
              "    }\n",
              "</style>\n",
              "<table border=\"1\" class=\"dataframe\">\n",
              "  <thead>\n",
              "    <tr style=\"text-align: right;\">\n",
              "      <th></th>\n",
              "      <th>Price</th>\n",
              "    </tr>\n",
              "  </thead>\n",
              "  <tbody>\n",
              "    <tr>\n",
              "      <th>count</th>\n",
              "      <td>4013.000000</td>\n",
              "    </tr>\n",
              "    <tr>\n",
              "      <th>mean</th>\n",
              "      <td>698.637179</td>\n",
              "    </tr>\n",
              "    <tr>\n",
              "      <th>std</th>\n",
              "      <td>681.340749</td>\n",
              "    </tr>\n",
              "    <tr>\n",
              "      <th>min</th>\n",
              "      <td>1.000000</td>\n",
              "    </tr>\n",
              "    <tr>\n",
              "      <th>25%</th>\n",
              "      <td>325.000000</td>\n",
              "    </tr>\n",
              "    <tr>\n",
              "      <th>50%</th>\n",
              "      <td>500.000000</td>\n",
              "    </tr>\n",
              "    <tr>\n",
              "      <th>75%</th>\n",
              "      <td>800.000000</td>\n",
              "    </tr>\n",
              "    <tr>\n",
              "      <th>max</th>\n",
              "      <td>6589.000000</td>\n",
              "    </tr>\n",
              "  </tbody>\n",
              "</table>\n",
              "</div>"
            ],
            "text/plain": [
              "             Price\n",
              "count  4013.000000\n",
              "mean    698.637179\n",
              "std     681.340749\n",
              "min       1.000000\n",
              "25%     325.000000\n",
              "50%     500.000000\n",
              "75%     800.000000\n",
              "max    6589.000000"
            ]
          },
          "metadata": {
            "tags": []
          },
          "execution_count": 16
        }
      ]
    },
    {
      "cell_type": "markdown",
      "metadata": {
        "id": "NG_Ijss11-As",
        "colab_type": "text"
      },
      "source": [
        "The following cell is used to store standard deviation which is very important to calculate the bandwidth in later part"
      ]
    },
    {
      "cell_type": "code",
      "metadata": {
        "id": "PCtYTrCoF8Gh",
        "colab_type": "code",
        "outputId": "0a5b8e5f-18d2-41af-9cd5-9a872a2af7a9",
        "colab": {
          "base_uri": "https://localhost:8080/",
          "height": 34
        }
      },
      "source": [
        "stdev=np.std(npa)\n",
        "stdev1=np.std(npa1)\n",
        "stdev2=np.std(npa2)\n",
        "print(stdev,stdev1,stdev2)"
      ],
      "execution_count": 17,
      "outputs": [
        {
          "output_type": "stream",
          "text": [
            "4386.130444567741 67.99317294101957 674.9628964771468\n"
          ],
          "name": "stdout"
        }
      ]
    },
    {
      "cell_type": "markdown",
      "metadata": {
        "id": "jh2vYAYr2g1S",
        "colab_type": "text"
      },
      "source": [
        "# Kernel Density estimation method for calculation of Probabilty Disribution Function\n",
        "we are using probability distribution function for find ing require range as pdf is more suitable for finding relationship in general population.\n",
        "\n",
        "kernel Density Estimation is useful method for calculating pdf from discret samples.\n",
        "\n"
      ]
    },
    {
      "cell_type": "code",
      "metadata": {
        "id": "nRb0nWC4Ee3I",
        "colab_type": "code",
        "colab": {}
      },
      "source": [
        "from scipy.stats import gaussian_kde\n",
        "def kde_scipy(x, x_grid, bandwidth, **kwargs):\n",
        "    \"\"\"Kernel Density Estimation with Scipy\"\"\"\n",
        "    # Note that scipy weights its bandwidth by the covariance of the\n",
        "    # input data.  To make the results comparable to the other methods,\n",
        "    # we divide the bandwidth by the sample standard deviation here.\n",
        "    kde = gaussian_kde(x, bw_method=bandwidth / x.std(ddof=1), **kwargs)\n",
        "    return kde.evaluate(x_grid)"
      ],
      "execution_count": 0,
      "outputs": []
    },
    {
      "cell_type": "code",
      "metadata": {
        "id": "PBAlRD6kEe3K",
        "colab_type": "code",
        "outputId": "553d68a6-42f5-4993-de1d-09acbbb7d6e5",
        "colab": {
          "base_uri": "https://localhost:8080/",
          "height": 295
        }
      },
      "source": [
        "y_grid=np.linspace(np.amin(npa)-(np.amax(npa)-np.amin(npa))*0.4,np.amax(npa)+(np.amax(npa)-np.amin(npa))*0.4,10000)\n",
        "ideal=1.06*(np.std(npa))*((len(npa)**(-1/5)))\n",
        "pdf = kde_scipy(npa, y_grid, bandwidth=ideal)\n",
        "plt.plot(y_grid, pdf, color='blue', alpha=1, lw=1)\n",
        "plt.title('PDF for drill')\n",
        "plt.xlabel('Price')\n",
        "plt.show()"
      ],
      "execution_count": 19,
      "outputs": [
        {
          "output_type": "display_data",
          "data": {
            "image/png": "[encoded data removed]",
            "text/plain": [
              "<Figure size 432x288 with 1 Axes>"
            ]
          },
          "metadata": {
            "tags": []
          }
        }
      ]
    },
    {
      "cell_type": "code",
      "metadata": {
        "id": "TzAdVqipNti5",
        "colab_type": "code",
        "outputId": "c83c103e-01f7-4f47-b033-7a08812dee06",
        "colab": {
          "base_uri": "https://localhost:8080/",
          "height": 295
        }
      },
      "source": [
        "y_grid1=np.linspace(np.amin(npa1)-(np.amax(npa1)-np.amin(npa1))*0.4,np.amax(npa1)+(np.amax(npa1)-np.amin(npa1))*0.4,10000)\n",
        "ideal1=1.06*(np.std(npa1))*((len(npa1)**(-1/5)))\n",
        "pdf1 = kde_scipy(npa1, y_grid1, bandwidth=ideal1)\n",
        "plt.plot(y_grid1, pdf1, color='blue', alpha=1, lw=1)\n",
        "plt.title('PDF for gloves')\n",
        "plt.xlabel('Price')\n",
        "plt.show()"
      ],
      "execution_count": 20,
      "outputs": [
        {
          "output_type": "display_data",
          "data": {
            "image/png": "[encoded data removed]",
            "text/plain": [
              "<Figure size 432x288 with 1 Axes>"
            ]
          },
          "metadata": {
            "tags": []
          }
        }
      ]
    },
    {
      "cell_type": "code",
      "metadata": {
        "id": "Y3reUnhuOQh0",
        "colab_type": "code",
        "outputId": "bdad55d5-48c6-41cd-dff9-2366bbe359ec",
        "colab": {
          "base_uri": "https://localhost:8080/",
          "height": 295
        }
      },
      "source": [
        "y_grid2=np.linspace(-(np.amax(npa2)-np.amin(npa2))*0.05,np.amax(npa2)*1.05,10000)\n",
        "ideal2=1.06*(np.std(npa2))*((len(npa2)**(-1/5)))\n",
        "pdf2 = kde_scipy(npa2, y_grid2, bandwidth=ideal2)\n",
        "plt.plot(y_grid2, pdf2, color='blue', alpha=1, lw=1)\n",
        "plt.title('PDF for kurta')\n",
        "plt.xlabel('Price')\n",
        "plt.show()"
      ],
      "execution_count": 21,
      "outputs": [
        {
          "output_type": "display_data",
          "data": {
            "image/png": "[encoded data removed]",
            "text/plain": [
              "<Figure size 432x288 with 1 Axes>"
            ]
          },
          "metadata": {
            "tags": []
          }
        }
      ]
    },
    {
      "cell_type": "code",
      "metadata": {
        "id": "yLFkxtdUJNj-",
        "colab_type": "code",
        "outputId": "5788ed61-023e-429b-c209-cf99d900867a",
        "colab": {
          "base_uri": "https://localhost:8080/",
          "height": 34
        }
      },
      "source": [
        "w=((np.amax(npa)-np.amin(npa))*1.8)/10000\n",
        "w1=((np.amax(npa1)-np.amin(npa1))*1.8)/10000\n",
        "w2=((np.amax(npa2)-np.amin(npa2))*0.05+np.amax(npa2)*1.05)/10000\n",
        "print(np.sum(pdf)*w,np.sum(pdf1)*w1,np.sum(pdf2)*w2)"
      ],
      "execution_count": 22,
      "outputs": [
        {
          "output_type": "stream",
          "text": [
            "0.9998999999997891 0.9998999824582104 0.9998531520797163\n"
          ],
          "name": "stdout"
        }
      ]
    },
    {
      "cell_type": "code",
      "metadata": {
        "id": "jHBGAYDqMYTC",
        "colab_type": "code",
        "outputId": "d459d787-2454-47fb-813d-5f93650cc63a",
        "colab": {
          "base_uri": "https://localhost:8080/",
          "height": 34
        }
      },
      "source": [
        "pdf_area=np.zeros(len(pdf)-1)\n",
        "for a in range(len(pdf_area)):\n",
        "  pdf_area[a]=(pdf[a]+pdf[a+1])*(w/2)\n",
        "print(np.sum(pdf_area))\n"
      ],
      "execution_count": 23,
      "outputs": [
        {
          "output_type": "stream",
          "text": [
            "0.9998999999997866\n"
          ],
          "name": "stdout"
        }
      ]
    },
    {
      "cell_type": "markdown",
      "metadata": {
        "id": "js_jelVdRZVy",
        "colab_type": "text"
      },
      "source": [
        "before going to calculation for area we need to make sure that probability of a product price below Rupees 0 is 0( for PDF calculated above we have finite probability for price less than 0 ) we can usee bayes theorem to re calculate the PDF.\n",
        "\n",
        "\\begin{equation*}\n",
        "PDF(x | Price > 0)   = \\frac{probab(x>0)*PDF(x)}{probab(Price >0)}\n",
        "\\end{equation*}\n",
        "here PDF(x) is the pdf function \n",
        "\n",
        "probab(price >0) is probabilty that price >0 which sum of area under pdf for price >0\n",
        "\n",
        "probab(x>0) is eiter 1 or 0 depending on x"
      ]
    },
    {
      "cell_type": "code",
      "metadata": {
        "id": "JYvorUBqVTYU",
        "colab_type": "code",
        "colab": {
          "base_uri": "https://localhost:8080/",
          "height": 312
        },
        "outputId": "f53f0b95-5045-4f90-a0f5-db3718d2fe35"
      },
      "source": [
        "for a in range(len(pdf)):\n",
        "  if y_grid[a] > 0:\n",
        "    break\n",
        "probab=np.sum(pdf[a:])*w\n",
        "for a in range(len(pdf)):\n",
        "  if y_grid[a] > 0:\n",
        "    break\n",
        "  pdf[a]=0\n",
        "pdf=pdf/probab\n",
        "print(np.sum(pdf)*w)\n",
        "plt.plot(y_grid, pdf, color='blue', alpha=1, lw=1)\n",
        "plt.title('PDF for drill')\n",
        "plt.xlabel('Price')\n",
        "plt.show()"
      ],
      "execution_count": 24,
      "outputs": [
        {
          "output_type": "stream",
          "text": [
            "1.0000000000000002\n"
          ],
          "name": "stdout"
        },
        {
          "output_type": "display_data",
          "data": {
            "image/png": "[encoded data removed]",
            "text/plain": [
              "<Figure size 432x288 with 1 Axes>"
            ]
          },
          "metadata": {
            "tags": []
          }
        }
      ]
    },
    {
      "cell_type": "code",
      "metadata": {
        "id": "PS6R3R45aBfN",
        "colab_type": "code",
        "colab": {
          "base_uri": "https://localhost:8080/",
          "height": 295
        },
        "outputId": "5fb35b75-ea00-4dc8-a9c4-3376be66a03b"
      },
      "source": [
        "for a in range(len(pdf1)):\n",
        "  if y_grid1[a] > 0:\n",
        "    break\n",
        "probab1=np.sum(pdf1[a:])*w1\n",
        "for a in range(len(pdf1)):\n",
        "  if y_grid1[a] > 0:\n",
        "    break\n",
        "  pdf1[a]=0\n",
        "pdf1=pdf1/probab1\n",
        "plt.plot(y_grid1, pdf1, color='blue', alpha=1, lw=1)\n",
        "plt.title('PDF for gloves')\n",
        "plt.xlabel('Price')\n",
        "plt.show()"
      ],
      "execution_count": 25,
      "outputs": [
        {
          "output_type": "display_data",
          "data": {
            "image/png": "[encoded data removed]",
            "text/plain": [
              "<Figure size 432x288 with 1 Axes>"
            ]
          },
          "metadata": {
            "tags": []
          }
        }
      ]
    },
    {
      "cell_type": "code",
      "metadata": {
        "id": "3ZJm7QQXaBSO",
        "colab_type": "code",
        "colab": {
          "base_uri": "https://localhost:8080/",
          "height": 295
        },
        "outputId": "2f271f82-752e-4728-ad07-305bfc5e6afc"
      },
      "source": [
        "for a in range(len(pdf2)):\n",
        "  if y_grid2[a] > 0:\n",
        "    break\n",
        "probab2=np.sum(pdf2[a:])*w2\n",
        "for a in range(len(pdf2)):\n",
        "  if y_grid2[a] > 0:\n",
        "    break\n",
        "  pdf2[a]=0\n",
        "pdf2=pdf2/probab2\n",
        "plt.plot(y_grid2, pdf2, color='blue', alpha=1, lw=1)\n",
        "plt.title('PDF for kurta')\n",
        "plt.xlabel('Price')\n",
        "plt.show()"
      ],
      "execution_count": 26,
      "outputs": [
        {
          "output_type": "display_data",
          "data": {
            "image/png": "[encoded data removed]",
            "text/plain": [
              "<Figure size 432x288 with 1 Axes>"
            ]
          },
          "metadata": {
            "tags": []
          }
        }
      ]
    },
    {
      "cell_type": "markdown",
      "metadata": {
        "id": "2-gcDmLQhisW",
        "colab_type": "text"
      },
      "source": [
        "# Range calculation from PDF \n",
        "we used 2 methods for calculating a range they are \n",
        "\n",
        "1.   finding the peak and finding a range which covers 50% of the area under pdf and having peak as mean point of that range(it means there is 50% chance for a product to be in that range) this ensures price which has maximum entries lies in that region\n",
        "\n",
        "2.   finding the smallest range which covers majority of the region(we can use range which covers 50% of the region)the advantage with this method is it ensures ranges is minimum.\n",
        "\n"
      ]
    },
    {
      "cell_type": "code",
      "metadata": {
        "id": "00CBOvWMH7WT",
        "colab_type": "code",
        "outputId": "626b18a2-0034-4b71-c177-15fbf8cf8aca",
        "colab": {
          "base_uri": "https://localhost:8080/",
          "height": 51
        }
      },
      "source": [
        "f_peak=argrelextrema(pdf, np.greater)[0][0]\n",
        "for q in range(f_peak):\n",
        "  if np.sum(pdf[f_peak-q:f_peak+q])*w > 0.5:\n",
        "    print(np.sum(pdf[f_peak-q:f_peak+q])*w,q)\n",
        "    break\n",
        "print('This is the range obtained for drill ',np.round((f_peak-q)*w+np.amin(npa)-(np.amax(npa)-np.amin(npa))*0.4),np.round((f_peak+q)*w+np.amin(npa)-(np.amax(npa)-np.amin(npa))*0.4))"
      ],
      "execution_count": 27,
      "outputs": [
        {
          "output_type": "stream",
          "text": [
            "0.5000541938213798 330\n",
            "This is the range obtained for drill  711.0 4038.0\n"
          ],
          "name": "stdout"
        }
      ]
    },
    {
      "cell_type": "code",
      "metadata": {
        "id": "7mS56QZLQhrN",
        "colab_type": "code",
        "outputId": "79c73979-c94e-40a2-9b2b-d11c107d8a6b",
        "colab": {
          "base_uri": "https://localhost:8080/",
          "height": 51
        }
      },
      "source": [
        "f_peak1=argrelextrema(pdf1, np.greater)[0][0]\n",
        "q=0\n",
        "for q in range(f_peak1):\n",
        "  if np.sum(pdf1[f_peak1-q:f_peak1+2*q])*w1 > 0.5:\n",
        "    print(np.sum(pdf1[f_peak1-q:f_peak1+2*q])*w1,q)\n",
        "    break\n",
        "print('This is the range obtained for gloves ',np.round((f_peak1-q)*w1+np.amin(npa1)-(np.amax(npa1)-np.amin(npa1))*0.4),np.round((f_peak1+2*q)*w1+np.amin(npa1)-(np.amax(npa1)-np.amin(npa1))*0.4))"
      ],
      "execution_count": 28,
      "outputs": [
        {
          "output_type": "stream",
          "text": [
            "0.5002469522162393 460\n",
            "This is the range obtained for gloves  31.0 116.0\n"
          ],
          "name": "stdout"
        }
      ]
    },
    {
      "cell_type": "code",
      "metadata": {
        "id": "rFq5MSF4QiNI",
        "colab_type": "code",
        "outputId": "93c971ad-d206-45cf-b79a-b73e55cc1cb5",
        "colab": {
          "base_uri": "https://localhost:8080/",
          "height": 51
        }
      },
      "source": [
        "f_peak2=argrelextrema(pdf2, np.greater)[0][0]\n",
        "for q in range(f_peak2):\n",
        "  if np.sum(pdf2[f_peak2-q:f_peak2+q])*w2 > 0.5:\n",
        "    print(np.sum(pdf2[f_peak2-q:f_peak2+q])*w2,q)\n",
        "    break\n",
        "print('This is the range obtained for Kurta ',np.round((f_peak2-q)*w2-(np.amax(npa2)-np.amin(npa2))*0.05),np.round((f_peak2+q)*w2-(np.amax(npa2)-np.amin(npa2))*0.05))"
      ],
      "execution_count": 29,
      "outputs": [
        {
          "output_type": "stream",
          "text": [
            "0.5004857371061543 301\n",
            "This is the range obtained for Kurta  188.0 619.0\n"
          ],
          "name": "stdout"
        }
      ]
    },
    {
      "cell_type": "code",
      "metadata": {
        "id": "43E_-ON6Xgsh",
        "colab_type": "code",
        "outputId": "b9b10934-75b1-4be4-e016-23265c8488aa",
        "colab": {
          "base_uri": "https://localhost:8080/",
          "height": 51
        }
      },
      "source": [
        "qq1=len(pdf)\n",
        "for q in range(len(pdf)):\n",
        "  for p in range(len(pdf)-(q+1)):\n",
        "     if np.sum(pdf[p:p+q+1])*w > 0.5:\n",
        "        print(np.sum(pdf[p:p+q+1])*w,p,q)\n",
        "        break\n",
        "  if np.sum(pdf[p:p+q+1])*w > 0.5:\n",
        "    break\n",
        "print('This is the range obtained for drill ',np.round((p)*w+np.amin(npa)-(np.amax(npa)-np.amin(npa))*0.4),np.round((p+q+1)*w+np.amin(npa)-(np.amax(npa)-np.amin(npa))*0.4))  \n",
        "     \n",
        "        "
      ],
      "execution_count": 30,
      "outputs": [
        {
          "output_type": "stream",
          "text": [
            "0.5000100077814926 2362 659\n",
            "This is the range obtained for drill  706.0 4033.0\n"
          ],
          "name": "stdout"
        }
      ]
    },
    {
      "cell_type": "code",
      "metadata": {
        "id": "iS3Nmo98wL7L",
        "colab_type": "code",
        "outputId": "930696ca-9608-4156-cd14-c3e5c0abbfe6",
        "colab": {
          "base_uri": "https://localhost:8080/",
          "height": 51
        }
      },
      "source": [
        "qq2=len(pdf1)\n",
        "for q in range(len(pdf1)):\n",
        "  for p in range(len(pdf1)-(q+1)):\n",
        "     if np.sum(pdf1[p:p+q+1])*w1 > 0.75:\n",
        "        print(np.sum(pdf1[p:p+q+1])*w1,p,q)\n",
        "        break\n",
        "  if np.sum(pdf1[p:p+q+1])*w1 > 0.5:\n",
        "    break\n",
        "print('This is the range obtained for gloves ',np.round((p)*w1+np.amin(npa1)-(np.amax(npa1)-np.amin(npa1))*0.4),np.round((p+q+1)*w1+np.amin(npa1)-(np.amax(npa1)-np.amin(npa1))*0.4))  \n",
        " "
      ],
      "execution_count": 31,
      "outputs": [
        {
          "output_type": "stream",
          "text": [
            "0.7500014076419566 2210 2569\n",
            "This is the range obtained for gloves  9.0 167.0\n"
          ],
          "name": "stdout"
        }
      ]
    },
    {
      "cell_type": "code",
      "metadata": {
        "id": "5jp7a2JZ3b9f",
        "colab_type": "code",
        "outputId": "ccd507e7-dcb6-493b-efae-6cae59f1c4ae",
        "colab": {
          "base_uri": "https://localhost:8080/",
          "height": 51
        }
      },
      "source": [
        "qq3=len(pdf2)\n",
        "for q in range(len(pdf2)):\n",
        "  for p in range(len(pdf2)-(q+1)):\n",
        "     if np.sum(pdf2[p:p+q+1])*w2 > 0.7:\n",
        "        print(np.sum(pdf2[p:p+q+1])*w2,p,q)\n",
        "        break\n",
        "  if np.sum(pdf2[p:p+q+1])*w2 > 0.6:\n",
        "    break\n",
        "print('This is the range obtained for Kurta ',np.round((p)*w2-(np.amax(npa2)-np.amin(npa2))*0.05),np.round((p+q+1)*w2-(np.amax(npa2)-np.amin(npa2))*0.05))"
      ],
      "execution_count": 32,
      "outputs": [
        {
          "output_type": "stream",
          "text": [
            "0.7000112909128123 589 991\n",
            "This is the range obtained for Kurta  96.0 805.0\n"
          ],
          "name": "stdout"
        }
      ]
    }
  ]
}
