{
  "nbformat": 4,
  "nbformat_minor": 0,
  "metadata": {
    "colab": {
      "name": "Copy of phase1.ipynb",
      "version": "0.3.2",
      "provenance": [],
      "include_colab_link": true
    },
    "language_info": {
      "codemirror_mode": {
        "name": "ipython",
        "version": 3
      },
      "file_extension": ".py",
      "mimetype": "text/x-python",
      "name": "python",
      "nbconvert_exporter": "python",
      "pygments_lexer": "ipython3",
      "version": "3.6.5"
    },
    "kernelspec": {
      "display_name": "Python 3",
      "language": "python",
      "name": "python3"
    }
  },
  "cells": [
    {
      "cell_type": "markdown",
      "metadata": {
        "id": "view-in-github",
        "colab_type": "text"
      },
      "source": [
        "<a href=\"https://colab.research.google.com/github/nik299/IndiaMart-Hackathon-2k19/blob/master/phase1.ipynb\" target=\"_parent\"><img src=\"https://colab.research.google.com/assets/colab-badge.svg\" alt=\"Open In Colab\"/></a>"
      ]
    },
    {
      "cell_type": "code",
      "metadata": {
        "id": "YokkO0iBEe2t",
        "colab_type": "code",
        "colab": {}
      },
      "source": [
        "import pandas as pd\n",
        "import matplotlib.pyplot as plt\n",
        "import seaborn as sns\n",
        "import numpy as np\n",
        "from scipy.stats import norm\n",
        "from scipy.signal import argrelextrema\n",
        "from scipy import stats\n",
        "import warnings\n",
        "warnings.filterwarnings('ignore')\n",
        "%matplotlib inline"
      ],
      "execution_count": 0,
      "outputs": []
    },
    {
      "cell_type": "code",
      "metadata": {
        "id": "V_JxW7kwEe2x",
        "colab_type": "code",
        "colab": {}
      },
      "source": [
        "drilldf = pd.read_csv('./phaseone-drill.csv')\n",
        "glovedf = pd.read_csv('./phaseone-gloves.csv')\n",
        "kurtadf = pd.read_csv('./phaseone-kurta.csv')"
      ],
      "execution_count": 0,
      "outputs": []
    },
    {
      "cell_type": "code",
      "metadata": {
        "id": "Nl-s0oZqEe20",
        "colab_type": "code",
        "outputId": "1fa3ce38-b93a-423b-d325-159e285e98cd",
        "colab": {
          "base_uri": "https://localhost:8080/",
          "height": 204
        }
      },
      "source": [
        "drilldf.head()"
      ],
      "execution_count": 66,
      "outputs": [
        {
          "output_type": "execute_result",
          "data": {
            "text/html": [
              "<div>\n",
              "<style scoped>\n",
              "    .dataframe tbody tr th:only-of-type {\n",
              "        vertical-align: middle;\n",
              "    }\n",
              "\n",
              "    .dataframe tbody tr th {\n",
              "        vertical-align: top;\n",
              "    }\n",
              "\n",
              "    .dataframe thead th {\n",
              "        text-align: right;\n",
              "    }\n",
              "</style>\n",
              "<table border=\"1\" class=\"dataframe\">\n",
              "  <thead>\n",
              "    <tr style=\"text-align: right;\">\n",
              "      <th></th>\n",
              "      <th>Category Name</th>\n",
              "      <th>Unit</th>\n",
              "      <th>Price</th>\n",
              "    </tr>\n",
              "  </thead>\n",
              "  <tbody>\n",
              "    <tr>\n",
              "      <th>0</th>\n",
              "      <td>Impact Drill</td>\n",
              "      <td>Piece</td>\n",
              "      <td>2</td>\n",
              "    </tr>\n",
              "    <tr>\n",
              "      <th>1</th>\n",
              "      <td>Impact Drill</td>\n",
              "      <td>Piece</td>\n",
              "      <td>675</td>\n",
              "    </tr>\n",
              "    <tr>\n",
              "      <th>2</th>\n",
              "      <td>Impact Drill</td>\n",
              "      <td>Piece</td>\n",
              "      <td>766</td>\n",
              "    </tr>\n",
              "    <tr>\n",
              "      <th>3</th>\n",
              "      <td>Impact Drill</td>\n",
              "      <td>Piece</td>\n",
              "      <td>900</td>\n",
              "    </tr>\n",
              "    <tr>\n",
              "      <th>4</th>\n",
              "      <td>Impact Drill</td>\n",
              "      <td>Piece</td>\n",
              "      <td>1000</td>\n",
              "    </tr>\n",
              "  </tbody>\n",
              "</table>\n",
              "</div>"
            ],
            "text/plain": [
              "  Category Name   Unit  Price\n",
              "0  Impact Drill  Piece      2\n",
              "1  Impact Drill  Piece    675\n",
              "2  Impact Drill  Piece    766\n",
              "3  Impact Drill  Piece    900\n",
              "4  Impact Drill  Piece   1000"
            ]
          },
          "metadata": {
            "tags": []
          },
          "execution_count": 66
        }
      ]
    },
    {
      "cell_type": "code",
      "metadata": {
        "id": "NhGWe8K36btY",
        "colab_type": "code",
        "colab": {
          "base_uri": "https://localhost:8080/",
          "height": 204
        },
        "outputId": "bda21706-fc7f-4341-f509-27936a28c663"
      },
      "source": [
        "glovedf.head()"
      ],
      "execution_count": 67,
      "outputs": [
        {
          "output_type": "execute_result",
          "data": {
            "text/html": [
              "<div>\n",
              "<style scoped>\n",
              "    .dataframe tbody tr th:only-of-type {\n",
              "        vertical-align: middle;\n",
              "    }\n",
              "\n",
              "    .dataframe tbody tr th {\n",
              "        vertical-align: top;\n",
              "    }\n",
              "\n",
              "    .dataframe thead th {\n",
              "        text-align: right;\n",
              "    }\n",
              "</style>\n",
              "<table border=\"1\" class=\"dataframe\">\n",
              "  <thead>\n",
              "    <tr style=\"text-align: right;\">\n",
              "      <th></th>\n",
              "      <th>Category Name</th>\n",
              "      <th>Unit</th>\n",
              "      <th>Price</th>\n",
              "    </tr>\n",
              "  </thead>\n",
              "  <tbody>\n",
              "    <tr>\n",
              "      <th>0</th>\n",
              "      <td>Leather Safety Gloves</td>\n",
              "      <td>Pair</td>\n",
              "      <td>10</td>\n",
              "    </tr>\n",
              "    <tr>\n",
              "      <th>1</th>\n",
              "      <td>Leather Safety Gloves</td>\n",
              "      <td>Pair</td>\n",
              "      <td>12</td>\n",
              "    </tr>\n",
              "    <tr>\n",
              "      <th>2</th>\n",
              "      <td>Leather Safety Gloves</td>\n",
              "      <td>Pair</td>\n",
              "      <td>12</td>\n",
              "    </tr>\n",
              "    <tr>\n",
              "      <th>3</th>\n",
              "      <td>Leather Safety Gloves</td>\n",
              "      <td>Pair</td>\n",
              "      <td>20</td>\n",
              "    </tr>\n",
              "    <tr>\n",
              "      <th>4</th>\n",
              "      <td>Leather Safety Gloves</td>\n",
              "      <td>Pair</td>\n",
              "      <td>23</td>\n",
              "    </tr>\n",
              "  </tbody>\n",
              "</table>\n",
              "</div>"
            ],
            "text/plain": [
              "           Category Name  Unit  Price\n",
              "0  Leather Safety Gloves  Pair     10\n",
              "1  Leather Safety Gloves  Pair     12\n",
              "2  Leather Safety Gloves  Pair     12\n",
              "3  Leather Safety Gloves  Pair     20\n",
              "4  Leather Safety Gloves  Pair     23"
            ]
          },
          "metadata": {
            "tags": []
          },
          "execution_count": 67
        }
      ]
    },
    {
      "cell_type": "code",
      "metadata": {
        "id": "d5O5yoUh6mKd",
        "colab_type": "code",
        "colab": {
          "base_uri": "https://localhost:8080/",
          "height": 204
        },
        "outputId": "73e6c64b-830e-42ac-968f-dc303bfc174f"
      },
      "source": [
        "kurtadf.head()"
      ],
      "execution_count": 68,
      "outputs": [
        {
          "output_type": "execute_result",
          "data": {
            "text/html": [
              "<div>\n",
              "<style scoped>\n",
              "    .dataframe tbody tr th:only-of-type {\n",
              "        vertical-align: middle;\n",
              "    }\n",
              "\n",
              "    .dataframe tbody tr th {\n",
              "        vertical-align: top;\n",
              "    }\n",
              "\n",
              "    .dataframe thead th {\n",
              "        text-align: right;\n",
              "    }\n",
              "</style>\n",
              "<table border=\"1\" class=\"dataframe\">\n",
              "  <thead>\n",
              "    <tr style=\"text-align: right;\">\n",
              "      <th></th>\n",
              "      <th>Category Name</th>\n",
              "      <th>Unit</th>\n",
              "      <th>Price</th>\n",
              "    </tr>\n",
              "  </thead>\n",
              "  <tbody>\n",
              "    <tr>\n",
              "      <th>0</th>\n",
              "      <td>Ladies Kurta</td>\n",
              "      <td>Piece</td>\n",
              "      <td>1</td>\n",
              "    </tr>\n",
              "    <tr>\n",
              "      <th>1</th>\n",
              "      <td>Ladies Kurta</td>\n",
              "      <td>Piece</td>\n",
              "      <td>1</td>\n",
              "    </tr>\n",
              "    <tr>\n",
              "      <th>2</th>\n",
              "      <td>Ladies Kurta</td>\n",
              "      <td>dollar</td>\n",
              "      <td>7</td>\n",
              "    </tr>\n",
              "    <tr>\n",
              "      <th>3</th>\n",
              "      <td>Ladies Kurta</td>\n",
              "      <td>Piece</td>\n",
              "      <td>20</td>\n",
              "    </tr>\n",
              "    <tr>\n",
              "      <th>4</th>\n",
              "      <td>Ladies Kurta</td>\n",
              "      <td>Piece</td>\n",
              "      <td>20</td>\n",
              "    </tr>\n",
              "  </tbody>\n",
              "</table>\n",
              "</div>"
            ],
            "text/plain": [
              "  Category Name    Unit  Price\n",
              "0  Ladies Kurta   Piece      1\n",
              "1  Ladies Kurta   Piece      1\n",
              "2  Ladies Kurta  dollar      7\n",
              "3  Ladies Kurta   Piece     20\n",
              "4  Ladies Kurta   Piece     20"
            ]
          },
          "metadata": {
            "tags": []
          },
          "execution_count": 68
        }
      ]
    },
    {
      "cell_type": "code",
      "metadata": {
        "id": "xCbZTSGo6iNu",
        "colab_type": "code",
        "colab": {}
      },
      "source": [
        ""
      ],
      "execution_count": 0,
      "outputs": []
    },
    {
      "cell_type": "code",
      "metadata": {
        "id": "-dHGmh-5Ee24",
        "colab_type": "code",
        "outputId": "9854890f-9ff7-42a1-e433-cd8bc47271b6",
        "colab": {
          "base_uri": "https://localhost:8080/",
          "height": 289
        }
      },
      "source": [
        "drill_units=drilldf['Unit'].unique()\n",
        "print(drill_units,'drills')\n",
        "glove_units=glovedf['Unit'].unique()\n",
        "print(glove_units,'gloves')\n",
        "kurta_units=kurtadf['Unit'].unique()\n",
        "print(kurta_units,'kurtas')"
      ],
      "execution_count": 69,
      "outputs": [
        {
          "output_type": "stream",
          "text": [
            "['Piece' 'Piece(s)' 'pack' 'unit' 'Number' 'Unit' 'Pack' '1nos' 'Unit(s)'\n",
            " 'kit' 'Set' 'Pc_Onwards' 'ONWARDS' 'Kit'] drills\n",
            "['Pair' 'Piece' 'pack' 'Unit' 'Pack' 'Unit/Onwards' 'Pair(s)' 'unit' 'Set'\n",
            " 'Pieces'] gloves\n",
            "['Piece' 'dollar' 'Packet' 'piece' 'Meter' 'Piece(s)' 'Set' 'Per piece'\n",
            " 'Unit' '1' '1pc' 'Box' '170 per peice' 'Unstitch' 'Barrel' 'Carton'\n",
            " 'peice' 'Pieces' 'Sets' 'Unit(s)' 'one' 'Bag' 'Selfie Kurtis' 'Pack'\n",
            " 'Pair' 'Pound' 'Peice' '1piece' 'No' 'Kilogram' 'Number' \"40' Container\"\n",
            " 'pack' '100 pic' 'Year' \"20' Container\" 'Pcs' 'Piece(s) Onwards' 'One'\n",
            " 'kurtI' 'Ounce' 'onwards' '10-10000' 'per piese' 'Day' 'Set(s)'\n",
            " '12 units' '1pis' 'Onwards' 'One peace' 'Set(S)' 'Pair piece' 'Ounce(s)'\n",
            " 'Packet(s)' 'Single' 'one pcs' 'Pc' '4 pcs' '4 units' '5' 'set' 'kurti'\n",
            " 'pcs' 'pices' 'Pics' 'single piece' 'pi' 'per piece' 'Kurti' 'one unit'\n",
            " '1 piece' '1 pice' 'Suit' 'pair piece' '10' 'pieces' '1pcs' '1 pc'\n",
            " '3 set' 'Xl size' '1000 per unit' '1pcd' 'Psc' 'Gram' 'Rs' 'in' '1 pcs'\n",
            " 'Feet' 'onepices'] kurtas\n"
          ],
          "name": "stdout"
        }
      ]
    },
    {
      "cell_type": "code",
      "metadata": {
        "id": "7dKAIEMGEe28",
        "colab_type": "code",
        "outputId": "29ce5652-6f5e-421e-83b4-dd2ebe55ce9b",
        "colab": {
          "base_uri": "https://localhost:8080/",
          "height": 272
        }
      },
      "source": [
        "drilldf['Unit'].value_counts()"
      ],
      "execution_count": 70,
      "outputs": [
        {
          "output_type": "execute_result",
          "data": {
            "text/plain": [
              "Piece         119\n",
              "pack           47\n",
              "unit           25\n",
              "Unit           17\n",
              "Number         14\n",
              "Pack            9\n",
              "Piece(s)        5\n",
              "Pc_Onwards      5\n",
              "1nos            1\n",
              "Set             1\n",
              "ONWARDS         1\n",
              "kit             1\n",
              "Unit(s)         1\n",
              "Kit             1\n",
              "Name: Unit, dtype: int64"
            ]
          },
          "metadata": {
            "tags": []
          },
          "execution_count": 70
        }
      ]
    },
    {
      "cell_type": "code",
      "metadata": {
        "id": "_aMEixII92Ku",
        "colab_type": "code",
        "colab": {
          "base_uri": "https://localhost:8080/",
          "height": 204
        },
        "outputId": "c577ada4-9c56-4f2e-e401-672e98c15b50"
      },
      "source": [
        "glovedf['Unit'].value_counts()"
      ],
      "execution_count": 71,
      "outputs": [
        {
          "output_type": "execute_result",
          "data": {
            "text/plain": [
              "Pair            113\n",
              "unit              9\n",
              "Piece             6\n",
              "pack              5\n",
              "Pack              3\n",
              "Unit              3\n",
              "Pair(s)           2\n",
              "Unit/Onwards      1\n",
              "Set               1\n",
              "Pieces            1\n",
              "Name: Unit, dtype: int64"
            ]
          },
          "metadata": {
            "tags": []
          },
          "execution_count": 71
        }
      ]
    },
    {
      "cell_type": "code",
      "metadata": {
        "id": "_2f3W73W92vW",
        "colab_type": "code",
        "colab": {
          "base_uri": "https://localhost:8080/",
          "height": 1071
        },
        "outputId": "d64ecf9a-4973-4b24-e0f2-8da0985a94b6"
      },
      "source": [
        "kurtadf['Unit'].value_counts()"
      ],
      "execution_count": 72,
      "outputs": [
        {
          "output_type": "execute_result",
          "data": {
            "text/plain": [
              "Piece            3334\n",
              "Piece(s)          500\n",
              "1                  76\n",
              "Unit               63\n",
              "Set                43\n",
              "Onwards            39\n",
              "piece              38\n",
              "No                 37\n",
              "Number             23\n",
              "Bag                23\n",
              "Pair               17\n",
              "Pieces             13\n",
              "Pack               13\n",
              "Unit(s)            11\n",
              "onwards             9\n",
              "Box                 9\n",
              "20' Container       6\n",
              "Set(s)              5\n",
              "40' Container       5\n",
              "Ounce               4\n",
              "Packet              4\n",
              "Psc                 3\n",
              "kurti               3\n",
              "1piece              3\n",
              "one                 3\n",
              "1pc                 3\n",
              "Meter               3\n",
              "peice               3\n",
              "Packet(s)           2\n",
              "Barrel              2\n",
              "                 ... \n",
              "Per piece           1\n",
              "single piece        1\n",
              "one pcs             1\n",
              "1pcs                1\n",
              "Xl size             1\n",
              "4 units             1\n",
              "Rs                  1\n",
              "Pc                  1\n",
              "Pair piece          1\n",
              "Gram                1\n",
              "100 pic             1\n",
              "in                  1\n",
              "per piese           1\n",
              "one unit            1\n",
              "1 piece             1\n",
              "set                 1\n",
              "pcs                 1\n",
              "Pcs                 1\n",
              "One peace           1\n",
              "pi                  1\n",
              "170 per peice       1\n",
              "Kilogram            1\n",
              "Suit                1\n",
              "dollar              1\n",
              "per piece           1\n",
              "Selfie Kurtis       1\n",
              "1 pcs               1\n",
              "Kurti               1\n",
              "Pound               1\n",
              "Peice               1\n",
              "Name: Unit, Length: 89, dtype: int64"
            ]
          },
          "metadata": {
            "tags": []
          },
          "execution_count": 72
        }
      ]
    },
    {
      "cell_type": "code",
      "metadata": {
        "id": "I-o75iBmEe2_",
        "colab_type": "code",
        "colab": {}
      },
      "source": [
        "npa=drilldf['Price'][1:]\n",
        "npa1=glovedf.loc[glovedf['Unit']=='Pair']['Price']\n",
        "npa2=kurtadf.loc[(kurtadf['Unit']=='Piece') & (kurtadf['Price'] < 10000)]['Price'][:-1]"
      ],
      "execution_count": 0,
      "outputs": []
    },
    {
      "cell_type": "code",
      "metadata": {
        "id": "a0WuLQXYEe3B",
        "colab_type": "code",
        "outputId": "ad3ae086-dcc2-4b24-838c-e0f3a71d86da",
        "colab": {
          "base_uri": "https://localhost:8080/",
          "height": 153
        }
      },
      "source": [
        "drilldf.info()"
      ],
      "execution_count": 74,
      "outputs": [
        {
          "output_type": "stream",
          "text": [
            "<class 'pandas.core.frame.DataFrame'>\n",
            "RangeIndex: 247 entries, 0 to 246\n",
            "Data columns (total 3 columns):\n",
            "Category Name    247 non-null object\n",
            "Unit             247 non-null object\n",
            "Price            247 non-null int64\n",
            "dtypes: int64(1), object(2)\n",
            "memory usage: 5.9+ KB\n"
          ],
          "name": "stdout"
        }
      ]
    },
    {
      "cell_type": "code",
      "metadata": {
        "id": "MSDd-12BEe3F",
        "colab_type": "code",
        "outputId": "6c482d03-c19b-465f-bae3-371dc7bf7fd7",
        "colab": {
          "base_uri": "https://localhost:8080/",
          "height": 297
        }
      },
      "source": [
        "drilldf[1:].describe()"
      ],
      "execution_count": 75,
      "outputs": [
        {
          "output_type": "execute_result",
          "data": {
            "text/html": [
              "<div>\n",
              "<style scoped>\n",
              "    .dataframe tbody tr th:only-of-type {\n",
              "        vertical-align: middle;\n",
              "    }\n",
              "\n",
              "    .dataframe tbody tr th {\n",
              "        vertical-align: top;\n",
              "    }\n",
              "\n",
              "    .dataframe thead th {\n",
              "        text-align: right;\n",
              "    }\n",
              "</style>\n",
              "<table border=\"1\" class=\"dataframe\">\n",
              "  <thead>\n",
              "    <tr style=\"text-align: right;\">\n",
              "      <th></th>\n",
              "      <th>Price</th>\n",
              "    </tr>\n",
              "  </thead>\n",
              "  <tbody>\n",
              "    <tr>\n",
              "      <th>count</th>\n",
              "      <td>246.000000</td>\n",
              "    </tr>\n",
              "    <tr>\n",
              "      <th>mean</th>\n",
              "      <td>6596.853659</td>\n",
              "    </tr>\n",
              "    <tr>\n",
              "      <th>std</th>\n",
              "      <td>9554.054996</td>\n",
              "    </tr>\n",
              "    <tr>\n",
              "      <th>min</th>\n",
              "      <td>675.000000</td>\n",
              "    </tr>\n",
              "    <tr>\n",
              "      <th>25%</th>\n",
              "      <td>2115.500000</td>\n",
              "    </tr>\n",
              "    <tr>\n",
              "      <th>50%</th>\n",
              "      <td>3108.500000</td>\n",
              "    </tr>\n",
              "    <tr>\n",
              "      <th>75%</th>\n",
              "      <td>6030.000000</td>\n",
              "    </tr>\n",
              "    <tr>\n",
              "      <th>max</th>\n",
              "      <td>55000.000000</td>\n",
              "    </tr>\n",
              "  </tbody>\n",
              "</table>\n",
              "</div>"
            ],
            "text/plain": [
              "              Price\n",
              "count    246.000000\n",
              "mean    6596.853659\n",
              "std     9554.054996\n",
              "min      675.000000\n",
              "25%     2115.500000\n",
              "50%     3108.500000\n",
              "75%     6030.000000\n",
              "max    55000.000000"
            ]
          },
          "metadata": {
            "tags": []
          },
          "execution_count": 75
        }
      ]
    },
    {
      "cell_type": "code",
      "metadata": {
        "id": "PCtYTrCoF8Gh",
        "colab_type": "code",
        "outputId": "5aa577f3-7674-46b4-b95c-2187f8729680",
        "colab": {
          "base_uri": "https://localhost:8080/",
          "height": 34
        }
      },
      "source": [
        "stdev=np.std(npa)\n",
        "stdev1=np.std(npa1)\n",
        "stdev2=np.std(npa2)\n",
        "print(stdev,stdev1,stdev2)"
      ],
      "execution_count": 76,
      "outputs": [
        {
          "output_type": "stream",
          "text": [
            "9534.61641034422 68.43560865450989 708.8648251386962\n"
          ],
          "name": "stdout"
        }
      ]
    },
    {
      "cell_type": "code",
      "metadata": {
        "id": "EU4RgzAwMVXn",
        "colab_type": "code",
        "colab": {
          "base_uri": "https://localhost:8080/",
          "height": 68
        },
        "outputId": "c904c608-0022-448a-f35c-8077536d2ace"
      },
      "source": [
        "print(np.amin(npa),np.amax(npa))\n",
        "print(np.amin(npa1),np.amax(npa1))\n",
        "print(np.amin(npa2),np.amax(npa2))"
      ],
      "execution_count": 77,
      "outputs": [
        {
          "output_type": "stream",
          "text": [
            "675 55000\n",
            "10 350\n",
            "1 7500\n"
          ],
          "name": "stdout"
        }
      ]
    },
    {
      "cell_type": "code",
      "metadata": {
        "id": "nRb0nWC4Ee3I",
        "colab_type": "code",
        "colab": {}
      },
      "source": [
        "from scipy.stats import gaussian_kde\n",
        "def kde_scipy(x, x_grid, bandwidth, **kwargs):\n",
        "    \"\"\"Kernel Density Estimation with Scipy\"\"\"\n",
        "    # Note that scipy weights its bandwidth by the covariance of the\n",
        "    # input data.  To make the results comparable to the other methods,\n",
        "    # we divide the bandwidth by the sample standard deviation here.\n",
        "    kde = gaussian_kde(x, bw_method=bandwidth / x.std(ddof=1), **kwargs)\n",
        "    return kde.evaluate(x_grid)"
      ],
      "execution_count": 0,
      "outputs": []
    },
    {
      "cell_type": "code",
      "metadata": {
        "id": "PBAlRD6kEe3K",
        "colab_type": "code",
        "outputId": "5ed13dc7-4de7-40ad-c174-526aa4f0f1eb",
        "colab": {
          "base_uri": "https://localhost:8080/",
          "height": 286
        }
      },
      "source": [
        "y_grid=np.linspace(0,60000,1000)\n",
        "ideal=1.06*(np.std(npa))*((len(npa)**(-1/5)))\n",
        "pdf = kde_scipy(npa, y_grid, bandwidth=ideal/2)\n",
        "plt.plot(y_grid, pdf, color='blue', alpha=1, lw=1)"
      ],
      "execution_count": 79,
      "outputs": [
        {
          "output_type": "execute_result",
          "data": {
            "text/plain": [
              "[<matplotlib.lines.Line2D at 0x7fb77eb5eda0>]"
            ]
          },
          "metadata": {
            "tags": []
          },
          "execution_count": 79
        },
        {
          "output_type": "display_data",
          "data": {
            "image/png": "[encoded data removed]",
            "text/plain": [
              "<Figure size 432x288 with 1 Axes>"
            ]
          },
          "metadata": {
            "tags": []
          }
        }
      ]
    },
    {
      "cell_type": "code",
      "metadata": {
        "id": "TzAdVqipNti5",
        "colab_type": "code",
        "colab": {
          "base_uri": "https://localhost:8080/",
          "height": 286
        },
        "outputId": "9a785eae-69e5-4c74-a822-a01a9be80e9c"
      },
      "source": [
        "y_grid1=np.linspace(np.amin(npa1),np.amax(npa1),1000)\n",
        "ideal1=1.06*(np.std(npa1))*((len(npa1)**(-1/5)))\n",
        "pdf1 = kde_scipy(npa1, y_grid1, bandwidth=ideal1)\n",
        "plt.plot(y_grid1, pdf1, color='blue', alpha=1, lw=1)"
      ],
      "execution_count": 80,
      "outputs": [
        {
          "output_type": "execute_result",
          "data": {
            "text/plain": [
              "[<matplotlib.lines.Line2D at 0x7fb77eabfb00>]"
            ]
          },
          "metadata": {
            "tags": []
          },
          "execution_count": 80
        },
        {
          "output_type": "display_data",
          "data": {
            "image/png": "[encoded data removed]",
            "text/plain": [
              "<Figure size 432x288 with 1 Axes>"
            ]
          },
          "metadata": {
            "tags": []
          }
        }
      ]
    },
    {
      "cell_type": "code",
      "metadata": {
        "id": "Y3reUnhuOQh0",
        "colab_type": "code",
        "colab": {
          "base_uri": "https://localhost:8080/",
          "height": 286
        },
        "outputId": "af011486-b5bd-4711-bf3a-610cdd32fbf6"
      },
      "source": [
        "y_grid2=np.linspace(np.amin(npa2),np.amax(npa2),1000)\n",
        "ideal2=1.06*(np.std(npa2))*((len(npa2)**(-1/5)))\n",
        "pdf2 = kde_scipy(npa2, y_grid2, bandwidth=ideal1*1.8)\n",
        "plt.plot(y_grid2[:200], pdf2[:200], color='blue', alpha=1, lw=1)"
      ],
      "execution_count": 92,
      "outputs": [
        {
          "output_type": "execute_result",
          "data": {
            "text/plain": [
              "[<matplotlib.lines.Line2D at 0x7fb77ea19748>]"
            ]
          },
          "metadata": {
            "tags": []
          },
          "execution_count": 92
        },
        {
          "output_type": "display_data",
          "data": {
            "image/png": "[encoded data removed]",
            "text/plain": [
              "<Figure size 432x288 with 1 Axes>"
            ]
          },
          "metadata": {
            "tags": []
          }
        }
      ]
    },
    {
      "cell_type": "code",
      "metadata": {
        "id": "yLFkxtdUJNj-",
        "colab_type": "code",
        "outputId": "5e31da22-e424-4dfe-a2c9-1b8a88e6eb91",
        "colab": {
          "base_uri": "https://localhost:8080/",
          "height": 34
        }
      },
      "source": [
        "w=60\n",
        "w1=(np.amax(npa1)-np.amin(npa1))/1000\n",
        "w2=(np.amax(npa2)-np.amin(npa2))/1000\n",
        "print(np.sum(pdf)*60,np.sum(pdf1)*w1,np.sum(pdf2)*w2)"
      ],
      "execution_count": 82,
      "outputs": [
        {
          "output_type": "stream",
          "text": [
            "0.935348379935688 0.9313466269338372 0.9974179862079754\n"
          ],
          "name": "stdout"
        }
      ]
    },
    {
      "cell_type": "code",
      "metadata": {
        "id": "00CBOvWMH7WT",
        "colab_type": "code",
        "outputId": "81729c5f-00fb-4f22-d685-ed599e219018",
        "colab": {
          "base_uri": "https://localhost:8080/",
          "height": 51
        }
      },
      "source": [
        "f_peak=argrelextrema(pdf, np.greater)[0][0]\n",
        "for q in range(f_peak):\n",
        "  if np.sum(pdf[f_peak-q:f_peak+q])*60 > 0.5:\n",
        "    print(np.sum(pdf[f_peak-q:f_peak+q])*60,q)\n",
        "    break\n",
        "print((f_peak-q)*60,(f_peak+q)*60)"
      ],
      "execution_count": 89,
      "outputs": [
        {
          "output_type": "stream",
          "text": [
            "0.5020798337819504 34\n",
            "540 4620\n"
          ],
          "name": "stdout"
        }
      ]
    },
    {
      "cell_type": "code",
      "metadata": {
        "id": "7mS56QZLQhrN",
        "colab_type": "code",
        "colab": {
          "base_uri": "https://localhost:8080/",
          "height": 51
        },
        "outputId": "e48955f0-2f64-409e-fff2-be41d7949e7a"
      },
      "source": [
        "f_peak1=argrelextrema(pdf1, np.greater)[0][0]\n",
        "q=0\n",
        "for q in range(f_peak1):\n",
        "  if np.sum(pdf1[f_peak1-q:f_peak1+2*q])*w1 > 0.5:\n",
        "    print(np.sum(pdf1[f_peak1-q:f_peak1+2*q])*w1,q)\n",
        "    break\n",
        "print((f_peak1-q)*w1,(f_peak1+2*q)*w1)"
      ],
      "execution_count": 93,
      "outputs": [
        {
          "output_type": "stream",
          "text": [
            "0.6023735189854029 116\n",
            "9.180000000000001 127.50000000000001\n"
          ],
          "name": "stdout"
        }
      ]
    },
    {
      "cell_type": "code",
      "metadata": {
        "id": "rFq5MSF4QiNI",
        "colab_type": "code",
        "colab": {
          "base_uri": "https://localhost:8080/",
          "height": 51
        },
        "outputId": "63685003-57e1-40c2-9d4a-f47a7f1a8dfb"
      },
      "source": [
        "f_peak2=argrelextrema(pdf2, np.greater)[0][0]\n",
        "for q in range(f_peak2):\n",
        "  if np.sum(pdf2[f_peak2-q:f_peak2+q])*w2 > 0.5:\n",
        "    print(np.sum(pdf2[f_peak2-q:f_peak2+q])*w2,q)\n",
        "    break\n",
        "print((f_peak2-q)*w2,(f_peak2+q)*w2)"
      ],
      "execution_count": 91,
      "outputs": [
        {
          "output_type": "stream",
          "text": [
            "0.5060159849230291 26\n",
            "164.97799999999998 554.9259999999999\n"
          ],
          "name": "stdout"
        }
      ]
    },
    {
      "cell_type": "code",
      "metadata": {
        "id": "AfI6YOdoEe3O",
        "colab_type": "code",
        "outputId": "cad703a0-532b-489b-ca67-f82d2d20d42a",
        "colab": {
          "base_uri": "https://localhost:8080/",
          "height": 283
        }
      },
      "source": [
        "sns.distplot(drilldf['Price'][1:]);"
      ],
      "execution_count": 0,
      "outputs": [
        {
          "output_type": "display_data",
          "data": {
            "image/png": "[encoded data removed]",
            "text/plain": [
              "<Figure size 432x288 with 1 Axes>"
            ]
          },
          "metadata": {
            "tags": []
          }
        }
      ]
    },
    {
      "cell_type": "code",
      "metadata": {
        "id": "R7E0O6foEe3R",
        "colab_type": "code",
        "colab": {}
      },
      "source": [
        "sns.distplot(df_train['Price'][1:], fit=norm);\n",
        "fig = plt.figure()\n",
        "res = stats.probplot(df_train['Price'][1:], plot=plt)"
      ],
      "execution_count": 0,
      "outputs": []
    },
    {
      "cell_type": "code",
      "metadata": {
        "id": "SlJC57DyEe3V",
        "colab_type": "code",
        "colab": {}
      },
      "source": [
        "plt.scatter(drilldf['Price'],array);"
      ],
      "execution_count": 0,
      "outputs": []
    },
    {
      "cell_type": "code",
      "metadata": {
        "id": "2-t0l3WLEe3a",
        "colab_type": "code",
        "colab": {}
      },
      "source": [
        "array=np.arange(247)+1;array"
      ],
      "execution_count": 0,
      "outputs": []
    },
    {
      "cell_type": "code",
      "metadata": {
        "id": "FfdJlg2SEe3f",
        "colab_type": "code",
        "colab": {}
      },
      "source": [
        ""
      ],
      "execution_count": 0,
      "outputs": []
    }
  ]
}