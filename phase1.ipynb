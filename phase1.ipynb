{
  "nbformat": 4,
  "nbformat_minor": 0,
  "metadata": {
    "colab": {
      "name": "Copy of phase1.ipynb",
      "version": "0.3.2",
      "provenance": []
    },
    "language_info": {
      "codemirror_mode": {
        "name": "ipython",
        "version": 3
      },
      "file_extension": ".py",
      "mimetype": "text/x-python",
      "name": "python",
      "nbconvert_exporter": "python",
      "pygments_lexer": "ipython3",
      "version": "3.6.5"
    },
    "kernelspec": {
      "display_name": "Python 3",
      "language": "python",
      "name": "python3"
    }
  },
  "cells": [
    {
      "cell_type": "markdown",
      "metadata": {
        "id": "0v9ps2nJa0qC",
        "colab_type": "text"
      },
      "source": [
        "# Phase-1 IndiaMART Hackathon\n",
        "This notebook is a working prototype solution to gauge the appropriate unit wise price range for the 3 categories(Gloves,Kurtas,Drills) based on their units by removing outliers from the data.\n",
        "\n",
        "**Instructions for running this notebook**\n",
        "\n",
        "\n",
        "*   Jupyter notebook is needed to run this notebook if it is not available Please use Colab from google  to run it.\n",
        "*   required libraries to run this notebook are pandas,numpy,seaborn and scipy.\n",
        "*   Incase you are running this notebook please make sure all **.csv** files are uploaded \n",
        "\n",
        "\n",
        "\n",
        "\n",
        "\n",
        "\n",
        "\n",
        "\n",
        "\n"
      ]
    },
    {
      "cell_type": "code",
      "metadata": {
        "id": "YokkO0iBEe2t",
        "colab_type": "code",
        "colab": {}
      },
      "source": [
        "import pandas as pd\n",
        "import matplotlib.pyplot as plt\n",
        "import seaborn as sns\n",
        "import numpy as np\n",
        "from scipy.stats import norm\n",
        "from scipy.signal import argrelextrema\n",
        "from scipy import stats"
      ],
      "execution_count": 0,
      "outputs": []
    },
    {
      "cell_type": "markdown",
      "metadata": {
        "id": "VSxTFtO7idsg",
        "colab_type": "text"
      },
      "source": [
        "we can import the required data either from the folder or our git repository.\n",
        "The given .xlsx file is split into Three parts and and converted to .csv file which is easy to handle."
      ]
    },
    {
      "cell_type": "code",
      "metadata": {
        "id": "V_JxW7kwEe2x",
        "colab_type": "code",
        "colab": {}
      },
      "source": [
        "try:\n",
        "  drilldf = pd.read_csv('./phaseone-drill.csv')\n",
        "  glovedf = pd.read_csv('./phaseone-gloves.csv')\n",
        "  kurtadf = pd.read_csv('./phaseone-kurta.csv')\n",
        "except:\n",
        "  try:\n",
        "    drilldf = pd.read_csv('https://raw.githubusercontent.com/nik299/IndiaMart-Hackathon-2k19/master/phaseone-drill.csv')\n",
        "    glovedf = pd.read_csv('https://raw.githubusercontent.com/nik299/IndiaMart-Hackathon-2k19/master/phaseone-gloves.csv')\n",
        "    kurtadf = pd.read_csv('https://raw.githubusercontent.com/nik299/IndiaMart-Hackathon-2k19/master/phaseone-kurta.csv')\n",
        "  except:\n",
        "    print(\"no file found and no internet connection\")\n"
      ],
      "execution_count": 0,
      "outputs": []
    },
    {
      "cell_type": "markdown",
      "metadata": {
        "id": "daJD4M3eoS6G",
        "colab_type": "text"
      },
      "source": [
        "the following piece of code prints out all unique units of the three item given"
      ]
    },
    {
      "cell_type": "code",
      "metadata": {
        "id": "-dHGmh-5Ee24",
        "colab_type": "code",
        "outputId": "159dba1a-81f5-4ec7-9d95-dae4ee1d08ec",
        "colab": {
          "base_uri": "https://localhost:8080/",
          "height": 289
        }
      },
      "source": [
        "drill_units=drilldf['Unit'].unique()\n",
        "print(drill_units,'drills')\n",
        "glove_units=glovedf['Unit'].unique()\n",
        "print(glove_units,'gloves')\n",
        "kurta_units=kurtadf['Unit'].unique()\n",
        "print(kurta_units,'kurtas')"
      ],
      "execution_count": 3,
      "outputs": [
        {
          "output_type": "stream",
          "text": [
            "['Piece' 'Piece(s)' 'pack' 'unit' 'Number' 'Unit' 'Pack' '1nos' 'Unit(s)'\n",
            " 'kit' 'Set' 'Pc_Onwards' 'ONWARDS' 'Kit'] drills\n",
            "['Pair' 'Piece' 'pack' 'Unit' 'Pack' 'Unit/Onwards' 'Pair(s)' 'unit' 'Set'\n",
            " 'Pieces'] gloves\n",
            "['Piece' 'dollar' 'Packet' 'piece' 'Meter' 'Piece(s)' 'Set' 'Per piece'\n",
            " 'Unit' '1' '1pc' 'Box' '170 per peice' 'Unstitch' 'Barrel' 'Carton'\n",
            " 'peice' 'Pieces' 'Sets' 'Unit(s)' 'one' 'Bag' 'Selfie Kurtis' 'Pack'\n",
            " 'Pair' 'Pound' 'Peice' '1piece' 'No' 'Kilogram' 'Number' \"40' Container\"\n",
            " 'pack' '100 pic' 'Year' \"20' Container\" 'Pcs' 'Piece(s) Onwards' 'One'\n",
            " 'kurtI' 'Ounce' 'onwards' '10-10000' 'per piese' 'Day' 'Set(s)'\n",
            " '12 units' '1pis' 'Onwards' 'One peace' 'Set(S)' 'Pair piece' 'Ounce(s)'\n",
            " 'Packet(s)' 'Single' 'one pcs' 'Pc' '4 pcs' '4 units' '5' 'set' 'kurti'\n",
            " 'pcs' 'pices' 'Pics' 'single piece' 'pi' 'per piece' 'Kurti' 'one unit'\n",
            " '1 piece' '1 pice' 'Suit' 'pair piece' '10' 'pieces' '1pcs' '1 pc'\n",
            " '3 set' 'Xl size' '1000 per unit' '1pcd' 'Psc' 'Gram' 'Rs' 'in' '1 pcs'\n",
            " 'Feet' 'onepices'] kurtas\n"
          ],
          "name": "stdout"
        }
      ]
    },
    {
      "cell_type": "markdown",
      "metadata": {
        "id": "0s7fEGG0o6T4",
        "colab_type": "text"
      },
      "source": [
        "The following three cells prints out the count of each unique unts."
      ]
    },
    {
      "cell_type": "code",
      "metadata": {
        "id": "7dKAIEMGEe28",
        "colab_type": "code",
        "outputId": "c27d8d67-7bd0-467f-cf8c-472a5e660b87",
        "colab": {
          "base_uri": "https://localhost:8080/",
          "height": 272
        }
      },
      "source": [
        "drilldf['Unit'].value_counts()"
      ],
      "execution_count": 4,
      "outputs": [
        {
          "output_type": "execute_result",
          "data": {
            "text/plain": [
              "Piece         119\n",
              "pack           47\n",
              "unit           25\n",
              "Unit           17\n",
              "Number         14\n",
              "Pack            9\n",
              "Pc_Onwards      5\n",
              "Piece(s)        5\n",
              "Set             1\n",
              "Unit(s)         1\n",
              "kit             1\n",
              "Kit             1\n",
              "ONWARDS         1\n",
              "1nos            1\n",
              "Name: Unit, dtype: int64"
            ]
          },
          "metadata": {
            "tags": []
          },
          "execution_count": 4
        }
      ]
    },
    {
      "cell_type": "code",
      "metadata": {
        "id": "_aMEixII92Ku",
        "colab_type": "code",
        "outputId": "1cc6ecf9-2328-41e2-bf96-0f81866c9efe",
        "colab": {
          "base_uri": "https://localhost:8080/",
          "height": 204
        }
      },
      "source": [
        "glovedf['Unit'].value_counts()"
      ],
      "execution_count": 5,
      "outputs": [
        {
          "output_type": "execute_result",
          "data": {
            "text/plain": [
              "Pair            113\n",
              "unit              9\n",
              "Piece             6\n",
              "pack              5\n",
              "Unit              3\n",
              "Pack              3\n",
              "Pair(s)           2\n",
              "Set               1\n",
              "Pieces            1\n",
              "Unit/Onwards      1\n",
              "Name: Unit, dtype: int64"
            ]
          },
          "metadata": {
            "tags": []
          },
          "execution_count": 5
        }
      ]
    },
    {
      "cell_type": "code",
      "metadata": {
        "id": "_2f3W73W92vW",
        "colab_type": "code",
        "outputId": "22768fed-8605-4ad2-c71d-86f82989d7be",
        "colab": {
          "base_uri": "https://localhost:8080/",
          "height": 1071
        }
      },
      "source": [
        "kurtadf['Unit'].value_counts()\n"
      ],
      "execution_count": 6,
      "outputs": [
        {
          "output_type": "execute_result",
          "data": {
            "text/plain": [
              "Piece               3334\n",
              "Piece(s)             500\n",
              "1                     76\n",
              "Unit                  63\n",
              "Set                   43\n",
              "Onwards               39\n",
              "piece                 38\n",
              "No                    37\n",
              "Number                23\n",
              "Bag                   23\n",
              "Pair                  17\n",
              "Pack                  13\n",
              "Pieces                13\n",
              "Unit(s)               11\n",
              "Box                    9\n",
              "onwards                9\n",
              "20' Container          6\n",
              "40' Container          5\n",
              "Set(s)                 5\n",
              "Ounce                  4\n",
              "Packet                 4\n",
              "one                    3\n",
              "1pc                    3\n",
              "Meter                  3\n",
              "kurti                  3\n",
              "Psc                    3\n",
              "1piece                 3\n",
              "peice                  3\n",
              "1 pice                 2\n",
              "One                    2\n",
              "                    ... \n",
              "dollar                 1\n",
              "Feet                   1\n",
              "Unstitch               1\n",
              "pcs                    1\n",
              "Pcs                    1\n",
              "1pcd                   1\n",
              "Xl size                1\n",
              "100 pic                1\n",
              "Year                   1\n",
              "one unit               1\n",
              "in                     1\n",
              "onepices               1\n",
              "1 pc                   1\n",
              "Piece(s) Onwards       1\n",
              "10-10000               1\n",
              "1pis                   1\n",
              "Peice                  1\n",
              "4 units                1\n",
              "pi                     1\n",
              "Pair piece             1\n",
              "kurtI                  1\n",
              "Selfie Kurtis          1\n",
              "pair piece             1\n",
              "3 set                  1\n",
              "1000 per unit          1\n",
              "Ounce(s)               1\n",
              "Gram                   1\n",
              "Kurti                  1\n",
              "170 per peice          1\n",
              "Sets                   1\n",
              "Name: Unit, Length: 89, dtype: int64"
            ]
          },
          "metadata": {
            "tags": []
          },
          "execution_count": 6
        }
      ]
    },
    {
      "cell_type": "markdown",
      "metadata": {
        "id": "gMo3-4EasS61",
        "colab_type": "text"
      },
      "source": [
        "# Calculating Z-score\n",
        "Z-score is meausure of how much given sample is deviating compared to Standaed deviation.\n",
        "In python the function is available in scipy.stats which we are using in the following cells\n",
        "\n",
        "**note:**we are calculating only abolsolute values as sign of z-score doesn't matter in finding outliers\n",
        "\n",
        "\n",
        "\n",
        "\n"
      ]
    },
    {
      "cell_type": "code",
      "metadata": {
        "id": "iebcrhEEEDId",
        "colab_type": "code",
        "colab": {}
      },
      "source": [
        "drill_z = np.abs(stats.zscore(drilldf['Price']))\n",
        "glove_z = np.abs(stats.zscore(glovedf.loc[glovedf['Unit']=='Pair']['Price']))\n",
        "kurta_z = np.abs(stats.zscore(kurtadf.loc[((kurtadf['Unit']=='Piece') | (kurtadf['Unit']=='Piece(s)'))]['Price']))"
      ],
      "execution_count": 0,
      "outputs": []
    },
    {
      "cell_type": "markdown",
      "metadata": {
        "id": "YPxPlQ3GtSRL",
        "colab_type": "text"
      },
      "source": [
        "After obtaing z-score we are not considering all entries whse z-score is greater than 3 or less than -3 and also we are considering only some units values as unit conversion is not as indicative as the sugar example given."
      ]
    },
    {
      "cell_type": "code",
      "metadata": {
        "id": "I-o75iBmEe2_",
        "colab_type": "code",
        "colab": {}
      },
      "source": [
        "drill_ol=drilldf[(drill_z < 3)]\n",
        "npa=drilldf[(drill_z < 3)]['Price']\n",
        "npa1=glovedf.loc[glovedf['Unit']=='Pair'][(glove_z < 3)]['Price']\n",
        "npa2=kurtadf.loc[((kurtadf['Unit']=='Piece') | (kurtadf['Unit']=='Piece(s)'))][(kurta_z < 3)]['Price'][:-1]"
      ],
      "execution_count": 0,
      "outputs": []
    },
    {
      "cell_type": "markdown",
      "metadata": {
        "id": "SQXO07qSg6Na",
        "colab_type": "text"
      },
      "source": [
        "The following 3 cells describe the data taken for consideration"
      ]
    },
    {
      "cell_type": "code",
      "metadata": {
        "id": "Qc9raGLAgckP",
        "colab_type": "code",
        "outputId": "49e52d60-678f-4d2f-aada-9b4bdffc7350",
        "colab": {
          "base_uri": "https://localhost:8080/",
          "height": 297
        }
      },
      "source": [
        "drilldf[(drill_z < 3)].describe()"
      ],
      "execution_count": 9,
      "outputs": [
        {
          "output_type": "execute_result",
          "data": {
            "text/html": [
              "<div>\n",
              "<style scoped>\n",
              "    .dataframe tbody tr th:only-of-type {\n",
              "        vertical-align: middle;\n",
              "    }\n",
              "\n",
              "    .dataframe tbody tr th {\n",
              "        vertical-align: top;\n",
              "    }\n",
              "\n",
              "    .dataframe thead th {\n",
              "        text-align: right;\n",
              "    }\n",
              "</style>\n",
              "<table border=\"1\" class=\"dataframe\">\n",
              "  <thead>\n",
              "    <tr style=\"text-align: right;\">\n",
              "      <th></th>\n",
              "      <th>Price</th>\n",
              "    </tr>\n",
              "  </thead>\n",
              "  <tbody>\n",
              "    <tr>\n",
              "      <th>count</th>\n",
              "      <td>238.000000</td>\n",
              "    </tr>\n",
              "    <tr>\n",
              "      <th>mean</th>\n",
              "      <td>5106.016807</td>\n",
              "    </tr>\n",
              "    <tr>\n",
              "      <th>std</th>\n",
              "      <td>5777.683116</td>\n",
              "    </tr>\n",
              "    <tr>\n",
              "      <th>min</th>\n",
              "      <td>2.000000</td>\n",
              "    </tr>\n",
              "    <tr>\n",
              "      <th>25%</th>\n",
              "      <td>2100.000000</td>\n",
              "    </tr>\n",
              "    <tr>\n",
              "      <th>50%</th>\n",
              "      <td>2954.000000</td>\n",
              "    </tr>\n",
              "    <tr>\n",
              "      <th>75%</th>\n",
              "      <td>5638.500000</td>\n",
              "    </tr>\n",
              "    <tr>\n",
              "      <th>max</th>\n",
              "      <td>35000.000000</td>\n",
              "    </tr>\n",
              "  </tbody>\n",
              "</table>\n",
              "</div>"
            ],
            "text/plain": [
              "              Price\n",
              "count    238.000000\n",
              "mean    5106.016807\n",
              "std     5777.683116\n",
              "min        2.000000\n",
              "25%     2100.000000\n",
              "50%     2954.000000\n",
              "75%     5638.500000\n",
              "max    35000.000000"
            ]
          },
          "metadata": {
            "tags": []
          },
          "execution_count": 9
        }
      ]
    },
    {
      "cell_type": "code",
      "metadata": {
        "id": "pF0IYXASgUee",
        "colab_type": "code",
        "outputId": "23c78bbd-0680-46c7-f42e-94c6a8d7a287",
        "colab": {
          "base_uri": "https://localhost:8080/",
          "height": 297
        }
      },
      "source": [
        "glovedf.loc[glovedf['Unit']=='Pair'][(glove_z < 3)].describe()"
      ],
      "execution_count": 10,
      "outputs": [
        {
          "output_type": "execute_result",
          "data": {
            "text/html": [
              "<div>\n",
              "<style scoped>\n",
              "    .dataframe tbody tr th:only-of-type {\n",
              "        vertical-align: middle;\n",
              "    }\n",
              "\n",
              "    .dataframe tbody tr th {\n",
              "        vertical-align: top;\n",
              "    }\n",
              "\n",
              "    .dataframe thead th {\n",
              "        text-align: right;\n",
              "    }\n",
              "</style>\n",
              "<table border=\"1\" class=\"dataframe\">\n",
              "  <thead>\n",
              "    <tr style=\"text-align: right;\">\n",
              "      <th></th>\n",
              "      <th>Price</th>\n",
              "    </tr>\n",
              "  </thead>\n",
              "  <tbody>\n",
              "    <tr>\n",
              "      <th>count</th>\n",
              "      <td>112.000000</td>\n",
              "    </tr>\n",
              "    <tr>\n",
              "      <th>mean</th>\n",
              "      <td>100.348214</td>\n",
              "    </tr>\n",
              "    <tr>\n",
              "      <th>std</th>\n",
              "      <td>64.894469</td>\n",
              "    </tr>\n",
              "    <tr>\n",
              "      <th>min</th>\n",
              "      <td>10.000000</td>\n",
              "    </tr>\n",
              "    <tr>\n",
              "      <th>25%</th>\n",
              "      <td>48.750000</td>\n",
              "    </tr>\n",
              "    <tr>\n",
              "      <th>50%</th>\n",
              "      <td>80.000000</td>\n",
              "    </tr>\n",
              "    <tr>\n",
              "      <th>75%</th>\n",
              "      <td>170.000000</td>\n",
              "    </tr>\n",
              "    <tr>\n",
              "      <th>max</th>\n",
              "      <td>250.000000</td>\n",
              "    </tr>\n",
              "  </tbody>\n",
              "</table>\n",
              "</div>"
            ],
            "text/plain": [
              "            Price\n",
              "count  112.000000\n",
              "mean   100.348214\n",
              "std     64.894469\n",
              "min     10.000000\n",
              "25%     48.750000\n",
              "50%     80.000000\n",
              "75%    170.000000\n",
              "max    250.000000"
            ]
          },
          "metadata": {
            "tags": []
          },
          "execution_count": 10
        }
      ]
    },
    {
      "cell_type": "code",
      "metadata": {
        "id": "7FXyP-a689Mv",
        "colab_type": "code",
        "outputId": "8d2578c6-9943-41a2-c158-539a36f7ba64",
        "colab": {
          "base_uri": "https://localhost:8080/",
          "height": 297
        }
      },
      "source": [
        "kurtadf.loc[((kurtadf['Unit']=='Piece') | (kurtadf['Unit']=='Piece(s)'))][(kurta_z < 3)].describe()"
      ],
      "execution_count": 11,
      "outputs": [
        {
          "output_type": "execute_result",
          "data": {
            "text/html": [
              "<div>\n",
              "<style scoped>\n",
              "    .dataframe tbody tr th:only-of-type {\n",
              "        vertical-align: middle;\n",
              "    }\n",
              "\n",
              "    .dataframe tbody tr th {\n",
              "        vertical-align: top;\n",
              "    }\n",
              "\n",
              "    .dataframe thead th {\n",
              "        text-align: right;\n",
              "    }\n",
              "</style>\n",
              "<table border=\"1\" class=\"dataframe\">\n",
              "  <thead>\n",
              "    <tr style=\"text-align: right;\">\n",
              "      <th></th>\n",
              "      <th>Price</th>\n",
              "    </tr>\n",
              "  </thead>\n",
              "  <tbody>\n",
              "    <tr>\n",
              "      <th>count</th>\n",
              "      <td>3821.000000</td>\n",
              "    </tr>\n",
              "    <tr>\n",
              "      <th>mean</th>\n",
              "      <td>696.981942</td>\n",
              "    </tr>\n",
              "    <tr>\n",
              "      <th>std</th>\n",
              "      <td>675.809564</td>\n",
              "    </tr>\n",
              "    <tr>\n",
              "      <th>min</th>\n",
              "      <td>1.000000</td>\n",
              "    </tr>\n",
              "    <tr>\n",
              "      <th>25%</th>\n",
              "      <td>325.000000</td>\n",
              "    </tr>\n",
              "    <tr>\n",
              "      <th>50%</th>\n",
              "      <td>500.000000</td>\n",
              "    </tr>\n",
              "    <tr>\n",
              "      <th>75%</th>\n",
              "      <td>800.000000</td>\n",
              "    </tr>\n",
              "    <tr>\n",
              "      <th>max</th>\n",
              "      <td>6589.000000</td>\n",
              "    </tr>\n",
              "  </tbody>\n",
              "</table>\n",
              "</div>"
            ],
            "text/plain": [
              "             Price\n",
              "count  3821.000000\n",
              "mean    696.981942\n",
              "std     675.809564\n",
              "min       1.000000\n",
              "25%     325.000000\n",
              "50%     500.000000\n",
              "75%     800.000000\n",
              "max    6589.000000"
            ]
          },
          "metadata": {
            "tags": []
          },
          "execution_count": 11
        }
      ]
    },
    {
      "cell_type": "markdown",
      "metadata": {
        "id": "NG_Ijss11-As",
        "colab_type": "text"
      },
      "source": [
        "The following cell is used to store standard deviation which is very important to calculate the bandwidth in later part"
      ]
    },
    {
      "cell_type": "code",
      "metadata": {
        "id": "PCtYTrCoF8Gh",
        "colab_type": "code",
        "outputId": "85b05c92-a7cf-49fe-b9b1-8135f81c994e",
        "colab": {
          "base_uri": "https://localhost:8080/",
          "height": 34
        }
      },
      "source": [
        "stdev=np.std(npa)\n",
        "stdev1=np.std(npa1)\n",
        "stdev2=np.std(npa2)\n",
        "print(stdev,stdev1,stdev2)"
      ],
      "execution_count": 12,
      "outputs": [
        {
          "output_type": "stream",
          "text": [
            "5765.5323498379985 64.60411168657322 669.0502683105965\n"
          ],
          "name": "stdout"
        }
      ]
    },
    {
      "cell_type": "markdown",
      "metadata": {
        "id": "jh2vYAYr2g1S",
        "colab_type": "text"
      },
      "source": [
        "# Kernel Density estimation method for calculation of Probabilty Disribution Function\n",
        "we are using probability distribution function for find ing require range as pdf is more suitable for finding relationship in general population.\n",
        "\n",
        "kernel Density Estimation is useful method for calculating pdf from discret samples.\n",
        "\n"
      ]
    },
    {
      "cell_type": "code",
      "metadata": {
        "id": "nRb0nWC4Ee3I",
        "colab_type": "code",
        "colab": {}
      },
      "source": [
        "from scipy.stats import gaussian_kde\n",
        "def kde_scipy(x, x_grid, bandwidth, **kwargs):\n",
        "    \"\"\"Kernel Density Estimation with Scipy\"\"\"\n",
        "    # Note that scipy weights its bandwidth by the covariance of the\n",
        "    # input data.  To make the results comparable to the other methods,\n",
        "    # we divide the bandwidth by the sample standard deviation here.\n",
        "    kde = gaussian_kde(x, bw_method=bandwidth / x.std(ddof=1), **kwargs)\n",
        "    return kde.evaluate(x_grid)"
      ],
      "execution_count": 0,
      "outputs": []
    },
    {
      "cell_type": "code",
      "metadata": {
        "id": "PBAlRD6kEe3K",
        "colab_type": "code",
        "outputId": "531017b3-08e5-41ab-ec83-f6ba544e51d2",
        "colab": {
          "base_uri": "https://localhost:8080/",
          "height": 295
        }
      },
      "source": [
        "y_grid=np.linspace(np.amin(npa)-(np.amax(npa)-np.amin(npa))*0.4,np.amax(npa)+(np.amax(npa)-np.amin(npa))*0.4,10000)\n",
        "ideal=1.06*(np.std(npa))*((len(npa)**(-1/5)))\n",
        "pdf = kde_scipy(npa, y_grid, bandwidth=ideal)\n",
        "plt.plot(y_grid, pdf, color='blue', alpha=1, lw=1)\n",
        "plt.title('PDF for drill')\n",
        "plt.xlabel('Price')\n",
        "plt.show()"
      ],
      "execution_count": 14,
      "outputs": [
        {
          "output_type": "display_data",
          "data": {
            "image/png": "[encoded data removed]",
            "text/plain": [
              "<Figure size 432x288 with 1 Axes>"
            ]
          },
          "metadata": {
            "tags": []
          }
        }
      ]
    },
    {
      "cell_type": "code",
      "metadata": {
        "id": "TzAdVqipNti5",
        "colab_type": "code",
        "outputId": "522d678d-ce9e-41ad-df0f-49d3ba90a8f5",
        "colab": {
          "base_uri": "https://localhost:8080/",
          "height": 295
        }
      },
      "source": [
        "y_grid1=np.linspace(np.amin(npa1)-(np.amax(npa1)-np.amin(npa1))*0.4,np.amax(npa1)+(np.amax(npa1)-np.amin(npa1))*0.4,10000)\n",
        "ideal1=1.06*(np.std(npa1))*((len(npa1)**(-1/5)))\n",
        "pdf1 = kde_scipy(npa1, y_grid1, bandwidth=ideal1)\n",
        "plt.plot(y_grid1, pdf1, color='blue', alpha=1, lw=1)\n",
        "plt.title('PDF for gloves')\n",
        "plt.xlabel('Price')\n",
        "plt.show()"
      ],
      "execution_count": 15,
      "outputs": [
        {
          "output_type": "display_data",
          "data": {
            "image/png": "[encoded data removed]",
            "text/plain": [
              "<Figure size 432x288 with 1 Axes>"
            ]
          },
          "metadata": {
            "tags": []
          }
        }
      ]
    },
    {
      "cell_type": "code",
      "metadata": {
        "id": "Y3reUnhuOQh0",
        "colab_type": "code",
        "outputId": "359aeb73-6b70-416d-a59e-2f93405d5a20",
        "colab": {
          "base_uri": "https://localhost:8080/",
          "height": 295
        }
      },
      "source": [
        "y_grid2=np.linspace(-(np.amax(npa2)-np.amin(npa2))*0.05,np.amax(npa2)*1.05,10000)\n",
        "ideal2=1.06*(np.std(npa2))*((len(npa2)**(-1/5)))\n",
        "pdf2 = kde_scipy(npa2, y_grid2, bandwidth=ideal2)\n",
        "plt.plot(y_grid2, pdf2, color='blue', alpha=1, lw=1)\n",
        "plt.title('PDF for kurta')\n",
        "plt.xlabel('Price')\n",
        "plt.show()"
      ],
      "execution_count": 16,
      "outputs": [
        {
          "output_type": "display_data",
          "data": {
            "image/png": "[encoded data removed]",
            "text/plain": [
              "<Figure size 432x288 with 1 Axes>"
            ]
          },
          "metadata": {
            "tags": []
          }
        }
      ]
    },
    {
      "cell_type": "code",
      "metadata": {
        "id": "yLFkxtdUJNj-",
        "colab_type": "code",
        "outputId": "b9e8f254-0282-43ad-8e31-fbc636b9ba25",
        "colab": {
          "base_uri": "https://localhost:8080/",
          "height": 34
        }
      },
      "source": [
        "w=((np.amax(npa)-np.amin(npa))*1.8)/10000\n",
        "w1=((np.amax(npa1)-np.amin(npa1))*1.8)/10000\n",
        "w2=((np.amax(npa2)-np.amin(npa2))*0.05+np.amax(npa2)*1.05)/10000\n",
        "print(np.sum(pdf)*w,np.sum(pdf1)*w1,np.sum(pdf2)*w2)"
      ],
      "execution_count": 17,
      "outputs": [
        {
          "output_type": "stream",
          "text": [
            "0.9998999999999422 0.9998891844204684 0.9998524408904884\n"
          ],
          "name": "stdout"
        }
      ]
    },
    {
      "cell_type": "code",
      "metadata": {
        "id": "jHBGAYDqMYTC",
        "colab_type": "code",
        "outputId": "b6027584-f2f7-46e7-8616-a98e4f175dc0",
        "colab": {
          "base_uri": "https://localhost:8080/",
          "height": 34
        }
      },
      "source": [
        "pdf_area=np.zeros(len(pdf)-1)\n",
        "for a in range(len(pdf_area)):\n",
        "  pdf_area[a]=(pdf[a]+pdf[a+1])*(w/2)\n",
        "print(np.sum(pdf_area))\n"
      ],
      "execution_count": 18,
      "outputs": [
        {
          "output_type": "stream",
          "text": [
            "0.9998999999999414\n"
          ],
          "name": "stdout"
        }
      ]
    },
    {
      "cell_type": "markdown",
      "metadata": {
        "id": "js_jelVdRZVy",
        "colab_type": "text"
      },
      "source": [
        "before going to calculation for area we need to make sure that probability of a product price below Rupees 0 is 0( for PDF calculated above we have finite probability for price less than 0 ) we can usee bayes theorem to re calculate the PDF.\n",
        "\n",
        "\\begin{equation*}\n",
        "PDF(x | Price > 0)   = \\frac{probab(x>0)*PDF(x)}{probab(Price >0)}\n",
        "\\end{equation*}\n",
        "here PDF(x) is the pdf function \n",
        "\n",
        "probab(price >0) is probabilty that price >0 which sum of area under pdf for price >0\n",
        "\n",
        "probab(x>0) is eiter 1 or 0 depending on x"
      ]
    },
    {
      "cell_type": "code",
      "metadata": {
        "id": "JYvorUBqVTYU",
        "colab_type": "code",
        "colab": {
          "base_uri": "https://localhost:8080/",
          "height": 312
        },
        "outputId": "518d0e19-9682-4bcd-be3b-a0fc143b7458"
      },
      "source": [
        "for a in range(len(pdf)):\n",
        "  if y_grid[a] > 0:\n",
        "    break\n",
        "probab=np.sum(pdf[a:])*w\n",
        "for a in range(len(pdf)):\n",
        "  if y_grid[a] > 0:\n",
        "    break\n",
        "  pdf[a]=0\n",
        "pdf=pdf/probab\n",
        "print(np.sum(pdf)*w)\n",
        "plt.plot(y_grid, pdf, color='blue', alpha=1, lw=1)\n",
        "plt.title('PDF for drill')\n",
        "plt.xlabel('Price')\n",
        "plt.show()"
      ],
      "execution_count": 19,
      "outputs": [
        {
          "output_type": "stream",
          "text": [
            "0.9999999999999999\n"
          ],
          "name": "stdout"
        },
        {
          "output_type": "display_data",
          "data": {
            "image/png": "[encoded data removed]",
            "text/plain": [
              "<Figure size 432x288 with 1 Axes>"
            ]
          },
          "metadata": {
            "tags": []
          }
        }
      ]
    },
    {
      "cell_type": "code",
      "metadata": {
        "id": "PS6R3R45aBfN",
        "colab_type": "code",
        "colab": {
          "base_uri": "https://localhost:8080/",
          "height": 295
        },
        "outputId": "ae2a50b9-ac40-45b6-82fa-ff8012e2e086"
      },
      "source": [
        "for a in range(len(pdf1)):\n",
        "  if y_grid1[a] > 0:\n",
        "    break\n",
        "probab1=np.sum(pdf1[a:])*w1\n",
        "for a in range(len(pdf1)):\n",
        "  if y_grid1[a] > 0:\n",
        "    break\n",
        "  pdf1[a]=0\n",
        "pdf1=pdf1/probab1\n",
        "plt.plot(y_grid1, pdf1, color='blue', alpha=1, lw=1)\n",
        "plt.title('PDF for gloves')\n",
        "plt.xlabel('Price')\n",
        "plt.show()"
      ],
      "execution_count": 20,
      "outputs": [
        {
          "output_type": "display_data",
          "data": {
            "image/png": "[encoded data removed]",
            "text/plain": [
              "<Figure size 432x288 with 1 Axes>"
            ]
          },
          "metadata": {
            "tags": []
          }
        }
      ]
    },
    {
      "cell_type": "code",
      "metadata": {
        "id": "3ZJm7QQXaBSO",
        "colab_type": "code",
        "colab": {
          "base_uri": "https://localhost:8080/",
          "height": 295
        },
        "outputId": "5f5a07df-2205-499c-ab37-49d6fcbcbf51"
      },
      "source": [
        "for a in range(len(pdf2)):\n",
        "  if y_grid2[a] > 0:\n",
        "    break\n",
        "probab2=np.sum(pdf2[a:])*w2\n",
        "for a in range(len(pdf2)):\n",
        "  if y_grid2[a] > 0:\n",
        "    break\n",
        "  pdf2[a]=0\n",
        "pdf2=pdf2/probab2\n",
        "plt.plot(y_grid2, pdf2, color='blue', alpha=1, lw=1)\n",
        "plt.title('PDF for kurta')\n",
        "plt.xlabel('Price')\n",
        "plt.show()"
      ],
      "execution_count": 21,
      "outputs": [
        {
          "output_type": "display_data",
          "data": {
            "image/png": "[encoded data removed]",
            "text/plain": [
              "<Figure size 432x288 with 1 Axes>"
            ]
          },
          "metadata": {
            "tags": []
          }
        }
      ]
    },
    {
      "cell_type": "markdown",
      "metadata": {
        "id": "2-gcDmLQhisW",
        "colab_type": "text"
      },
      "source": [
        "# Range calculation from PDF \n",
        "we used 2 methods for calculating a range they are \n",
        "\n",
        "1.   finding the peak and finding a range which covers 50% of the area under pdf and having peak as mean point of that range(it means there is 50% chance for a product to be in that range) this ensures price which has maximum entries lies in that region\n",
        "\n",
        "2.   finding the smallest range which covers majority of the region(we can use range which covers 50% of the region)the advantage with this method is it ensures ranges is minimum.\n",
        "\n"
      ]
    },
    {
      "cell_type": "code",
      "metadata": {
        "id": "00CBOvWMH7WT",
        "colab_type": "code",
        "outputId": "112f20c2-3098-4020-dfbe-5b26027aced6",
        "colab": {
          "base_uri": "https://localhost:8080/",
          "height": 51
        }
      },
      "source": [
        "f_peak=argrelextrema(pdf, np.greater)[0][0]\n",
        "for q in range(f_peak):\n",
        "  if np.sum(pdf[f_peak-q:f_peak+q])*w > 0.5:\n",
        "    print(np.sum(pdf[f_peak-q:f_peak+q])*w,q)\n",
        "    break\n",
        "print('This is the range obtained for drill ',np.round((f_peak-q)*w+np.amin(npa)-(np.amax(npa)-np.amin(npa))*0.4),np.round((f_peak+q)*w+np.amin(npa)-(np.amax(npa)-np.amin(npa))*0.4))"
      ],
      "execution_count": 22,
      "outputs": [
        {
          "output_type": "stream",
          "text": [
            "0.501110079294637 305\n",
            "This is the range obtained for drill  744.0 4587.0\n"
          ],
          "name": "stdout"
        }
      ]
    },
    {
      "cell_type": "code",
      "metadata": {
        "id": "7mS56QZLQhrN",
        "colab_type": "code",
        "outputId": "8fad07b3-701c-4156-d958-a89d262c0b91",
        "colab": {
          "base_uri": "https://localhost:8080/",
          "height": 51
        }
      },
      "source": [
        "f_peak1=argrelextrema(pdf1, np.greater)[0][0]\n",
        "q=0\n",
        "for q in range(f_peak1):\n",
        "  if np.sum(pdf1[f_peak1-q:f_peak1+2*q])*w1 > 0.5:\n",
        "    print(np.sum(pdf1[f_peak1-q:f_peak1+2*q])*w1,q)\n",
        "    break\n",
        "print('This is the range obtained for gloves ',np.round((f_peak1-q)*w1+np.amin(npa1)-(np.amax(npa1)-np.amin(npa1))*0.4),np.round((f_peak1+2*q)*w1+np.amin(npa1)-(np.amax(npa1)-np.amin(npa1))*0.4))"
      ],
      "execution_count": 23,
      "outputs": [
        {
          "output_type": "stream",
          "text": [
            "0.5002862757644444 633\n",
            "This is the range obtained for gloves  31.0 113.0\n"
          ],
          "name": "stdout"
        }
      ]
    },
    {
      "cell_type": "code",
      "metadata": {
        "id": "rFq5MSF4QiNI",
        "colab_type": "code",
        "outputId": "8690de1b-310c-4d32-b30c-fc91addedfca",
        "colab": {
          "base_uri": "https://localhost:8080/",
          "height": 51
        }
      },
      "source": [
        "f_peak2=argrelextrema(pdf2, np.greater)[0][0]\n",
        "for q in range(f_peak2):\n",
        "  if np.sum(pdf2[f_peak2-q:f_peak2+q])*w2 > 0.5:\n",
        "    print(np.sum(pdf2[f_peak2-q:f_peak2+q])*w2,q)\n",
        "    break\n",
        "print('This is the range obtained for Kurta ',np.round((f_peak2-q)*w2-(np.amax(npa2)-np.amin(npa2))*0.05),np.round((f_peak2+q)*w2-(np.amax(npa2)-np.amin(npa2))*0.05))"
      ],
      "execution_count": 24,
      "outputs": [
        {
          "output_type": "stream",
          "text": [
            "0.500915190216567 301\n",
            "This is the range obtained for Kurta  190.0 620.0\n"
          ],
          "name": "stdout"
        }
      ]
    },
    {
      "cell_type": "code",
      "metadata": {
        "id": "43E_-ON6Xgsh",
        "colab_type": "code",
        "outputId": "f92ea730-c8e6-43db-dbcf-f88c5bc64b27",
        "colab": {
          "base_uri": "https://localhost:8080/",
          "height": 51
        }
      },
      "source": [
        "qq1=len(pdf)\n",
        "for q in range(len(pdf)):\n",
        "  for p in range(len(pdf)-(q+1)):\n",
        "     if np.sum(pdf[p:p+q+1])*w > 0.5:\n",
        "        print(np.sum(pdf[p:p+q+1])*w,p,q)\n",
        "        break\n",
        "  if np.sum(pdf[p:p+q+1])*w > 0.5:\n",
        "    break\n",
        "print('This is the range obtained for drill ',np.round((p)*w+np.amin(npa)-(np.amax(npa)-np.amin(npa))*0.4),np.round((p+q+1)*w+np.amin(npa)-(np.amax(npa)-np.amin(npa))*0.4))  \n",
        "     \n",
        "        "
      ],
      "execution_count": 25,
      "outputs": [
        {
          "output_type": "stream",
          "text": [
            "0.5000128339010116 2349 607\n",
            "This is the range obtained for drill  801.0 4631.0\n"
          ],
          "name": "stdout"
        }
      ]
    },
    {
      "cell_type": "code",
      "metadata": {
        "id": "iS3Nmo98wL7L",
        "colab_type": "code",
        "outputId": "9ec888ba-ac40-4cf7-eb57-85320d819522",
        "colab": {
          "base_uri": "https://localhost:8080/",
          "height": 51
        }
      },
      "source": [
        "qq2=len(pdf1)\n",
        "for q in range(len(pdf1)):\n",
        "  for p in range(len(pdf1)-(q+1)):\n",
        "     if np.sum(pdf1[p:p+q+1])*w1 > 0.5:\n",
        "        print(np.sum(pdf1[p:p+q+1])*w1,p,q)\n",
        "        break\n",
        "  if np.sum(pdf1[p:p+q+1])*w1 > 0.5:\n",
        "    break\n",
        "print('This is the range obtained for gloves ',np.round((p)*w1+np.amin(npa1)-(np.amax(npa1)-np.amin(npa1))*0.4),np.round((p+q+1)*w1+np.amin(npa1)-(np.amax(npa1)-np.amin(npa1))*0.4))  \n",
        " "
      ],
      "execution_count": 26,
      "outputs": [
        {
          "output_type": "stream",
          "text": [
            "0.5000041449101842 2463 1841\n",
            "This is the range obtained for gloves  20.0 100.0\n"
          ],
          "name": "stdout"
        }
      ]
    },
    {
      "cell_type": "code",
      "metadata": {
        "id": "5jp7a2JZ3b9f",
        "colab_type": "code",
        "outputId": "fdc7c1e4-0050-430a-c682-5731d6d420ca",
        "colab": {
          "base_uri": "https://localhost:8080/",
          "height": 51
        }
      },
      "source": [
        "qq3=len(pdf2)\n",
        "for q in range(len(pdf2)):\n",
        "  for p in range(len(pdf2)-(q+1)):\n",
        "     if np.sum(pdf2[p:p+q+1])*w2 > 0.6:\n",
        "        print(np.sum(pdf2[p:p+q+1])*w2,p,q)\n",
        "        break\n",
        "  if np.sum(pdf2[p:p+q+1])*w2 > 0.6:\n",
        "    break\n",
        "print('This is the range obtained for Kurta ',np.round((p)*w2-(np.amax(npa2)-np.amin(npa2))*0.05),np.round((p+q+1)*w2-(np.amax(npa2)-np.amin(npa2))*0.05))"
      ],
      "execution_count": 27,
      "outputs": [
        {
          "output_type": "stream",
          "text": [
            "0.6000021871120567 667 768\n",
            "This is the range obtained for Kurta  152.0 702.0\n"
          ],
          "name": "stdout"
        }
      ]
    }
  ]
}
