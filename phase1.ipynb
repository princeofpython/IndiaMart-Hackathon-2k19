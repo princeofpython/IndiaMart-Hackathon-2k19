{
 "cells": [
  {
   "cell_type": "markdown",
   "metadata": {
    "colab_type": "text",
    "id": "0v9ps2nJa0qC"
   },
   "source": [
<<<<<<< HEAD
    "# Phase-1 IndiaMART Hackathon\n",
=======
    "# Phase-1 IndiaMart Hackathon\n",
>>>>>>> nikversion
    "This notebook is a working prototype solution to gauge the appropriate unit wise price range for the 3 categories(Gloves,Kurtas,Drills) based on their units by removing outliers from the data.\n",
    "\n",
    "**Instructions for running this notebook**\n",
    "\n",
    "\n",
<<<<<<< HEAD
    "*   Jupyter notebook is needed to run this notebook if it is not available Please use Colab from google  to run it.\n",
=======
    "*   Jupyter notebook is needed to run this notebook, if it is not available, Please use Colab from google  to run it.\n",
>>>>>>> nikversion
    "*   required libraries to run this notebook are pandas,numpy,seaborn and scipy.\n",
    "*   Incase you are running this notebook please make sure all **.csv** files are uploaded \n",
    "\n",
    "\n",
    "\n",
    "\n",
    "\n",
    "\n",
    "\n",
    "\n",
    "\n"
   ]
  },
  {
   "cell_type": "code",
   "execution_count": 0,
   "metadata": {
    "colab": {},
    "colab_type": "code",
    "id": "YokkO0iBEe2t"
   },
   "outputs": [],
   "source": [
    "import pandas as pd\n",
    "import matplotlib.pyplot as plt\n",
    "import seaborn as sns\n",
    "import numpy as np\n",
    "from scipy.stats import norm\n",
    "from scipy.signal import argrelextrema\n",
    "from scipy import stats"
   ]
  },
  {
   "cell_type": "markdown",
   "metadata": {
    "colab_type": "text",
    "id": "VSxTFtO7idsg"
   },
   "source": [
<<<<<<< HEAD
    "we can import the required data either from the folder or our git repository.\n",
=======
    "We can import the required data either from the folder or our git repository.\n",
>>>>>>> nikversion
    "The given .xlsx file is split into Three parts and and converted to .csv file which is easy to handle."
   ]
  },
  {
   "cell_type": "code",
   "execution_count": 0,
   "metadata": {
    "colab": {},
    "colab_type": "code",
    "id": "V_JxW7kwEe2x"
   },
   "outputs": [],
   "source": [
    "try:\n",
<<<<<<< HEAD
    "  drilldf = pd.read_csv('./phaseone-drill.csv')\n",
    "  glovedf = pd.read_csv('./phaseone-gloves.csv')\n",
    "  kurtadf = pd.read_csv('./phaseone-kurta.csv')\n",
    "except:\n",
    "  try:\n",
    "    drilldf = pd.read_csv('https://raw.githubusercontent.com/nik299/IndiaMart-Hackathon-2k19/master/phaseone-drill.csv')\n",
    "    glovedf = pd.read_csv('https://raw.githubusercontent.com/nik299/IndiaMart-Hackathon-2k19/master/phaseone-gloves.csv')\n",
    "    kurtadf = pd.read_csv('https://raw.githubusercontent.com/nik299/IndiaMart-Hackathon-2k19/master/phaseone-kurta.csv')\n",
    "  except:\n",
    "    print(\"no file found and no internet connection\")\n"
=======
    "    drilldf = pd.read_csv('./phaseone-drill.csv')\n",
    "    glovedf = pd.read_csv('./phaseone-gloves.csv')\n",
    "    kurtadf = pd.read_csv('./phaseone-kurta.csv')\n",
    "except:\n",
    "    try:\n",
    "        drilldf = pd.read_csv('https://raw.githubusercontent.com/nik299/IndiaMart-Hackathon-2k19/master/phaseone-drill.csv')\n",
    "        glovedf = pd.read_csv('https://raw.githubusercontent.com/nik299/IndiaMart-Hackathon-2k19/master/phaseone-gloves.csv')\n",
    "        kurtadf = pd.read_csv('https://raw.githubusercontent.com/nik299/IndiaMart-Hackathon-2k19/master/phaseone-kurta.csv')\n",
    "    except:\n",
    "        print(\"no file found and no internet connection\")\n"
>>>>>>> nikversion
   ]
  },
  {
   "cell_type": "markdown",
   "metadata": {
    "colab_type": "text",
    "id": "daJD4M3eoS6G"
   },
   "source": [
<<<<<<< HEAD
    "the following piece of code prints out all unique units of the three item given"
=======
    "The following piece of code prints out all unique units of the three item given."
>>>>>>> nikversion
   ]
  },
  {
   "cell_type": "code",
<<<<<<< HEAD
   "execution_count": 5,
=======
   "execution_count": 3,
>>>>>>> nikversion
   "metadata": {
    "colab": {
     "base_uri": "https://localhost:8080/",
     "height": 289
    },
    "colab_type": "code",
    "id": "-dHGmh-5Ee24",
<<<<<<< HEAD
    "outputId": "f80ae834-79ca-44a6-8e77-d9634cb823c3"
=======
    "outputId": "f85b9171-60a6-43a2-ce9c-534d15034d49"
>>>>>>> nikversion
   },
   "outputs": [
    {
     "name": "stdout",
     "output_type": "stream",
     "text": [
      "['Piece' 'Piece(s)' 'pack' 'unit' 'Number' 'Unit' 'Pack' '1nos' 'Unit(s)'\n",
      " 'kit' 'Set' 'Pc_Onwards' 'ONWARDS' 'Kit'] drills\n",
      "['Pair' 'Piece' 'pack' 'Unit' 'Pack' 'Unit/Onwards' 'Pair(s)' 'unit' 'Set'\n",
      " 'Pieces'] gloves\n",
      "['Piece' 'dollar' 'Packet' 'piece' 'Meter' 'Piece(s)' 'Set' 'Per piece'\n",
      " 'Unit' '1' '1pc' 'Box' '170 per peice' 'Unstitch' 'Barrel' 'Carton'\n",
      " 'peice' 'Pieces' 'Sets' 'Unit(s)' 'one' 'Bag' 'Selfie Kurtis' 'Pack'\n",
      " 'Pair' 'Pound' 'Peice' '1piece' 'No' 'Kilogram' 'Number' \"40' Container\"\n",
      " 'pack' '100 pic' 'Year' \"20' Container\" 'Pcs' 'Piece(s) Onwards' 'One'\n",
      " 'kurtI' 'Ounce' 'onwards' '10-10000' 'per piese' 'Day' 'Set(s)'\n",
      " '12 units' '1pis' 'Onwards' 'One peace' 'Set(S)' 'Pair piece' 'Ounce(s)'\n",
      " 'Packet(s)' 'Single' 'one pcs' 'Pc' '4 pcs' '4 units' '5' 'set' 'kurti'\n",
      " 'pcs' 'pices' 'Pics' 'single piece' 'pi' 'per piece' 'Kurti' 'one unit'\n",
      " '1 piece' '1 pice' 'Suit' 'pair piece' '10' 'pieces' '1pcs' '1 pc'\n",
      " '3 set' 'Xl size' '1000 per unit' '1pcd' 'Psc' 'Gram' 'Rs' 'in' '1 pcs'\n",
      " 'Feet' 'onepices'] kurtas\n"
     ]
    }
   ],
   "source": [
    "drill_units=drilldf['Unit'].unique()\n",
    "print(drill_units,'drills')\n",
    "glove_units=glovedf['Unit'].unique()\n",
    "print(glove_units,'gloves')\n",
    "kurta_units=kurtadf['Unit'].unique()\n",
    "print(kurta_units,'kurtas')"
   ]
  },
  {
   "cell_type": "markdown",
   "metadata": {
    "colab_type": "text",
    "id": "0s7fEGG0o6T4"
   },
   "source": [
<<<<<<< HEAD
    "The following three cells prints out the count of each unique unts."
=======
    "## Cleaning Data"
   ]
  },
  {
   "cell_type": "markdown",
   "metadata": {
    "colab_type": "text",
    "id": "oJNmCLo-CN1i"
   },
   "source": [
    "### Impact Drill\n",
    "\n",
    "First we will check count of each unique unit."
>>>>>>> nikversion
   ]
  },
  {
   "cell_type": "code",
<<<<<<< HEAD
   "execution_count": 6,
=======
   "execution_count": 4,
>>>>>>> nikversion
   "metadata": {
    "colab": {
     "base_uri": "https://localhost:8080/",
     "height": 272
<<<<<<< HEAD
    },
    "colab_type": "code",
    "id": "7dKAIEMGEe28",
    "outputId": "7a841d49-c97f-4f24-bd52-ad487122dc7c"
=======
    },
    "colab_type": "code",
    "id": "7dKAIEMGEe28",
    "outputId": "d67ee6cb-c2c9-4f71-fdd1-866ca2db0bd8"
   },
   "outputs": [
    {
     "data": {
      "text/plain": [
       "Piece         119\n",
       "pack           47\n",
       "unit           25\n",
       "Unit           17\n",
       "Number         14\n",
       "Pack            9\n",
       "Pc_Onwards      5\n",
       "Piece(s)        5\n",
       "kit             1\n",
       "Kit             1\n",
       "Unit(s)         1\n",
       "1nos            1\n",
       "ONWARDS         1\n",
       "Set             1\n",
       "Name: Unit, dtype: int64"
      ]
     },
     "execution_count": 4,
     "metadata": {
      "tags": []
     },
     "output_type": "execute_result"
    }
   ],
   "source": [
    "drilldf['Unit'].value_counts()"
   ]
  },
  {
   "cell_type": "markdown",
   "metadata": {
    "colab_type": "text",
    "id": "7qYkmH3XCN1o"
   },
   "source": [
    "Following units are unsignificant in Impact Drill dataframe.\n",
    "\n",
    "'Pc_Onwards', 'ONWARDS', 'Set', 'Kit', 'kit'\n",
    "\n",
    "We have to remove them."
   ]
  },
  {
   "cell_type": "code",
   "execution_count": 0,
   "metadata": {
    "colab": {},
    "colab_type": "code",
    "id": "PdSXEYLjCN1p"
   },
   "outputs": [],
   "source": [
    "removal=['Pc_Onwards', 'ONWARDS', 'Set', 'Kit', 'kit']\n",
    "for each in removal:\n",
    "    drilldf=drilldf.drop(drilldf[(drilldf['Unit']==each)].index)"
   ]
  },
  {
   "cell_type": "markdown",
   "metadata": {
    "colab_type": "text",
    "id": "N8XIxBYMCN1t"
   },
   "source": [
    "Let us assume that all other units, are trying to represent a single piece of impact drill. So, drill dataframe is cleaned. Below table represents the description of data."
   ]
  },
  {
   "cell_type": "code",
   "execution_count": 6,
   "metadata": {
    "colab": {
     "base_uri": "https://localhost:8080/",
     "height": 297
    },
    "colab_type": "code",
    "id": "L4TS8a3uCN1u",
    "outputId": "44017982-edcf-4c30-8263-bf5b4aa999ba"
   },
   "outputs": [
    {
     "data": {
      "text/html": [
       "<div>\n",
       "<style scoped>\n",
       "    .dataframe tbody tr th:only-of-type {\n",
       "        vertical-align: middle;\n",
       "    }\n",
       "\n",
       "    .dataframe tbody tr th {\n",
       "        vertical-align: top;\n",
       "    }\n",
       "\n",
       "    .dataframe thead th {\n",
       "        text-align: right;\n",
       "    }\n",
       "</style>\n",
       "<table border=\"1\" class=\"dataframe\">\n",
       "  <thead>\n",
       "    <tr style=\"text-align: right;\">\n",
       "      <th></th>\n",
       "      <th>Price</th>\n",
       "    </tr>\n",
       "  </thead>\n",
       "  <tbody>\n",
       "    <tr>\n",
       "      <th>count</th>\n",
       "      <td>238.000000</td>\n",
       "    </tr>\n",
       "    <tr>\n",
       "      <th>mean</th>\n",
       "      <td>6571.428571</td>\n",
       "    </tr>\n",
       "    <tr>\n",
       "      <th>std</th>\n",
       "      <td>9709.722619</td>\n",
       "    </tr>\n",
       "    <tr>\n",
       "      <th>min</th>\n",
       "      <td>2.000000</td>\n",
       "    </tr>\n",
       "    <tr>\n",
       "      <th>25%</th>\n",
       "      <td>2100.000000</td>\n",
       "    </tr>\n",
       "    <tr>\n",
       "      <th>50%</th>\n",
       "      <td>2999.500000</td>\n",
       "    </tr>\n",
       "    <tr>\n",
       "      <th>75%</th>\n",
       "      <td>5939.000000</td>\n",
       "    </tr>\n",
       "    <tr>\n",
       "      <th>max</th>\n",
       "      <td>55000.000000</td>\n",
       "    </tr>\n",
       "  </tbody>\n",
       "</table>\n",
       "</div>"
      ],
      "text/plain": [
       "              Price\n",
       "count    238.000000\n",
       "mean    6571.428571\n",
       "std     9709.722619\n",
       "min        2.000000\n",
       "25%     2100.000000\n",
       "50%     2999.500000\n",
       "75%     5939.000000\n",
       "max    55000.000000"
      ]
     },
     "execution_count": 6,
     "metadata": {
      "tags": []
     },
     "output_type": "execute_result"
    }
   ],
   "source": [
    "drilldf.describe()"
   ]
  },
  {
   "cell_type": "markdown",
   "metadata": {
    "colab_type": "text",
    "id": "1uiWOEUZCN10"
   },
   "source": [
    "This is a normal scatter plot of Price."
   ]
  },
  {
   "cell_type": "code",
   "execution_count": 7,
   "metadata": {
    "colab": {
     "base_uri": "https://localhost:8080/",
     "height": 269
    },
    "colab_type": "code",
    "id": "cNwjGx52CN11",
    "outputId": "b6b25d2d-ab6e-4574-aa09-c0cd3588bdfc"
   },
   "outputs": [
    {
     "data": {
      "image/png": "iVBORw0KGgoAAAANSUhEUgAAAXoAAAD8CAYAAAB5Pm/hAAAABHNCSVQICAgIfAhkiAAAAAlwSFlz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\nSUVORK5CYII=\n",
      "text/plain": [
       "<Figure size 432x288 with 1 Axes>"
      ]
     },
     "metadata": {
      "tags": []
     },
     "output_type": "display_data"
    }
   ],
   "source": [
    "array=np.arange(238)\n",
    "plt.scatter(drilldf['Price'],array);"
   ]
  },
  {
   "cell_type": "markdown",
   "metadata": {
    "colab_type": "text",
    "id": "erHoA_NXCN15"
   },
   "source": [
    "### Leather safety gloves"
   ]
  },
  {
   "cell_type": "markdown",
   "metadata": {
    "colab_type": "text",
    "id": "YnB6_d7WCN16"
   },
   "source": [
    "Let us know the count of each unique unit."
   ]
  },
  {
   "cell_type": "code",
   "execution_count": 8,
   "metadata": {
    "colab": {
     "base_uri": "https://localhost:8080/",
     "height": 204
    },
    "colab_type": "code",
    "id": "_aMEixII92Ku",
    "outputId": "4f802f56-f4b4-447c-fb5a-539b1bd842cc"
   },
   "outputs": [
    {
     "data": {
      "text/plain": [
       "Pair            113\n",
       "unit              9\n",
       "Piece             6\n",
       "pack              5\n",
       "Pack              3\n",
       "Unit              3\n",
       "Pair(s)           2\n",
       "Pieces            1\n",
       "Unit/Onwards      1\n",
       "Set               1\n",
       "Name: Unit, dtype: int64"
      ]
     },
     "execution_count": 8,
     "metadata": {
      "tags": []
     },
     "output_type": "execute_result"
    }
   ],
   "source": [
    "glovedf['Unit'].value_counts()"
   ]
  },
  {
   "cell_type": "markdown",
   "metadata": {
    "colab_type": "text",
    "id": "i63jcndjCN1-"
   },
   "source": [
    "Some of the above units like 'Pack', 'Set', 'pack' are unsignificant as we do not know how many are inside that. 'Unit/Onwards' is also unsignificant as that is like a starting range for the product. We assume remaining all units 'Pair', 'Piece', 'pack', 'Unit','Pair(s)' 'unit', 'Pieces' are trying to represent the same, which is 'Pair', a pair of leather gloves."
   ]
  },
  {
   "cell_type": "code",
   "execution_count": 0,
   "metadata": {
    "colab": {},
    "colab_type": "code",
    "id": "hy86gIR3CN1_"
   },
   "outputs": [],
   "source": [
    "glovedf=glovedf.drop(glovedf[(glovedf['Unit']=='Pack')].index)\n",
    "glovedf=glovedf.drop(glovedf[(glovedf['Unit']=='pack')].index)\n",
    "glovedf=glovedf.drop(glovedf[(glovedf['Unit']=='Set')].index)"
   ]
  },
  {
   "cell_type": "markdown",
   "metadata": {
    "colab_type": "text",
    "id": "ff0RrdboCN2B"
   },
   "source": [
    "Let us know the mean price of each significant unit."
   ]
  },
  {
   "cell_type": "code",
   "execution_count": 10,
   "metadata": {
    "colab": {
     "base_uri": "https://localhost:8080/",
     "height": 187
    },
    "colab_type": "code",
    "id": "Naa1mT5WCN2D",
    "outputId": "39482632-7b27-4eaf-cd46-a59541b867cc"
   },
   "outputs": [
    {
     "name": "stdout",
     "output_type": "stream",
     "text": [
      "Pair 102.5575221238938\n",
      "Piece 136.66666666666666\n",
      "pack nan\n",
      "Unit 318.6666666666667\n",
      "Pack nan\n",
      "Unit/Onwards 100.0\n",
      "Pair(s) 315.0\n",
      "unit 2442.777777777778\n",
      "Set nan\n",
      "Pieces 695.0\n"
     ]
    }
   ],
   "source": [
    "for each in glove_units:\n",
    "    print(each,glovedf[glovedf['Unit']==each]['Price'].mean())"
   ]
  },
  {
   "cell_type": "markdown",
   "metadata": {
    "colab_type": "text",
    "id": "SvVoUx77CN2H"
   },
   "source": [
    "Below table represents the description of data."
   ]
  },
  {
   "cell_type": "code",
   "execution_count": 11,
   "metadata": {
    "colab": {
     "base_uri": "https://localhost:8080/",
     "height": 297
    },
    "colab_type": "code",
    "id": "7MceVdgECN2I",
    "outputId": "27116f27-8299-47e6-d19a-1cc7c56d0c4f"
   },
   "outputs": [
    {
     "data": {
      "text/html": [
       "<div>\n",
       "<style scoped>\n",
       "    .dataframe tbody tr th:only-of-type {\n",
       "        vertical-align: middle;\n",
       "    }\n",
       "\n",
       "    .dataframe tbody tr th {\n",
       "        vertical-align: top;\n",
       "    }\n",
       "\n",
       "    .dataframe thead th {\n",
       "        text-align: right;\n",
       "    }\n",
       "</style>\n",
       "<table border=\"1\" class=\"dataframe\">\n",
       "  <thead>\n",
       "    <tr style=\"text-align: right;\">\n",
       "      <th></th>\n",
       "      <th>Price</th>\n",
       "    </tr>\n",
       "  </thead>\n",
       "  <tbody>\n",
       "    <tr>\n",
       "      <th>count</th>\n",
       "      <td>135.000000</td>\n",
       "    </tr>\n",
       "    <tr>\n",
       "      <th>mean</th>\n",
       "      <td>272.407407</td>\n",
       "    </tr>\n",
       "    <tr>\n",
       "      <th>std</th>\n",
       "      <td>898.047453</td>\n",
       "    </tr>\n",
       "    <tr>\n",
       "      <th>min</th>\n",
       "      <td>10.000000</td>\n",
       "    </tr>\n",
       "    <tr>\n",
       "      <th>25%</th>\n",
       "      <td>50.000000</td>\n",
       "    </tr>\n",
       "    <tr>\n",
       "      <th>50%</th>\n",
       "      <td>90.000000</td>\n",
       "    </tr>\n",
       "    <tr>\n",
       "      <th>75%</th>\n",
       "      <td>180.000000</td>\n",
       "    </tr>\n",
       "    <tr>\n",
       "      <th>max</th>\n",
       "      <td>8978.000000</td>\n",
       "    </tr>\n",
       "  </tbody>\n",
       "</table>\n",
       "</div>"
      ],
      "text/plain": [
       "             Price\n",
       "count   135.000000\n",
       "mean    272.407407\n",
       "std     898.047453\n",
       "min      10.000000\n",
       "25%      50.000000\n",
       "50%      90.000000\n",
       "75%     180.000000\n",
       "max    8978.000000"
      ]
     },
     "execution_count": 11,
     "metadata": {
      "tags": []
     },
     "output_type": "execute_result"
    }
   ],
   "source": [
    "glovedf.describe()"
   ]
  },
  {
   "cell_type": "markdown",
   "metadata": {
    "colab_type": "text",
    "id": "iM58OnJfCN2L"
   },
   "source": [
    "This is a normal scatter plot of Price."
   ]
  },
  {
   "cell_type": "code",
   "execution_count": 12,
   "metadata": {
    "colab": {
     "base_uri": "https://localhost:8080/",
     "height": 269
    },
    "colab_type": "code",
    "id": "T55ZxcbSCN2M",
    "outputId": "1af44098-1e93-4ada-cda1-e97b9ac02073"
   },
   "outputs": [
    {
     "data": {
      "image/png": "iVBORw0KGgoAAAANSUhEUgAAAXoAAAD8CAYAAAB5Pm/hAAAABHNCSVQICAgIfAhkiAAAAAlwSFlz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\nAAAASUVORK5CYII=\n",
      "text/plain": [
       "<Figure size 432x288 with 1 Axes>"
      ]
     },
     "metadata": {
      "tags": []
     },
     "output_type": "display_data"
    }
   ],
   "source": [
    "array=np.arange(135)\n",
    "plt.scatter(glovedf['Price'],array);"
   ]
  },
  {
   "cell_type": "markdown",
   "metadata": {
    "colab_type": "text",
    "id": "gt7xjoVqCN2R"
   },
   "source": [
    "### Ladies Kurta\n",
    "\n",
    "In kurta dataframe, there are many meaningless units (Unsignificant to be specific). \n",
    "Those are 'dollar', 'Packet', 'Meter', 'Set', 'Box', '170 per peice', 'Unstitch', 'Barrel', 'Carton', 'Sets', 'Bag', 'Selfie Kurtis', 'Pack', 'Pair', 'Pound', 'Kilogram', \"40' Container\", 'pack', '100 pic', 'Year', \"20' Container\", 'Ounce', '10-10000', 'Day', 'Set(s)', 'Set(S)', 'Pair piece', 'Ounce(s)', 'Packet(s)', 'set', 'Suit', 'pair piece', '3 set', 'Gram', 'Rs', 'Feet', '1000 per unit','in','5','10','Piece(s) Onwards','onwards','Onwards','Xl size'. Let us remove them all."
   ]
  },
  {
   "cell_type": "code",
   "execution_count": 0,
   "metadata": {
    "colab": {},
    "colab_type": "code",
    "id": "JxAup3-3CN2T"
   },
   "outputs": [],
   "source": [
    "removal=['dollar', 'Packet', 'Meter', 'Set', 'Box', '170 per peice', 'Unstitch', 'Barrel', 'Carton', 'Sets', 'Bag', 'Selfie Kurtis', 'Pack', 'Pair', 'Pound', 'Kilogram', \"40' Container\", 'pack', '100 pic', 'Year', \"20' Container\", 'Ounce', '10-10000', 'Day', 'Set(s)', 'Set(S)', 'Pair piece', 'Ounce(s)', 'Packet(s)', 'set', 'Suit', 'pair piece', '3 set', 'Gram', 'Rs', 'Feet', '1000 per unit','in','5','10','Piece(s) Onwards','onwards','Onwards','Xl size']"
   ]
  },
  {
   "cell_type": "code",
   "execution_count": 0,
   "metadata": {
    "colab": {},
    "colab_type": "code",
    "id": "1TOSU1aSCN2Y"
   },
   "outputs": [],
   "source": [
    "for each in removal:\n",
    "    kurtadf=kurtadf.drop(kurtadf[(kurtadf['Unit']==each)].index)"
   ]
  },
  {
   "cell_type": "code",
   "execution_count": 15,
   "metadata": {
    "colab": {
     "base_uri": "https://localhost:8080/",
     "height": 119
    },
    "colab_type": "code",
    "id": "v0gkG6THCN2f",
    "outputId": "42588f7f-7fc4-423d-eb2f-90aeb7b33e00"
   },
   "outputs": [
    {
     "name": "stdout",
     "output_type": "stream",
     "text": [
      "['Piece' 'piece' 'Piece(s)' 'Per piece' 'Unit' '1' '1pc' 'peice' 'Pieces'\n",
      " 'Unit(s)' 'one' 'Peice' '1piece' 'No' 'Number' 'Pcs' 'One' 'kurtI'\n",
      " 'per piese' '12 units' '1pis' 'One peace' 'Single' 'one pcs' 'Pc' '4 pcs'\n",
      " '4 units' 'kurti' 'pcs' 'pices' 'Pics' 'single piece' 'pi' 'per piece'\n",
      " 'Kurti' 'one unit' '1 piece' '1 pice' 'pieces' '1pcs' '1 pc' '1pcd' 'Psc'\n",
      " '1 pcs' 'onepices'] kurtas\n"
     ]
    }
   ],
   "source": [
    "kurta_units=kurtadf['Unit'].unique()\n",
    "print(kurta_units,'kurtas')"
   ]
  },
  {
   "cell_type": "markdown",
   "metadata": {
    "colab_type": "text",
    "id": "mZmrqlO5CN2m"
   },
   "source": [
    "Some units like '4 pcs', '4 pieces', '12 units' are unsignificant, but they contain significant information about the price. We can divide the price by 4 for the unit '4 pcs' to know the price of each."
   ]
  },
  {
   "cell_type": "code",
   "execution_count": 0,
   "metadata": {
    "colab": {},
    "colab_type": "code",
    "id": "uIM_uAAKCN2n"
   },
   "outputs": [],
   "source": [
    "kurtadf.loc[(kurtadf['Unit']=='4 units'),'Price']=kurtadf.loc[(kurtadf['Unit']=='4 units'),'Price']/4\n",
    "kurtadf.loc[(kurtadf['Unit']=='4 pcs'),'Price']=kurtadf.loc[(kurtadf['Unit']=='4 pcs'),'Price']/4\n",
    "kurtadf.loc[(kurtadf['Unit']=='12 units'),'Price']=kurtadf.loc[(kurtadf['Unit']=='12 units'),'Price']/12"
   ]
  },
  {
   "cell_type": "markdown",
   "metadata": {
    "colab_type": "text",
    "id": "WNuQq1pECN2q"
   },
   "source": [
    "Let us know the count of each unique and significant unit."
   ]
  },
  {
   "cell_type": "code",
   "execution_count": 17,
   "metadata": {
    "colab": {
     "base_uri": "https://localhost:8080/",
     "height": 289
    },
    "colab_type": "code",
    "id": "_2f3W73W92vW",
    "outputId": "0cdecf15-0fca-4d65-cb63-09416f4e4dea"
   },
   "outputs": [
    {
     "data": {
      "text/plain": [
       "Piece       3334\n",
       "Piece(s)     500\n",
       "1             76\n",
       "Unit          63\n",
       "piece         38\n",
       "No            37\n",
       "Number        23\n",
       "Pieces        13\n",
       "Unit(s)       11\n",
       "one            3\n",
       "1piece         3\n",
       "Psc            3\n",
       "kurti          3\n",
       "peice          3\n",
       "1pc            3\n",
       "Name: Unit, dtype: int64"
      ]
     },
     "execution_count": 17,
     "metadata": {
      "tags": []
     },
     "output_type": "execute_result"
    }
   ],
   "source": [
    "kurtadf['Unit'].value_counts().head(15)"
   ]
  },
  {
   "cell_type": "markdown",
   "metadata": {
    "colab_type": "text",
    "id": "Xkipaxewzs7G"
   },
   "source": [
    "Let us find the mean price for each unit."
   ]
  },
  {
   "cell_type": "code",
   "execution_count": 18,
   "metadata": {
    "colab": {
     "base_uri": "https://localhost:8080/",
     "height": 297
    },
    "colab_type": "code",
    "id": "fkjLFXpVCN2x",
    "outputId": "b9416f36-364e-410a-935c-fdbb9a5774e3"
   },
   "outputs": [
    {
     "data": {
      "text/html": [
       "<div>\n",
       "<style scoped>\n",
       "    .dataframe tbody tr th:only-of-type {\n",
       "        vertical-align: middle;\n",
       "    }\n",
       "\n",
       "    .dataframe tbody tr th {\n",
       "        vertical-align: top;\n",
       "    }\n",
       "\n",
       "    .dataframe thead th {\n",
       "        text-align: right;\n",
       "    }\n",
       "</style>\n",
       "<table border=\"1\" class=\"dataframe\">\n",
       "  <thead>\n",
       "    <tr style=\"text-align: right;\">\n",
       "      <th></th>\n",
       "      <th>Price</th>\n",
       "    </tr>\n",
       "  </thead>\n",
       "  <tbody>\n",
       "    <tr>\n",
       "      <th>count</th>\n",
       "      <td>4149.000000</td>\n",
       "    </tr>\n",
       "    <tr>\n",
       "      <th>mean</th>\n",
       "      <td>787.490600</td>\n",
       "    </tr>\n",
       "    <tr>\n",
       "      <th>std</th>\n",
       "      <td>2178.518976</td>\n",
       "    </tr>\n",
       "    <tr>\n",
       "      <th>min</th>\n",
       "      <td>1.000000</td>\n",
       "    </tr>\n",
       "    <tr>\n",
       "      <th>25%</th>\n",
       "      <td>325.000000</td>\n",
       "    </tr>\n",
       "    <tr>\n",
       "      <th>50%</th>\n",
       "      <td>500.000000</td>\n",
       "    </tr>\n",
       "    <tr>\n",
       "      <th>75%</th>\n",
       "      <td>800.000000</td>\n",
       "    </tr>\n",
       "    <tr>\n",
       "      <th>max</th>\n",
       "      <td>109000.000000</td>\n",
       "    </tr>\n",
       "  </tbody>\n",
       "</table>\n",
       "</div>"
      ],
      "text/plain": [
       "               Price\n",
       "count    4149.000000\n",
       "mean      787.490600\n",
       "std      2178.518976\n",
       "min         1.000000\n",
       "25%       325.000000\n",
       "50%       500.000000\n",
       "75%       800.000000\n",
       "max    109000.000000"
      ]
     },
     "execution_count": 18,
     "metadata": {
      "tags": []
     },
     "output_type": "execute_result"
    }
   ],
   "source": [
    "kurtadf.describe()"
   ]
  },
  {
   "cell_type": "markdown",
   "metadata": {
    "colab_type": "text",
    "id": "bwyAHDKbCN21"
   },
   "source": [
    "This is a normal scatter plot of Price."
   ]
  },
  {
   "cell_type": "code",
   "execution_count": 19,
   "metadata": {
    "colab": {
     "base_uri": "https://localhost:8080/",
     "height": 269
    },
    "colab_type": "code",
    "id": "MP4cPKChCN22",
    "outputId": "b416813a-dfd3-4ca8-de83-ad21cd009f89"
   },
   "outputs": [
    {
     "data": {
      "image/png": "iVBORw0KGgoAAAANSUhEUgAAAYAAAAD8CAYAAAB+UHOxAAAABHNCSVQICAgIfAhkiAAAAAlwSFlz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\nAAAASUVORK5CYII=\n",
      "text/plain": [
       "<Figure size 432x288 with 1 Axes>"
      ]
     },
     "metadata": {
      "tags": []
     },
     "output_type": "display_data"
    }
   ],
   "source": [
    "array=np.arange(4149)\n",
    "plt.scatter(kurtadf['Price'],array);"
   ]
  },
  {
   "cell_type": "markdown",
   "metadata": {
    "colab_type": "text",
    "id": "gMo3-4EasS61"
   },
   "source": [
    "## Removing Outliers : Calculating Z-score\n",
    "Z-score is meausure of how much given sample is deviating compared to Standaed deviation.\n",
    "In python the function is available in scipy.stats which we are using in the following cells.\n",
    "\n",
    "**Note:** we are calculating only absolute values as sign of z-score doesn't matter in finding outliers.\n",
    "\n",
    "\n",
    "\n",
    "\n"
   ]
  },
  {
   "cell_type": "code",
   "execution_count": 0,
   "metadata": {
    "colab": {},
    "colab_type": "code",
    "id": "iebcrhEEEDId"
   },
   "outputs": [],
   "source": [
    "drill_z = np.abs(stats.zscore(drilldf['Price']))\n",
    "glove_z = np.abs(stats.zscore(glovedf['Price']))\n",
    "kurta_z = np.abs(stats.zscore(kurtadf['Price']))"
   ]
  },
  {
   "cell_type": "markdown",
   "metadata": {
    "colab_type": "text",
    "id": "YPxPlQ3GtSRL"
   },
   "source": [
    "After obtaing z-score we are not considering all entries whse z-score is greater than 3 or less than -3 and also we are considering only some units values as unit conversion is not as indicative as the sugar example given."
   ]
  },
  {
   "cell_type": "code",
   "execution_count": 0,
   "metadata": {
    "colab": {},
    "colab_type": "code",
    "id": "I-o75iBmEe2_"
   },
   "outputs": [],
   "source": [
    "npa=drilldf[(drill_z < 3)]['Price']\n",
    "npa1=glovedf[(glove_z < 3)]['Price']\n",
    "npa2=kurtadf[(kurta_z < 3)]['Price'][:-1]"
   ]
  },
  {
   "cell_type": "markdown",
   "metadata": {
    "colab_type": "text",
    "id": "SQXO07qSg6Na"
   },
   "source": [
    "The following 3 cells describe the data taken for consideration"
   ]
  },
  {
   "cell_type": "code",
   "execution_count": 22,
   "metadata": {
    "colab": {
     "base_uri": "https://localhost:8080/",
     "height": 297
    },
    "colab_type": "code",
    "id": "Qc9raGLAgckP",
    "outputId": "c7ca2b0e-0c6e-4041-a431-b161f11d8c10"
   },
   "outputs": [
    {
     "data": {
      "text/html": [
       "<div>\n",
       "<style scoped>\n",
       "    .dataframe tbody tr th:only-of-type {\n",
       "        vertical-align: middle;\n",
       "    }\n",
       "\n",
       "    .dataframe tbody tr th {\n",
       "        vertical-align: top;\n",
       "    }\n",
       "\n",
       "    .dataframe thead th {\n",
       "        text-align: right;\n",
       "    }\n",
       "</style>\n",
       "<table border=\"1\" class=\"dataframe\">\n",
       "  <thead>\n",
       "    <tr style=\"text-align: right;\">\n",
       "      <th></th>\n",
       "      <th>Price</th>\n",
       "    </tr>\n",
       "  </thead>\n",
       "  <tbody>\n",
       "    <tr>\n",
       "      <th>count</th>\n",
       "      <td>229.000000</td>\n",
       "    </tr>\n",
       "    <tr>\n",
       "      <th>mean</th>\n",
       "      <td>5049.799127</td>\n",
       "    </tr>\n",
       "    <tr>\n",
       "      <th>std</th>\n",
       "      <td>5860.012946</td>\n",
       "    </tr>\n",
       "    <tr>\n",
       "      <th>min</th>\n",
       "      <td>2.000000</td>\n",
       "    </tr>\n",
       "    <tr>\n",
       "      <th>25%</th>\n",
       "      <td>2079.000000</td>\n",
       "    </tr>\n",
       "    <tr>\n",
       "      <th>50%</th>\n",
       "      <td>2890.000000</td>\n",
       "    </tr>\n",
       "    <tr>\n",
       "      <th>75%</th>\n",
       "      <td>5600.000000</td>\n",
       "    </tr>\n",
       "    <tr>\n",
       "      <th>max</th>\n",
       "      <td>35000.000000</td>\n",
       "    </tr>\n",
       "  </tbody>\n",
       "</table>\n",
       "</div>"
      ],
      "text/plain": [
       "              Price\n",
       "count    229.000000\n",
       "mean    5049.799127\n",
       "std     5860.012946\n",
       "min        2.000000\n",
       "25%     2079.000000\n",
       "50%     2890.000000\n",
       "75%     5600.000000\n",
       "max    35000.000000"
      ]
     },
     "execution_count": 22,
     "metadata": {
      "tags": []
     },
     "output_type": "execute_result"
    }
   ],
   "source": [
    "drilldf[(drill_z < 3)].describe()"
   ]
  },
  {
   "cell_type": "code",
   "execution_count": 23,
   "metadata": {
    "colab": {
     "base_uri": "https://localhost:8080/",
     "height": 297
    },
    "colab_type": "code",
    "id": "pF0IYXASgUee",
    "outputId": "fa877032-f057-494f-e1d3-e19c2bede822"
   },
   "outputs": [
    {
     "data": {
      "text/html": [
       "<div>\n",
       "<style scoped>\n",
       "    .dataframe tbody tr th:only-of-type {\n",
       "        vertical-align: middle;\n",
       "    }\n",
       "\n",
       "    .dataframe tbody tr th {\n",
       "        vertical-align: top;\n",
       "    }\n",
       "\n",
       "    .dataframe thead th {\n",
       "        text-align: right;\n",
       "    }\n",
       "</style>\n",
       "<table border=\"1\" class=\"dataframe\">\n",
       "  <thead>\n",
       "    <tr style=\"text-align: right;\">\n",
       "      <th></th>\n",
       "      <th>Price</th>\n",
       "    </tr>\n",
       "  </thead>\n",
       "  <tbody>\n",
       "    <tr>\n",
       "      <th>count</th>\n",
       "      <td>133.000000</td>\n",
       "    </tr>\n",
       "    <tr>\n",
       "      <th>mean</th>\n",
       "      <td>174.511278</td>\n",
       "    </tr>\n",
       "    <tr>\n",
       "      <th>std</th>\n",
       "      <td>306.394962</td>\n",
       "    </tr>\n",
       "    <tr>\n",
       "      <th>min</th>\n",
       "      <td>10.000000</td>\n",
       "    </tr>\n",
       "    <tr>\n",
       "      <th>25%</th>\n",
       "      <td>50.000000</td>\n",
       "    </tr>\n",
       "    <tr>\n",
       "      <th>50%</th>\n",
       "      <td>85.000000</td>\n",
       "    </tr>\n",
       "    <tr>\n",
       "      <th>75%</th>\n",
       "      <td>180.000000</td>\n",
       "    </tr>\n",
       "    <tr>\n",
       "      <th>max</th>\n",
       "      <td>2594.000000</td>\n",
       "    </tr>\n",
       "  </tbody>\n",
       "</table>\n",
       "</div>"
      ],
      "text/plain": [
       "             Price\n",
       "count   133.000000\n",
       "mean    174.511278\n",
       "std     306.394962\n",
       "min      10.000000\n",
       "25%      50.000000\n",
       "50%      85.000000\n",
       "75%     180.000000\n",
       "max    2594.000000"
      ]
     },
     "execution_count": 23,
     "metadata": {
      "tags": []
     },
     "output_type": "execute_result"
    }
   ],
   "source": [
    "glovedf[(glove_z < 3)].describe()"
   ]
  },
  {
   "cell_type": "code",
   "execution_count": 24,
   "metadata": {
    "colab": {
     "base_uri": "https://localhost:8080/",
     "height": 297
    },
    "colab_type": "code",
    "id": "7FXyP-a689Mv",
    "outputId": "53c5e07a-16e7-492b-8b13-8b723a343568"
>>>>>>> nikversion
   },
   "outputs": [
    {
     "data": {
<<<<<<< HEAD
      "text/plain": [
       "Piece         119\n",
       "pack           47\n",
       "unit           25\n",
       "Unit           17\n",
       "Number         14\n",
       "Pack            9\n",
       "Pc_Onwards      5\n",
       "Piece(s)        5\n",
       "Kit             1\n",
       "Set             1\n",
       "kit             1\n",
       "Unit(s)         1\n",
       "ONWARDS         1\n",
       "1nos            1\n",
       "Name: Unit, dtype: int64"
      ]
     },
     "execution_count": 6,
     "metadata": {
      "tags": []
     },
     "output_type": "execute_result"
    }
   ],
   "source": [
    "drilldf['Unit'].value_counts()"
   ]
  },
  {
   "cell_type": "code",
   "execution_count": 7,
   "metadata": {
    "colab": {
     "base_uri": "https://localhost:8080/",
     "height": 204
    },
    "colab_type": "code",
    "id": "_aMEixII92Ku",
    "outputId": "ce705f93-a93d-4a33-85be-6eb81af2a56c"
   },
   "outputs": [
    {
     "data": {
      "text/plain": [
       "Pair            113\n",
       "unit              9\n",
       "Piece             6\n",
       "pack              5\n",
       "Pack              3\n",
       "Unit              3\n",
       "Pair(s)           2\n",
       "Unit/Onwards      1\n",
       "Set               1\n",
       "Pieces            1\n",
       "Name: Unit, dtype: int64"
      ]
     },
     "execution_count": 7,
=======
      "text/html": [
       "<div>\n",
       "<style scoped>\n",
       "    .dataframe tbody tr th:only-of-type {\n",
       "        vertical-align: middle;\n",
       "    }\n",
       "\n",
       "    .dataframe tbody tr th {\n",
       "        vertical-align: top;\n",
       "    }\n",
       "\n",
       "    .dataframe thead th {\n",
       "        text-align: right;\n",
       "    }\n",
       "</style>\n",
       "<table border=\"1\" class=\"dataframe\">\n",
       "  <thead>\n",
       "    <tr style=\"text-align: right;\">\n",
       "      <th></th>\n",
       "      <th>Price</th>\n",
       "    </tr>\n",
       "  </thead>\n",
       "  <tbody>\n",
       "    <tr>\n",
       "      <th>count</th>\n",
       "      <td>4134.000000</td>\n",
       "    </tr>\n",
       "    <tr>\n",
       "      <th>mean</th>\n",
       "      <td>699.914006</td>\n",
       "    </tr>\n",
       "    <tr>\n",
       "      <th>std</th>\n",
       "      <td>677.359663</td>\n",
       "    </tr>\n",
       "    <tr>\n",
       "      <th>min</th>\n",
       "      <td>1.000000</td>\n",
       "    </tr>\n",
       "    <tr>\n",
       "      <th>25%</th>\n",
       "      <td>325.000000</td>\n",
       "    </tr>\n",
       "    <tr>\n",
       "      <th>50%</th>\n",
       "      <td>500.000000</td>\n",
       "    </tr>\n",
       "    <tr>\n",
       "      <th>75%</th>\n",
       "      <td>800.000000</td>\n",
       "    </tr>\n",
       "    <tr>\n",
       "      <th>max</th>\n",
       "      <td>6589.000000</td>\n",
       "    </tr>\n",
       "  </tbody>\n",
       "</table>\n",
       "</div>"
      ],
      "text/plain": [
       "             Price\n",
       "count  4134.000000\n",
       "mean    699.914006\n",
       "std     677.359663\n",
       "min       1.000000\n",
       "25%     325.000000\n",
       "50%     500.000000\n",
       "75%     800.000000\n",
       "max    6589.000000"
      ]
     },
     "execution_count": 24,
>>>>>>> nikversion
     "metadata": {
      "tags": []
     },
     "output_type": "execute_result"
    }
   ],
   "source": [
<<<<<<< HEAD
    "glovedf['Unit'].value_counts()"
=======
    "kurtadf[(kurta_z < 3)].describe()"
   ]
  },
  {
   "cell_type": "markdown",
   "metadata": {
    "colab_type": "text",
    "id": "NG_Ijss11-As"
   },
   "source": [
    "The following cell is used to store standard deviation which is very important to calculate the bandwidth in later part"
>>>>>>> nikversion
   ]
  },
  {
   "cell_type": "code",
<<<<<<< HEAD
   "execution_count": 8,
   "metadata": {
    "colab": {
     "base_uri": "https://localhost:8080/",
     "height": 1071
    },
    "colab_type": "code",
    "id": "_2f3W73W92vW",
    "outputId": "234a74ef-08f3-4efb-cefd-467730db501c"
   },
   "outputs": [
    {
     "data": {
      "text/plain": [
       "Piece            3334\n",
       "Piece(s)          500\n",
       "1                  76\n",
       "Unit               63\n",
       "Set                43\n",
       "Onwards            39\n",
       "piece              38\n",
       "No                 37\n",
       "Number             23\n",
       "Bag                23\n",
       "Pair               17\n",
       "Pack               13\n",
       "Pieces             13\n",
       "Unit(s)            11\n",
       "onwards             9\n",
       "Box                 9\n",
       "20' Container       6\n",
       "Set(s)              5\n",
       "40' Container       5\n",
       "Packet              4\n",
       "Ounce               4\n",
       "Psc                 3\n",
       "one                 3\n",
       "Meter               3\n",
       "1piece              3\n",
       "kurti               3\n",
       "peice               3\n",
       "1pc                 3\n",
       "Day                 2\n",
       "5                   2\n",
       "                 ... \n",
       "Sets                1\n",
       "one unit            1\n",
       "pcs                 1\n",
       "170 per peice       1\n",
       "1 pcs               1\n",
       "Kilogram            1\n",
       "1 pc                1\n",
       "pi                  1\n",
       "Gram                1\n",
       "per piece           1\n",
       "Suit                1\n",
       "set                 1\n",
       "Single              1\n",
       "Selfie Kurtis       1\n",
       "1pis                1\n",
       "Carton              1\n",
       "1 piece             1\n",
       "Pair piece          1\n",
       "100 pic             1\n",
       "Set(S)              1\n",
       "Ounce(s)            1\n",
       "3 set               1\n",
       "single piece        1\n",
       "per piese           1\n",
       "Unstitch            1\n",
       "Year                1\n",
       "dollar              1\n",
       "onepices            1\n",
       "Feet                1\n",
       "one pcs             1\n",
       "Name: Unit, Length: 89, dtype: int64"
      ]
     },
     "execution_count": 8,
     "metadata": {
      "tags": []
     },
     "output_type": "execute_result"
    }
   ],
   "source": [
    "kurtadf['Unit'].value_counts()\n"
=======
   "execution_count": 25,
   "metadata": {
    "colab": {
     "base_uri": "https://localhost:8080/",
     "height": 34
    },
    "colab_type": "code",
    "id": "PCtYTrCoF8Gh",
    "outputId": "a27eaa85-78c7-4706-c6ef-f6d8ef0b3f89"
   },
   "outputs": [
    {
     "name": "stdout",
     "output_type": "stream",
     "text": [
      "5847.204158821012 305.2409282990938 671.135426301382\n"
     ]
    }
   ],
   "source": [
    "stdev=np.std(npa)\n",
    "stdev1=np.std(npa1)\n",
    "stdev2=np.std(npa2)\n",
    "print(stdev,stdev1,stdev2)"
>>>>>>> nikversion
   ]
  },
  {
   "cell_type": "markdown",
   "metadata": {
    "colab_type": "text",
<<<<<<< HEAD
    "id": "gMo3-4EasS61"
   },
   "source": [
    "# Calculating Z-score\n",
    "Z-score is meausure of how much given sample is deviating compared to Standaed deviation.\n",
    "In python the function is available in scipy.stats which we are using in the following cells\n",
    "\n",
    "**note:**we are calculating only abolsolute values as sign of z-score doesn't matter in finding outliers\n",
    "\n",
    "\n",
    "\n",
=======
    "id": "jh2vYAYr2g1S"
   },
   "source": [
    "## Kernel Density Estimation method for calculation of Probabilty Disribution Function\n",
    "We are using probability distribution function for find ing require range as pdf is more suitable for finding relationship in general population.\n",
    "\n",
    "kernel Density Estimation is useful method for calculating pdf from discrete samples.\n",
>>>>>>> nikversion
    "\n"
   ]
  },
  {
   "cell_type": "code",
   "execution_count": 0,
   "metadata": {
    "colab": {},
    "colab_type": "code",
<<<<<<< HEAD
    "id": "iebcrhEEEDId"
   },
   "outputs": [],
   "source": [
    "drill_z = np.abs(stats.zscore(drilldf['Price']))\n",
    "glove_z = np.abs(stats.zscore(glovedf.loc[glovedf['Unit']=='Pair']['Price']))\n",
    "kurta_z = np.abs(stats.zscore(kurtadf.loc[((kurtadf['Unit']=='Piece') | (kurtadf['Unit']=='Piece(s)'))]['Price']))"
   ]
  },
  {
   "cell_type": "markdown",
   "metadata": {
    "colab_type": "text",
    "id": "YPxPlQ3GtSRL"
   },
   "source": [
    "After obtaing z-score we are not considering all entries whse z-score is greater than 3 or less than -3 and also we are considering only some units values as unit conversion is not as indicative as the sugar example given."
   ]
  },
  {
   "cell_type": "code",
   "execution_count": 0,
   "metadata": {
    "colab": {},
    "colab_type": "code",
    "id": "I-o75iBmEe2_"
   },
   "outputs": [],
   "source": [
    "drill_ol=drilldf[(drill_z < 3)]\n",
    "npa=drilldf[(drill_z < 3)]['Price']\n",
    "npa1=glovedf.loc[glovedf['Unit']=='Pair'][(glove_z < 3)]['Price']\n",
    "npa2=kurtadf.loc[((kurtadf['Unit']=='Piece') | (kurtadf['Unit']=='Piece(s)'))][(kurta_z < 3)]['Price'][:-1]"
   ]
  },
  {
   "cell_type": "markdown",
   "metadata": {
    "colab_type": "text",
    "id": "SQXO07qSg6Na"
   },
   "source": [
    "The following 3 cells describe the data taken for consideration"
=======
    "id": "nRb0nWC4Ee3I"
   },
   "outputs": [],
   "source": [
    "from scipy.stats import gaussian_kde\n",
    "def kde_scipy(x, x_grid, bandwidth, **kwargs):\n",
    "    \"\"\"Kernel Density Estimation with Scipy\"\"\"\n",
    "    # Note that scipy weights its bandwidth by the covariance of the\n",
    "    # input data.  To make the results comparable to the other methods,\n",
    "    # we divide the bandwidth by the sample standard deviation here.\n",
    "    kde = gaussian_kde(x, bw_method=bandwidth / x.std(ddof=1), **kwargs)\n",
    "    return kde.evaluate(x_grid)"
>>>>>>> nikversion
   ]
  },
  {
   "cell_type": "code",
<<<<<<< HEAD
   "execution_count": 32,
   "metadata": {
    "colab": {
     "base_uri": "https://localhost:8080/",
     "height": 297
    },
    "colab_type": "code",
    "id": "Qc9raGLAgckP",
    "outputId": "20749e70-d90b-4a0a-8b72-967b3828f59f"
=======
   "execution_count": 27,
   "metadata": {
    "colab": {
     "base_uri": "https://localhost:8080/",
     "height": 295
    },
    "colab_type": "code",
    "id": "PBAlRD6kEe3K",
    "outputId": "71c807b6-c79e-4bea-eed4-b6ae1948855d"
>>>>>>> nikversion
   },
   "outputs": [
    {
     "data": {
<<<<<<< HEAD
      "text/html": [
       "<div>\n",
       "<style scoped>\n",
       "    .dataframe tbody tr th:only-of-type {\n",
       "        vertical-align: middle;\n",
       "    }\n",
       "\n",
       "    .dataframe tbody tr th {\n",
       "        vertical-align: top;\n",
       "    }\n",
       "\n",
       "    .dataframe thead th {\n",
       "        text-align: right;\n",
       "    }\n",
       "</style>\n",
       "<table border=\"1\" class=\"dataframe\">\n",
       "  <thead>\n",
       "    <tr style=\"text-align: right;\">\n",
       "      <th></th>\n",
       "      <th>Price</th>\n",
       "    </tr>\n",
       "  </thead>\n",
       "  <tbody>\n",
       "    <tr>\n",
       "      <th>count</th>\n",
       "      <td>238.000000</td>\n",
       "    </tr>\n",
       "    <tr>\n",
       "      <th>mean</th>\n",
       "      <td>5106.016807</td>\n",
       "    </tr>\n",
       "    <tr>\n",
       "      <th>std</th>\n",
       "      <td>5777.683116</td>\n",
       "    </tr>\n",
       "    <tr>\n",
       "      <th>min</th>\n",
       "      <td>2.000000</td>\n",
       "    </tr>\n",
       "    <tr>\n",
       "      <th>25%</th>\n",
       "      <td>2100.000000</td>\n",
       "    </tr>\n",
       "    <tr>\n",
       "      <th>50%</th>\n",
       "      <td>2954.000000</td>\n",
       "    </tr>\n",
       "    <tr>\n",
       "      <th>75%</th>\n",
       "      <td>5638.500000</td>\n",
       "    </tr>\n",
       "    <tr>\n",
       "      <th>max</th>\n",
       "      <td>35000.000000</td>\n",
       "    </tr>\n",
       "  </tbody>\n",
       "</table>\n",
       "</div>"
      ],
      "text/plain": [
       "              Price\n",
       "count    238.000000\n",
       "mean    5106.016807\n",
       "std     5777.683116\n",
       "min        2.000000\n",
       "25%     2100.000000\n",
       "50%     2954.000000\n",
       "75%     5638.500000\n",
       "max    35000.000000"
      ]
     },
     "execution_count": 32,
     "metadata": {
      "tags": []
     },
     "output_type": "execute_result"
    }
   ],
   "source": [
    "drilldf[(drill_z < 3)].describe()"
=======
      "image/png": "iVBORw0KGgoAAAANSUhEUgAAAZIAAAEWCAYAAABMoxE0AAAABHNCSVQICAgIfAhkiAAAAAlwSFlz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\nSMzMrCoOEjMzq4qDxMzMquIgMTOzqvx/sFovDi3F2AYAAAAASUVORK5CYII=\n",
      "text/plain": [
       "<Figure size 432x288 with 1 Axes>"
      ]
     },
     "metadata": {
      "tags": []
     },
     "output_type": "display_data"
    }
   ],
   "source": [
    "y_grid=np.linspace(np.amin(npa)-(np.amax(npa)-np.amin(npa))*0.4,np.amax(npa)+(np.amax(npa)-np.amin(npa))*0.4,10000)\n",
    "ideal=1.06*(np.std(npa))*((len(npa)**(-1/5)))\n",
    "pdf = kde_scipy(npa, y_grid, bandwidth=ideal)\n",
    "plt.plot(y_grid, pdf, color='blue', alpha=1, lw=1)\n",
    "plt.title('PDF for drill')\n",
    "plt.xlabel('Price')\n",
    "plt.show()"
>>>>>>> nikversion
   ]
  },
  {
   "cell_type": "code",
<<<<<<< HEAD
   "execution_count": 31,
   "metadata": {
    "colab": {
     "base_uri": "https://localhost:8080/",
     "height": 297
    },
    "colab_type": "code",
    "id": "pF0IYXASgUee",
    "outputId": "b105ae20-a767-474c-ed3b-959c976a86a8"
=======
   "execution_count": 28,
   "metadata": {
    "colab": {
     "base_uri": "https://localhost:8080/",
     "height": 295
    },
    "colab_type": "code",
    "id": "TzAdVqipNti5",
    "outputId": "a63f3775-0afc-4637-d161-bc5d437768d4"
>>>>>>> nikversion
   },
   "outputs": [
    {
     "data": {
<<<<<<< HEAD
      "text/html": [
       "<div>\n",
       "<style scoped>\n",
       "    .dataframe tbody tr th:only-of-type {\n",
       "        vertical-align: middle;\n",
       "    }\n",
       "\n",
       "    .dataframe tbody tr th {\n",
       "        vertical-align: top;\n",
       "    }\n",
       "\n",
       "    .dataframe thead th {\n",
       "        text-align: right;\n",
       "    }\n",
       "</style>\n",
       "<table border=\"1\" class=\"dataframe\">\n",
       "  <thead>\n",
       "    <tr style=\"text-align: right;\">\n",
       "      <th></th>\n",
       "      <th>Price</th>\n",
       "    </tr>\n",
       "  </thead>\n",
       "  <tbody>\n",
       "    <tr>\n",
       "      <th>count</th>\n",
       "      <td>112.000000</td>\n",
       "    </tr>\n",
       "    <tr>\n",
       "      <th>mean</th>\n",
       "      <td>100.348214</td>\n",
       "    </tr>\n",
       "    <tr>\n",
       "      <th>std</th>\n",
       "      <td>64.894469</td>\n",
       "    </tr>\n",
       "    <tr>\n",
       "      <th>min</th>\n",
       "      <td>10.000000</td>\n",
       "    </tr>\n",
       "    <tr>\n",
       "      <th>25%</th>\n",
       "      <td>48.750000</td>\n",
       "    </tr>\n",
       "    <tr>\n",
       "      <th>50%</th>\n",
       "      <td>80.000000</td>\n",
       "    </tr>\n",
       "    <tr>\n",
       "      <th>75%</th>\n",
       "      <td>170.000000</td>\n",
       "    </tr>\n",
       "    <tr>\n",
       "      <th>max</th>\n",
       "      <td>250.000000</td>\n",
       "    </tr>\n",
       "  </tbody>\n",
       "</table>\n",
       "</div>"
      ],
      "text/plain": [
       "            Price\n",
       "count  112.000000\n",
       "mean   100.348214\n",
       "std     64.894469\n",
       "min     10.000000\n",
       "25%     48.750000\n",
       "50%     80.000000\n",
       "75%    170.000000\n",
       "max    250.000000"
      ]
     },
     "execution_count": 31,
     "metadata": {
      "tags": []
     },
     "output_type": "execute_result"
    }
   ],
   "source": [
    "glovedf.loc[glovedf['Unit']=='Pair'][(glove_z < 3)].describe()"
=======
      "image/png": "iVBORw0KGgoAAAANSUhEUgAAAYoAAAEWCAYAAAB42tAoAAAABHNCSVQICAgIfAhkiAAAAAlwSFlz\nAAALEgAACxIB0t1+/AAAADl0RVh0U29mdHdhcmUAbWF0cGxvdGxpYiB2ZXJzaW9uIDMuMC4zLCBo\ndHRwOi8vbWF0cGxvdGxpYi5vcmcvnQurowAAIABJREFUeJzt3X+UH3V97/HnKz+BREJ+LOQnSSgh\nNlEEDBEtVSsgP3oleoQabkXqpYfaQn+cerXQeqyXUyrao1hbaS8Wrsj1GhDsNadSKb+segshy69A\nQgNryE82yeY3BELI5n3/+MyXfLN897vf3Xx3Z3fm9Thnzs535jMzn5lk57Wf+czMVxGBmZlZd4bl\nXQEzMxvcHBRmZlaXg8LMzOpyUJiZWV0OCjMzq8tBYWZmdTkozHogaa6kpyS9LOmPBmB7ayWd29/b\nMWuUg8KGpOxk+pqkVyRtkfQdSWOzeT+VtC87se+R9LikayWNrlr+S5LeyJavDJ/vZnOfBx6OiLdF\nxDcHYv/MBhMHhQ1lH4mIscAZwALgC1XzromItwFTgM8Ci4F7JamqzJ0RMbZq+Go325kJrOxLBSWN\n6MtyZoOJg8KGvIjYBPwr8I4a8/ZGxE+Bi4H3Ar/Zm3VLegj4DeDvs1bHKZLGSfqupA5J6yR9QdKw\nrPzvSPp/km6StB34Uo11Hi3pdkk7JT0n6fOSNnaz/dGSviHppWz4RqVllC37X6rKjsjqdEb2+SxJ\n/yFpl6SnJX2wquzvSFqTtbpelPTbvTkuVi4OChvyJM0ALgKe7K5MRKwHWoFf7826I+JDwM9JLZSx\nEfE88HfAOOAk4APAp4BPVy32HmANcAJwQ43V/iUwK1v+POCTdarwF8BZwGnAu4CFHGo5fR+4rKrs\n+cC2iHhC0jTgx8BfAROA/w7cI6lF0hjgm8CFWavrfcBTPR4MKy0HhQ1l/1fSLuAXwL8Df91D+ZdI\nJ82K38r+2q4MU3vaoKThpMtY10XEyxGxFvgacHn1diLi7yLiQES8VmM1vwX8dUTsjIiNpJN2d34b\nuD4itkZEB/A/qrb1f4CLJR2Tff6vpPCAFD73RsS9EXEwIu4nBeVF2fyDwDskHR0R7RHRp0trVg4O\nChvKPhoRx0XEzIj4g25OytWmATuqPt+VLV8ZXmpgm5OAkcC6qmnrsnVXbOhhHVO7lKlXfmqNbU0F\niIg24DngI1lYXEwKD0j9KpdWByFwNjAlIvYCnwA+A7RL+rGkt/dQZysxB4WVQnZ56t2ky0hHYhvw\nBulEXHEisKnqc0+vZG4Hpld9nlGn7Es1tlUdaJXLT4uAVVl4QAqfO7oE4ZiIuBEgIu6LiPNInf3/\nCXy7hzpbiTkorNAkHSPpA8CPgMeAe49kfRHRCdwF3CDpbZJmAn8K/O9erOYu4DpJ47O+hGvqlP0+\n8IWsb2ES8MUu21oCfBj4fQ61JsjKfETS+ZKGSzpK0gclTZd0gqRFWV/F68ArpEtRZjU5KKyo/l7S\ny8AW4BvAPcAFEdGME+IfAntJHda/IJ2gb+vF8tcDG4EXgQeAu0kn7Fr+itS3sAJ4BngimwZARLQD\nj5A6pO+smr6B1Mr4c6CD1ML4HOl3fhgp3F4iXYr7AClozGqSv7jILF+Sfh9YHBEfyLsuZrW4RWE2\nwCRNkfRrkoZJmkt6IPCf866XWXf81KjZwBsF/E9gNrCL1M9wc641MqvDl57MzKwuX3oyM7O6CnHp\nadKkSTFr1qy8q2FmNqQ8/vjj2yKipadyhQiKWbNm0dramnc1zMyGFEnrei7lS09mZtYDB4WZmdXl\noDAzs7ocFGZmVpeDwszM6nJQmJlZXQ4KMzOry0Fhde3fDytWgN/0YlZeDgqr61OfgjPPhG/W+1Zn\nMys0B4V165ln4Oc/h0cfhS9/ObUuzKx8HBTWrXvugcWL4fTT4eST4cEH866RmeXBQWHd+vGP4eKL\n0/iFF8IDD+RbHzPLh4PCatq3D1auhIUL0+dzznGLwqysHBRW01NPwdy5cPTR6fPpp8Pzz6cAMbNy\ncVBYTcuXH2pNAIwenYJjxYr86mRm+WgoKCRdIGm1pDZJ19aYP1rSndn8ZZJmVc27Lpu+WtL52bQZ\nkh6WtErSSkl/XFX+S5I2SXoqGy468t203nr66dSKqHbGGfDEE/nUx8zy02NQSBoOfAu4EJgHXCZp\nXpdiVwI7I+Jk4CbgK9my84DFwHzgAuDmbH0HgM9GxDzgLODqLuu8KSJOy4Z7j2gPrU9Wr04tiGrv\nepdbFGZl1EiLYiHQFhFrImI/sARY1KXMIuD2bPxu4BxJyqYviYjXI+JFoA1YGBHtEfEEQES8DDwH\nTDvy3bFmqRUUc+em6WZWLo0ExTRgQ9Xnjbz1pP5mmYg4AOwGJjaybHaZ6nRgWdXkayStkHSbpPG1\nKiXpKkmtklo7Ojoa2A1r1M6d8NprMGXK4dMdFGbllGtntqSxwD3An0TEnmzyPwC/ApwGtANfq7Vs\nRNwSEQsiYkFLS4/fDW698PzzcMopIB0+/cQTYccOeOWVfOplZvloJCg2ATOqPk/PptUsI2kEMA7Y\nXm9ZSSNJIfG9iPhhpUBEbImIzog4CHybdOnLBlCty04Aw4alJ7RfeGHg62Rm+WkkKJYDcyTNljSK\n1Dm9tEuZpcAV2fglwEMREdn0xdldUbOBOcBjWf/FrcBzEfH16hVJqr7g8THg2d7ulB2ZX/4yBUIt\nc+emFoeZlceIngpExAFJ1wD3AcOB2yJipaTrgdaIWEo66d8hqQ3YQQoTsnJ3AatIdzpdHRGdks4G\nLgeekfRUtqk/z+5w+qqk04AA1gK/18T9tQasXw9nn1173qxZsHbtQNbGzPLWY1AAZCfwe7tM+2LV\n+D7g0m6WvQG4ocu0XwDqpvzljdTJ+s/69ak/opZZs+BZt/HMSsVPZttb1AuKmTNh3bqBrY+Z5ctB\nYYeJgI0bYcaM2vNnzvSlJ7OycVDYYTo6YMwYOOaY2vMrLQp/NapZeTgo7DD1LjsBHHtsekHgtm0D\nVyczy5eDwg6zYUP9oAD3U5iVjYPCDtNTiwJ8i6xZ2Tgo7DAbNsD06fXLTJ8Om7o+m29mheWgsMNs\n3gxTp9YvM3UqvPTSwNTHzPLnoLDDbN4MkyfXL+OgMCsXB4UdppGgmDbNQWFWJg4KO0yjLQr3UZiV\nh4PC3rR/P+zZAxMm1C/nS09m5eKgsDdt3QrHH5++d6KeceOgsxNefnlg6mVm+XJQ2JsauewE6Zvv\npk6F9vb+r5OZ5c9BYW9qb28sKMCXn8zKxEFhb2q0RQHpzid3aJuVg4PC3tSboHCLwqw8HBT2pt4G\nhVsUZuXgoLA39SYoJk+GLVv6tz5mNjg4KOxNvQmKE05wUJiVhYPC3rR5cwqARjgozMrDQWFv2rYN\nWloaK+ugMCsPB4UB6fUdr76anrpuxMSJ6XUfb7zRv/Uys/w5KAyAHTvSO56kxsoPG5bCoqOjf+tl\nZvlzUBgA27enE39vHH+8Lz+ZlYGDwoDUPzFpUu+WcT+FWTk4KAzoW4vihBPSG2fNrNgcFAakFkVf\ngsItCrPic1AYkFoUvvRkZrU0FBSSLpC0WlKbpGtrzB8t6c5s/jJJs6rmXZdNXy3p/GzaDEkPS1ol\naaWkP64qP0HS/ZJeyH6OP/LdtJ64RWFm3ekxKCQNB74FXAjMAy6TNK9LsSuBnRFxMnAT8JVs2XnA\nYmA+cAFwc7a+A8BnI2IecBZwddU6rwUejIg5wIPZZ+tnfWlR+K4ns3JopEWxEGiLiDURsR9YAizq\nUmYRcHs2fjdwjiRl05dExOsR8SLQBiyMiPaIeAIgIl4GngOm1VjX7cBH+7Zr1ht97cx2UJgVXyNB\nMQ3YUPV5I4dO6m8pExEHgN3AxEaWzS5TnQ4syyadEBGVL9ncDNR8+5CkqyS1Smrt8FNfR8y3x5pZ\nd3LtzJY0FrgH+JOI2NN1fkQEELWWjYhbImJBRCxoafQFRdatvrQoWlrScp2d/VMnMxscGgmKTcCM\nqs/Ts2k1y0gaAYwDttdbVtJIUkh8LyJ+WFVmi6QpWZkpgO/UHwB96cweOTK9G2r79v6pk5kNDo0E\nxXJgjqTZkkaROqeXdimzFLgiG78EeChrDSwFFmd3Rc0G5gCPZf0XtwLPRcTX66zrCuBHvd0p653O\nzvSCv/F9uL/MD92ZFV+PQZH1OVwD3EfqdL4rIlZKul7SxVmxW4GJktqAPyW7UykiVgJ3AauAnwBX\nR0Qn8GvA5cCHJD2VDRdl67oROE/SC8C52WfrRzt3ppbB8OG9X9Z3PpkV34hGCkXEvcC9XaZ9sWp8\nH3BpN8veANzQZdovgJrvKY2I7cA5jdTLmqMvHdkVblGYFZ+fzLY+dWRXHH+8g8Ks6BwUdkQtCgeF\nWfE5KMwtCjOry0Fhfbo1tsJBYVZ8Dgrr03ueKvx0tlnxOSjMl57MrC4Hhbkz28zqclDYEbUoxo5N\nT3bv3dvcOpnZ4OGgsCNqUUipVeEX+JoVl4PCjqhFAb78ZFZ0DoqSO3gQduyACRP6vg6/78ms2BwU\nJbd7d+pnGDmy7+vw+57Mis1BUXJHetkJfOnJrOgcFCV3JB3ZFQ4Ks2JzUJScWxRm1hMHRcm5RWFm\nPXFQlJxbFGbWEwdFyTUrKHx7rFlxOShKrhmXnlpaUuAcPNicOpnZ4OKgKLlmtChGjoRjj00P7plZ\n8TgoSq4ZLQpwP4VZkTkoSq4ZLQpwUJgVmYOi5NyiMLOeOChKLMItCjPrmYOixF55BUaNgtGjj3xd\nvkXWrLgcFCXWrMtO4DfImhWZg6LEmnXZCXzpyazIHBQl1swWhYPCrLgaCgpJF0haLalN0rU15o+W\ndGc2f5mkWVXzrsumr5Z0ftX02yRtlfRsl3V9SdImSU9lw0V93z2rxy0KM2tEj0EhaTjwLeBCYB5w\nmaR5XYpdCeyMiJOBm4CvZMvOAxYD84ELgJuz9QF8J5tWy00RcVo23Nu7XbJGbdvmoDCznjXSolgI\ntEXEmojYDywBFnUpswi4PRu/GzhHkrLpSyLi9Yh4EWjL1kdE/AzwSx9ytH178y49jRsH+/alwcyK\npZGgmAZsqPq8MZtWs0xEHAB2AxMbXLaWayStyC5Pja9VQNJVkloltXZ0dDSwSuuqmZeeJLcqzIpq\nMHZm/wPwK8BpQDvwtVqFIuKWiFgQEQtaWloGsn6F0czObHBQmBVVI0GxCZhR9Xl6Nq1mGUkjgHHA\n9gaXPUxEbImIzog4CHyb7FKVNV8zWxTgoDArqkaCYjkwR9JsSaNIndNLu5RZClyRjV8CPBQRkU1f\nnN0VNRuYAzxWb2OSplR9/BjwbHdl7ci4RWFmjRjRU4GIOCDpGuA+YDhwW0SslHQ90BoRS4FbgTsk\ntZE6qBdny66UdBewCjgAXB0RnQCSvg98EJgkaSPwlxFxK/BVSacBAawFfq+ZO2yHuEVhZo3oMSgA\nsltU7+0y7YtV4/uAS7tZ9gbghhrTL+um/OWN1MmOXH8Ehd/3ZFY8g7Ez2wbAq6+mt8cec0zz1umg\nMCsmB0VJVVoTUvPW6RcDmhWTg6Kkmt2RDe6jMCsqB0VJNbt/AhwUZkXloCipZr7nqaKlBTo6Ut+H\nmRWHg6Kkmvmep4rRo1Pn+K5dzV2vmeXLQVFS/dFHAb7zyayIHBQl1Z9B4X4Ks2JxUJRUf3Rmg2+R\nNSsiB0VJuUVhZo1yUJSUg8LMGuWgKCkHhZk1ykFRUv3VR+GgMCseB0UJvfoqdHbCmDHNX7dvjzUr\nHgdFCVUetmvmCwEr3KIwKx4HRQn1x+s7Knx7rFnxOChKqD9e31Fx3HHwyiuwf3//rN/MBp6DooT6\n644ngGHDDr0c0MyKwUFRQv0ZFOB+CrOicVCUUH/2UYCDwqxoHBQl1J99FOBbZM2KxkFRQv196cl3\nPpkVi4OihHzpycx6w0FRQu7MNrPecFCU0ED0UTgozIrDQVFCblGYWW84KErm1Vfh4EE45pj+24bv\nejIrFgdFyVRaE/3xQsCKSosiov+2YWYDx0FRMv3dPwFw9NEwejTs2dO/2zGzgdFQUEi6QNJqSW2S\nrq0xf7SkO7P5yyTNqpp3XTZ9taTzq6bfJmmrpGe7rGuCpPslvZD9HN/33bOu+vvW2Ar3U5gVR49B\nIWk48C3gQmAecJmkeV2KXQnsjIiTgZuAr2TLzgMWA/OBC4Cbs/UBfCeb1tW1wIMRMQd4MPtsTdLR\nkV7a198cFGbF0UiLYiHQFhFrImI/sARY1KXMIuD2bPxu4BxJyqYviYjXI+JFoC1bHxHxM2BHje1V\nr+t24KO92B/rwdat6cnp/uagMCuORoJiGrCh6vPGbFrNMhFxANgNTGxw2a5OiIj2bHwzUPO0Jukq\nSa2SWjv8TuuGbdmSTuL9zUFhVhyDujM7IgKoee9MRNwSEQsiYkHLQFxLKYitWwcuKHyLrFkxNBIU\nm4AZVZ+nZ9NqlpE0AhgHbG9w2a62SJqSrWsK4L9Lm2ggg8ItCrNiaCQolgNzJM2WNIrUOb20S5ml\nwBXZ+CXAQ1lrYCmwOLsrajYwB3ish+1Vr+sK4EcN1NEaNFBBMXkytLf3XM7MBr8egyLrc7gGuA94\nDrgrIlZKul7SxVmxW4GJktqAPyW7UykiVgJ3AauAnwBXR0QngKTvA48AcyVtlHRltq4bgfMkvQCc\nm322Jhmozuzp02FTT21HMxsSFAV4fHbBggXR2tqadzUGvQgYMyaFxdix/butdevg7LNhw4aey5pZ\nPiQ9HhELeio3qDuzrbn27k0/x4zp/21NmZI6szs7+39bZta/HBQlUumf6M/3PFWMGgUTJvjOJ7Mi\ncFCUyEB1ZFdMnw4bNw7c9sysfzgoSmSgOrIrpk1zh7ZZETgoSsQtCjPrCwdFiQzU6zsqHBRmxeCg\nKJGBblH40pNZMTgoSmSg+yjcojArBgdFibhFYWZ94aAokYHuo5g2LbUoCvDwv1mpOShKpL09PTE9\nUMaOhaOOgp07B26bZtZ8DoqS2LcPXn55YL4vu1qlVWFmQ5eDoiQ2b06tiWED/C8+YwasXz+w2zSz\n5nJQlMRLLw3sZaeK2bNh7dqB366ZNY+DoiReegmmTh347c6a5aAwG+ocFCXR3u6gMLO+cVCURF6X\nnmbNghdfHPjtmlnzOChKIq9LT+6jMBv6HBQlMdDPUFRMmpRuzd2zZ+C3bWbN4aAoibxaFJL7KcyG\nOgdFSeQVFODLT2ZDnYOiBPbtg717B/6p7Aq3KMyGNgdFCbS3p9eLS/ls33c+mQ1tDooS2LAhvUoj\nLw4Ks6HNQVEC69fDiSfmt/05c+CFF/LbvpkdGQdFCaxfDzNn5rf9k0+GNWugszO/OphZ3zkoSiDv\nFsWYMdDS4rfImg1VDooSyDsoAE45BZ5/Pt86mFnfNBQUki6QtFpSm6Rra8wfLenObP4ySbOq5l2X\nTV8t6fye1inpO5JelPRUNpx2ZLtogyEo5s6F1avzrYOZ9c2IngpIGg58CzgP2Agsl7Q0IlZVFbsS\n2BkRJ0taDHwF+ISkecBiYD4wFXhA0inZMvXW+bmIuLsJ+1d6EbBuXf5B4RaF2dDVSItiIdAWEWsi\nYj+wBFjUpcwi4PZs/G7gHEnKpi+JiNcj4kWgLVtfI+u0Jti1Kz0/MW5cvvWYO9dBYTZUNRIU04AN\nVZ83ZtNqlomIA8BuYGKdZXta5w2SVki6SdLoWpWSdJWkVkmtHR0dDexGOVXueMrrYbuKU07xpSez\noWowdmZfB7wdOBOYAPxZrUIRcUtELIiIBS0tLQNZvyFlMPRPQAqrrVvh1VfzromZ9VYjQbEJqH6u\nd3o2rWYZSSOAccD2Ost2u86IaI/kdeB/kS5TWR+tXZvvMxQVw4enVsVzz+VdEzPrrUaCYjkwR9Js\nSaNIndNLu5RZClyRjV8CPBQRkU1fnN0VNRuYAzxWb52SpmQ/BXwUePZIdrDs2trSA2+DwamnwooV\nedfCzHqrx7ueIuKApGuA+4DhwG0RsVLS9UBrRCwFbgXukNQG7CCd+MnK3QWsAg4AV0dEJ0CtdWab\n/J6kFkDAU8Bnmre75dPWBueck3ctEgeF2dDUY1AARMS9wL1dpn2xanwfcGk3y94A3NDIOrPpH2qk\nTtaYwdai+MlP8q6FmfXWYOzMtiY5cCA9Q3HSSXnXJDn1VHj66fRsh5kNHQ6KAtuwAY4/Ho46Ku+a\nJJMnp9t0N2/OuyZm1hsOigIbTJedIIXEO9/pfgqzocZBUWBtbem7IAaT00+H1ta8a2FmveGgKLDV\nqwdfUJx1FixblnctzKw3HBQFtnIlzJ+fdy0O9573pKBwh7bZ0OGgKLBnnx18QTFjRnpKe+3avGti\nZo1yUBTU9u2wd286MQ8mUrr89OijedfEzBrloCioymWnvN8aW4uDwmxocVAU1GDsn6h4//vhpz/N\nuxZm1igHRUE98wy84x1516K2BQvSE+NbtuRdEzNrhIOioFpb4d3vzrsWtY0YAR/8IDz4YN41MbNG\nOCgKaP/+dMfTGWfkXZPunXsuPPBA3rUws0Y4KApoxYr06o4xY/KuSfc+/GG47z44eDDvmphZTxwU\nBbR8OZx5Zt61qO+UU+C44/yUttlQ4KAooGXLBn9QAFx6KfzgB3nXwsx64qAomAh4+OHUWTzYXXIJ\n3H23X+dhNtg5KArmxRdTZ/bcuXnXpGfz58P48fDQQ3nXxMzqcVAUzEMPwW/8xuB8IrsrCT7zGbj5\n5rxrYmb1OCgK5t/+Dc45J+9aNO6Tn0zhtnFj3jUxs+44KApk374UFB/5SN41adzb3ga/+7vw5S/n\nXRMz646DokDuvx/e9a70PdlDyec/D0uWpP4VMxt8HBQFcued8PGP512L3mtpgc9+Fq6+2ndAmQ1G\nDoqC2L4d/uVf0jX/oehzn4P2dvj2t/OuiZl1NSLvClhz3HZb6puYMCHvmvTNyJHp8tP73w+zZ8N5\n5+VdIzOrcFAUwN698PWvp3cnDWVz56YH8D7+cbjxRvj0pxu7zffVV+GJJ9KrSx5/HNavT62TnTuh\nsxMOHICjjoJjj03DccfBlCkwdSpMm5Z+zpwJb397mmdmh3NQFMDf/E36S/zUU/OuyZH79V9Pt8t+\n8pPwne/ANdekp8yPPz71X+zZA6tXp2BobU3h0NaWHt4788x0a/CsWenkP358aqkMH57uCNuzJw07\nd6Ygeeml9L0YjzwCa9ak9Y4ZkwJj/nxYuDANc+fCMF+ktRJTFKD3cMGCBdHa2pp3NXLx5JPpTaxP\nPgnTp+ddm+Y5cCB1zt9xR/ra1NdeS62LESPSm3Hf/e40LFwI73wnjB595NuMSOHxn/8JTz+dQuix\nx2DbtvRlS2edBe99b/o5adKRb88sb5Iej4gFPZZzUAxd69fD2WenFsUnPpF3bfpPRHotSWcnHHPM\nwG9/27YUGI88kobHHkuXrt773kPD/Pmp5WI2lDQaFA1depJ0AfC3wHDgnyLixi7zRwPfBd4NbAc+\nERFrs3nXAVcCncAfRcR99dYpaTawBJgIPA5cHhH7G6lnmTz8MFx+eXoGocghAakl0YwWQ19NmgQX\nXZQGSIG1cmUKjf/4D/ja19LXup55ZgqN970vtTrGj+/ddiqX1trboaMjBdS2bfDGG2n+sGGpD2XS\npHQpbuZMGDeuufs6mOzfDxs2pMuDW7emvqjXXkvzxoyBsWPTcZg+PfU15fl/pOh6bFFIGg48D5wH\nbASWA5dFxKqqMn8AnBoRn5G0GPhYRHxC0jzg+8BCYCrwAHBKtljNdUq6C/hhRCyR9I/A0xHxD/Xq\nWJYWRXs7/Oxn6dr9qlXpHUm/+Zt518ogndAfffRQq2P58nTyOumk9HPKlNQaGjUqlX/55RQK27en\n15dUhmHDUtmWlhQIkyYdWqazE3btStvauhXWrk3zTjopDbNnw4knpmHGjPTzuOMG53u/ItJNGJs2\npf2oHtatS0NHx6EbDU44IYXD0Uen5ffuhVdeSQG9YUP63ZgwIZWtDLNmHf752GNz291Bq2mXniS9\nF/hSRJyffb4OICK+XFXmvqzMI5JGAJuBFuDa6rKVctlib1kncCPQAUyOiANdt92dvgbFE0/AP/1T\n+k9bGVJ93zqe17x9+9IvQ3t7OlGcdRYsXpxe0V35pbHB58CBFObr16eTYXt7+rfcvz99q1/lDqzx\n49NJffr0NPTmZBaRQmPNmkPDhg1pm5Wf+/ensBg37tAwenTq5B8xIv2sjDejwz4itYD2709DZfyN\nN9L+79qVwnHHjnSpbtq0dEKvDNUn9qlTU70a0dmZjvH69YeHTfUwYkQ6FpVjf+yx6ViMGHHoWFTG\nhw3rOWAbCeBmrKMn3/hGqntfNPPS0zRgQ9XnjcB7uiuTneB3ky4dTQMe7bLstGy81jonArsi4kCN\n8oeRdBVwFcCJJ57YwG681bHHwjveUVnfoaH6c97zRo2CyZPTX1STJw/Ovw7trUaMSHeh9eedaFJq\nebS0wHu6/kZm9u6F3bvTCXr37jTs35+C7I030lAZb1Z35ahR6cRV/bMyjB8PEyemn838Q2f48ENh\n+773vXV+RDoGlTvfdu9OPyshduDA4UNnZ/3tNXKseirTrOM9EOeEIXt7bETcAtwCqUXRl3WcfHIa\nzIpqzJg0TJ2ad03yJaVw6m2/kSWNNDY3ATOqPk/PptUsk116Gkfq1O5u2e6mbweOy9bR3bbMzGwA\nNRIUy4E5kmZLGgUsBpZ2KbMUuCIbvwR4KFLnx1JgsaTR2d1Mc4DHultntszD2TrI1vmjvu+emZkd\nqR4vPWV9DtcA95FuZb0tIlZKuh5ojYilwK3AHZLagB2kEz9ZubuAVcAB4OqI6ASotc5sk38GLJH0\nV8CT2brNzCwnfuDOzKykGr3ryW+wMTOzuhwUZmZWl4PCzMzqclCYmVldhejMltQBrDvC1UwCtjWh\nOkOZj0Hi4+BjAOU4BjMjoqWnQoUIimaQ1NpI73+R+RgkPg4+BuBjUM2XnszMrC4HhZmZ1eWgOOSW\nvCswCPgYJD4OPgbgY/Am91GYmVldblGYmVldDgozM6urFEEh6VJJKyUdlLSgy7zrJLVJWi3p/Krp\nF2TT2iRdWzV9tqRl2fQ7s9fuPui/AAAFAUlEQVSkD3nd7W8RSLpN0lZJz1ZNmyDpfkkvZD/HZ9Ml\n6ZvZcVgh6YyqZa7Iyr8g6Ypa2xqsJM2Q9LCkVdnvwh9n08t2HI6S9Jikp7Pj8D+y6TV/r7OvSLgz\nm75M0qyqddU8dxRSRBR+AH4VmAv8FFhQNX0e8DQwGpgN/JL02vPh2fhJwKiszLxsmbuAxdn4PwK/\nn/f+NeH4dLu/RRiA9wNnAM9WTfsqcG02fi3wlWz8IuBfAQFnAcuy6ROANdnP8dn4+Lz3rRfHYApw\nRjb+NuD57P9/2Y6DgLHZ+EhgWbZ/NX+vgT8A/jEbXwzcmY3XPHfkvX/9NZSiRRERz0XE6hqzFgFL\nIuL1iHgRaAMWZkNbRKyJiP3AEmCRJAEfAu7Olr8d+Gj/70G/q7m/OdepaSLiZ6TvSam2iPTvB4f/\nOy4CvhvJo6RvXJwCnA/cHxE7ImIncD9wQf/Xvjkioj0insjGXwaeI30ffdmOQ0TEK9nHkdkQdP97\nXX187gbOyc4D3Z07CqkUQVHHNGBD1eeN2bTupk8EdkXEgS7Th7ru9rfIToiI9mx8M3BCNt7b/xND\nTnb55HTSX9OlOw6Shkt6CthKCrpf0v3v9Zv7m83fTToPDPnj0Bs9fsPdUCHpAWByjVl/ERH+OlXr\nVkSEpFLcJy5pLHAP8CcRsSf9cZyU5ThE+pbN0yQdB/wz8PacqzToFSYoIuLcPiy2CZhR9Xl6No1u\npm8nNcFHZH9dVJcfyuodh6LaImlKRLRnl1S2ZtO7OxabgA92mf7TAahn00gaSQqJ70XED7PJpTsO\nFRGxS9LDwHvp/ve6chw2ShoBjCOdB0r1O1P2S09LgcXZnQ2zgTnAY8ByYE52J8QoUifW0ki9WA8D\nl2TLXwEUobVSc39zrlN/W0r694PD/x2XAp/K7vo5C9idXZq5D/iwpPHZnUEfzqYNCdl19VuB5yLi\n61WzynYcWrKWBJKOBs4j9dd093tdfXwuAR7KzgPdnTuKKe/e9IEYgI+RriG+DmwB7qua9xeka5Sr\ngQurpl9EujPkl6TLV5XpJ5H+Q7QBPwBG571/TTpGNfe3CAPwfaAdeCP7f3Al6Trzg8ALwAPAhKys\ngG9lx+EZDr9L7r9l/+5twKfz3q9eHoOzSZ22K4CnsuGiEh6HU4Ens+PwLPDFbHrN32vgqOxzWzb/\npKp11Tx3FHHwKzzMzKyusl96MjOzHjgozMysLgeFmZnV5aAwM7O6HBRmZlaXg8KslyR1SnpK0rOS\nfiDpmG7K3Vu5Z99sKPPtsWa9JOmViBibjX8PeDyqHmLLHm5TRBzMq45mzeQWhdmR+TlwsqRZ2fcS\nfJf0INcMSWslTQKQ9Knsex2elnRHNq1F0j2SlmfDr+W4H2bdKsy7nswGWvbunwuBn2ST5gBXRHot\nN5UX7kmaD3wBeF9EbJM0ISv/t8BNEfELSSeSXoXxqwO4C2YNcVCY9d7R2WuqIbUobgWmAusqIdHF\nh4AfRMQ2gIiofDfGucC8qje4HitpbBz6vgSzQcFBYdZ7r0XEadUTspP93l6uZxhwVkTsa1bFzPqD\n+yjM+t9DwKWSJkL6nups+r8Bf1gpJOm0Gsua5c5BYdbPImIlcAPw75KeBip3SP0RsCDr5F4FfCav\nOprV49tjzcysLrcozMysLgeFmZnV5aAwM7O6HBRmZlaXg8LMzOpyUJiZWV0OCjMzq+v/A0d2nJUW\n/J7FAAAAAElFTkSuQmCC\n",
      "text/plain": [
       "<Figure size 432x288 with 1 Axes>"
      ]
     },
     "metadata": {
      "tags": []
     },
     "output_type": "display_data"
    }
   ],
   "source": [
    "y_grid1=np.linspace(np.amin(npa1)-(np.amax(npa1)-np.amin(npa1))*0.4,np.amax(npa1)+(np.amax(npa1)-np.amin(npa1))*0.4,10000)\n",
    "ideal1=1.06*(np.std(npa1))*((len(npa1)**(-1/5)))\n",
    "pdf1 = kde_scipy(npa1, y_grid1, bandwidth=ideal1)\n",
    "plt.plot(y_grid1, pdf1, color='blue', alpha=1, lw=1)\n",
    "plt.title('PDF for gloves')\n",
    "plt.xlabel('Price')\n",
    "plt.show()"
>>>>>>> nikversion
   ]
  },
  {
   "cell_type": "code",
<<<<<<< HEAD
   "execution_count": 12,
   "metadata": {
    "colab": {
     "base_uri": "https://localhost:8080/",
     "height": 297
    },
    "colab_type": "code",
    "id": "7FXyP-a689Mv",
    "outputId": "bf32eed3-5a24-4ae4-b42f-bdfe0a019bee"
=======
   "execution_count": 29,
   "metadata": {
    "colab": {
     "base_uri": "https://localhost:8080/",
     "height": 295
    },
    "colab_type": "code",
    "id": "Y3reUnhuOQh0",
    "outputId": "cd038efe-e824-4e40-fe23-62ce9855695c"
>>>>>>> nikversion
   },
   "outputs": [
    {
     "data": {
<<<<<<< HEAD
      "text/html": [
       "<div>\n",
       "<style scoped>\n",
       "    .dataframe tbody tr th:only-of-type {\n",
       "        vertical-align: middle;\n",
       "    }\n",
       "\n",
       "    .dataframe tbody tr th {\n",
       "        vertical-align: top;\n",
       "    }\n",
       "\n",
       "    .dataframe thead th {\n",
       "        text-align: right;\n",
       "    }\n",
       "</style>\n",
       "<table border=\"1\" class=\"dataframe\">\n",
       "  <thead>\n",
       "    <tr style=\"text-align: right;\">\n",
       "      <th></th>\n",
       "      <th>Price</th>\n",
       "    </tr>\n",
       "  </thead>\n",
       "  <tbody>\n",
       "    <tr>\n",
       "      <th>count</th>\n",
       "      <td>3821.000000</td>\n",
       "    </tr>\n",
       "    <tr>\n",
       "      <th>mean</th>\n",
       "      <td>696.981942</td>\n",
       "    </tr>\n",
       "    <tr>\n",
       "      <th>std</th>\n",
       "      <td>675.809564</td>\n",
       "    </tr>\n",
       "    <tr>\n",
       "      <th>min</th>\n",
       "      <td>1.000000</td>\n",
       "    </tr>\n",
       "    <tr>\n",
       "      <th>25%</th>\n",
       "      <td>325.000000</td>\n",
       "    </tr>\n",
       "    <tr>\n",
       "      <th>50%</th>\n",
       "      <td>500.000000</td>\n",
       "    </tr>\n",
       "    <tr>\n",
       "      <th>75%</th>\n",
       "      <td>800.000000</td>\n",
       "    </tr>\n",
       "    <tr>\n",
       "      <th>max</th>\n",
       "      <td>6589.000000</td>\n",
       "    </tr>\n",
       "  </tbody>\n",
       "</table>\n",
       "</div>"
      ],
      "text/plain": [
       "             Price\n",
       "count  3821.000000\n",
       "mean    696.981942\n",
       "std     675.809564\n",
       "min       1.000000\n",
       "25%     325.000000\n",
       "50%     500.000000\n",
       "75%     800.000000\n",
       "max    6589.000000"
      ]
     },
     "execution_count": 12,
     "metadata": {
      "tags": []
     },
     "output_type": "execute_result"
    }
   ],
   "source": [
    "kurtadf.loc[((kurtadf['Unit']=='Piece') | (kurtadf['Unit']=='Piece(s)'))][(kurta_z < 3)].describe()"
   ]
  },
  {
   "cell_type": "markdown",
   "metadata": {
    "colab_type": "text",
    "id": "NG_Ijss11-As"
   },
   "source": [
    "The following cell is used to store standard deviation which is very important to calculate the bandwidth in later part"
=======
      "image/png": "iVBORw0KGgoAAAANSUhEUgAAAYsAAAEWCAYAAACXGLsWAAAABHNCSVQICAgIfAhkiAAAAAlwSFlz\nAAALEgAACxIB0t1+/AAAADl0RVh0U29mdHdhcmUAbWF0cGxvdGxpYiB2ZXJzaW9uIDMuMC4zLCBo\ndHRwOi8vbWF0cGxvdGxpYi5vcmcvnQurowAAIABJREFUeJzt3XucXWV97/HPNzNJSAiE3AiXJCSQ\ncBmogk6pUgvKRcKlYFugST0W23h4qVCt9rwUXl7q4ZRTaasoXqpUsOhBQ0DFqCCIiFiqgQkXTQjB\nMQQyIZBkCIEASUjyO388a5vNMDN7z8zee609+b5fr/WatZ/1rGf9FhP2b57nWRdFBGZmZv0ZkXcA\nZmZWfE4WZmZWkZOFmZlV5GRhZmYVOVmYmVlFThZmZlaRk4XZAEk6QtJDkl6Q9IEatPcpSf+vFrGZ\n1YuThQ0LklZLelnSFknPSPpPSeOybXdL2pp9uT8vaamkSyWNLtv/U5JeyfYvLR/p43AfAX4WEftE\nxNWNOL+ByP5bnJp3HDa8OFnYcPKnETEOeAPQDny8bNslEbEPcCDwD8A84FZJKqtzY0SMK1v+pY/j\nHAIsH0yAkloHs1/ebZs5WdiwExFrgduAY3rZ9mJE3A2cA7wZOGsgbUu6C3gb8MWs93G4pPGSviFp\ng6QnJH1c0ois/rsl3SvpKkndwKcqtD9S0rclfUfSqKyH9E9l298qqavs82pJH5X0a+BFSd8GZgA/\nKO8dSbpJ0tOSNku6R9LRAzlvMycLG3YkTQfOBB7sq05EPAl0AH8ykLYj4mTgF6SeyriIeAz4AjAe\nOBQ4Cfhr4G/KdvsjYBUwFbiin7jHALcA24ALImJ7lWHNJyW9/SJiPvAkWS+rrHd0GzAH2B94ALih\nyrbNAHC31YaTWyTtADYDPwL+b4X6TwETyz5fIOnsss9tEfFUfw1IaiENaR0bES8AL0j6DPAu4NrS\ncSLiC9n6jj6a2hf4MfAw8MEY2EPbro6INf1ViIjrymL+FLBJ0viI2DyA49gezMnChpN3RMSdA6h/\nMPDfZZ8XRcT/GOAxJwMjgSfKyp7I2i7p94s886asnfkDTBQV288S2hXA+cAUYFe2aTIpsZpV5GEo\n2yNlQ1VvJA0pDcVG4BXSpHfJDGBt2edqvvzvAP4Z+KmkqWXlLwJjyz4f0Mu+Pdvv+fmvgHOBU0nD\nZTOzcmFWJScL26NIGivpJOD7wH3ArUNpLyJ2AouAKyTtI+kQ4MPAgO+byOYXvkVKGJOz4oeAMyVN\nlHQA8PdVNPUMaf6kZB/SPEg3KfFUGp4zew0nC9tTfFHSC6Qv0s8B3wHmRsSu/neryt+RegCrgP8i\nfeFf1+8efYiI/0Oa5L5T0kTgm6R5jNWk3seNVTTzz8DHJT0n6X8B3yANja0FHgF+NZjYbM8mv/zI\nzMwqcc/CzMwqcrIwM7OKnCzMzKwiJwszM6toWNyUN3ny5Jg5c2beYZiZNZWlS5dujIgp1dQdFsli\n5syZdHR05B2GmVlTkfRE5VqJh6HMzKwiJwszM6vIycLMzCpysjAzs4qcLMzMrCInCzMzq8jJwszM\nKnKyyMnmzbBsWd5RmJlVx8kiB93dcOyx8Na3wuc+l3c0ZmaVOVnk4Mor4fTTYelSuPxyWL8+74jM\nzPrnZNFgO3bA178OH/0oHHIInHce/Md/5B2VmVn/nCwa7O67YdastAC8611w0025hmRmVpGTRYPd\ndhucc87uzyecAOvWwapV+cVkZlaJk0WD3XsvvOUtuz+3tMCpp8LPfpZfTGZmlThZNNDLL8NvfgPH\nH//q8pNOgnvuyScmM7NqOFk0UEcHHH00jB376vITT4Sf/zyfmMzMquFk0UC//jUcd9xry484Ap5/\nHp55pvExmZlVo6pkIWmupJWSOiVd2sv20ZJuzLYvkTSzbNtlWflKSaeXlV8nab2kZT3a+ldJj0r6\ntaTvSdpv8KdXLMuWwTHHvLZcSknkwQcbH5OZWTUqJgtJLcCXgDOANmC+pLYe1RYAmyJiNnAVcGW2\nbxswDzgamAt8OWsP4D+zsp5+AhwTEa8DHgMuG+A5FVZfyQJSsnjggcbGY2ZWrWp6FscDnRGxKiK2\nAwuBc3vUORe4Plu/GThFkrLyhRGxLSIeBzqz9oiIe4Bnex4sIu6IiB3Zx18B0wZ4ToUUAcuX958s\n3LMws6KqJlkcDKwp+9yVlfVaJ/ui3wxMqnLf/vwtcFtvGyRdJKlDUseGDRsG0GQ+1q2D1laYMqX3\n7e5ZmFmRFXaCW9LHgB3ADb1tj4hrIqI9Itqn9PUNXCCPPgpHHdX39iOOgKeeghdfbFxMZmbVqiZZ\nrAWml32elpX1WkdSKzAe6K5y39eQ9G7gbOCdERFVxFh4q1bBYYf1vb2lBWbPhscea1xMZmbVqiZZ\n3A/MkTRL0ijShPXiHnUWAxdm6+cBd2Vf8ouBednVUrOAOcB9/R1M0lzgI8A5EfFS9adSbKtWwaGH\n9l/nyCNhxYrGxGNmNhAVk0U2B3EJcDuwAlgUEcslXS6p9JSja4FJkjqBDwOXZvsuBxYBjwA/Bi6O\niJ0Akr4N/BI4QlKXpAVZW18E9gF+IukhSV+p0bnmqppkcdRRabjKzKxoWqupFBG3Arf2KPtk2fpW\n4Pw+9r0CuKKX8vl91J9dTUzNZtWq3U+a7cuRR8L3vteYeMzMBqKwE9zDjXsWZtbMnCwaYPPm9BDB\n/ffvv97hh0NnZ3pBkplZkThZNMDjj6dehdR/vb33hsmToaurMXGZmVXLyaIBVq+GmTOrq3voofC7\n39UzGjOzgXOyaICuLphW5UNLDjvMb80zs+JxsmiAtWvh4CofcnLooU4WZlY8ThYNMJBkcdhhHoYy\ns+JxsmiAtWurH4Zyz8LMisjJogEG2rNwsjCzonGyqLOINMFdbbKYNCndZ7FpU33jMjMbCCeLOnv+\n+XR/xb77Vldf8lCUmRWPk0WdlYagKt2QV86T3GZWNE4WdTaQ+YqSmTPhiSfqEo6Z2aA4WdTZQK6E\nKpkxA558sj7xmJkNhpNFnQ2mZ+FkYWZF42RRZ+vWwYEHDmyfQw5xsjCzYnGyqLP162Hq1IHtM2OG\n5yzMrFicLOrsmWcqv8eip0mTYOtWeOGF+sRkZjZQThZ19swzA+9ZSKl3sWZNfWIyMxsoJ4s6G0zP\nAjzJbWbF4mRRR9u3w4svwoQJA9/XycLMisTJoo7Wr4cpU2DEIP4r+4ooMyuSqr7GJM2VtFJSp6RL\ne9k+WtKN2fYlkmaWbbssK18p6fSy8uskrZe0rEdbEyX9RNJvs5+D+Lu8GAY7BAXuWZhZsVRMFpJa\ngC8BZwBtwHxJbT2qLQA2RcRs4CrgymzfNmAecDQwF/hy1h7Af2ZlPV0K/DQi5gA/zT43pcFcNlvi\nZGFmRVJNz+J4oDMiVkXEdmAhcG6POucC12frNwOnSFJWvjAitkXE40Bn1h4RcQ/wbC/HK2/reuAd\nAzifQhnMlVAlvtfCzIqkmmRxMFB+EWdXVtZrnYjYAWwGJlW5b09TI2Jdtv400OvXraSLJHVI6tiw\nYUMVp9F4QxmGmjYNnnoKdu6sbUxmZoNR6AnuiAgg+th2TUS0R0T7lClTGhxZdYYyDDV6NEycmB4X\nYmaWt2qSxVpgetnnaVlZr3UktQLjge4q9+3pGUkHZm0dCKyvIsZCGsowFPjGPDMrjmqSxf3AHEmz\nJI0iTVgv7lFnMXBhtn4ecFfWK1gMzMuulpoFzAHuq3C88rYuBL5fRYyFNJRhKIDp050szKwYKiaL\nbA7iEuB2YAWwKCKWS7pc0jlZtWuBSZI6gQ+TXcEUEcuBRcAjwI+BiyNiJ4CkbwO/BI6Q1CVpQdbW\np4HTJP0WODX73JSGMgwFThZmVhyt1VSKiFuBW3uUfbJsfStwfh/7XgFc0Uv5/D7qdwOnVBNX0dWi\nZ+HLZ82sCAo9wd3Mdu6E7u50B/dg+V4LMysKJ4s62bQJ9tkHRo4cfBsehjKzonCyqJPubpg8eWht\nOFmYWVE4WdTJxo1DTxYHHJB6KNu21SYmM7PBcrKok+7u9Ma7oRgxAg46CLq6ahOTmdlgOVnUycaN\nQ08W4KEoMysGJ4s6qcWcBfiKKDMrBieLOqnFMBS4Z2FmxeBkUSe1mOAGJwszKwYnizqpVc/Cw1Bm\nVgROFnXiCW4zG06cLOqkVhPcThZmVgROFnVSq2GoCRNgxw54/vmht2VmNlhOFnUQAc8+W5tkIbl3\nYWb5c7Kog82bYezYoT1EsJyThZnlzcmiDmp12WyJX69qZnlzsqiDWs1XlPglSGaWNyeLOqjVZbMl\nHoYys7w5WdRBrS6bLXGyMLO8OVnUQa2HoXwXt5nlzcmiDmo9wT19enqnRUTt2jQzGwgnizqodc9i\n7Ni0bNxYuzbNzAaiqmQhaa6klZI6JV3ay/bRkm7Mti+RNLNs22VZ+UpJp1dqU9Ipkh6Q9JCk/5I0\ne2in2Hi17lmAL581s3xVTBaSWoAvAWcAbcB8SW09qi0ANkXEbOAq4Mps3zZgHnA0MBf4sqSWCm3+\nO/DOiDgW+Bbw8aGdYuPVumcBvnzWzPJVTc/ieKAzIlZFxHZgIXBujzrnAtdn6zcDp0hSVr4wIrZF\nxONAZ9Zef20GsG+2Ph54anCnlp96JQv3LMwsL61V1DkYKP+a6gL+qK86EbFD0mZgUlb+qx77Hpyt\n99Xme4BbJb0MPA+8qbegJF0EXAQwY8aMKk6jcTwMZWbDTREnuD8EnBkR04CvA5/trVJEXBMR7RHR\nPmXKlIYG2J8ID0OZ2fBTTbJYC0wv+zwtK+u1jqRW0vBRdz/79louaQrw+ohYkpXfCJxQ1ZkUxJYt\n6QGCe+1V23Y9DGVmeaomWdwPzJE0S9Io0oT14h51FgMXZuvnAXdFRGTl87KrpWYBc4D7+mlzEzBe\n0uFZW6cBKwZ/eo1Xj14FeBjKzPJVcc4im4O4BLgdaAGui4jlki4HOiJiMXAt8E1JncCzpC9/snqL\ngEeAHcDFEbEToLc2s/L/CXxH0i5S8vjbmp5xndVjvgLgoIPg6afTi5Baq5lpMjOrIcUwuC24vb09\nOjo68g4DgNtvh898Bu64o/ZtH3ww/OpXaUjKzGyoJC2NiPZq6hZxgrup1WsYCjwUZWb5cbKosXoN\nQ4GviDKz/DhZ1Fg9exa+IsrM8uJkUWP17Fl4GMrM8uJkUWPuWZjZcORkUWO1fqVqOc9ZmFlenCxq\nrNavVC3nnoWZ5cXJosbqOQy1//7w/PPw8sv1ad/MrC9OFjVWz2QxYkS6Ma+rqz7tm5n1xcmihl5+\nOT2OY++963cMD0WZWR6cLGqo1KuQ6ncMXz5rZnlwsqiheg5BlfiKKDPLg5NFDTUqWbhnYWaN5mRR\nQ41IFh6GMrM8OFnUkHsWZjZcOVnUUKN6Fk88kd71bWbWKE4WNVTPu7dLxo9P7/d+5pn6HsfMrJyT\nRQ01omcBMGcOdHbW/zhmZiVOFjXUqGQxezb89rf1P46ZWYmTRQ25Z2Fmw5WTRQ25Z2Fmw5WTRQ01\nsmfhZGFmjVRVspA0V9JKSZ2SLu1l+2hJN2bbl0iaWbbtsqx8paTTK7Wp5ApJj0laIekDQzvFxti5\nEzZvhgkT6n+s2bPTMJQvnzWzRqmYLCS1AF8CzgDagPmS2npUWwBsiojZwFXAldm+bcA84GhgLvBl\nSS0V2nw3MB04MiKOAhYO6Qwb5LnnYN99oaWl/sfabz9fPmtmjVVNz+J4oDMiVkXEdtKX97k96pwL\nXJ+t3wycIklZ+cKI2BYRjwOdWXv9tfk+4PKI2AUQEesHf3qN06ghqJJS78LMrBGqSRYHA+UPmOjK\nynqtExE7gM3ApH727a/Nw4C/lNQh6TZJc3oLStJFWZ2ODRs2VHEa9dXoZOF5CzNrpCJOcI8GtkZE\nO/AfwHW9VYqIayKiPSLap0yZ0tAAe7NxY2OTxeGHw8qVjTueme3ZqkkWa0lzCCXTsrJe60hqBcYD\n3f3s21+bXcB3s/XvAa+rIsbcNbpncfTRsHx5445nZnu2apLF/cAcSbMkjSJNWC/uUWcxcGG2fh5w\nV0REVj4vu1pqFjAHuK9Cm7cAb8vWTwIeG9ypNVYeyWLZssYdz8z2bK2VKkTEDkmXALcDLcB1EbFc\n0uVAR0QsBq4FvimpE3iW9OVPVm8R8AiwA7g4InYC9NZmdshPAzdI+hCwBXhP7U63fhqdLA47LF0N\ntWULjBvXuOOa2Z6pYrIAiIhbgVt7lH2ybH0rcH4f+14BXFFNm1n5c8BZ1cRVJN3d6V0TjdLSAkcc\nAStWwB/+YeOOa2Z7piJOcDelRvcsAI45xkNRZtYYThY10oh3WfTkSW4zaxQnixrJq2fhZGFmjeBk\nUSN5JIs/+AN4+OHGHtPM9kxOFjUQkU+ymDEDtm+Hp55q7HHNbM/jZFEDL70EI0bAmDGNPa4E7e2w\ndGljj2tmex4nixrIo1dR0t4OHR35HNvM9hxOFjXgZGFmw52TRQ00+iGC5d74xpQs/CIkM6snJ4sa\n2LAB8nrw7bRp6eeaNf3XMzMbCieLGsgzWUhwwglw7735HN/M9gxOFjWQZ7IAOOkkuOee/I5vZsOf\nk0UN5J0sTjzRycLM6svJogY2bID998/v+K9/Paxdm+IwM6sHJ4sayLtn0dKS5i1+8Yv8YjCz4c3J\nogbyThYAb3sb3HlnvjGY2fDlZFEDRUgWZ54Jt93m+y3MrD6cLIbolVdg82aYODHfONraYNcuePTR\nfOMws+HJyWKIurtTohiR839JKfUubn3Ni2rNzIbOyWKIijAEVXLmmfCjH+UdhZkNR04WQ1SkZHHy\nyelx5c8+m3ckZjbcOFkMUZGSxd57w2mnwS235B2JmQ03VSULSXMlrZTUKenSXraPlnRjtn2JpJll\n2y7LyldKOn0AbV4tacvgTqtxipQsAM4/H266Ke8ozGy4qZgsJLUAXwLOANqA+ZLaelRbAGyKiNnA\nVcCV2b5twDzgaGAu8GVJLZXalNQOTBjiuTVE0ZLFWWfBf/+3h6LMrLaq6VkcD3RGxKqI2A4sBM7t\nUedc4Pps/WbgFEnKyhdGxLaIeBzozNrrs80skfwr8JGhnVpjFC1ZjBsHp54K3/9+3pGY2XBSTbI4\nGCh/W0JXVtZrnYjYAWwGJvWzb39tXgIsjoh1/QUl6SJJHZI6NuT4UKSiJQtIQ1GLFuUdhZkNJ4Wa\n4JZ0EHA+8IVKdSPimohoj4j2KTl+WxcxWZx9toeizKy2qkkWa4HpZZ+nZWW91pHUCowHuvvZt6/y\n44DZQKek1cBYSZ1VnksuipgsSkNRvirKzGqlmmRxPzBH0ixJo0gT1ot71FkMXJitnwfcFRGRlc/L\nrpaaBcwB7uurzYj4UUQcEBEzI2Im8FI2aV5YTz8NBx6YdxSvdcEFHooys9qpmCyyOYhLgNuBFcCi\niFgu6XJJ52TVrgUmZb2ADwOXZvsuBxYBjwA/Bi6OiJ19tVnbU6u/bdvghRfyfy5Ub846C375y/Q4\nEjOzoVIMg8eUtre3R0dHR8OP++ST6T0SXV0NP3RVLrgA3v52eM978o7EzIpI0tKIaK+mbqEmuJvN\n00/DAQfkHUXfPBRlZrXiZDEERZ2vKDnzTFiyxK9bNbOhc7IYgqL3LMaOhTPOgO99L+9IzKzZOVkM\nwbp1xU4W4KEoM6sNJ4shKHrPAlLPoqMD1q/POxIza2ZOFkNQ9DkLgDFj0tzFd7+bdyRm1sycLIag\nGXoW4GdFmdnQOVkMQTPMWQDMnQsPPOCrosxs8JwsBiki9SymTs07ksrGjIHTT/ezosxs8JwsBmnz\nZhg1Kr3KtBn8xV/Ad76TdxRm1qycLAapWYagSs48Mz0ratOmvCMxs2bkZDFIa9fCtGl5R1G9cePg\n5JNhcc/nBZuZVcHJYpDWrGmuZAFw3nkeijKzwXGyGKSuLpg+vXK9Ijn7bLj7bnj++bwjMbNm42Qx\nSF1dzdezGD8e/uRP4Ec/yjsSM2s2ThaDtGZN8/UsIA1F3Xxz3lGYWbNxshikZuxZAJxzDtx5J7z4\nYt6RmFkzcbIYpGac4AaYNAmOPx5+/OO8IzGzZuJkMQhbtsDWremLtxl5KMrMBsrJYhBK91hIeUcy\nOO94B9x2W0p4ZmbVcLIYhGad3C6ZOhWOPRbuuCPvSMysWThZDEKzJwtIz4ryUJSZVauqZCFprqSV\nkjolXdrL9tGSbsy2L5E0s2zbZVn5SkmnV2pT0g1Z+TJJ10kaObRTrL1Vq+DQQ/OOYmguuAB+8APf\noGdm1amYLCS1AF8CzgDagPmS2npUWwBsiojZwFXAldm+bcA84GhgLvBlSS0V2rwBOBL4A2AM8J4h\nnWEdDIdkMXUqnHoqfOtbeUdiZs2gmp7F8UBnRKyKiO3AQuDcHnXOBa7P1m8GTpGkrHxhRGyLiMeB\nzqy9PtuMiFsjA9wHFO4C1eGQLAAuugi++tX0bg4zs/5UkywOBtaUfe7KynqtExE7gM3ApH72rdhm\nNvz0LqDXOwIkXSSpQ1LHhga/Am64JItTTknDUEuW5B2JmRVdkSe4vwzcExG/6G1jRFwTEe0R0T5l\nypSGBbVlC7zwQnO9y6IvI0bAhz4En/503pGYWdFVkyzWAuXX/kzLynqtI6kVGA9097Nvv21K+kdg\nCvDhak6ikR5/HGbNat57LHpasCD1LH7zm7wjMbMiqyZZ3A/MkTRL0ijShHXPV+gsBi7M1s8D7srm\nHBYD87KrpWYBc0jzEH22Kek9wOnA/IjYNbTTq73hMgRVMmYM/MM/wCc+kXckZlZkFZNFNgdxCXA7\nsAJYFBHLJV0u6Zys2rXAJEmdpN7Apdm+y4FFwCOkuYeLI2JnX21mbX0FmAr8UtJDkj5Zo3Otid/9\nbnglC4BLLoFly/y8KDPrm2IYXArT3t4eHR0dDTnWRRfBccfB+97XkMM1zG23wcUXwwMPwH775R2N\nmTWCpKUR0V5N3SJPcBfSI4/AUUflHUXtnXEGnHUWvPvdsKtwg39mljcniwGIGL7JAuDf/g02b06T\n3jt35h2NmRWJk8UArF+froLaf/+8I6mP0aPhhz9MT9U99VRYvTrviMysKJwsBmDFitSrGC6XzfZm\n773T/MXb3w5vfGOam3ngAd/lbbanc7IYgBUroK3nU7GGoZYWuOyyNOR2wAHpCbXHHQdf+AI8+2ze\n0ZlZHpwsBuDhh+GYY/KOonGmToV//Md0ufBnPgO//GW6bPiDH4Tu7ryjM7NGcrIYgKVL09DMnmbE\niPQcqW99Cx57LE1+H310mt8wsz2Dk0WVtm+H5cvTG+b2ZPvvD1/8Ynpx0sUXwyc/6fkMsz2Bk0WV\nli9Pz4Tae++8IymGt7wF7r8/TYYvWACvvJJ3RGZWT04WVdpTh6D6s//+cPfd8Mwz8Od/Di+9lHdE\nZlYvThZVuvdeeNOb8o6iePbeG265JT0i5PTT4bnn8o7IzOrByaJKP/85vPWteUdRTCNHwvXXp57X\nSSfBunV5R2RmteZkUYUnn0wvPRquj/mohREj4Kqr4IIL0nzG736Xd0RmVkuteQfQDH72MzjxxOF9\n53YtSPCxj8GkSem/1w03uDdmNly4Z1GFH/wgPZHVqvPe98LXvgbvfCe8//3w9NN5R2RmQ+VkUcHL\nL8NPfgJnn513JM3ljDPSq1pHjkyPSHn3u9NNfL7z26w5eRiqgttvT89FmjIl70iaz8SJ8PnPp+dM\n3XgjfPaz0NEB++wD06alZcYMmDkTDjkEXv/6tO7hPrPi8ZvyKjj7bDjvvPSXsQ3drl3Q1ZUeg75m\nTbp4YPXqtCxdmhLFySen+zbmzoWxY/OO2Gz4Gsib8pws+rF6dbocdM0af2k1QgQ8/njqzX33u3Df\nfemZVO94R5ozmjQp7wjNhhcnixpZsCA9ovuKK2retFWhuzvNc9xyC/z0pylxn3YaHH88tLf7XeFm\nQ+VkUQMPPJCGQVauhAkTatq0DcJLL6ULDe65J/U4HnwQRo1Kcx6TJ8O4celu8nHj0rLPPunnhAlw\n2GEwezYcdFC6H8TMEieLIXruOTjhhHTPwDvfWbNmrYYiUs/jiSfSzxdfTMuWLfDCC7t/dnfDqlXQ\n2Zk+H3FEujqrrS3dZNnWlt7R0drHpR67dqX3knd3w8aNu5cXX0zJavTo9HPsWBgzpvefra2wY0d6\n2GJp2bEjtT9iRFpaW9Mw27hxnuC3xhlIsqjqaihJc4HPAy3A1yLi0z22jwa+AbwR6Ab+MiJWZ9su\nAxYAO4EPRMTt/bUpaRawEJgELAXeFRHbq4mzFtatgz/7szTc8Vd/1aij2kBJqUcxeXL1+2zeDI8+\nmt4AuGJFuhdkxQp46qn0ROFx49IX//bt6Q+G556DTZtSj2XSpN3HmzQplb3ySqq7dWu6xPrll1MP\nqOfPV15JlxCXltbWtEgpGUWkOhs2pDgPPBCmT0/LjBmv/Tl+fH3+m5r1p2LPQlIL8BhwGtAF3A/M\nj4hHyuq8H3hdRLxX0jzgzyLiLyW1Ad8GjgcOAu4EDs9267VNSYuA70bEQklfAR6OiH/vL8Za9Cw6\nO2HhQrj66vSehk98wkMWe4qXXkq9j5degm3bUsLYb7+0TJiQPjdCROoRrVuXLqooLU8++ep1KV12\n3Nq6u5dSSlzly44dKalNnJiWKVPSk4LLl6lTd6/vt9/uZNbS0vgeTkSKedu2lERLvbZGxLFrV3qp\n186dKYbe1nfu3F0vYnfPcezYFGsz9ghr3bM4HuiMiFVZ4wuBc4FHyuqcC3wqW78Z+KIkZeULI2Ib\n8Likzqw9emtT0grgZKD0N/31Wbv9JovB+vnP4aMfTYli5Ej40z9NY+JHHlmPo1lRjR1bjNflSmmu\nZZ994PDDe68TkXpIXV3pi6vUSxk1avcycmT62dqahss2bUrDaBs2wPr1u5dly179edOmV39BtrTs\nThyl4/Qsq+ZnS8vuZLZt2+6lt88jRqTYR4xIn195JX0Rjx4Ne+312p8jR776y7y3L/q+vvzL1yNe\nG3P5es8FUo/ypZfSf+MdO9K/o732evXvoLReGm4sX6Tey3tb+vs9XH11Oka9VZMsDgbWlH3uAv6o\nrzoRsUPSZtIw0sHAr3rse3DlZK7TAAAHyUlEQVS23lubk4DnImJHL/VfRdJFwEUAM2bMqOI0XuuI\nI9KNYrNnp7+6mvEvA9uzSLt7PdUo1Z01a2DHidj9hVpaevsCrvZn6cuz9MVf6jX0XC99EZfs2pUS\nydatu5NKaX3r1pRMevty7y1h9bc+1FGEHTt290zLe3elJBmRzqXn0ld5aSnvzZT/Ny1fb9QISNPe\nwR0R1wDXQBqGGkwbBxyQFjN7NWn3X7F5GjEiDfeMGZNvHJW0tsK+++YdRX1Vk5PWAtPLPk/Lynqt\nI6kVGE+a6O5r377Ku4H9sjb6OpaZmTVYNcnifmCOpFmSRgHzgMU96iwGLszWzwPuijRzvhiYJ2l0\ndpXTHOC+vtrM9vlZ1gZZm98f/OmZmVktVOxkZnMQlwC3ky5zvS4ilku6HOiIiMXAtcA3swnsZ0lf\n/mT1FpEmw3cAF0fEToDe2swO+VFgoaR/Ah7M2jYzsxz5pjwzsz3UQC6d9Z0EZmZWkZOFmZlV5GRh\nZmYVOVmYmVlFw2KCW9IG4IkGH3YysLHBxxysZom1WeKE5om1WeKE5om1WeKEyrEeEhFVvTR6WCSL\nPEjqqPYqgrw1S6zNEic0T6zNEic0T6zNEifUNlYPQ5mZWUVOFmZmVpGTxeBdk3cAA9AssTZLnNA8\nsTZLnNA8sTZLnFDDWD1nYWZmFblnYWZmFTlZmJlZRU4WgyBprqSVkjolXZrD8a+TtF7SsrKyiZJ+\nIum32c8JWbkkXZ3F+mtJbyjb58Ks/m8lXdjbsYYY53RJP5P0iKTlkj5Y4Fj3knSfpIezWP93Vj5L\n0pIsphuzR+qTPXb/xqx8iaSZZW1dlpWvlHR6rWPNjtEi6UFJPyx4nKsl/UbSQ5I6srLC/f6zY+wn\n6WZJj0paIenNRYtV0hHZf8vS8rykv29InBHhZQAL6ZHqvwMOBUYBDwNtDY7hROANwLKysn8BLs3W\nLwWuzNbPBG4DBLwJWJKVTwRWZT8nZOsTahzngcAbsvV9gMeAtoLGKmBctj4SWJLFsAiYl5V/BXhf\ntv5+4CvZ+jzgxmy9Lfs3MRqYlf1baanDv4EPA98Cfph9Lmqcq4HJPcoK9/vPjnM98J5sfRSwX1Fj\nzY7VAjwNHNKIOGt+AsN9Ad4M3F72+TLgshzimMmrk8VK4MBs/UBgZbb+VWB+z3rAfOCrZeWvqlen\nmL8PnFb0WIGxwAOk98JvBFp7/u5J72J5c7bemtVTz38P5fVqGN804KfAycAPs+MWLs6s3dW8NlkU\n7vdPervn42QX/RQ51rK23w7c26g4PQw1cAcDa8o+d2VleZsaEeuy9aeBqdl6X/E29Dyy4Y/jSH+x\nFzLWbGjnIWA98BPSX9vPRcSOXo77+5iy7ZuBSQ2K9XPAR4Bd2edJBY0TIIA7JC2VdFFWVsTf/yxg\nA/D1bHjva5L2LmisJfOAb2frdY/TyWIYivSnQmGuiZY0DvgO8PcR8Xz5tiLFGhE7I+JY0l/uxwNH\n5hzSa0g6G1gfEUvzjqVKb4mINwBnABdLOrF8Y4F+/62kod1/j4jjgBdJwzm/V6BYyeakzgFu6rmt\nXnE6WQzcWmB62edpWVnenpF0IED2c31W3le8DTkPSSNJieKGiPhukWMtiYjnSO+CfzOwn6TS64fL\nj/v7mLLt44HuBsT6x8A5klYDC0lDUZ8vYJwARMTa7Od64HukJFzE338X0BURS7LPN5OSRxFjhZR8\nH4iIZ7LPdY/TyWLg7gfmZFefjCJ1BRfnHBOkGEpXNFxImh8olf91dlXEm4DNWXf1duDtkiZkV068\nPSurGUkivUN9RUR8tuCxTpG0X7Y+hjS3soKUNM7rI9bSOZwH3JX9RbcYmJddhTQLmAPcV6s4I+Ky\niJgWETNJ//buioh3Fi1OAEl7S9qntE76vS2jgL//iHgaWCPpiKzoFOCRIsaamc/uIahSPPWNsx4T\nL8N9IV1h8BhpTPtjORz/28A64BXSX0QLSOPQPwV+C9wJTMzqCvhSFutvgPaydv4W6MyWv6lDnG8h\ndYd/DTyULWcWNNbXAQ9msS4DPpmVH0r6Eu0kdflHZ+V7ZZ87s+2HlrX1sewcVgJn1PHfwVvZfTVU\n4eLMYno4W5aX/l8p4u8/O8axQEf2b+AW0lVChYsV2JvUOxxfVlb3OP24DzMzq8jDUGZmVpGThZmZ\nVeRkYWZmFTlZmJlZRU4WZmZWkZOF2QBJ2pk98XOZpJskje2j3q2lezfMmp0vnTUbIElbImJctn4D\nsDTKbjrMbkZUROzqqw2zZuOehdnQ/AKYLWmm0nshvkG6qW+60rscJgNI+uvsfQIPS/pmVjZF0nck\n3Z8tf5zjeZj1q7VyFTPrTfaspTOAH2dFc4ALI+JX2fZSvaOBjwMnRMRGSROz+p8HroqI/5I0g/S4\nhaMaeApmVXOyMBu4MdmjzCH1LK4FDgKeKCWKHk4GboqIjQAR8WxWfirQVkoqwL6SxkXElvqFbjY4\nThZmA/dypEeZ/172hf/iANsZAbwpIrbWKjCzevGchVn93QWcL2kSpHdQZ+V3AH9XqiTp2F72NSsE\nJwuzOouI5cAVwM8lPQyUrpz6ANCeTXw/Arw3rxjNKvGls2ZmVpF7FmZmVpGThZmZVeRkYWZmFTlZ\nmJlZRU4WZmZWkZOFmZlV5GRhZmYV/X/ghwKVvEV2KgAAAABJRU5ErkJggg==\n",
      "text/plain": [
       "<Figure size 432x288 with 1 Axes>"
      ]
     },
     "metadata": {
      "tags": []
     },
     "output_type": "display_data"
    }
   ],
   "source": [
    "y_grid2=np.linspace(-(np.amax(npa2)-np.amin(npa2))*0.05,np.amax(npa2)*1.05,10000)\n",
    "ideal2=1.06*(np.std(npa2))*((len(npa2)**(-1/5)))\n",
    "pdf2 = kde_scipy(npa2, y_grid2, bandwidth=ideal2)\n",
    "plt.plot(y_grid2, pdf2, color='blue', alpha=1, lw=1)\n",
    "plt.title('PDF for kurta')\n",
    "plt.xlabel('Price')\n",
    "plt.show()"
>>>>>>> nikversion
   ]
  },
  {
   "cell_type": "code",
<<<<<<< HEAD
   "execution_count": 13,
=======
   "execution_count": 30,
>>>>>>> nikversion
   "metadata": {
    "colab": {
     "base_uri": "https://localhost:8080/",
     "height": 34
    },
    "colab_type": "code",
<<<<<<< HEAD
    "id": "PCtYTrCoF8Gh",
    "outputId": "96739a0b-8e68-4dc4-8ef4-90daee8f56d5"
=======
    "id": "yLFkxtdUJNj-",
    "outputId": "bcf58f1e-40c9-4324-e4e3-00a1cce7d1c1"
>>>>>>> nikversion
   },
   "outputs": [
    {
     "name": "stdout",
     "output_type": "stream",
     "text": [
<<<<<<< HEAD
      "5765.5323498379985 64.60411168657322 669.0502683105965\n"
=======
      "0.9998999999998275 0.9998999999999999 0.9998576396600676\n"
>>>>>>> nikversion
     ]
    }
   ],
   "source": [
<<<<<<< HEAD
    "stdev=np.std(npa)\n",
    "stdev1=np.std(npa1)\n",
    "stdev2=np.std(npa2)\n",
    "print(stdev,stdev1,stdev2)"
   ]
  },
  {
   "cell_type": "markdown",
   "metadata": {
    "colab_type": "text",
    "id": "jh2vYAYr2g1S"
   },
   "source": [
    "# Kernel Density estimation method for calculation of Probabilty Disribution Function\n",
    "we are using probability distribution function for find ing require range as pdf is more suitable for finding relationship in general population.\n",
    "\n",
    "kernel Density Estimation is useful method for calculating pdf from discret samples.\n",
    "\n"
   ]
  },
  {
   "cell_type": "code",
   "execution_count": 0,
   "metadata": {
    "colab": {},
    "colab_type": "code",
    "id": "nRb0nWC4Ee3I"
   },
   "outputs": [],
   "source": [
    "from scipy.stats import gaussian_kde\n",
    "def kde_scipy(x, x_grid, bandwidth, **kwargs):\n",
    "    \"\"\"Kernel Density Estimation with Scipy\"\"\"\n",
    "    # Note that scipy weights its bandwidth by the covariance of the\n",
    "    # input data.  To make the results comparable to the other methods,\n",
    "    # we divide the bandwidth by the sample standard deviation here.\n",
    "    kde = gaussian_kde(x, bw_method=bandwidth / x.std(ddof=1), **kwargs)\n",
    "    return kde.evaluate(x_grid)"
=======
    "w=((np.amax(npa)-np.amin(npa))*1.8)/10000\n",
    "w1=((np.amax(npa1)-np.amin(npa1))*1.8)/10000\n",
    "w2=((np.amax(npa2)-np.amin(npa2))*0.05+np.amax(npa2)*1.05)/10000\n",
    "print(np.sum(pdf)*w,np.sum(pdf1)*w1,np.sum(pdf2)*w2)"
>>>>>>> nikversion
   ]
  },
  {
   "cell_type": "code",
<<<<<<< HEAD
   "execution_count": 41,
   "metadata": {
    "colab": {
     "base_uri": "https://localhost:8080/",
     "height": 295
    },
    "colab_type": "code",
    "id": "PBAlRD6kEe3K",
    "outputId": "126ac20a-ca3f-42b1-b92a-338a246f4386"
   },
   "outputs": [
    {
     "data": {
      "image/png": "iVBORw0KGgoAAAANSUhEUgAAAZIAAAEWCAYAAABMoxE0AAAABHNCSVQICAgIfAhkiAAAAAlwSFlz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\nm/bphwAAAABJRU5ErkJggg==\n",
      "text/plain": [
       "<Figure size 432x288 with 1 Axes>"
      ]
     },
     "metadata": {
      "tags": []
     },
     "output_type": "display_data"
    }
   ],
   "source": [
    "y_grid=np.linspace(np.amin(npa)-(np.amax(npa)-np.amin(npa))*0.4,np.amax(npa)+(np.amax(npa)-np.amin(npa))*0.4,10000)\n",
    "ideal=1.06*(np.std(npa))*((len(npa)**(-1/5)))\n",
    "pdf = kde_scipy(npa, y_grid, bandwidth=ideal)\n",
    "plt.plot(y_grid, pdf, color='blue', alpha=1, lw=1)\n",
    "plt.title('PDF for drill')\n",
    "plt.xlabel('Price')\n",
    "plt.show()"
=======
   "execution_count": 31,
   "metadata": {
    "colab": {
     "base_uri": "https://localhost:8080/",
     "height": 34
    },
    "colab_type": "code",
    "id": "jHBGAYDqMYTC",
    "outputId": "bf5d0450-f846-43eb-d5f8-8b1263b055ed"
   },
   "outputs": [
    {
     "name": "stdout",
     "output_type": "stream",
     "text": [
      "0.9998999999998258\n"
     ]
    }
   ],
   "source": [
    "pdf_area=np.zeros(len(pdf)-1)\n",
    "for a in range(len(pdf_area)):\n",
    "    pdf_area[a]=(pdf[a]+pdf[a+1])*(w/2)\n",
    "print(np.sum(pdf_area))\n"
   ]
  },
  {
   "cell_type": "markdown",
   "metadata": {
    "colab_type": "text",
    "id": "js_jelVdRZVy"
   },
   "source": [
    "before going to calculation for area we need to make sure that probability of a product price below Rupees 0 is 0( for PDF calculated above we have finite probability for price less than 0 ) we can usee bayes theorem to re calculate the PDF.\n",
    "\n",
    "\\begin{equation*}\n",
    "PDF(x | Price > 0)   = \\frac{probab(x>0)*PDF(x)}{probab(Price >0)}\n",
    "\\end{equation*}\n",
    "here PDF(x) is the pdf function \n",
    "\n",
    "probab(price >0) is probabilty that price >0 which sum of area under pdf for price >0\n",
    "\n",
    "probab(x>0) is eiter 1 or 0 depending on x"
>>>>>>> nikversion
   ]
  },
  {
   "cell_type": "code",
<<<<<<< HEAD
   "execution_count": 42,
   "metadata": {
    "colab": {
     "base_uri": "https://localhost:8080/",
     "height": 295
    },
    "colab_type": "code",
    "id": "TzAdVqipNti5",
    "outputId": "248ccde0-d95d-4c58-e676-90e57df87e41"
   },
   "outputs": [
    {
     "data": {
      "image/png": "iVBORw0KGgoAAAANSUhEUgAAAYQAAAEWCAYAAABmE+CbAAAABHNCSVQICAgIfAhkiAAAAAlwSFlz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\n",
      "text/plain": [
       "<Figure size 432x288 with 1 Axes>"
      ]
     },
     "metadata": {
      "tags": []
     },
     "output_type": "display_data"
    }
   ],
   "source": [
    "y_grid1=np.linspace(np.amin(npa1)-(np.amax(npa1)-np.amin(npa1))*0.4,np.amax(npa1)+(np.amax(npa1)-np.amin(npa1))*0.4,10000)\n",
    "ideal1=1.06*(np.std(npa1))*((len(npa1)**(-1/5)))\n",
    "pdf1 = kde_scipy(npa1, y_grid1, bandwidth=ideal1)\n",
    "plt.plot(y_grid1, pdf1, color='blue', alpha=1, lw=1)\n",
    "plt.title('PDF for gloves')\n",
    "plt.xlabel('Price')\n",
    "plt.show()"
   ]
  },
  {
   "cell_type": "code",
   "execution_count": 43,
   "metadata": {
    "colab": {
     "base_uri": "https://localhost:8080/",
     "height": 295
=======
   "execution_count": 32,
   "metadata": {
    "colab": {
     "base_uri": "https://localhost:8080/",
     "height": 312
    },
    "colab_type": "code",
    "id": "JYvorUBqVTYU",
    "outputId": "4d9640da-1e60-42e2-8d79-dccfb1a20b03"
   },
   "outputs": [
    {
     "name": "stdout",
     "output_type": "stream",
     "text": [
      "1.0000000000000002\n"
     ]
>>>>>>> nikversion
    },
    "colab_type": "code",
    "id": "Y3reUnhuOQh0",
    "outputId": "1fa2f1ae-056f-4950-9e8b-72a795c9d21d"
   },
   "outputs": [
    {
     "data": {
<<<<<<< HEAD
      "image/png": "iVBORw0KGgoAAAANSUhEUgAAAYsAAAEWCAYAAACXGLsWAAAABHNCSVQICAgIfAhkiAAAAAlwSFlz\nAAALEgAACxIB0t1+/AAAADl0RVh0U29mdHdhcmUAbWF0cGxvdGxpYiB2ZXJzaW9uIDMuMC4zLCBo\ndHRwOi8vbWF0cGxvdGxpYi5vcmcvnQurowAAIABJREFUeJzt3XuUXGWd7vHvk84FQmKuTYAkkACB\nEBQY7EEQRlBUgheirgSTmeOg4jAX8MacccBxOQ5HzoiuM6gD6DCC4jWEqNijCIIRRYRAR0BIMEkb\nLklIyIUQLpJLp3/nj3eXKZrururuqtpVneez1l69a9eud/92LvX0+767aisiMDMz682QvAswM7P6\n57AwM7OSHBZmZlaSw8LMzEpyWJiZWUkOCzMzK8lhYdZHko6W9KCk5yV9pALtfUbStytRm1m1OCxs\nUJD0uKSXJL0g6WlJ35A0KnvuTkk7sjf35yQtk3SJpBFFr/+MpN3Z6wvLJ3o43CeAX0TE6Ij4ci3O\nry+yP4s3512HDS4OCxtM3hkRo4ATgRbgU0XPXRQRo4GDgX8E5gO3SFLRPjdGxKii5fM9HOcwYHl/\nCpQ0tD+vy7ttM4eFDToRsR74KfDqbp57MSLuBM4BTgHe3pe2JS0B3ghclfU+jpI0RtI3JW2W9ISk\nT0kaku3/fkl3S7pS0lbgMyXaHybpe5K+L2l41kP6bNHzZ0haV/T4cUn/LOl3wIuSvgccCvxPce9I\n0k2SNkraLulXko7ty3mbOSxs0JE0FXgb8EBP+0TEk0Ab8Bd9aTsi3gTcReqpjIqIVcB/AmOAw4HT\ngb8GPlD0stcBa4BJwOW91L0/cDOwEzg3InaVWdYCUuiNjYgFwJNkvayi3tFPgRnAgcBvge+U2bYZ\nAO622mBys6QOYDvwE+D/ltj/KWB80eNzJb2j6PGsiHiqtwYkNZGGtE6IiOeB5yX9P+B9wHWF40TE\nf2brHT009SrgVuAh4KPRty9t+3JErO1th4i4vqjmzwDbJI2JiO19OI7twxwWNpi8KyLu6MP+k4Hf\nFD1eFBH/q4/HnAgMA54o2vZE1nZBr2/kmZOzdhb0MShKtp8F2uXAPKAZ6MyemkgKVrOSPAxl+6Rs\nqOq1pCGlgdgC7CZNehccCqwvelzOm//PgH8Hfi5pUtH2F4GRRY8P6ua1Xdvv+vgvgTnAm0nDZdOy\n7cKsTA4L26dIGinpdOBHwH3ALQNpLyL2AIuAyyWNlnQYcDHQ589NZPML3yUFxsRs84PA2ySNl3QQ\n8LEymnqaNH9SMJo0D7KVFDylhufMXsFhYfuKqyQ9T3oj/SLwfWB2RHT2/rKyfJjUA1gD/Jr0hn99\nr6/oQUT8H9Ik9x2SxgPfIs1jPE7qfdxYRjP/DnxK0rOS/jfwTdLQ2HpgBXBvf2qzfZt88yMzMyvF\nPQszMyvJYWFmZiU5LMzMrCSHhZmZlTQoPpQ3ceLEmDZtWt5lmJk1lGXLlm2JiOZy9h0UYTFt2jTa\n2tryLsPMrKFIeqL0XomHoczMrCSHhZmZleSwMDOzkhwWZmZWksPCzMxKcliYmVlJDgszMyvJYZGT\nZ5+F5cvzrsLMrDwOixw88wyceCK84Q1w1VV5V2NmVprDIgdf+AKceSbcdx98+tMpPMzM6pnDosb2\n7IGvfx3+6Z/giCPg7W+Hb3wj76rMzHrnsKixu++Ggw6Co45Kj9/3PrjppnxrMjMrxWFRY7feCu98\n597Hp58Ojz4KmzblV5OZWSkOixq7+2447bS9j0eMgDPOgDvuyK0kM7OSHBY1tGsXLFsGJ5/88u2n\nnQa/+U0+NZmZlcNhUUO/+x0cfjiMGfPy7aeemnocZmb1ymFRQw8/DMcf/8rtJ54Iq1fD88/XviYz\ns3I4LGrokUfgNa955fYRI2DWrNTzMDOrR2WFhaTZklZKapd0STfPj5B0Y/b8UknTip67NNu+UtJZ\nRduvl7RJ0iNd2vqCpN9L+p2kH0oa2//Tqy+PPAKvfnX3zx13HDz0UG3rMTMrV8mwkNQEXA2cDcwC\nFkia1WW384FtEXEkcCVwRfbaWcB84FhgNnBN1h7AN7JtXd0OvDoijgNWAZf28ZzqVm9hcfzx7lmY\nWf0qp2dxEtAeEWsiYhewEJjTZZ85wA3Z+mLgTEnKti+MiJ0R8RjQnrVHRPwKeMUXXUTEzyKiI3t4\nLzClj+dUl7ZtS3MSU6d2//zxx7tnYWb1q5ywmAysLXq8LtvW7T7ZG/12YEKZr+3NB4GfdveEpAsk\ntUlq27x5cx+azMfq1elT21L3z7/mNWkCvLOztnWZmZWjbie4Jf0L0AF8p7vnI+LaiGiJiJbm5uba\nFtcPa9aky2Z7Mm4cjB0LTzxRu5rMzMpVTlisB4oHT6Zk27rdR9JQYAywtczXvoKk9wPvAP4qIqKM\nGuteqbAAOPpoWLWqNvWYmfVFOWFxPzBD0nRJw0kT1q1d9mkFzsvW5wJLsjf5VmB+drXUdGAGcF9v\nB5M0G/gEcE5E/LH8U6lv5YbFypW1qcfMrC9KhkU2B3ERcBvwKLAoIpZLukzSOdlu1wETJLUDFwOX\nZK9dDiwCVgC3AhdGxB4ASd8D7gGOlrRO0vlZW1cBo4HbJT0o6asVOtdclRMWRx3lnoWZ1aeh5ewU\nEbcAt3TZ9umi9R3AvB5eezlweTfbF/Sw/5Hl1NRoyu1Z/OQntanHzKwv6naCezDZtQs2bOj5stkC\n9yzMrF45LGrgySfhkENg2LDe95s2Ld3X4o+DZqbGzAYLh0UNPPkkHHZY6f2amtJQ1erV1a/JzKwv\nHBY1sG4dTCnzc+hHHJHmN8zM6onDogbWr4fJZX5ufdo0eOyxqpZjZtZnDosa6EtYTJ8Ojz9e1XLM\nzPrMYVEDfRmGmj7dPQszqz8Oixroa8/CYWFm9cZhUQP9mbMYHN+IZWaDhcOiynbvhi1b4KCDytt/\nzJh0m9UtW6pbl5lZXzgsqmzjRmhuhqFlfbFK4qEoM6s3DosqW7eu/CGoAoeFmdUbh0WVrV9f/pVQ\nBQ4LM6s3Dosqe+qp9L1QfeGwMLN647Coso0by5/cLjj0UFi7tvR+Zma14rCosqefhkmT+vaaqVMd\nFmZWXxwWVbZpU//C4sknq1OPmVl/OCyq7Omn4cAD+/aaceOgowOee646NZmZ9ZXDosr6MwwleSjK\nzOqLw6KKIvoXFuCwMLP64rCoouefT7dSHTmy76/1FVFmVk8cFlXUn/mKAvcszKyelBUWkmZLWimp\nXdIl3Tw/QtKN2fNLJU0reu7SbPtKSWcVbb9e0iZJj3Rpa7yk2yWtzn6O6//p5au/Q1DgsDCz+lIy\nLCQ1AVcDZwOzgAWSZnXZ7XxgW0QcCVwJXJG9dhYwHzgWmA1ck7UH8I1sW1eXAD+PiBnAz7PHDclh\nYWaDRTk9i5OA9ohYExG7gIXAnC77zAFuyNYXA2dKUrZ9YUTsjIjHgPasPSLiV8Az3RyvuK0bgHf1\n4XzqSn8+Y1HgsDCzelJOWEwGit+21mXbut0nIjqA7cCEMl/b1aSI2JCtbwS6fbuVdIGkNkltmzdv\nLuM0aq8Scxa+CZKZ1YO6nuCOiAC6fbuMiGsjoiUiWpqbm2tcWXkGMgw1alS6CdIz3fW9zMxqrJyw\nWA9MLXo8JdvW7T6ShgJjgK1lvrarpyUdnLV1MLCpjBrr0kDCAvy1H2ZWP8oJi/uBGZKmSxpOmrBu\n7bJPK3Betj4XWJL1ClqB+dnVUtOBGcB9JY5X3NZ5wI/KqLEuDWTOAjxvYWb1o2RYZHMQFwG3AY8C\niyJiuaTLJJ2T7XYdMEFSO3Ax2RVMEbEcWASsAG4FLoyIPQCSvgfcAxwtaZ2k87O2Pge8RdJq4M3Z\n44Y0kDkLcFiYWf0o687QEXELcEuXbZ8uWt8BzOvhtZcDl3ezfUEP+28Fziynrno30GEof4rbzOpF\nXU9wN7Jdu+Cll2DMmP63MWVKuoe3mVneHBZVsnUrTJiQvkG2vzwMZWb1wmFRJVu2pLAYCIeFmdUL\nh0WVbN0KEycOrI3Jk2H9eujsrExNZmb95bCoksIw1EDsvz+86lVQpx9QN7N9iMOiSrZsGXjPAjwU\nZWb1wWFRJZXoWYCviDKz+uCwqBL3LMxsMHFYVEmlehYOCzOrBw6LKqnEpbOQhqEcFmaWN4dFlVTi\n0llIPQvPWZhZ3hwWVeJhKDMbTBwWVVKpCe7Jk+Gpp2DPnoG3ZWbWXw6LKujogOefh7FjB97WiBEw\nbly6N4aZWV4cFlXwzDPpDX5Ihf50PcltZnlzWFRBpeYrCjxvYWZ5c1hUQaXmKwp8RZSZ5c1hUQWV\n7ll4GMrM8uawqAIPQ5nZYOOwqAIPQ5nZYOOwqAIPQ5nZYFNWWEiaLWmlpHZJl3Tz/AhJN2bPL5U0\nrei5S7PtKyWdVapNSWdK+q2kByX9WtKRAzvF2qt0z2LyZNi40R/MM7P8lAwLSU3A1cDZwCxggaRZ\nXXY7H9gWEUcCVwJXZK+dBcwHjgVmA9dIairR5leAv4qIE4DvAp8a2CnWXqV7FsOHp/Y2bqxcm2Zm\nfVFOz+IkoD0i1kTELmAhMKfLPnOAG7L1xcCZkpRtXxgROyPiMaA9a6+3NgN4VbY+Bniqf6eWn0r3\nLMBDUWaWr3LCYjJQ/Da1LtvW7T4R0QFsByb08tre2vwQcIukdcD7gM+VcyL1pNI9C/AVUWaWr3qc\n4P448LaImAJ8HfiP7naSdIGkNkltmzdvrmmBpVTqXhbFfEWUmeWpnLBYD0wtejwl29btPpKGkoaP\ntvby2m63S2oGjo+Ipdn2G4HXd1dURFwbES0R0dLc3FzGadRGZyc8+yyMH1/Zdj0MZWZ5Kics7gdm\nSJouaThpwrq1yz6twHnZ+lxgSUREtn1+drXUdGAGcF8vbW4Dxkg6KmvrLcCj/T+92nv2WRg9GoYO\nrWy7HoYyszyVfEuLiA5JFwG3AU3A9RGxXNJlQFtEtALXAd+S1A48Q3rzJ9tvEbAC6AAujIg9AN21\nmW3/G+D7kjpJ4fHBip5xlVVjchs8DGVm+VLqADS2lpaWaGtry7sMAO65Bz7+cbj33sq2+8QTcOqp\nDgwzqxxJyyKipZx963GCu6FVq2dxyCHw9NPpxkpmZrXmsKiwalw2CzBsGDQ3w4YNlW/bzKwUh0WF\nVatnAZ7kNrP8OCwqrFo9C3BYmFl+HBYVVs2wmDLFE9xmlg+HRYV5GMrMBiOHRYV5GMrMBiOHRYVV\ns2fhr/wws7w4LCqs2j0Lz1mYWR4cFhUUAc88U72wOPjg1HPZtas67ZuZ9cRhUUHPPQf77ZfubFcN\nQ4emT3J7KMrMas1hUUHVHIIqOPxwWLOmuscwM+vKYVFBDgszG6wcFhVUjTvkdeWwMLM8OCwqaOvW\n6l02W+CwMLM8OCwqyMNQZjZYOSwqqBZhccQRDgszqz2HRQXVYs5i/Hjo7IRt26p7HDOzYg6LCqpF\nz0LyUJSZ1Z7DooJqMcENDgszqz2HRQXVomcBKSz+8IfqH8fMrMBhUUG1mLMA9yzMrPbKCgtJsyWt\nlNQu6ZJunh8h6cbs+aWSphU9d2m2faWks0q1qeRySaskPSrpIwM7xdqpVc/iyCNh9erqH8fMrGBo\nqR0kNQFXA28B1gH3S2qNiBVFu50PbIuIIyXNB64A3itpFjAfOBY4BLhD0lHZa3pq8/3AVGBmRHRK\nOrASJ1ptL70Ee/bAAQdU/1gzZ8LKldU/jplZQTk9i5OA9ohYExG7gIXAnC77zAFuyNYXA2dKUrZ9\nYUTsjIjHgPasvd7a/HvgsojoBIiITf0/vdopTG5L1T/W5MnpG263b6/+sczMoLywmAwUfyn2umxb\nt/tERAewHZjQy2t7a/MIUq+kTdJPJc3orihJF2T7tG3evLmM06iuWs1XAAwZAkcfDb//fW2OZ2ZW\njxPcI4AdEdEC/DdwfXc7RcS1EdESES3Nzc01LbA7tZqvKJg502FhZrVTTlisJ80hFEzJtnW7j6Sh\nwBhgay+v7a3NdcAPsvUfAseVUWPuah0WxxzjsDCz2iknLO4HZkiaLmk4acK6tcs+rcB52fpcYElE\nRLZ9fna11HRgBnBfiTZvBt6YrZ8OrOrfqdWWexZmNpiVvBoqIjokXQTcBjQB10fEckmXAW0R0Qpc\nB3xLUjvwDOnNn2y/RcAKoAO4MCL2AHTXZnbIzwHfkfRx4AXgQ5U73erZsqU2n94umDkTHn20dscz\ns32bUgegsbW0tERbW1uuNXzsY3DooXDxxbU53o4dMHYsPP88DBtWm2Oa2eAiaVk2P1xSPU5wN6Ra\nD0Pttx9MnQqrGmKQzswancOiQmodFgAnnAAPPVTbY5rZvslhUSF5hcWDD9b2mGa2b3JYVEitJ7jB\nYWFmteOwqJA8exaD4BoFM6tzDosK6OiAF15IVyfV0iGHpKDYsKG2xzWzfY/DogKeeSYFxZAa/2lK\nHooys9pwWFRALb9EsKsTT4ScP2JiZvsAh0UF1Ore2915/evhnnvyObaZ7TscFhWQZ8/ilFPg3nuh\nszOf45vZvsFhUQGbN8OBOd3P78ADU1D5e6LMrJocFhWwaRPkeUuN178efvOb/I5vZoOfw6IC8uxZ\nQAqLu+/O7/hmNvg5LCpg8+Z8exannw533ukP55lZ9TgsKiDvYaiZM2HPHli9Or8azGxwc1hUQN7D\nUBK85S3ws5/lV4OZDW4OiwrIexgKUljcfnu+NZjZ4OWwGKCI+giLN785zVvs2pVvHWY2ODksBujZ\nZ2HkSBgxIt86mpvhmGNSYJiZVZrDYoDqoVdR8J73wA9/mHcVZjYYOSwGaNOmfCe3i7373XDzzenK\nKDOzSnJYDFA99SxmzEi13Htv3pWY2WBTVlhImi1ppaR2SZd08/wISTdmzy+VNK3ouUuz7SslndWH\nNr8s6YX+nVbt1FNYQBqK+v73867CzAabkmEhqQm4GjgbmAUskDSry27nA9si4kjgSuCK7LWzgPnA\nscBs4BpJTaXalNQCjBvgudVEPQ1DAcybB4sX+1tozayyyulZnAS0R8SaiNgFLATmdNlnDnBDtr4Y\nOFOSsu0LI2JnRDwGtGft9dhmFiRfAD4xsFOrjXrrWRx7LIweDUuX5l2JmQ0m5YTFZGBt0eN12bZu\n94mIDmA7MKGX1/bW5kVAa0T0emdpSRdIapPUtnnz5jJOozry/vR2d849FxYtyrsKMxtM6mqCW9Ih\nwDzgP0vtGxHXRkRLRLQ05/irfd7fC9WdefPgpps8FGVmlVNOWKwHphY9npJt63YfSUOBMcDWXl7b\n0/Y/A44E2iU9DoyU1F7mueSi3oahAGbNgnHjfLtVM6uccsLifmCGpOmShpMmrFu77NMKnJetzwWW\nRERk2+dnV0tNB2YA9/XUZkT8JCIOiohpETEN+GM2aV636m2Cu8BDUWZWSSXDIpuDuAi4DXgUWBQR\nyyVdJumcbLfrgAlZL+Bi4JLstcuBRcAK4FbgwojY01OblT216tuzJ91/e9KkvCt5JQ9FmVklKQbB\nHXNaWlqira2t5sfduBGOPx6efrrmhy7L8cfDVVfBX/xF3pWYWT2StCwiWsrZt64muBvNhg1w0EF5\nV9EzD0WZWaU4LAZg40Y4+OC8q+jZueemD+j5u6LMbKAcFgNQ7z2LGTNSmN11V96VmFmjc1gMQL33\nLMBDUWZWGQ6LAdiwof7DYt689MWCHR15V2JmjcxhMQAbN9b3MBTAEUfA1Knwq1/lXYmZNTKHxQA0\nQs8CPBRlZgPnsBiARuhZQBqK+sEPPBRlZv3nsOiniMbpWUyfDtOmwZ135l2JmTUqh0U/vfACSDBq\nVN6VlMdDUWY2EA6LfmqUXkXBvHnwwx/C7t15V2Jmjchh0U/r1zdWWBx2GBx5JPziF3lXYmaNyGHR\nT+vWpUtSG8m558KNN+ZdhZk1IodFP61d23hhMXcu3Hwz7NqVdyVm1mgcFv3UiGExdSrMnAl33JF3\nJWbWaBwW/dSIYQFpKOqmm/KuwswajcOinxo1LObOhR/9CHbuzLsSM2skDot+atSwmDwZXv1quP32\nvCsxs0bisOiHF1+El16CCRPyrqR/fFWUmfWVw6If1q6FKVPSJ7gb0dy58OMfw44deVdiZo3CYdEP\njToEVXDQQXDCCXDrrXlXYmaNwmHRD40eFgDvfS8sXJh3FWbWKMoKC0mzJa2U1C7pkm6eHyHpxuz5\npZKmFT13abZ9paSzSrUp6TvZ9kckXS9p2MBOsfIeewwOPzzvKgbm3HNTz2Lr1rwrMbNGUDIsJDUB\nVwNnA7OABZJmddntfGBbRBwJXAlckb12FjAfOBaYDVwjqalEm98BZgKvAfYHPjSgM6yCP/yh8cNi\n/Hh4+9vh29/OuxIzawTl9CxOAtojYk1E7AIWAnO67DMHuCFbXwycKUnZ9oURsTMiHgPas/Z6bDMi\nbokMcB8wZWCnWHlr1qTblTa6v/kb+NrX0r05zMx6U05YTAbWFj1el23rdp+I6AC2AxN6eW3JNrPh\np/cB3U7DSrpAUpukts2bN5dxGpUzGHoWAKefnq6IuueevCsxs3pXzxPc1wC/ioi7unsyIq6NiJaI\naGlubq5ZUc89B3/8I0yaVLNDVo0EH/0ofP7zeVdiZvWunLBYDxRf+zMl29btPpKGAmOArb28ttc2\nJf0r0AxcXM5J1NKaNalX0aifsejqgx+Ee++F5cvzrsTM6lk5YXE/MEPSdEnDSRPWrV32aQXOy9bn\nAkuyOYdWYH52tdR0YAZpHqLHNiV9CDgLWBARnQM7vcobLPMVBSNHpt7FZz+bdyVmVs9KhkU2B3ER\ncBvwKLAoIpZLukzSOdlu1wETJLWTegOXZK9dDiwCVpDmHi6MiD09tZm19VVgEnCPpAclfbpC51oR\ng2W+otiHPwy//jXcfXfelZhZvVIMgkthWlpaoq2trSbHOv98eN3r4IILanK4mvnud+ELX4ClS2H4\n8LyrMbNakLQsIlrK2beeJ7jr0ooVMKvrp0wGgQUL0vddffKTeVdiZvXIYdEHESksjjkm70oqT4Jv\nfAMWL4avfz3vasys3gzNu4BGsmED7L9/4341eSkTJsBtt8Eb35i+hv3CCwfPVV9mNjDuWfTBYB2C\nKnb00XDXXfDf/w3vfne6+svMzGHRB4N1CKqrI45IE90nnQQtLekbau++218LYrYvc1j0wUMPwWte\nk3cVtbHffmmy+7HH4NRT4bzzUnh8+9uwa1fe1ZlZrTks+qCtDV772ryrqK0xY+AjH4FVq+Bf/zVN\nfh9zDPzP/+RdmZnVksOiTC+9BKtXw3HH5V1JPoYMgXe8A37+c/jKV+Af/xHe//40EW5mg5/DokwP\nPQQzZ8KIEXlXkr+3vhUeeCDNYbzudfD443lXZGbV5rAoU1tbmuy15IAD4IYb4G//Ns1pLFuWd0Vm\nVk0OizLdfTecfHLeVdSfD38YrroKzj4bbrkl72rMrFocFmWIgF/8In1YzV7p3e+G1lb40IdScJjZ\n4OOwKMPKlWmuYtq0vCupXyefnHpf11yTrp7q6Mi7IjOrJIdFGZYsgTPO8FdflDJ9OvzmNylczzgD\n2tvzrsjMKsVhUYbWVnj72/OuojGMHQs//SnMm5d6G5/8JGzdmndVZjZQDosStm9Pvy2ffXbelTSO\nIUPS3fd++1vYvDndLGruXPja1+CRR2DHjrwrNLO+8rfOltDaCqefDqNH511J4zn00PSFhJ//PPzg\nB3DnnWn9ySdh4sQUIjNmpOWYY9IluBMn5l21mXXHd8or4Q1vgI99DN7znqo0v0/aswfWr0+3qF29\nOi0PP5x6cIcfnq6umj8/fQOumVVPX+6U555FLx5+OE3SvvOdeVcyuDQ1pV7HoYe+/HLk3bvTt90u\nXpy2T5qUvvH23HMH333PzRqN5yx68ZnPwMc/DsOG5V3JvmHYMDjtNPjiF2HtWrjyyjRkdcop8Od/\nDldcAfffn0LFzGrLw1A9WLIkfS33qlXp7niWn44O+OUv07zHXXelr00/6qjU2zj44PTVI/vvD8OH\np8AZOvTlP0eMSJf1Hn00jB+f99mY1Q8PQw3Qhg3wgQ+kyVkHRf6GDoUzz0wLwLPPphBfswY2bkzf\nCPzii2np6EjL7t171//4x7Rv4cOVs2al5dhj964feGD3n6PZuTMdr7Bs25Z+Pv98+rcxZkxaxo3b\nu4wc6c/k2OBTVlhImg18CWgCvhYRn+vy/Ajgm8Brga3AeyPi8ey5S4HzgT3ARyLitt7alDQdWAhM\nAJYB74uImt1up70d5syBCy6A2bNrdVTri7Fj042YTjqpb6+LSOGyYgUsX57mpBYuTOu7d8OrXpV6\nKbt3wwsvpKWjIwXA2LFpKayPHp1CaPv2tGzbtnfZs2dvcOy/P3R2pmN3dqbneloOOCCF1oEHph7T\n5MmvXMaNKz+ICoMGDi6rhJLDUJKagFXAW4B1wP3AgohYUbTPPwDHRcTfSZoPvDsi3itpFvA94CTg\nEOAO4KjsZd22KWkR8IOIWCjpq8BDEfGV3moc6DBURHrD+Pa3U2/i3/4NLrzQ/8n2FRHw3HN7A2LY\nsPTGPWpU/3oJO3bsDY6dO9PnTqS0NDX1vLz4ImzaBE8/nXq369e/fFm3LgXZ5MnQ3JwCptCL2rEj\nHavrz6amNPQ2ceLeEOq6HHJI+jlmTD7/5js7090XOztTz6+pqfY1dCci/dnu3p3q6/qzs3Pv0Ofw\n4S9fHzYs/b3Xu0oPQ50EtEfEmqzxhcAcYEXRPnOAz2Tri4GrJCnbvjAidgKPSWrP2qO7NiU9CrwJ\n+MtsnxuydnsNi/765S/TTXxWrYIJE+Bd70ofJDvssGoczeqVtHc4qRL222/vG3FfHXFE78+/8EIK\nji1b0ptqYW5mv/3SMmLE3vXhw9Mb2tataf9CCBWWBx6Ap57a+3jHjr3tNTWln4Wlu7mgws8hQ14e\neoXHQ4akN9WXXnrlUhxou3aluqW9AVc4j+HD03rhZ2F96NC9w4zdLZ2d6c+r+HfhwnpEWvbs2dvb\n6/pz167UztChrwyB4jDoGiDF601NrwyRQu2FXx4KS+EXiiFD9v65lrt86Uup3WorJywmA2uLHq8D\nXtfTPhHRIWk7aRhpMnBvl9eVjZ8rAAAH6klEQVROzta7a3MC8GxEdHSz/8tIugC4AODQQw8t4zRe\naeZMuPrq9KEwT3xaIxg1Kk3Ul/sZlCFD0iXIkyalOZre7NyZ3ugKPZY9e14+91NYL/65e/fLh9e6\nrg8fnobiipf99ks/iwOh0KMp/DZfCJNdu/YGSvHPwht5IbSKl0JoFRT3lgrrQ4a8PNS6/iy8wfe3\npxWx98+oa4js3r03sIqXzs60FP/ZlrPUqifWsBPcEXEtcC2kYaj+tFH4T2Rme39zz5O09zfwRv7W\nBGnvb/4jR+ZdTWWUM6q2Hpha9HhKtq3bfSQNBcaQJrp7em1P27cCY7M2ejqWmZnVWDlhcT8wQ9J0\nScOB+UBrl31agfOy9bnAkkgz563AfEkjsqucZgD39dRm9ppfZG2Qtfmj/p+emZlVQslhqGwO4iLg\nNtJlrtdHxHJJlwFtEdEKXAd8K5vAfob05k+23yLSZHgHcGFE7AHors3skP8MLJT0WeCBrG0zM8uR\nP8FtZraP6sulsw1wJbCZmeXNYWFmZiU5LMzMrCSHhZmZlTQoJrglbQaeqPFhJwJbanzM/mqUWhul\nTmicWhulTmicWhulTihd62ER0VxOQ4MiLPIgqa3cqwjy1ii1Nkqd0Di1Nkqd0Di1NkqdUNlaPQxl\nZmYlOSzMzKwkh0X/XZt3AX3QKLU2Sp3QOLU2Sp3QOLU2Sp1QwVo9Z2FmZiW5Z2FmZiU5LMzMrCSH\nRT9Imi1ppaR2SZfkcPzrJW2S9EjRtvGSbpe0Ovs5LtsuSV/Oav2dpBOLXnNetv9qSed1d6wB1jlV\n0i8krZC0XNJH67jW/STdJ+mhrNZ/y7ZPl7Q0q+nG7Cv1yb52/8Zs+1JJ04raujTbvlLSWZWuNTtG\nk6QHJP24zut8XNLDkh6U1JZtq7u//+wYYyUtlvR7SY9KOqXeapV0dPZnWViek/SxmtQZEV76sJC+\nUv0PwOHAcOAhYFaNa3gDcCLwSNG2zwOXZOuXAFdk628DfgoIOBlYmm0fD6zJfo7L1sdVuM6DgROz\n9dHAKmBWndYqYFS2PgxYmtWwCJifbf8q8PfZ+j8AX83W5wM3Zuuzsn8TI4Dp2b+Vpir8G7gY+C7w\n4+xxvdb5ODCxy7a6+/vPjnMD8KFsfTgwtl5rzY7VBGwEDqtFnRU/gcG+AKcAtxU9vhS4NIc6pvHy\nsFgJHJytHwyszNb/C1jQdT9gAfBfRdtftl+Vav4R8JZ6rxUYCfyWdF/4LcDQrn/3pHuxnJKtD832\nU9d/D8X7VbC+KcDPgTcBP86OW3d1Zu0+zivDou7+/kl393yM7KKfeq61qO23AnfXqk4PQ/XdZGBt\n0eN12ba8TYqIDdn6RqBwd/Ge6q3peWTDH39G+o29LmvNhnYeBDYBt5N+2342Ijq6Oe6fasqe3w5M\nqFGtXwQ+AXRmjyfUaZ0AAfxM0jJJF2Tb6vHvfzqwGfh6Nrz3NUkH1GmtBfOB72XrVa/TYTEIRfpV\noW6uiZY0Cvg+8LGIeK74uXqqNSL2RMQJpN/cTwJm5lzSK0h6B7ApIpblXUuZTouIE4GzgQslvaH4\nyTr6+x9KGtr9SkT8GfAiaTjnT+qoVrI5qXOAm7o+V606HRZ9tx6YWvR4SrYtb09LOhgg+7kp295T\nvTU5D0nDSEHxnYj4QT3XWhARz5LuBX8KMFZS4fbDxcf9U03Z82OArTWo9VTgHEmPAwtJQ1FfqsM6\nAYiI9dnPTcAPSSFcj3//64B1EbE0e7yYFB71WCuk8P1tRDydPa56nQ6LvrsfmJFdfTKc1BVszbkm\nSDUUrmg4jzQ/UNj+19lVEScD27Pu6m3AWyWNy66ceGu2rWIkiXQP9Ucj4j/qvNZmSWOz9f1JcyuP\nkkJjbg+1Fs5hLrAk+42uFZifXYU0HZgB3FepOiPi0oiYEhHTSP/2lkTEX9VbnQCSDpA0urBO+nt7\nhDr8+4+IjcBaSUdnm84EVtRjrZkF7B2CKtRT3TqrMfEy2BfSFQarSGPa/5LD8b8HbAB2k34jOp80\nDv1zYDVwBzA+21fA1VmtDwMtRe18EGjPlg9Uoc7TSN3h3wEPZsvb6rTW44AHslofAT6dbT+c9Cba\nTuryj8i275c9bs+eP7yorX/JzmElcHYV/x2cwd6roequzqymh7JleeH/Sj3+/WfHOAFoy/4N3Ey6\nSqjuagUOIPUOxxRtq3qd/roPMzMrycNQZmZWksPCzMxKcliYmVlJDgszMyvJYWFmZiU5LMz6SNKe\n7Bs/H5F0k6SRPex3S+GzG2aNzpfOmvWRpBciYlS2/h1gWRR96DD7MKIiorOnNswajXsWZgNzF3Ck\npGlK94X4JulDfVOV7uUwEUDSX2f3E3hI0reybc2Svi/p/mw5NcfzMOvV0NK7mFl3su9aOhu4Nds0\nAzgvIu7Nni/sdyzwKeD1EbFF0vhs/y8BV0bEryUdSvq6hWNqeApmZXNYmPXd/tlXmUPqWVwHHAI8\nUQiKLt4E3BQRWwAi4pls+5uBWYVQAV4laVREvFC90s36x2Fh1ncvRfoq8z/J3vBf7GM7Q4CTI2JH\npQozqxbPWZhV3xJgnqQJkO5BnW3/GfDhwk6STujmtWZ1wWFhVmURsRy4HPilpIeAwpVTHwFasonv\nFcDf5VWjWSm+dNbMzEpyz8LMzEpyWJiZWUkOCzMzK8lhYWZmJTkszMysJIeFmZmV5LAwM7OS/j/j\nC+syu6EeWwAAAABJRU5ErkJggg==\n",
=======
      "image/png": "iVBORw0KGgoAAAANSUhEUgAAAZIAAAEWCAYAAABMoxE0AAAABHNCSVQICAgIfAhkiAAAAAlwSFlz\nAAALEgAACxIB0t1+/AAAADl0RVh0U29mdHdhcmUAbWF0cGxvdGxpYiB2ZXJzaW9uIDMuMC4zLCBo\ndHRwOi8vbWF0cGxvdGxpYi5vcmcvnQurowAAIABJREFUeJzt3X2UXFWd7vHvk4Qk5AUSkhYhiaSB\ngHYYEWheHHSMgENAJTriGBwV77AuXgHfcF1Jri6vot510RmjjqAisAYcnRBRIYMI6BB8J6FjIJpA\nsCcvJCFACCEiQpIOv/vH2X2pVLpTVV3Vdaqqn89atfrUPvvss093dT999j51ShGBmZnZQA3LuwNm\nZtbcHCRmZlYVB4mZmVXFQWJmZlVxkJiZWVUcJGZmVhUHidkgknSspAckPSvpw4PQ/ixJm0rUWSVp\nVlr+jKR/S8vTJYWkEbXulw0tDhIbciStl/S8pD9LekLSv0oal9bdK+mF9If/T5KWS5onaVTB9p+R\ntDtt3/v4RD+7+wSwJCLGR8TX6nF8xSJiZkTcm8e+bWhwkNhQ9daIGAecCHQCnypYd1lEjAcOAz4O\nzAXukKSCOjdHxLiCxxf72c8RwKqBdLDaMwWfaVi9OEhsSIuIzcBPgOP6WPdc+k/+POC1wJsraVvS\nPcAbga+ns5ZjJB0s6SZJWyVtkPQpScNS/fdL+rWkBZK2AZ/po80D0xnUdkmrgZOL1q+XdIWklcBz\nkkaksrMq6btZJfwfiw1pkqYB5wI/7K9ORDwqqQt4PXB7uW1HxBmS7gX+LSKuS/u7CTgYOBKYBNwN\nbAGuT5udCiwEDgUO6KPZ/w0clR5jyUKw2AVkofdURPTsfSJlVns+I7Gh6lZJzwC/An4O/J8S9R8D\nDil4/veSnil4HF5qh5KGkw2TzY+IZyNiPfDPwHsL9xMR/xIRPRHxfB/N/D3whYh4OiI2An3Nu3wt\nIjb2s71ZzfmMxIaqt0XEzyqoPwX4TcHzRRHxngr3OZnsLGNDQdmG1HavjSXaOLyozoY+6pRqw6ym\nfEZiVkIa/joJ+GWVTT0F7CabgO/1CmBzwfNSt+PeAkwr2r6Yb+ltdeUgMeuHpDGS3gDcBiwD7qim\nvYjYAywCviBpvKQjgMuBf6ugmUXAfEkTJU0FPlRNn8xqwUFitq+vS3oWeAL4CvADYHZEvFiDtj8E\nPAesJZuf+R5wQwXbf5ZsOGsd2UT9d2rQJ7OqyB9sZWZm1fAZiZmZVcVBYmZmVXGQmJlZVRwkZmZW\nlZZ+Q+LkyZNj+vTpeXfDzKypLF++/KmIaCu3fksHyfTp0+nq6sq7G2ZmTUVSX3dM6JeHtszMrCoO\nEjMzq4qDxMzMquIgMTOzqjhIzMysKg4SMzOrioPEzMyq4iCxQfH738P27Xn3wszqwUFiNXfllXDW\nWXDccfDoo3n3xswGm4PEaurhh+HrX4eVK+GSS+BjH8u7R2Y22BwkVlPf+AZ84ANw6KFZiPziF9Dd\nnXevzGwwOUisZnp64LvfhYsuyp6PGQP/8A/wve/l2y8zG1xlBYmk2ZLWSOqWNK+P9aMk3ZzWL5U0\nvWDd/FS+RtLZpdqUdFkqC0mT+9jXyZJ6JJ1f6cHa4Fq6FKZOhcIbLp9/PtxyS25dMrM6KBkkkoYD\nVwPnAB3ABZI6iqpdBGyPiKOBBcBVadsOYC4wE5gNXCNpeIk2fw2cBexz98m03VXA3RUep9XBXXfB\n7Nl7l/31X8OWLZ50N2tl5ZyRnAJ0R8TaiNgFLATmFNWZA9yYlm8BzpSkVL4wInZGxDqgO7XXb5sR\nsSIi1vfTlw8BPwCeLPcArX5++lP427/du2zYMJg1C+69N48emVk9lBMkU4CNBc83pbI+60RED7AD\nmLSfbctpcy+SpgBvB75Rot7FkrokdW3dunV/Va2Gdu6EBx+EU0/dd90b3whLltS/T2ZWH8002f4V\n4IqIeHF/lSLi2ojojIjOtrayP+DLqrRyJRx9NIwdu++6WbPg5z+ve5fMrE7K+YTEzcC0gudTU1lf\ndTZJGgEcDGwrsW2pNot1AguzETMmA+dK6omIW8s4Bhtk998Pp5zS97pXvhK2bYOnnoLJ+1w+YWbN\nrpwzkvuBGZLaJY0kmzxfXFRnMXBhWj4fuCciIpXPTVd1tQMzgGVltrmXiGiPiOkRMZ1sHuYSh0jj\nWLYMTj6573XDhsGJJ8Ly5fXtk5nVR8kgSXMelwF3AQ8BiyJilaQrJZ2Xql0PTJLUDVwOzEvbrgIW\nAauBO4FLI2JPf20CSPqwpE1kZykrJV1Xu8O1wbJiBZx0Uv/rOzuhq6t+/TGz+lF24tCaOjs7o8t/\nvQZdTw8cdFA2dDVmTN91Fi2Cf/93+NGP6ts3M6ucpOUR0Vlu/WaabLcGtW4dvPzl/YcIZGcrHtoy\na00OEqva6tXQUfwW1SLt7fD007BjR336ZGb14yCxqq1aVTpIhg2DV70qq2tmrcVBYlUr54wEss8n\ncZCYtR4HiVWt3CCZORP+8IfB74+Z1ZeDxKoSAWvWZG86LMVnJGatyUFiVXniiey2KAcdVLruzJkO\nErNW5CCxqqxdC0ceWV7dqVPhL3/JbpdiZq3DQWJVqSRIJDjmGHjkkcHtk5nVl4PEqvJf/1V+kEAW\nJH/84+D1x8zqz0FiVankjARgxgyfkZi1GgeJVWXtWjjqqPLr+4zErPU4SKwqAzkjcZCYtRYHiQ3Y\n889nV2Adfnj52/QGSQvfdNpsyHGQ2ICtWwdHHAHDh5e/zYQJcOCB8Pjjg9cvM6svB4kN2Lp12V19\nK+VLgM1ai4PEBuzRR7Mzkkp5nsSstThIbMA2bszerV4pn5GYtZaygkTSbElrJHVLmtfH+lGSbk7r\nl0qaXrBufipfI+nsUm1KuiyVhaTJBeX/IGmlpN9L+o2k4wd60FYbGzfCtGmVb3fUUdnVXmbWGkoG\niaThwNXAOUAHcIGk4puGXwRsj4ijgQXAVWnbDmAuMBOYDVwjaXiJNn8NnAVsKNrHOuANEfFXwOeA\nays8VquxgQZJe7uDxKyVlHNGcgrQHRFrI2IXsBCYU1RnDnBjWr4FOFOSUvnCiNgZEeuA7tRev21G\nxIqIWF/ciYj4TURsT0/vAwYwqGK1NNAgOfLIbKLezFpDOUEyBdhY8HxTKuuzTkT0ADuASfvZtpw2\n9+ci4Cd9rZB0saQuSV1bt26toEmrxIsvwubNA5sjOeQQ2LMHtm8vXdfMGl/TTbZLeiNZkFzR1/qI\nuDYiOiOis62trb6dG0K2boVx42DMmMq3lXxWYtZKygmSzUDhAMbUVNZnHUkjgIOBbfvZtpw29yHp\n1cB1wJyI8Kda5Gigw1q92tsdJGatopwguR+YIald0kiyyfPFRXUWAxem5fOBeyIiUvncdFVXOzAD\nWFZmm3uR9Argh8B7I8IXj+asFkHiCXez1lAySNKcx2XAXcBDwKKIWCXpSknnpWrXA5MkdQOXA/PS\ntquARcBq4E7g0ojY01+bAJI+LGkT2VnKSknXpX18mmze5RpJD0jqqsHx2wBt2lRdkHhoy6x1KFr4\n7nmdnZ3R1eW8GQyf+EQ2aT5vn3cVlefHP4Z/+Re4887a9svMqidpeUR0llu/6SbbrTEM9F3tvXxG\nYtY6HCQ2INXOkUyfDhs2ZJcRm1lzc5DYgFQbJAceCBMnwmOP1a5PZpYPB4lV7MUXYcsWmFLJW0j7\n4OEts9bgILGKPfUUHHQQjBpVXTu+BNisNThIrGJbtsBhh1Xfjs9IzFqDg8QqtmULvPzl1bfjMxKz\n1uAgsYrV6ozEt0kxaw0OEquYg8TMCjlIrGKPP16bIJkyJbuL8M6d1bdlZvlxkFjFanVGMmJEFiaP\nPlp9W2aWHweJVaxWQQIe3jJrBQ4Sq5iDxMwKOUisIhG1u/wXHCRmrcBBYhX5059g2DAYP7427TlI\nzJqfg8QqUqsrtnpNnw7r19euPTOrPweJVaSW8yPgMxKzVuAgsYrUOkhe/nL485+zh5k1p7KCRNJs\nSWskdUva58NVJY2SdHNav1TS9IJ181P5Gklnl2pT0mWpLCRNLiiXpK+ldSslnTjQg7aBq3WQSHDE\nER7eMmtmJYNE0nDgauAcoAO4QFJHUbWLgO0RcTSwALgqbdsBzAVmArOBayQNL9Hmr4GzgA1F+zgH\nmJEeFwPfqOxQrRZqHSTg4S2zZlfOGckpQHdErI2IXcBCYE5RnTnAjWn5FuBMSUrlCyNiZ0SsA7pT\ne/22GRErImJ9H/2YA9wUmfuACZJq/CfNSqnlpb+9pk93kJg1s3KCZAqwseD5plTWZ52I6AF2AJP2\ns205bQ6kH0i6WFKXpK6tW7eWaNIqVeurtiA7I/HQllnzarnJ9oi4NiI6I6Kzra0t7+60HA9tmVmx\ncoJkMzCt4PnUVNZnHUkjgIOBbfvZtpw2B9IPG2QOEjMrVk6Q3A/MkNQuaSTZ5PniojqLgQvT8vnA\nPRERqXxuuqqrnWyifFmZbRZbDLwvXb11GrAjIraU0X+rkRdegOeeg0mTattub5BE1LZdM6uPkkGS\n5jwuA+4CHgIWRcQqSVdKOi9Vux6YJKkbuByYl7ZdBSwCVgN3ApdGxJ7+2gSQ9GFJm8jOOFZKui7t\n4w5gLdmE/beBS6o+eqvI44/DoYdml+zW0sSJ2dft22vbrpnVh6KF/w3s7OyMrq6uvLvRMn77W/jo\nR2Hp0tq3ffzxcMMNcNJJtW/bzCojaXlEdJZbv+Um223wDMb8SC9fuWXWvBwkVrbHH6/9e0h6ecLd\nrHk5SKxsg31G4iAxa04OEiubg8TM+uIgsbINZpD4NilmzctBYmUb7DOSDRv8XhKzZuQgsbINZpCM\nGwdjx8ITTwxO+2Y2eBwkVpY9e+Cpp+BlLxu8fXiexKw5OUisLFu3Zu9AP+CAwduHg8SsOTlIrCyD\nOazVy0Fi1pwcJFaWegSJr9wya04OEitLvc5IfJsUs+bjILGyeGjLzPrjILGyDMZH7BY74gjYtCm7\nQszMmoeDxMpSjzOSUaOgrS0LEzNrHg4SK8uWLYN3599CnnA3az4OEitLPc5IwPMkZs3IQWIlRdRn\njgR85ZZZMyorSCTNlrRGUrekeX2sHyXp5rR+qaTpBevmp/I1ks4u1aak9tRGd2pzZCp/haQlklZI\nWinp3GoO3Mr3zDMwciSMGTP4+/IZiVnzKRkkkoYDVwPnAB3ABZI6iqpdBGyPiKOBBcBVadsOYC4w\nE5gNXCNpeIk2rwIWpLa2p7YBPgUsiogTUpvXDOyQrVL1GtYCB4lZMyrnjOQUoDsi1kbELmAhMKeo\nzhzgxrR8C3CmJKXyhRGxMyLWAd2pvT7bTNuckdogtfm2tBzAQWn5YOCxyg7VBqpew1rgIDFrRuUE\nyRRgY8HzTamszzoR0QPsACbtZ9v+yicBz6Q2ivf1GeA9kjYBdwAfKqPvVgNPPjm4d/0tNGVKdoPI\nnTvrsz8zq14zTbZfAPxrREwFzgW+I2mf/ku6WFKXpK6tW7fWvZOtqKdncO/6W2jEiCxMNmyoz/7M\nrHrlBMlmYFrB86mprM86kkaQDT1t28+2/ZVvAyakNor3dRGwCCAifguMBiYXdzYiro2IzojobGtr\nK+PwrNH4yi2z5lJOkNwPzEhXU40km+heXFRnMXBhWj4fuCciIpXPTVd1tQMzgGX9tZm2WZLaILV5\nW1p+FDgTQNKryILEpxwtyPMkZs1lRKkKEdEj6TLgLmA4cENErJJ0JdAVEYuB68mGmrqBp8mCgVRv\nEbAa6AEujYg9AH21mXZ5BbBQ0ueBFaltgI8D35b0MbKJ9/en4LFBVu/vsoPErLmUDBKAiLiDbIK7\nsOzTBcsvAO/sZ9svAF8op81Uvpbsqq7i8tXA6eX012pPqt++2tvh1lvrtz8zq04zTbbbEDFjBnR3\n590LMyuXg8RKqvfQ1owZ8Mgj9d+vmQ2Mg8TKUs+hrQkTYOzY7B31Ztb4HCTWkI45JjsrMbPG5yCx\nhuQgMWseDhIrKY+5CgeJWfNwkFhZ6jlHAg4Ss2biILGGdMwxsGZN3r0ws3I4SKykPIa2jjoqu3Hj\n7t3137eZVcZBYmWp99DW6NFw+OG+eaNZM3CQWMPyPIlZc3CQWMNykJg1BweJlZTXrUocJGbNwUFi\nZan3HAnAscfCww/Xf79mVhkHiTWsjg5YvTrvXphZKQ4SKymvoa3DD4edO2GrPwfTrKE5SKwseQxt\nSTBzJqxaVbqumeXHQWINzUFi1vgcJNbQHCRmja+sIJE0W9IaSd2S5vWxfpSkm9P6pZKmF6ybn8rX\nSDq7VJuS2lMb3anNkQXr/l7SakmrJH1voAdtlcnzkwodJGaNr2SQSBoOXA2cA3QAF0jqKKp2EbA9\nIo4GFgBXpW07gLnATGA2cI2k4SXavApYkNrantpG0gxgPnB6RMwEPjrgo7aK5TFHAnDccVmQ+GN3\nzRpXOWckpwDdEbE2InYBC4E5RXXmADem5VuAMyUplS+MiJ0RsQ7oTu312Wba5ozUBqnNt6Xl/w5c\nHRHbASLiycoP15rNoYdmIfKkf9pmDaucIJkCbCx4vimV9VknInqAHcCk/WzbX/kk4JnURvG+jgGO\nkfRrSfdJmt1XZyVdLKlLUtdWXzdaE3meDfjKLbPG10yT7SOAGcAs4ALg25ImFFeKiGsjojMiOtva\n2urcxdaV19AWOEjMGl05QbIZmFbwfGoq67OOpBHAwcC2/WzbX/k2YEJqo3hfm4DFEbE7DZM9QhYs\n1uKOOw5+//u8e2Fm/SknSO4HZqSrqUaSTZ4vLqqzGLgwLZ8P3BMRkcrnpqu62sn+8C/rr820zZLU\nBqnN29LyrWRnI0iaTDbUtbbC47Um9JrXwIoVeffCzPozolSFiOiRdBlwFzAcuCEiVkm6EuiKiMXA\n9cB3JHUDT5MFA6neImA10ANcGhF7APpqM+3yCmChpM8DK1LbpLp/K2k1sAf4nxGxrfpvgZWS9xVT\nxx+fDW3t3g0HHJBvX8xsX4q8/0oMos7Ozujq6sq7G03v29+GZcuyr3k59li45Rb4q7/Krw9mQ4Wk\n5RHRWW79ZppstyHshBM8vGXWqBwkVlIjnLQ6SMwal4PEypLn5b/gIDFrZA4SawonnAAPPNAYZ0dm\ntjcHiTWFtjYYPx7Wrcu7J2ZWzEFiJTXKWcAJJ8Dy5Xn3wsyKOUisLHnPkQCcemp2GbKZNRYHiTWN\n006D3/42716YWTEHiZXUKENbJ5+cXbm1a1fePTGzQg4SK0sjDG0ddBAcdRSsXJl3T8yskIPEmoqH\nt8waj4PEmsprXwv33Zd3L8yskIPESmqUORLIzkgcJGaNxUFiZWmEORLI7gK8fTs8/njePTGzXg4S\nayrDhsHrXw/33pt3T8ysl4PESmqkoS2AN74RlizJuxdm1stBYmVplKEtgFmzHCRmjcRBYk3n1a+G\nbdtg8+a8e2JmUGaQSJotaY2kbknz+lg/StLNaf1SSdML1s1P5WsknV2qTUntqY3u1ObIon29Q1JI\nKvtjIK21DBsGb3iD50nMGkXJIJE0HLgaOAfoAC6Q1FFU7SJge0QcDSwArkrbdgBzgZnAbOAaScNL\ntHkVsCC1tT213duX8cBHgKUDO1wbiEabIwEPb5k1knLOSE4BuiNibUTsAhYCc4rqzAFuTMu3AGdK\nUipfGBE7I2Id0J3a67PNtM0ZqQ1Sm28r2M/nyILmhQqP06rUSHMkAGeeCT/7WWOGnNlQU06QTAE2\nFjzflMr6rBMRPcAOYNJ+tu2vfBLwTGpjr31JOhGYFhE/3l9nJV0sqUtS19atW8s4PGtGHR3w4ovw\n0EN598TMmmKyXdIw4MvAx0vVjYhrI6IzIjrb2toGv3NDQCP+1y/BuefCHXfk3RMzKydINgPTCp5P\nTWV91pE0AjgY2Lafbfsr3wZMSG0Ulo8HjgPulbQeOA1Y7An3oe3Nb3aQmDWCcoLkfmBGuppqJNnk\n+eKiOouBC9Py+cA9ERGpfG66qqsdmAEs66/NtM2S1AapzdsiYkdETI6I6RExHbgPOC8iugZ43Fah\nRpsjATjjDLj/ftixI++emA1tJYMkzVdcBtwFPAQsiohVkq6UdF6qdj0wSVI3cDkwL227ClgErAbu\nBC6NiD39tZnaugK4PLU1KbVtto+xY+H007NJdzPLz4jSVSAi7gDuKCr7dMHyC8A7+9n2C8AXymkz\nla8lu6prf/2ZVU6/rTYacY6k11veArfdBu94R949MRu6mmKy3fLXiENbAH/3d/Af/wE7d+bdE7Oh\ny0FiTe3ww7Nbptx9d949MRu6HCRWUiMPbQG8853w/e/n3QuzoctBYk3vHe/Ihrde8P0OzHLhILGy\nNOocCcBhh8Hxx8NPfpJ3T8yGJgeJtYT3vx9uuCHvXpgNTQ4SK6nR50gAzj8ffvUreOyxvHtiNvQ4\nSKwsjTy0BTBuXBYmN92Ud0/Mhh4HibWMf/zHbHirGc6gzFqJg8RKapY/zKedBqNHw09/mndPzIYW\nB4m1DAk+9jH48pfz7onZ0OIgsbI0+hxJr3e/Gx58EFatKl3XzGrDQWItZdQouOQSWLAg756YDR0O\nEiupWeZIen3wg/CjH8GGDXn3xGxocJBYWZplaAtg8uQsTD73ubx7YjY0OEisJX3843DrrdDdnXdP\nzFqfg8RKarahLYCJE7MruObPz7snZq3PQWIt6/LLYflyfxSv2WArK0gkzZa0RlK3pHl9rB8l6ea0\nfqmk6QXr5qfyNZLOLtWmpPbURndqc2Qqv1zSakkrJf2npCOqOXCrTDPNkfQ68ED46lfhsstg1668\ne2PWukoGiaThwNXAOUAHcIGkjqJqFwHbI+JoYAFwVdq2A5gLzARmA9dIGl6izauABamt7altgBVA\nZ0S8GrgF+OLADtmGkre+FY49Fj772bx7Yta6yjkjOQXojoi1EbELWAjMKaozB7gxLd8CnClJqXxh\nROyMiHVAd2qvzzbTNmekNkhtvg0gIpZExF9S+X3A1MoP1waiGedICl17bXYPrl/8Iu+emLWmcoJk\nCrCx4PmmVNZnnYjoAXYAk/azbX/lk4BnUhv97QuysxR/jFEdNePQVq9DD4XrroP3vheefDLv3pi1\nnqabbJf0HqAT+FI/6y+W1CWpa+vWrfXtnDWsN78Z3vc+ePvb/ZG8ZrVWTpBsBqYVPJ+ayvqsI2kE\ncDCwbT/b9le+DZiQ2thnX5LOAj4JnBcRO/vqbERcGxGdEdHZ1tZWxuFZKc0+tNXrs5+FKVOyQOnp\nKV3fzMpTTpDcD8xIV1ONJJs8X1xUZzFwYVo+H7gnIiKVz01XdbUDM4Bl/bWZtlmS2iC1eRuApBOA\nb5GFiAcorGLDhmUffPXss9nNHXfvzrtHZq2hZJCk+YrLgLuAh4BFEbFK0pWSzkvVrgcmSeoGLgfm\npW1XAYuA1cCdwKURsae/NlNbVwCXp7YmpbYhG8oaB3xf0gOSisPMBlEzz5EUGj06uw/X88/DuefC\n00/n3SOz5qdolXGLPnR2dkZXV1fe3Wh6//RP8Pjj2ddW0dMDV1wBixfDokVwwgl598iscUhaHhGd\n5dZvusl2q79W/F9jxAj453+GK6+Es8+Gz3/e8yZmA+UgsbK0ytBWsQsuyG6j8otfwEknwa9+lXeP\nzJqPg8SGvGnT4K674H/9L5g7Fy68EJ54Iu9emTUPB4mV1IpDW8UkeNe74KGHsjcwHnccXHMNvPhi\n3j0za3wOErMC48fDF78I994L3/0u/M3fZOFiZv1zkFhZWnWOpD8zZ8Ivf5nNobz+9dlk/J49effK\nrDE5SMz6MWwYXHoprFgBS5bAGWfAxo2ltzMbahwkVtJQmCPZn2nT4O67s8uEOzvhttvy7pFZY3GQ\nWFmG2tBWseHDs6u6br0VPvIR+OhH/WFZZr0cJGYVeO1rs6Gu9evhda+Ddevy7pFZ/hwkVtJQH9oq\nNnFidr+ud78bTj01WzYbyhwkZgMgZcNbt98Ol1/uoS4b2hwkVpahPkfSn1NOgd/9DjZsgNNPh7Vr\n8+6RWf05SMyqNHEi/PCH8J73wGmnwfe+5+FAG1ocJFaS/yiWJmVXc/34x/ClL8GsWfDAA3n3yqw+\nHCRWFg9tlefkk6GrK5uInz0b3vpW+PnPHcbW2kaUrmJmlRg+HD7wgeyz4W+6CT74QfjLX7KbQp51\nVnYJ8bhxg7f/F17IPvlx+/bsa+9j+/asHy+8kH1CZOHXwuWdO7MLB3q/Fj56yyKy+5IddBAcfHD2\nps3p07PHzJnZB4W97GWDd4zWWBwkVpL/mx6YAw/MAuXii2HlSrjlluyDtH73O5gyBY45BtrbYfJk\nOOSQbK5l5MjsQ7d6H7t3Z3+8Cx87duwbFIXLPT0waVLWZm+7vV/Hjs0+bnjChKx/o0e/9LXwMXJk\n9hg16qXlwjKAZ5+FP/0Jnnkmu3XM+vXZxQa3356912bMmCxQTjwx+6yXk07Kjttnt63HQWI2yCQ4\n/vjsAVkYrF0LjzySvaHx6afh4YezP8i7d2dB0NOTLY8Ykf3hLnxMmJD9t//KV74UEBMnvhQeY8bU\n54/16NHQ1pYtn3TS3usisivZVqzIPjjsm9/MvkovhcqJJ2aPqVOzs7hKRGRnV3/+c/Z47rnsezV2\nbHa2d/DB2XOrj7K+1ZJmA18FhgPXRcT/LVo/CrgJOAnYBrwrItandfOBi4A9wIcj4q79tSmpHVgI\nTAKWA++NiF3724cNPv8XWTujRsGrXpU9WpX00lDX29+elUXA5s1ZoCxfDtddl12QsHVrFoyHH54N\nl40enX2Pdu3Khtuefz4Ljeee2zs4Ro/OQmPcuCxAenqy8ueey86W2tqyM6CpU1/qS3v7S8vjx+f1\n3Wk9JYNE0nDgauBNwCbgfkmLI2J1QbWLgO0RcbSkucBVwLskdQBzgZnA4cDPJB2TtumvzauABRGx\nUNI3U9vf6G8f1X4DzKw+pOyP+tSpMGfOS+W7dsGWLfDYY1kI7NyZzdWMHJkNu/U+xo9/KTjGjNn/\nWczu3fD447BpUzbstmEDrFkDd96ZDcGtX5+1URguhV+POCJbb+Up54zkFKA7ItYCSFoIzAEKg2QO\n8Jm0fAvwdUlK5QsjYiewTlIfhYFeAAAIGElEQVR3ao++2pT0EHAG8O5U58bU7jf620dE7Ufwn30W\n5s2rdavNa/ny7BbqZoNh5MjsD/cRR9SuzQMOyC4AmDYtu7ihWAQ8+eRLobJuXTaPddtt2fMNG14a\nJit89AbYiBF9fx22n+tgS53V72/9QNZdeil0dOx/n7VSTpBMAQo/hWETcGp/dSKiR9IOsqGpKcB9\nRdtOSct9tTkJeCYievqo398+nirsiKSLgYsBXvGKV5RxePsaMaJ+P4Bm0NEBb3pT3r0wqx0p+0jl\nQw/N7pdW7MUXs7mrwqG03q979mSPnp59v/b3b22pf3f3t36g68aO3f8+a6nlpqMi4lrgWoDOzs4B\nna0ceGCW5mY2NA0bll1NN3ly3j1pDuW8IXEzMK3g+dRU1mcdSSOAg8kmxPvbtr/ybcCE1Ebxvvrb\nh5mZ5aicILkfmCGpXdJIssnzxUV1FgMXpuXzgXvS3MViYK6kUelqrBnAsv7aTNssSW2Q2rytxD7M\nzCxHJYe20nzEZcBdZJfq3hARqyRdCXRFxGLgeuA7aTL9abJgINVbRDYx3wNcGhF7APpqM+3yCmCh\npM8DK1Lb9LcPMzPLl1r5n/rOzs7o6urKuxtmZk1F0vKI6Cy3vm/aaGZmVXGQmJlZVRwkZmZWFQeJ\nmZlVpaUn2yVtBTbk3Y9kMkXvwm8y7n/+mv0Y3P/8lXsMR0REW7mNtnSQNBJJXZVcBdFo3P/8Nfsx\nuP/5G6xj8NCWmZlVxUFiZmZVcZDUz7V5d6BK7n/+mv0Y3P/8DcoxeI7EzMyq4jMSMzOrioPEzMyq\n4iAZIEnvlLRK0ouSOovWzZfULWmNpLMLymensm5J8wrK2yUtTeU3p1vrk26/f3MqXypper2Or1B/\n/c6pLzdIelLSHwrKDpH0U0l/TF8npnJJ+lrq90pJJxZsc2Gq/0dJFxaUnyTp92mbr6WPjK5l/6dJ\nWiJpdXr9fKSZjkHSaEnLJD2Y+v/ZVF7xa7jS35NakjRc0gpJtzdp/9enn/EDkrpSWX6voYjwYwAP\n4FXAscC9QGdBeQfwIDAKaAf+i+xW+cPT8pHAyFSnI22zCJiblr8JfDAtXwJ8My3PBW7O4Tj77XdO\n3/e/AU4E/lBQ9kVgXlqeB1yVls8FfgIIOA1YmsoPAdamrxPT8sS0blmqq7TtOTXu/2HAiWl5PPBI\nes00xTGkNsel5QOApWlfFb2GB/J7UuOfw+XA94Db0/Nm6/96YHJRWW6voVz+GLTSg32DZD4wv+D5\nXcBr0+Ou4nrpB/UUMCKV//96vdum5RGpnup8fH32O+fv+XT2DpI1wGFp+TBgTVr+FnBBcT3gAuBb\nBeXfSmWHAQ8XlO9Vb5CO5TbgTc14DMAY4HfAqZW+hiv9Palxv6cC/wmcAdw+kN/BPPuf2l3PvkGS\n22vIQ1u1NwXYWPB8Uyrrr3wS8ExE9BSV79VWWr8j1a+n/vrdSA6NiC1p+XHg0LRc6c9iSlouLh8U\naZjkBLL/6pvmGNKw0APAk8BPyf4Dr/Q1XOlx1dJXgE8AL6bnA/kdzLP/AAHcLWm5pItTWW6voZKf\nkDiUSfoZ8PI+Vn0yIm7ro9xyFhEhqeGvaZc0DvgB8NGI+FPhEHSjH0Nkn3L6GkkTgB8Br8y5S2WT\n9BbgyYhYLmlW3v2pwusiYrOklwE/lfRw4cp6v4YcJPsREWcNYLPNwLSC51NTGf2UbwMmSBqR/uMp\nrN/b1iZJI4CDU/162t/xNIonJB0WEVskHUb2nzL03/fNwKyi8ntT+dQ+6teUpAPIQuS7EfHDZjwG\ngIh4RtISsuGcSl/Dlf6e1MrpwHmSzgVGAwcBX22i/gMQEZvT1ycl/Qg4hTxfQ4MxdjqUHuw7RzKT\nvSfh1pJNwI1Iy+28NAk3M23zffae6LskLV/K3hN9i3I4vn77neP3fDp7z5F8ib0nGb+Ylt/M3pOM\ny1L5IcA6sgnGiWn5kLSueJLx3Br3XcBNwFeKypviGIA2YEJaPhD4JfCWSl/DA/k9GYTX0Sxemmxv\nmv4DY4HxBcu/AWbn+RrK7Y9Bsz+At5ONHe4EnmDvCbZPko0br6HgageyqyceSes+WVB+ZPrBdacX\n9KhUPjo9707rj8zpWPvsd059+XdgC7A7ff8vIhuz/k/gj8DPCn4ZBFyd+v179g78f0zf127gvxWU\ndwJ/SNt8nRpf3AC8jmx8eyXwQHqc2yzHALwaWJH6/wfg0wN9DVf6ezIIr6VZvBQkTdP/1NcH02NV\n7z7yfA35FilmZlYVX7VlZmZVcZCYmVlVHCRmZlYVB4mZmVXFQWJmZlVxkJjViKQ96W6sf5D0fUlj\n+ql3R3pXuFlL8OW/ZjUi6c8RMS4tfxdYHhFfLlgvst+5F/trw6wZ+YzEbHD8Ejha0vT02RQ3kb3B\na1r6LInJAJLelz4j4kFJ30llbZJ+IOn+9Dg9x+MwK8n32jKrsXRPpnOAO1PRDODCiLgvre+tNxP4\nFPDXEfGUpENS/a8CCyLiV5JeQXaL8lfV8RDMKuIgMaudA9Pt1SE7I7keOBzY0BsiRc4Avh8RTwFE\nxNOp/Cygo+COwAdJGhcRfx68rpsNnIPErHaej4jXFBakMHiuwnaGAadFxAu16pjZYPIciVl+7gHe\nKWkSZJ+5ncrvBj7UW0nSa/rY1qxhOEjMchIRq4AvAD+X9CDQe4XXh4HONAm/GvgfefXRrBy+/NfM\nzKriMxIzM6uKg8TMzKriIDEzs6o4SMzMrCoOEjMzq4qDxMzMquIgMTOzqvw/ZXGwQAvj6O8AAAAA\nSUVORK5CYII=\n",
>>>>>>> nikversion
      "text/plain": [
       "<Figure size 432x288 with 1 Axes>"
      ]
     },
     "metadata": {
      "tags": []
     },
     "output_type": "display_data"
    }
   ],
   "source": [
<<<<<<< HEAD
    "y_grid2=np.linspace(-(np.amax(npa2)-np.amin(npa2))*0.05,np.amax(npa2)*1.05,10000)\n",
    "ideal2=1.06*(np.std(npa2))*((len(npa2)**(-1/5)))\n",
    "pdf2 = kde_scipy(npa2, y_grid2, bandwidth=ideal2)\n",
    "plt.plot(y_grid2, pdf2, color='blue', alpha=1, lw=1)\n",
    "plt.title('PDF for kurta')\n",
=======
    "for a in range(len(pdf)):\n",
    "    if y_grid[a] > 0:\n",
    "        break\n",
    "probab=np.sum(pdf[a:])*w\n",
    "for a in range(len(pdf)):\n",
    "    if y_grid[a] > 0:\n",
    "        break\n",
    "    pdf[a]=0\n",
    "pdf=pdf/probab\n",
    "print(np.sum(pdf)*w)\n",
    "plt.plot(y_grid, pdf, color='blue', alpha=1, lw=1)\n",
    "plt.title('PDF for drill')\n",
>>>>>>> nikversion
    "plt.xlabel('Price')\n",
    "plt.show()"
   ]
  },
  {
   "cell_type": "code",
<<<<<<< HEAD
   "execution_count": 34,
   "metadata": {
    "colab": {
     "base_uri": "https://localhost:8080/",
     "height": 34
    },
    "colab_type": "code",
    "id": "yLFkxtdUJNj-",
    "outputId": "61e6220e-35e5-4c4f-a9a9-35689b2f5cdb"
   },
   "outputs": [
    {
     "name": "stdout",
     "output_type": "stream",
     "text": [
      "0.9998999999999422 0.9998891844204684 0.9998524408904884\n"
     ]
    }
   ],
   "source": [
    "w=((np.amax(npa)-np.amin(npa))*1.8)/10000\n",
    "w1=((np.amax(npa1)-np.amin(npa1))*1.8)/10000\n",
    "w2=((np.amax(npa2)-np.amin(npa2))*0.05+np.amax(npa2)*1.05)/10000\n",
    "print(np.sum(pdf)*w,np.sum(pdf1)*w1,np.sum(pdf2)*w2)"
=======
   "execution_count": 33,
   "metadata": {
    "colab": {
     "base_uri": "https://localhost:8080/",
     "height": 295
    },
    "colab_type": "code",
    "id": "PS6R3R45aBfN",
    "outputId": "46602bce-126b-4e83-dec6-696403ce0c09"
   },
   "outputs": [
    {
     "data": {
      "image/png": "iVBORw0KGgoAAAANSUhEUgAAAYoAAAEWCAYAAAB42tAoAAAABHNCSVQICAgIfAhkiAAAAAlwSFlz\nAAALEgAACxIB0t1+/AAAADl0RVh0U29mdHdhcmUAbWF0cGxvdGxpYiB2ZXJzaW9uIDMuMC4zLCBo\ndHRwOi8vbWF0cGxvdGxpYi5vcmcvnQurowAAIABJREFUeJzt3X+UVeV97/H3h+GHPxBUHAUBZQwY\nRVeLdkI0ya2pxoLeNNi1NMG2xuS6lk2qbdLmpsE2y5u4Qq6mP0zTmvbaq9F4U5FqejOroeGaaH6Y\nJuCo+AOQOPJDQEDkV9QoCHzvH88zw2E458yZmXPmzJz5vNbaa8559rP3fvaG2Z959rPPPooIzMzM\nShlR7waYmdng5qAwM7OyHBRmZlaWg8LMzMpyUJiZWVkOCjMzK8tBYdYDSe+UtELSa5L+ZAC2t17S\nB2q9HbNKOShsSMon0zclvS5pm6R7JI3N834o6a18Yv+lpCckLZA0pmD5L0h6Oy/fOf15ic39OfBo\nRBwXEV8biP0zG0wcFDaU/U5EjAXOB1qBzxfMuzEijgMmAZ8B5gNLJKmgzgMRMbZg+kqJ7ZwOrOxL\nAyWN7MtyZoOJg8KGvIjYDPwHcG6ReW9ExA+BDwEXAv+1N+uW9AjwW8A/5F7HmZLGS/qmpO2SNkj6\nvKQRuf7HJP1U0u2SdgBfKLLOoyXdK2mXpNWS/lzSphLbHyPpq5JeztNXO3tGedkPFtQdmdt0fn5/\ngaT/lLRb0tOS3l9Q92OS1uZe1zpJv9+b42LDi4PChjxJU4HLgadK1YmIl4B24L/0Zt0RcTHwE1IP\nZWxE/AL4e2A8cAZwEfBR4OMFi70bWAucAiwsstr/AUzLy18K/EGZJvwlcAEwC/h1YDaHek73A1cX\n1J0DvBoRT0qaDHwX+BJwIvDfgYckNUs6FvgacFnudb0HWNHjwbBhy0FhQ9n/lbQbeAz4EfDlHuq/\nTDppdvpw/mu7czq1pw1KaiJdxropIl6LiPXA3wDXFG4nIv4+IvZHxJtFVvNh4MsRsSsiNpFO2qX8\nPnBLRLwSEduBLxZs61+AD0k6Jr//PVJ4QAqfJRGxJCIORsTDpKC8PM8/CJwr6eiI2BIRfbq0ZsOD\ng8KGsisi4viIOD0i/qjESbnQZGBnwfvFefnO6eUKtnkSMArYUFC2Ia+708Ye1nFqtzrl6p9aZFun\nAkREB7Aa+J0cFh8ihQekcZWrCoMQeB8wKSLeAD4CfALYIum7ks7qoc02jDkobFjIl6d+g3QZqT9e\nBd4mnYg7nQZsLnjf0yOZtwBTCt5PLVP35SLbKgy0zstP84BVOTwghc993YLw2Ii4FSAilkbEpaTB\n/ueBf+6hzTaMOSisoUk6RtJFwHeA5cCS/qwvIg4Ai4GFko6TdDrwZ8D/6cVqFgM3STohjyXcWKbu\n/cDn89jCScDN3ba1CPht4JMc6k2Q6/yOpDmSmiQdJen9kqZIOkXSvDxWsRd4nXQpyqwoB4U1qn+Q\n9BqwDfgq8BAwNyKqcUL8Y+AN0oD1Y6QT9N29WP4WYBOwDvg+8CDphF3Ml0hjC88AzwJP5jIAImIL\n8DPSgPQDBeUbSb2MvwC2k3oYnyX9zo8ghdvLpEtxF5GCxqwo+YuLzOpL0ieB+RFxUb3bYlaMexRm\nA0zSJEnvlTRC0jtJHwj8t3q3y6wUf2rUbOCNBv4X0ALsJo0zfL2uLTIro6IehaS5ktZI6pC0oMj8\nMZIeyPOXSZpWMO+mXL5G0pxcdpSk5fnToislfbGg/j35k6Ir8jSr/7tpNnhExIaIODffhTQ5Ij4T\nEfvq3S6zUnrsUeQPGN1B+gTpJuBxSW0Rsaqg2nXAroiYLmk+cBvwEUkzSR9OOod07/f3JZ1JGri7\nOCJelzQKeEzSf0TEz/P6PhsRD1ZrJ83MrO8qufQ0G+iIiLUAkhaR79kuqDOPQ8+0eZB0x4ly+aKI\n2Ausk9QBzI6In5FuyYP04aVR9HzveUknnXRSTJs2ra+Lm5kNS0888cSrEdHcU71KgmIyh39ydBPp\nWTZF60TEfkl7gAm5/Ofdlp0MXT2VJ4DpwB0Rsayg3kJJNwM/ABbkoDmMpOuB6wFOO+002tvbK9gV\nMzPrJGlDz7XqeNdTRByIiFmkT6jOltT55M+bgLOAd5Gey/O5EsvfGRGtEdHa3NxjIJqZWR9VEhSb\nOfwRA1M4/HEFh9XJz98fD+yoZNmI2A08CszN77dEshf4BunSl5mZ1UklQfE4MENSi6TRpMHptm51\n2oBr8+srgUcifZKvDZif74pqAWYAy/PjCI6H9Gx+0kD58/n9pPxTwBXAc/3ZQTMz658exyjymMON\nwFKgCbg7IlZKugVoj4g24C7gvjxYvZMUJuR6i0kD3/uBGyLiQA6De/M4xQjSUzz/PW/yW5KaAZGe\nkf+Jau6wmZn1TkM8wqO1tTU8mG1m1juSnoiI1p7q+REeZmZWloPCzMzKclBYWfv2wTPPQANcoTSz\nPnJQWFnXXAOtrfC1ct/qbGYNzUFhJT33HPzkJ7B8OXz5y7C31FfrmFlDc1BYSQ89BL/3ezBrFkyf\nDj/6Ub1bZGb14KCwkr73PbjssvT6gx+E7363vu0xs/pwUFhRv/oVPP00vO996f1FF8FPf1rfNplZ\nfTgorKhnn4Wzz4YxY9L7886D1avhzTfr2y4zG3gOCivqySdTOHQ6+ugUHE89Vb82mVl9OCisqKee\ngvPPP7zsvPPSZyrMbHhxUFhRzzwDv/Zrh5edfTasWlW8vpk1LgeFFdXRAWeeeXjZzJlpnMLMhhcH\nhR1h16706I7uXxzoHoXZ8OSgsCN0dKQP2EmHl0+dCnv2wO7d9WmXmdWHg8KO0NEBM2YcWT5iBLzj\nHbB27cC3yczqx0FhR3jhhdSjKKalxUFhNtw4KOwInZeeimlpgXXrBrY9ZlZfDgo7woYNKRCKOeMM\nB4XZcOOgsCNs3AhTphSf5x6F2fDjoLDDHDwImzfD5MnF53uMwmz4qSgoJM2VtEZSh6QFReaPkfRA\nnr9M0rSCeTfl8jWS5uSyoyQtl/S0pJWSvlhQvyWvoyOvc3T/d9Mq9eqrMG5cerZTMdOmpUtTBw8O\naLPMrI56DApJTcAdwGXATOBqSTO7VbsO2BUR04HbgdvysjOB+cA5wFzg63l9e4GLI+LXgVnAXEkX\n5HXdBtye17Urr9sGyKZNpS87ARx7bAqSbdsGrk1mVl+V9ChmAx0RsTYi9gGLgHnd6swD7s2vHwQu\nkaRcvigi9kbEOqADmB3J67n+qDxFXubivA7yOq/o475ZH/QUFJAuS23ePDDtMbP6qyQoJgMbC95v\nymVF60TEfmAPMKHcspKaJK0AXgEejohleZndeR2ltkVe/npJ7ZLat2/fXsFuWCXKDWR3mjLFQWE2\nnNRtMDsiDkTELGAKMFvSub1c/s6IaI2I1ubuDyWyPtu0KT2qo5zJk1M9MxseKgmKzUDhqWNKLita\nR9JIYDywo5JlI2I38ChpDGMHcHxeR6ltWQ1VcunJPQqz4aWSoHgcmJHvRhpNGpxu61anDbg2v74S\neCQiIpfPz3dFtQAzgOWSmiUdDyDpaOBS4Pm8zKN5HeR1fqfvu2e9VWlQuEdhNnyM7KlCROyXdCOw\nFGgC7o6IlZJuAdojog24C7hPUgewkxQm5HqLgVXAfuCGiDggaRJwb74DagSwOCL+PW/yc8AiSV8C\nnsrrtgGyeTOcemr5Oh7MNhtelP6IH9paW1ujvb293s1oCOPHw/r1cMIJpeusXg1XXAFr1gxYs8ys\nBiQ9ERGtPdXzJ7Oty1tvpen448vX6+xRNMDfGGZWAQeFddm2DU4++cgvLOpu3Lj03RR79gxMu8ys\nvhwU1mXbNjjllMrq+hZZs+HDQWFdehMUp54KW7fWtj1mNjg4KKxLb4LilFMcFGbDhYPCuvQmKCZO\ndFCYDRcOCuvS26DwE2TNhgcHhXVxj8LMinFQWJetWz1GYWZHclBYF196MrNiHBTWxZeezKwYB4UB\nsHcvvP46nHhiZfVPOgl27YK3365tu8ys/hwUBsArr6THd4yo8H9EUxNMmAD+ckGzxuegMKB3l506\neZzCbHhwUBgAb7wBY8f2bhmPU5gNDw4K69LTU2O78y2yZsODg8L6zJeezIYHB4X1mS89mQ0PDgrr\ns4kTYcuWerfCzGrNQWFA377W9OSTfXus2XBQUVBImitpjaQOSQuKzB8j6YE8f5mkaQXzbsrlayTN\nyWVTJT0qaZWklZI+VVD/C5I2S1qRp8v7v5tWid4OZjc3p89fmFljG9lTBUlNwB3ApcAm4HFJbRGx\nqqDadcCuiJguaT5wG/ARSTOB+cA5wKnA9yWdCewHPhMRT0o6DnhC0sMF67w9Iv66WjtpteEehdnw\nUEmPYjbQERFrI2IfsAiY163OPODe/PpB4BJJyuWLImJvRKwDOoDZEbElIp4EiIjXgNXA5P7vjg2k\nCRNgxw44eLDeLTGzWqokKCYDGwveb+LIk3pXnYjYD+wBJlSybL5MdR6wrKD4RknPSLpb0gnFGiXp\nekntktq3+8/auhg1CsaPh507690SM6ulug5mSxoLPAR8OiJ+mYv/EXgHMAvYAvxNsWUj4s6IaI2I\n1ubm5gFpbyPry2A2pHEK57RZY6skKDYDUwveT8llRetIGgmMB3aUW1bSKFJIfCsivt1ZISK2RcSB\niDgI/DPp0pcNgN4OZoMHtM2Gg0qC4nFghqQWSaNJg9Nt3eq0Adfm11cCj0RE5PL5+a6oFmAGsDyP\nX9wFrI6Ivy1ckaRJBW9/F3iutztlA8cD2maNr8e7niJiv6QbgaVAE3B3RKyUdAvQHhFtpJP+fZI6\ngJ2kMCHXWwysIt3pdENEHJD0PuAa4FlJK/Km/iIilgBfkTQLCGA98IdV3F+rMvcozBpfj0EBkE/g\nS7qV3Vzw+i3gqhLLLgQWdit7DCh6oSMirqmkTTY4uEdh1vj8yWwDPJhtZqU5KKyLB7PNrBgHhfWL\nLz2ZNT4HhfWLexRmjc9BYf3iHoVZ43NQGND3wewJE2DXLjhwoLrtMbPBw0FhXfoymD1yJIwb5+c9\nmTUyB4X1my8/mTU2B4X1mwe0zRqbg8L6zT0Ks8bmoDCg74PZ4E9nmzU6B4V16ctgNvjSk1mjc1BY\nv/nSk1ljc1BYv7lHYdbYHBTWb+5RmDU2B4UBHsw2s9IcFNbFg9lmVoyDwvptwgTYvdvPezJrVA4K\n67eRI2H8eNixo94tMbNacFBYVXhA26xxOSgM6N9gNqSg8DiFWWOqKCgkzZW0RlKHpAVF5o+R9ECe\nv0zStIJ5N+XyNZLm5LKpkh6VtErSSkmfKqh/oqSHJb2Qf57Q/920SvR1MBscFGaNrMegkNQE3AFc\nBswErpY0s1u164BdETEduB24LS87E5gPnAPMBb6e17cf+ExEzAQuAG4oWOcC4AcRMQP4QX5vg5xv\nkTVrXJX0KGYDHRGxNiL2AYuAed3qzAPuza8fBC6RpFy+KCL2RsQ6oAOYHRFbIuJJgIh4DVgNTC6y\nrnuBK/q2azaQ3KMwa1yVBMVkYGPB+00cOqkfUSci9gN7gAmVLJsvU50HLMtFp0TElvx6K3BKsUZJ\nul5Su6T27f5Ttu4cFGaNq66D2ZLGAg8Bn46IX3afHxEBFB1mjYg7I6I1Ilqbm5tr3NLG58FsMyul\nkqDYDEwteD8llxWtI2kkMB7YUW5ZSaNIIfGtiPh2QZ1tkiblOpMAn34GiAezzayYSoLicWCGpBZJ\no0mD023d6rQB1+bXVwKP5N5AGzA/3xXVAswAlufxi7uA1RHxt2XWdS3wnd7ulA08D2abNa6RPVWI\niP2SbgSWAk3A3RGxUtItQHtEtJFO+vdJ6gB2ksKEXG8xsIp0p9MNEXFA0vuAa4BnJa3Im/qLiFgC\n3AoslnQdsAH4cDV32GrDPQqzxtVjUADkE/iSbmU3F7x+C7iqxLILgYXdyh4Dil7oiIgdwCWVtMsG\nj+OPh9dfh337YPToerfGzKrJn8w2oP+D2SNG+PKTWaNyUFiX/gxmgy8/mTUqB4VVjXsUZo3JQWFV\n4x6FWWNyUFjVOCjMGpODwoD+D2aDg8KsUTkorIsHs82sGAeFVY0Hs80ak4PCqsY9CrPG5KCwqnFQ\nmDUmB4UBHsw2s9IcFNalv4PZxx6bAueNN6rTHjMbHBwUVjWSB7TNGpGDwqrKl5/MGo+DwqrKQWHW\neBwUBlRnMBscFGaNyEFhXfo7mA1pjMJBYdZYHBRWVSef7MFss0bjoLCq8qUns8bjoLCqclCYNZ6K\ngkLSXElrJHVIWlBk/hhJD+T5yyRNK5h3Uy5fI2lOQfndkl6R9Fy3dX1B0mZJK/J0ed93zyrlwWwz\nK6XHoJDUBNwBXAbMBK6WNLNbteuAXRExHbgduC0vOxOYD5wDzAW+ntcHcE8uK+b2iJiVpyW92yXr\nKw9mm1kxlfQoZgMdEbE2IvYBi4B53erMA+7Nrx8ELpGkXL4oIvZGxDqgI6+PiPgxsLMK+2CDSOcn\ns6vVQzGz+qskKCYDGwveb8plRetExH5gDzChwmWLuVHSM/ny1AnFKki6XlK7pPbtvs1m0DjqKDj6\naNizp94tMbNqGYyD2f8IvAOYBWwB/qZYpYi4MyJaI6K1ubl5INtnPfA4hVljqSQoNgNTC95PyWVF\n60gaCYwHdlS47GEiYltEHIiIg8A/ky9VWW1V81LRySfDtm3VW5+Z1VclQfE4MENSi6TRpMHptm51\n2oBr8+srgUciInL5/HxXVAswA1hebmOSJhW8/V3guVJ1rbqqMZgNMHEibN1anXWZWf2N7KlCROyX\ndCOwFGgC7o6IlZJuAdojog24C7hPUgdpgHp+XnalpMXAKmA/cENEHACQdD/wfuAkSZuA/xERdwFf\nkTQLCGA98IfV3GGrvUmTYMuWerfCzKqlx6AAyLeoLulWdnPB67eAq0osuxBYWKT86hL1r6mkTTZ4\nOSjMGstgHMy2IW7iRAeFWSNxUBhQ3cHsSZM8RmHWSBwU1qVag9m+9GTWWBwUVnUOCrPG4qCwqmtu\nhl274O23690SM6sGB4VVXVNTCgt/6M6sMTgoDKj+Q/x855NZ43BQWE34ziezxuGgsC7VuusJPKBt\n1kgcFFYTDgqzxuGgsJpwUJg1DgeFAR7MNrPSHBRWE+5RmDUOB4V1qfZgtu96MmsMDgqriYkT0wfu\nqn1Jy8wGnoPCauKoo2DsWHj11Xq3xMz6y0FhQG3+8p8yBTZurP56zWxgOSisZqZOhU2b6t0KM+sv\nB4V1qeZgNrhHYdYoHBRWM1OnOijMGoGDwmrGl57MGkNFQSFprqQ1kjokLSgyf4ykB/L8ZZKmFcy7\nKZevkTSnoPxuSa9Ieq7buk6U9LCkF/LPE/q+e1YpD2abWSk9BoWkJuAO4DJgJnC1pJndql0H7IqI\n6cDtwG152ZnAfOAcYC7w9bw+gHtyWXcLgB9ExAzgB/m9DUG+9GTWGCrpUcwGOiJibUTsAxYB87rV\nmQfcm18/CFwiSbl8UUTsjYh1QEdeHxHxY2Bnke0Vrute4Ipe7I/1Qy0GszdvhoMHq7teMxtYlQTF\nZKDw78JNuaxonYjYD+wBJlS4bHenRETnU4K2AqcUqyTpekntktq3b99ewW7YQDv6aDjuOPA/j9nQ\nNqgHsyMigKJXzyPizohojYjW5ubmAW6ZVcqXn8yGvkqCYjMwteD9lFxWtI6kkcB4YEeFy3a3TdKk\nvK5JwCsVtNH6qVbPZHJQmA19lQTF48AMSS2SRpMGp9u61WkDrs2vrwQeyb2BNmB+viuqBZgBLO9h\ne4Xruhb4TgVttEFqyhTfIms21PUYFHnM4UZgKbAaWBwRKyXdIulDudpdwARJHcCfke9UioiVwGJg\nFfA94IaIOAAg6X7gZ8A7JW2SdF1e163ApZJeAD6Q39sAqPZgNrhHYdYIRlZSKSKWAEu6ld1c8Pot\n4KoSyy4EFhYpv7pE/R3AJZW0ywa/006Dp5+udyvMrD8G9WC2DX0tLbBuXb1bYWb94aAwoHaD2S0t\nsHZtbdZtZgPDQWE1NXEivPEGvPZavVtiZn3loLAutRjMlnz5yWyoc1BYzZ1xhi8/mQ1lDgqruTPO\ncI/CbChzUFjNeUDbbGhzUBhQu7uewD0Ks6HOQWFdajGYDR6jMBvqHBRWcy0tsH59bXstZlY7Dgqr\nuWOPhXHj0pcYmdnQ46CwAXHWWbBmTb1bYWZ94aAwoPaXhc46C1avru02zKw2HBTWpVaD2ZCC4vnn\na7d+M6sdB4UNiLPPdlCYDVUOChsQ7lGYDV0OChsQU6fCrl1+iqzZUOSgMKD2g9kjRsCZZ7pXYTYU\nOSisSy0Hs8F3PpkNVQ4KGzDnngvPPlvvVphZb1UUFJLmSlojqUPSgiLzx0h6IM9fJmlawbybcvka\nSXN6WqekeyStk7QiT7P6t4s2WJx3HqxYUe9WmFlv9RgUkpqAO4DLgJnA1ZJmdqt2HbArIqYDtwO3\n5WVnAvOBc4C5wNclNVWwzs9GxKw8+dTSIGbNSkHhZz6ZDS2V9ChmAx0RsTYi9gGLgHnd6swD7s2v\nHwQukaRcvigi9kbEOqAjr6+SddoAGoiT96RJaRzk5Zdrvy0zq55KgmIysLHg/aZcVrROROwH9gAT\nyizb0zoXSnpG0u2SxhRrlKTrJbVLat++fXsFu2E9qfVgtuTLT2ZD0WAczL4JOAt4F3Ai8LlilSLi\nzohojYjW5ubmgWyf9UPn5SczGzoqCYrNwNSC91NyWdE6kkYC44EdZZYtuc6I2BLJXuAbpMtU1iBm\nzYInn6x3K8ysNyoJiseBGZJaJI0mDU63davTBlybX18JPBIRkcvn57uiWoAZwPJy65Q0Kf8UcAXw\nXH920AaXCy6An/3MA9pmQ8nInipExH5JNwJLgSbg7ohYKekWoD0i2oC7gPskdQA7SSd+cr3FwCpg\nP3BDRBwAKLbOvMlvSWoGBKwAPlG93bVSBurEPW1a+rlhw6HXZja49RgUABGxBFjSrezmgtdvAVeV\nWHYhsLCSdebyiytpk1VfrQezO7fxnvfAT3/qoDAbKgbjYLY1uPe8B/7zP+vdCjOrlIPCBtx735t6\nFGY2NDgobMCddx6sWwevvlrvlphZJRwUBgzsXUijR8P73w8PPzxw2zSzvnNQWJeBGMzuNGcOfO97\nA7c9M+s7B4XVxdy5sHQpHDxY75aYWU8cFFYXZ5wBxx8P7e31bomZ9cRBYXXz4Q/DokX1boWZ9cRB\nYUB9Hqkxfz488IAvP5kNdg4K6zKQg9kAM2fCSSfBj340sNs1s95xUFhdXX893HFHvVthZuU4KKyu\nPvpRePRReOmlerfEzEpxUFhdHXccfOxj8Fd/Ve+WmFkpDgoD6vv9EAsWwP33w4sv1q8NZlaag8K6\nDPRgdqfmZvjTP4VPfcpfaGQ2GDkobFD47Gfh5Zfhzjvr3RIz666iLy4yq7XRo+Ff/gUuuih9odGc\nOfVukZl1clDYoHHWWfDtb8MVV8Btt8HHP17Z5bBf/hKeeAKWL4dnn4WNG2HTJnj9ddi7Fw4cgGOO\ngbFj4dhj02c3Jk1K08SJMHkyTJ8OM2akx4qY2eEcFAYMnrGB9743fQDv6qvhnnvghhvgt34LTj45\ntXHPHujoSKHQOb30EsyaBe96F1x6KZx2Wjr5jx+feipNTfDmmyk4XnstfQ/Gli2wdWu63LV8eVrn\nL36RAuWd70zfmdHamtZ55plpHWbDlYPCutRrMLu7mTPhySfTnVDf+AZ88pPwq1+l9o0cmR4o+K53\npa9U/fSn4dxzU3k548bBKaeUrxORAuT559P2lyyBW26BV16Bd78bfvM30zR7Nhx9dPX212ywc1DY\noNTUBH/wB2mKSD2CiPQXf60CTYJTT03TxRcfKt+5M33H949/DJ/7XLq8dd55h4LjwgtT78WsUVUU\nFJLmAn8HNAH/OyJu7TZ/DPBN4DeAHcBHImJ9nncTcB1wAPiTiFhabp2SWoBFwATgCeCaiNjXv920\noUxKAVEvJ54IH/xgmiBdwvr5z1Nw3HprelT66afDBRccms46C0aN6v229u9PPZitWw9dHtu7N80b\nMSIFUnNzmk4/vbHHVPbuTeNNL72Ujsmbb6aeJaSxprFj0yXJKVPSpcYxY+rb3kbWY1BIagLuAC4F\nNgGPS2qLiFUF1a4DdkXEdEnzgduAj0iaCcwHzgFOBb4v6cy8TKl13gbcHhGLJP1TXvc/VmNnzaph\n7Fj4wAfSBPD226mXsWwZPPYY/PVfw4YNaazkzDNh6lQ44YQ0NTWlMHj7bdixA7ZvPxQMW7em3suE\nCWmQfdKkdLnsmGNSb+rgQdi9+9AyGzakMDrjDHjHO9LP009P25sy5dB2B8slxUIRabxo61ZYvz59\nh3rntH59CoedO1MAnHbaoePQecnvjTdSYG/blm5c2LIl7evppx+apk07/P24cXXc4SFO0cMopqQL\ngS9ExJz8/iaAiPifBXWW5jo/kzQS2Ao0AwsK63bWy4sdsU7gVmA7MDEi9nffdimtra3R3odvwHny\nSbjrrl4v1pDWrEknpvvuq3dLGsPevbB2bRog37wZdu1K08GDKSxGjUo9lZNPTr2DzmA46aSex1s6\nRaSB+bVr0/Tii+kE23nX16ZN8NZb6QQ6fnw6UY4fn062I0cemkaNSj9HlPhUValTRLnyffvSMSic\n9u07dDPBq6+mHsDJJ6cTekvLoanzBD9xYuU3ERw4kEJnw4Yjp/Xr08+RI9OxGDcuTccdB0cddfix\n6JxGjOg5YCsJ4GrVKeerX+1b7zVtW09ERGtP9Sr5LzkZ2FjwfhPw7lJ18gl+D+nS0WTg592WnZxf\nF1vnBGB3ROwvUv8wkq4Hrgc47bTTKtiNI40blwZOLR2HCy+sdysax5gxcPbZaaoV6dBlqHd3/43M\n3ngj9UL27Em3Ee/Zk8Jj//5DPZvO1wcOlD5p9bZ8zJh0x9mYMYem0aNTb6y5OfWajjqq9/tcSlNT\n6n1Mnpxucugu4vDj0Hks9u07tP+F04ED5bdXyV2C1arTk4HoMQ7ZweyIuBO4E1KPoi/rmD49TWaN\n6thj0zS56J9bw4d06PKf9V4EfZQKAAAGUElEQVQlj/DYDEwteD8llxWtky89jScNapdatlT5DuD4\nvI5S2zIzswFUSVA8DsyQ1CJpNGlwuq1bnTbg2vz6SuCRSIMfbcB8SWPy3UwzgOWl1pmXeTSvg7zO\n7/R998zMrL96vPSUxxxuBJaSbmW9OyJWSroFaI+INuAu4D5JHcBO0omfXG8xsArYD9wQEQcAiq0z\nb/JzwCJJXwKeyus2M7M66fGup6Ggr3c9mZkNZ5Xe9eTHjJuZWVkOCjMzK8tBYWZmZTkozMysrIYY\nzJa0HdjQz9WcBLxaheYMZT4GiY+DjwEMj2NwekQ091SpIYKiGiS1VzL638h8DBIfBx8D8DEo5EtP\nZmZWloPCzMzKclAccme9GzAI+BgkPg4+BuBj0MVjFGZmVpZ7FGZmVpaDwszMyhoWQSHpKkkrJR2U\n1Npt3k2SOiStkTSnoHxuLuuQtKCgvEXSslz+QH5M+pBXan8bgaS7Jb0i6bmCshMlPSzphfzzhFwu\nSV/Lx+EZSecXLHNtrv+CpGuLbWuwkjRV0qOSVuXfhU/l8uF2HI6StFzS0/k4fDGXF/29zl+R8EAu\nXyZpWsG6ip47GlJENPwEnA28E/gh0FpQPhN4GhgDtAAvkh573pRfnwGMznVm5mUWA/Pz638CPlnv\n/avC8Sm5v40wAb8JnA88V1D2FWBBfr0AuC2/vhz4D0DABcCyXH4isDb/PCG/PqHe+9aLYzAJOD+/\nPg74Rf7/P9yOg4Cx+fUoYFnev6K/18AfAf+UX88HHsivi5476r1/tZqGRY8iIlZHxJois+YBiyJi\nb0SsAzqA2XnqiIi1EbEPWATMkyTgYuDBvPy9wBW134OaK7q/dW5T1UTEj0nfk1JoHunfDw7/d5wH\nfDOSn5O+cXESMAd4OCJ2RsQu4GFgbu1bXx0RsSUinsyvXwNWk76Pfrgdh4iI1/PbUXkKSv9eFx6f\nB4FL8nmg1LmjIQ2LoChjMrCx4P2mXFaqfAKwOyL2dysf6krtbyM7JSK25NdbgVPy697+nxhy8uWT\n80h/TQ+74yCpSdIK4BVS0L1I6d/rrv3N8/eQzgND/jj0Ro/fcDdUSPo+MLHIrL+MCH+dqpUUESFp\nWNwnLmks8BDw6Yj4ZfrjOBkuxyHSt2zOknQ88G/AWXVu0qDXMEERER/ow2KbgakF76fkMkqU7yB1\nwUfmvy4K6w9l5Y5Do9omaVJEbMmXVF7J5aWOxWbg/d3KfzgA7awaSaNIIfGtiPh2Lh52x6FTROyW\n9ChwIaV/rzuPwyZJI4HxpPPAsPqdGe6XntqA+fnOhhZgBrAceByYke+EGE0axGqLNIr1KHBlXv5a\noBF6K0X3t85tqrU20r8fHP7v2AZ8NN/1cwGwJ1+aWQr8tqQT8p1Bv53LhoR8Xf0uYHVE/G3BrOF2\nHJpzTwJJRwOXksZrSv1eFx6fK4FH8nmg1LmjMdV7NH0gJuB3SdcQ9wLbgKUF8/6SdI1yDXBZQfnl\npDtDXiRdvuosP4P0H6ID+FdgTL33r0rHqOj+NsIE3A9sAd7O/w+uI11n/gHwAvB94MRcV8Ad+Tg8\ny+F3yf23/O/eAXy83vvVy2PwPtKg7TPAijxdPgyPw68BT+Xj8Bxwcy4v+nsNHJXfd+T5ZxSsq+i5\noxEnP8LDzMzKGu6XnszMrAcOCjMzK8tBYWZmZTkozMysLAeFmZmV5aAw6yVJByStkPScpH+VdEyJ\neks679k3G8p8e6xZL0l6PSLG5tffAp6Igg+x5Q+3KSIO1quNZtXkHoVZ//wEmC5pWv5egm+SPsg1\nVdJ6SScBSPpo/l6HpyXdl8uaJT0k6fE8vbeO+2FWUsM868lsoOVn/1wGfC8XzQCujfRYbjofuCfp\nHODzwHsi4lVJJ+b6fwfcHhGPSTqN9CiMswdwF8wq4qAw672j82OqIfUo7gJOBTZ0hkQ3FwP/GhGv\nAkRE53djfACYWfAE13GSxsah70swGxQcFGa992ZEzCosyCf7N3q5nhHABRHxVrUaZlYLHqMwq71H\ngKskTYD0PdW5/P8Bf9xZSdKsIsua1Z2DwqzGImIlsBD4kaSngc47pP4EaM2D3KuAT9SrjWbl+PZY\nMzMryz0KMzMry0FhZmZlOSjMzKwsB4WZmZXloDAzs7IcFGZmVpaDwszMyvr/B4qzwRwncHYAAAAA\nSUVORK5CYII=\n",
      "text/plain": [
       "<Figure size 432x288 with 1 Axes>"
      ]
     },
     "metadata": {
      "tags": []
     },
     "output_type": "display_data"
    }
   ],
   "source": [
    "for a in range(len(pdf1)):\n",
    "    if y_grid1[a] > 0:\n",
    "        break\n",
    "probab1=np.sum(pdf1[a:])*w1\n",
    "for a in range(len(pdf1)):\n",
    "    if y_grid1[a] > 0:\n",
    "        break\n",
    "    pdf1[a]=0\n",
    "pdf1=pdf1/probab1\n",
    "plt.plot(y_grid1, pdf1, color='blue', alpha=1, lw=1)\n",
    "plt.title('PDF for gloves')\n",
    "plt.xlabel('Price')\n",
    "plt.show()"
>>>>>>> nikversion
   ]
  },
  {
   "cell_type": "code",
<<<<<<< HEAD
   "execution_count": 20,
   "metadata": {
    "colab": {
     "base_uri": "https://localhost:8080/",
     "height": 34
    },
    "colab_type": "code",
    "id": "jHBGAYDqMYTC",
    "outputId": "9732e499-0b66-4589-964c-8529a5ab2470"
   },
   "outputs": [
    {
     "name": "stdout",
     "output_type": "stream",
     "text": [
      "9.998999999999414\n"
     ]
    }
   ],
   "source": [
    "pdf_area=np.zeros(len(pdf)-1)\n",
    "for a in range(len(pdf_area)):\n",
    "  pdf_area[a]=(pdf[a]+pdf[a+1])*(w/2)\n",
    "print(np.sum(pdf_area))"
=======
   "execution_count": 34,
   "metadata": {
    "colab": {
     "base_uri": "https://localhost:8080/",
     "height": 295
    },
    "colab_type": "code",
    "id": "3ZJm7QQXaBSO",
    "outputId": "6129a27f-b1fe-44ee-cecb-fc37d11fd9c1"
   },
   "outputs": [
    {
     "data": {
      "image/png": "iVBORw0KGgoAAAANSUhEUgAAAYsAAAEWCAYAAACXGLsWAAAABHNCSVQICAgIfAhkiAAAAAlwSFlz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\nP1ofs5v5FqJ5AAAAAElFTkSuQmCC\n",
      "text/plain": [
       "<Figure size 432x288 with 1 Axes>"
      ]
     },
     "metadata": {
      "tags": []
     },
     "output_type": "display_data"
    }
   ],
   "source": [
    "for a in range(len(pdf2)):\n",
    "    if y_grid2[a] > 0:\n",
    "        break\n",
    "probab2=np.sum(pdf2[a:])*w2\n",
    "for a in range(len(pdf2)):\n",
    "    if y_grid2[a] > 0:\n",
    "        break\n",
    "    pdf2[a]=0\n",
    "pdf2=pdf2/probab2\n",
    "plt.plot(y_grid2, pdf2, color='blue', alpha=1, lw=1)\n",
    "plt.title('PDF for kurta')\n",
    "plt.xlabel('Price')\n",
    "plt.show()"
>>>>>>> nikversion
   ]
  },
  {
   "cell_type": "markdown",
   "metadata": {
    "colab_type": "text",
    "id": "2-gcDmLQhisW"
   },
   "source": [
<<<<<<< HEAD
    "# Range calculation from PDF \n",
    "we used 2 methods for calculating a range they are \n",
    "\n",
    "1.   finding the peak and finding a range which covers 50% of the area under pdf and having peak as mean point of that range(it means there is 50% chance for a product to be in that range) this ensures price which has maximum entries lies in that region\n",
    "\n",
    "2.   finding the smallest range which covers majority of the region(we can use range which covers 50% of the region)the advantage with this method is it ensures ranges is minimum.\n",
    "\n"
=======
    "## Range calculation from PDF \n",
    "We used 2 methods for calculating a range. They are \n",
    "1.   Finding the smallest range which covers majority of the region (we can use range which covers 50%/60% (adjustable parameter) of the region). The advantage with this method is it ensures ranges is minimum.(Final method).\n",
    "2.   Finding the peak and finding a range which covers 50% of the area under pdf and having peak as mean point of that range(it means there is 50% chance for a product to be in that range) this ensures price which has maximum entries lies in that region.\n",
    "\n",
    "\n",
    "### Method 1\n"
>>>>>>> nikversion
   ]
  },
  {
   "cell_type": "code",
<<<<<<< HEAD
   "execution_count": 40,
=======
   "execution_count": 43,
>>>>>>> nikversion
   "metadata": {
    "colab": {
     "base_uri": "https://localhost:8080/",
     "height": 51
    },
    "colab_type": "code",
<<<<<<< HEAD
    "id": "00CBOvWMH7WT",
    "outputId": "e9a1ff6f-4565-42c2-a658-3c507d9f3061"
=======
    "id": "XnJgBQitEijC",
    "outputId": "fd16cf69-30c1-4705-c0f7-0fe098ed9345"
>>>>>>> nikversion
   },
   "outputs": [
    {
     "name": "stdout",
     "output_type": "stream",
     "text": [
<<<<<<< HEAD
      "0.5000598877991991 345\n",
      "This is the range obtained for drill  492.0 4839.0\n"
=======
      "0.6000191161753164 2274 755\n",
      "This is the range obtained for drill  328 to 5091\n"
>>>>>>> nikversion
     ]
    }
   ],
   "source": [
<<<<<<< HEAD
    "f_peak=argrelextrema(pdf, np.greater)[0][0]\n",
    "for q in range(f_peak):\n",
    "  if np.sum(pdf[f_peak-q:f_peak+q])*w > 0.5:\n",
    "    print(np.sum(pdf[f_peak-q:f_peak+q])*w,q)\n",
    "    break\n",
    "print('This is the range obtained for drill ',np.round((f_peak-q)*w+np.amin(npa)-(np.amax(npa)-np.amin(npa))*0.4),np.round((f_peak+q)*w+np.amin(npa)-(np.amax(npa)-np.amin(npa))*0.4))"
=======
    "qq1=len(pdf)\n",
    "for q in range(len(pdf)):\n",
    "    for p in range(len(pdf)-(q+1)):\n",
    "        if np.sum(pdf[p:p+q+1])*w > 0.6:\n",
    "            print(np.sum(pdf[p:p+q+1])*w,p,q)\n",
    "            break\n",
    "    if np.sum(pdf[p:p+q+1])*w > 0.6:\n",
    "        break\n",
    "print('This is the range obtained for drill ',max(min(npa),int(np.round((p)*w+np.amin(npa)-(np.amax(npa)-np.amin(npa))*0.4))),'to',int(np.round((p+q+1)*w+np.amin(npa)-(np.amax(npa)-np.amin(npa))*0.4)))  \n",
    "     \n",
    "        "
>>>>>>> nikversion
   ]
  },
  {
   "cell_type": "code",
<<<<<<< HEAD
   "execution_count": 39,
=======
   "execution_count": 36,
>>>>>>> nikversion
   "metadata": {
    "colab": {
     "base_uri": "https://localhost:8080/",
     "height": 51
    },
    "colab_type": "code",
<<<<<<< HEAD
    "id": "7mS56QZLQhrN",
    "outputId": "edefdf3d-02e1-4d72-b145-0ba8f0ccbcb9"
=======
    "id": "D0SyQeZqEb8-",
    "outputId": "e3651845-e797-471c-dee4-0313ed9b713d"
>>>>>>> nikversion
   },
   "outputs": [
    {
     "name": "stdout",
     "output_type": "stream",
     "text": [
<<<<<<< HEAD
      "0.5001481762058778 665\n",
      "This is the range obtained for gloves  30.0 116.0\n"
=======
      "0.7506199138877543 2201 562\n",
      "This is the range obtained for gloves  10 262\n"
>>>>>>> nikversion
     ]
    }
   ],
   "source": [
<<<<<<< HEAD
    "f_peak1=argrelextrema(pdf1, np.greater)[0][0]\n",
    "q=0\n",
    "for q in range(f_peak1):\n",
    "  if np.sum(pdf1[f_peak1-q:f_peak1+2*q])*w1 > 0.5:\n",
    "    print(np.sum(pdf1[f_peak1-q:f_peak1+2*q])*w1,q)\n",
    "    break\n",
    "print('This is the range obtained for gloves ',np.round((f_peak1-q)*w1+np.amin(npa1)-(np.amax(npa1)-np.amin(npa1))*0.4),np.round((f_peak1+2*q)*w1+np.amin(npa1)-(np.amax(npa1)-np.amin(npa1))*0.4))"
=======
    "qq2=len(pdf1)\n",
    "for q in range(len(pdf1)):\n",
    "    for p in range(len(pdf1)-(q+1)):\n",
    "        if np.sum(pdf1[p:p+q+1])*w1 > 0.75:\n",
    "            print(np.sum(pdf1[p:p+q+1])*w1,p,q)\n",
    "            break\n",
    "    if np.sum(pdf1[p:p+q+1])*w1 > 0.5:\n",
    "        break\n",
    "print('This is the range obtained for gloves ',max(min(npa1),int(np.round((p)*w1+np.amin(npa1)-(np.amax(npa1)-np.amin(npa1))*0.4))),int(np.round((p+q+1)*w1+np.amin(npa1)-(np.amax(npa1)-np.amin(npa1))*0.4)))  \n",
    " "
>>>>>>> nikversion
   ]
  },
  {
   "cell_type": "code",
<<<<<<< HEAD
   "execution_count": 45,
=======
   "execution_count": 37,
>>>>>>> nikversion
   "metadata": {
    "colab": {
     "base_uri": "https://localhost:8080/",
     "height": 51
    },
    "colab_type": "code",
<<<<<<< HEAD
    "id": "rFq5MSF4QiNI",
    "outputId": "dbe9fcc8-aee3-4e82-91e8-060d5f8cd2d1"
=======
    "id": "wgtn0QoEEVGb",
    "outputId": "bd0c01ed-cd0c-4fd4-d7c6-28d113efb511"
>>>>>>> nikversion
   },
   "outputs": [
    {
     "name": "stdout",
     "output_type": "stream",
     "text": [
<<<<<<< HEAD
      "0.5010971844000225 308\n",
      "This is the range obtained for Kurta  185.0 625.0\n"
=======
      "0.7000202105467744 589 994\n",
      "This is the range obtained for Kurta  96 808\n"
>>>>>>> nikversion
     ]
    }
   ],
   "source": [
<<<<<<< HEAD
    "f_peak2=argrelextrema(pdf2, np.greater)[0][0]\n",
    "for q in range(f_peak2):\n",
    "  if np.sum(pdf2[f_peak2-q:f_peak2+q])*w2 > 0.5:\n",
    "    print(np.sum(pdf2[f_peak2-q:f_peak2+q])*w2,q)\n",
    "    break\n",
    "print('This is the range obtained for Kurta ',np.round((f_peak2-q)*w2-(np.amax(npa2)-np.amin(npa2))*0.05),np.round((f_peak2+q)*w2-(np.amax(npa2)-np.amin(npa2))*0.05))"
=======
    "qq3=len(pdf2)\n",
    "for q in range(len(pdf2)):\n",
    "    for p in range(len(pdf2)-(q+1)):\n",
    "        if np.sum(pdf2[p:p+q+1])*w2 > 0.7:\n",
    "            print(np.sum(pdf2[p:p+q+1])*w2,p,q)\n",
    "            break\n",
    "    if np.sum(pdf2[p:p+q+1])*w2 > 0.6:\n",
    "        break\n",
    "print('This is the range obtained for Kurta ',max(min(npa2),int(np.round((p)*w2-(np.amax(npa2)-np.amin(npa2))*0.05))),int(np.round((p+q+1)*w2-(np.amax(npa2)-np.amin(npa2))*0.05)))"
   ]
  },
  {
   "cell_type": "markdown",
   "metadata": {
    "colab_type": "text",
    "id": "LXsnZxpwK9hY"
   },
   "source": [
    "### Method-2\n",
    "Now we will proceed with the 2nd method(peak) we can improve this method by moving with different speed along both sides which can be determined from the graph \n",
    "\n",
    "\n",
    "\n"
>>>>>>> nikversion
   ]
  },
  {
   "cell_type": "code",
<<<<<<< HEAD
   "execution_count": 47,
=======
   "execution_count": 38,
>>>>>>> nikversion
   "metadata": {
    "colab": {
     "base_uri": "https://localhost:8080/",
     "height": 51
    },
    "colab_type": "code",
<<<<<<< HEAD
    "id": "43E_-ON6Xgsh",
    "outputId": "819f6730-6475-499d-f434-e00f0a201cd4"
=======
    "id": "00CBOvWMH7WT",
    "outputId": "fb6b4048-f9f5-41b0-c635-24ede6e99529"
>>>>>>> nikversion
   },
   "outputs": [
    {
     "name": "stdout",
     "output_type": "stream",
     "text": [
<<<<<<< HEAD
      "0.5000016451939738 2316 688\n",
      "This is the range obtained for drill  593.0 4933.0\n"
=======
      "0.5010423086461808 301\n",
      "This is the range obtained for drill  731 4524\n"
>>>>>>> nikversion
     ]
    }
   ],
   "source": [
<<<<<<< HEAD
    "qq1=len(pdf)\n",
    "for q in range(len(pdf)):\n",
    "  for p in range(len(pdf)-(q+1)):\n",
    "     if np.sum(pdf[p:p+q+1])*w > 0.5:\n",
    "        print(np.sum(pdf[p:p+q+1])*w,p,q)\n",
    "        break\n",
    "  if np.sum(pdf[p:p+q+1])*w > 0.5:\n",
    "    break\n",
    "print('This is the range obtained for drill ',np.round((p)*w+np.amin(npa)-(np.amax(npa)-np.amin(npa))*0.4),np.round((p+q+1)*w+np.amin(npa)-(np.amax(npa)-np.amin(npa))*0.4))  \n",
    "     \n",
    "        "
=======
    "f_peak=argrelextrema(pdf, np.greater)[0][0]\n",
    "for q in range(f_peak):\n",
    "    if np.sum(pdf[f_peak-q:f_peak+q])*w > 0.5:\n",
    "        print(np.sum(pdf[f_peak-q:f_peak+q])*w,q)\n",
    "        break\n",
    "print('This is the range obtained for drill ',max(min(npa),int(np.round((f_peak-q)*w+np.amin(npa)-(np.amax(npa)-np.amin(npa))*0.4))),int(np.round((f_peak+q)*w+np.amin(npa)-(np.amax(npa)-np.amin(npa))*0.4)))"
>>>>>>> nikversion
   ]
  },
  {
   "cell_type": "code",
<<<<<<< HEAD
   "execution_count": 48,
=======
   "execution_count": 39,
>>>>>>> nikversion
   "metadata": {
    "colab": {
     "base_uri": "https://localhost:8080/",
     "height": 51
    },
    "colab_type": "code",
<<<<<<< HEAD
    "id": "iS3Nmo98wL7L",
    "outputId": "0f6ab28c-ab50-46be-a491-a498359c1df5"
=======
    "id": "7mS56QZLQhrN",
    "outputId": "29785214-4a6f-4fcf-cde8-cab96e52c880"
>>>>>>> nikversion
   },
   "outputs": [
    {
     "name": "stdout",
     "output_type": "stream",
     "text": [
<<<<<<< HEAD
      "0.5000096568509714 2418 1933\n",
      "This is the range obtained for gloves  18.0 102.0\n"
=======
      "0.5024022928134061 115\n",
      "This is the range obtained for gloves  42 202\n"
>>>>>>> nikversion
     ]
    }
   ],
   "source": [
<<<<<<< HEAD
    "qq2=len(pdf1)\n",
    "for q in range(len(pdf1)):\n",
    "  for p in range(len(pdf1)-(q+1)):\n",
    "     if np.sum(pdf1[p:p+q+1])*w1 > 0.5:\n",
    "        print(np.sum(pdf1[p:p+q+1])*w1,p,q)\n",
    "        break\n",
    "  if np.sum(pdf1[p:p+q+1])*w1 > 0.5:\n",
    "    break\n",
    "print('This is the range obtained for gloves ',np.round((p)*w1+np.amin(npa1)-(np.amax(npa1)-np.amin(npa1))*0.4),np.round((p+q+1)*w1+np.amin(npa1)-(np.amax(npa1)-np.amin(npa1))*0.4))  \n",
    " "
=======
    "f_peak1=argrelextrema(pdf1, np.greater)[0][0]\n",
    "q=0\n",
    "for q in range(f_peak1):\n",
    "    if np.sum(pdf1[f_peak1-q:f_peak1+2*q])*w1 > 0.5:\n",
    "        print(np.sum(pdf1[f_peak1-q:f_peak1+2*q])*w1,q)\n",
    "        break\n",
    "print('This is the range obtained for gloves ',max(min(npa1),int(np.round((f_peak1-q)*w1+np.amin(npa1)-(np.amax(npa1)-np.amin(npa1))*0.4))),int(np.round((f_peak1+2*q)*w1+np.amin(npa1)-(np.amax(npa1)-np.amin(npa1))*0.4)))"
>>>>>>> nikversion
   ]
  },
  {
   "cell_type": "code",
<<<<<<< HEAD
   "execution_count": 50,
=======
   "execution_count": 40,
>>>>>>> nikversion
   "metadata": {
    "colab": {
     "base_uri": "https://localhost:8080/",
     "height": 51
    },
    "colab_type": "code",
<<<<<<< HEAD
    "id": "5jp7a2JZ3b9f",
    "outputId": "10986e22-849c-4643-8105-346a109c7f1b"
=======
    "id": "rFq5MSF4QiNI",
    "outputId": "423dce6d-c475-493e-d97c-77df46d57fbd"
>>>>>>> nikversion
   },
   "outputs": [
    {
     "name": "stdout",
     "output_type": "stream",
     "text": [
<<<<<<< HEAD
      "0.6000482159633659 652 789\n",
      "This is the range obtained for Kurta  141.0 706.0\n"
=======
      "0.5002419663004121 302\n",
      "This is the range obtained for Kurta  189 621\n"
>>>>>>> nikversion
     ]
    }
   ],
   "source": [
<<<<<<< HEAD
    "qq3=len(pdf2)\n",
    "for q in range(len(pdf2)):\n",
    "  for p in range(len(pdf2)-(q+1)):\n",
    "     if np.sum(pdf2[p:p+q+1])*w2 > 0.6:\n",
    "        print(np.sum(pdf2[p:p+q+1])*w2,p,q)\n",
    "        break\n",
    "  if np.sum(pdf2[p:p+q+1])*w2 > 0.6:\n",
    "    break\n",
    "print('This is the range obtained for Kurta ',np.round((p)*w2-(np.amax(npa2)-np.amin(npa2))*0.05),np.round((p+q+1)*w2-(np.amax(npa2)-np.amin(npa2))*0.05))"
=======
    "f_peak2=argrelextrema(pdf2, np.greater)[0][0]\n",
    "for q in range(f_peak2):\n",
    "    if np.sum(pdf2[f_peak2-q:f_peak2+q])*w2 > 0.5:\n",
    "        print(np.sum(pdf2[f_peak2-q:f_peak2+q])*w2,q)\n",
    "        break\n",
    "print('This is the range obtained for Kurta ',max(min(npa2),int(np.round((f_peak2-q)*w2-(np.amax(npa2)-np.amin(npa2))*0.05))),int(np.round((f_peak2+q)*w2-(np.amax(npa2)-np.amin(npa2))*0.05)))"
   ]
  },
  {
   "cell_type": "markdown",
   "metadata": {
    "colab_type": "text",
    "id": "atltJu2_MTYe"
   },
   "source": [
    "## Conclusion\n",
    "From the above two methods we can conclude the following points.\n",
    "\n",
    "1.  1st method results in small differnce between minimum and maximum of the price range compared to 2nd method. \n",
    "2.  2nd method can be improved by moving in different steps(eg : +p*q,-q compared to +q,-q)the parameter p can be determined from the shape of the graph.\n",
    "\n",
    "Also we shouldn't allow our final answers go below the minimum or go above the maximum. That is made possible by above piece of code.\n",
    "\n",
    "Final Ranges:\n",
    "\n",
    "**Impact Drill:**\n",
    "\n",
    "Minimum: 734\n",
    "\n",
    "Maximum: 4524\n",
    "\n",
    "**Leather Safety Gloves:**\n",
    "\n",
    "Minimum: 10\n",
    "\n",
    "Maximum: 262\n",
    "\n",
    "**Ladies Kurta**\n",
    "\n",
    "Minimum: 96\n",
    "\n",
    "Maximum: 808\n",
    "\n"
>>>>>>> nikversion
   ]
  }
 ],
 "metadata": {
<<<<<<< HEAD
=======
  "accelerator": "GPU",
>>>>>>> nikversion
  "colab": {
   "name": "Copy of phase1.ipynb",
   "provenance": [],
   "version": "0.3.2"
  },
  "kernelspec": {
   "display_name": "Python 3",
   "language": "python",
   "name": "python3"
  },
  "language_info": {
   "codemirror_mode": {
    "name": "ipython",
    "version": 3
   },
   "file_extension": ".py",
   "mimetype": "text/x-python",
   "name": "python",
   "nbconvert_exporter": "python",
   "pygments_lexer": "ipython3",
   "version": "3.6.5"
  }
 },
 "nbformat": 4,
 "nbformat_minor": 1
}
