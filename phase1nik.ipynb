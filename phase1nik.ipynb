{
 "cells": [
  {
   "cell_type": "code",
   "execution_count": 41,
   "metadata": {
    "colab": {},
    "colab_type": "code",
    "id": "YokkO0iBEe2t"
   },
   "outputs": [],
   "source": [
    "import pandas as pd\n",
    "import matplotlib.pyplot as plt\n",
    "import seaborn as sns\n",
    "import numpy as np\n",
    "from scipy.stats import norm\n",
    "from scipy.signal import argrelextrema\n",
    "from scipy import stats\n",
    "import warnings\n",
    "warnings.filterwarnings('ignore')\n",
    "%matplotlib inline"
   ]
  },
  {
   "cell_type": "code",
   "execution_count": 42,
   "metadata": {
    "colab": {},
    "colab_type": "code",
    "id": "V_JxW7kwEe2x"
   },
   "outputs": [],
   "source": [
    "drilldf = pd.read_csv('./impactdrill.csv')\n",
    "glovedf = pd.read_csv('./leathersafetygloves.csv')\n",
    "kurtadf = pd.read_csv('./ladieskurta.csv')"
   ]
  },
  {
   "cell_type": "code",
   "execution_count": 43,
   "metadata": {
    "colab": {
     "base_uri": "https://localhost:8080/",
     "height": 204
    },
    "colab_type": "code",
    "id": "Nl-s0oZqEe20",
    "outputId": "c5cf88a2-7a4c-4d51-a1e2-18c2654c5c2b"
   },
   "outputs": [
    {
     "data": {
      "text/html": [
       "<div>\n",
       "<style scoped>\n",
       "    .dataframe tbody tr th:only-of-type {\n",
       "        vertical-align: middle;\n",
       "    }\n",
       "\n",
       "    .dataframe tbody tr th {\n",
       "        vertical-align: top;\n",
       "    }\n",
       "\n",
       "    .dataframe thead th {\n",
       "        text-align: right;\n",
       "    }\n",
       "</style>\n",
       "<table border=\"1\" class=\"dataframe\">\n",
       "  <thead>\n",
       "    <tr style=\"text-align: right;\">\n",
       "      <th></th>\n",
       "      <th>Category Name</th>\n",
       "      <th>Unit</th>\n",
       "      <th>Price</th>\n",
       "    </tr>\n",
       "  </thead>\n",
       "  <tbody>\n",
       "    <tr>\n",
       "      <th>0</th>\n",
       "      <td>Impact Drill</td>\n",
       "      <td>Piece</td>\n",
       "      <td>2</td>\n",
       "    </tr>\n",
       "    <tr>\n",
       "      <th>1</th>\n",
       "      <td>Impact Drill</td>\n",
       "      <td>Piece</td>\n",
       "      <td>675</td>\n",
       "    </tr>\n",
       "    <tr>\n",
       "      <th>2</th>\n",
       "      <td>Impact Drill</td>\n",
       "      <td>Piece</td>\n",
       "      <td>766</td>\n",
       "    </tr>\n",
       "    <tr>\n",
       "      <th>3</th>\n",
       "      <td>Impact Drill</td>\n",
       "      <td>Piece</td>\n",
       "      <td>900</td>\n",
       "    </tr>\n",
       "    <tr>\n",
       "      <th>4</th>\n",
       "      <td>Impact Drill</td>\n",
       "      <td>Piece</td>\n",
       "      <td>1000</td>\n",
       "    </tr>\n",
       "  </tbody>\n",
       "</table>\n",
       "</div>"
      ],
      "text/plain": [
       "  Category Name   Unit  Price\n",
       "0  Impact Drill  Piece      2\n",
       "1  Impact Drill  Piece    675\n",
       "2  Impact Drill  Piece    766\n",
       "3  Impact Drill  Piece    900\n",
       "4  Impact Drill  Piece   1000"
      ]
     },
     "execution_count": 43,
     "metadata": {},
     "output_type": "execute_result"
    }
   ],
   "source": [
    "drilldf.head()"
   ]
  },
  {
   "cell_type": "code",
   "execution_count": 44,
   "metadata": {
    "colab": {
     "base_uri": "https://localhost:8080/",
     "height": 204
    },
    "colab_type": "code",
    "id": "NhGWe8K36btY",
    "outputId": "c9991a86-fc7b-49c1-bc8b-b076ba358a52"
   },
   "outputs": [
    {
     "data": {
      "text/html": [
       "<div>\n",
       "<style scoped>\n",
       "    .dataframe tbody tr th:only-of-type {\n",
       "        vertical-align: middle;\n",
       "    }\n",
       "\n",
       "    .dataframe tbody tr th {\n",
       "        vertical-align: top;\n",
       "    }\n",
       "\n",
       "    .dataframe thead th {\n",
       "        text-align: right;\n",
       "    }\n",
       "</style>\n",
       "<table border=\"1\" class=\"dataframe\">\n",
       "  <thead>\n",
       "    <tr style=\"text-align: right;\">\n",
       "      <th></th>\n",
       "      <th>Category Name</th>\n",
       "      <th>Unit</th>\n",
       "      <th>Price</th>\n",
       "    </tr>\n",
       "  </thead>\n",
       "  <tbody>\n",
       "    <tr>\n",
       "      <th>0</th>\n",
       "      <td>Leather Safety Gloves</td>\n",
       "      <td>Pair</td>\n",
       "      <td>10</td>\n",
       "    </tr>\n",
       "    <tr>\n",
       "      <th>1</th>\n",
       "      <td>Leather Safety Gloves</td>\n",
       "      <td>Pair</td>\n",
       "      <td>12</td>\n",
       "    </tr>\n",
       "    <tr>\n",
       "      <th>2</th>\n",
       "      <td>Leather Safety Gloves</td>\n",
       "      <td>Pair</td>\n",
       "      <td>12</td>\n",
       "    </tr>\n",
       "    <tr>\n",
       "      <th>3</th>\n",
       "      <td>Leather Safety Gloves</td>\n",
       "      <td>Pair</td>\n",
       "      <td>20</td>\n",
       "    </tr>\n",
       "    <tr>\n",
       "      <th>4</th>\n",
       "      <td>Leather Safety Gloves</td>\n",
       "      <td>Pair</td>\n",
       "      <td>23</td>\n",
       "    </tr>\n",
       "  </tbody>\n",
       "</table>\n",
       "</div>"
      ],
      "text/plain": [
       "           Category Name  Unit  Price\n",
       "0  Leather Safety Gloves  Pair     10\n",
       "1  Leather Safety Gloves  Pair     12\n",
       "2  Leather Safety Gloves  Pair     12\n",
       "3  Leather Safety Gloves  Pair     20\n",
       "4  Leather Safety Gloves  Pair     23"
      ]
     },
     "execution_count": 44,
     "metadata": {},
     "output_type": "execute_result"
    }
   ],
   "source": [
    "glovedf.head()"
   ]
  },
  {
   "cell_type": "code",
   "execution_count": 45,
   "metadata": {
    "colab": {
     "base_uri": "https://localhost:8080/",
     "height": 204
    },
    "colab_type": "code",
    "id": "d5O5yoUh6mKd",
    "outputId": "9569031f-d8ae-4303-a7e8-51f30d424144"
   },
   "outputs": [
    {
     "data": {
      "text/html": [
       "<div>\n",
       "<style scoped>\n",
       "    .dataframe tbody tr th:only-of-type {\n",
       "        vertical-align: middle;\n",
       "    }\n",
       "\n",
       "    .dataframe tbody tr th {\n",
       "        vertical-align: top;\n",
       "    }\n",
       "\n",
       "    .dataframe thead th {\n",
       "        text-align: right;\n",
       "    }\n",
       "</style>\n",
       "<table border=\"1\" class=\"dataframe\">\n",
       "  <thead>\n",
       "    <tr style=\"text-align: right;\">\n",
       "      <th></th>\n",
       "      <th>Category Name</th>\n",
       "      <th>Unit</th>\n",
       "      <th>Price</th>\n",
       "    </tr>\n",
       "  </thead>\n",
       "  <tbody>\n",
       "    <tr>\n",
       "      <th>0</th>\n",
       "      <td>Ladies Kurta</td>\n",
       "      <td>Piece</td>\n",
       "      <td>1</td>\n",
       "    </tr>\n",
       "    <tr>\n",
       "      <th>1</th>\n",
       "      <td>Ladies Kurta</td>\n",
       "      <td>Piece</td>\n",
       "      <td>1</td>\n",
       "    </tr>\n",
       "    <tr>\n",
       "      <th>2</th>\n",
       "      <td>Ladies Kurta</td>\n",
       "      <td>dollar</td>\n",
       "      <td>7</td>\n",
       "    </tr>\n",
       "    <tr>\n",
       "      <th>3</th>\n",
       "      <td>Ladies Kurta</td>\n",
       "      <td>Piece</td>\n",
       "      <td>20</td>\n",
       "    </tr>\n",
       "    <tr>\n",
       "      <th>4</th>\n",
       "      <td>Ladies Kurta</td>\n",
       "      <td>Piece</td>\n",
       "      <td>20</td>\n",
       "    </tr>\n",
       "  </tbody>\n",
       "</table>\n",
       "</div>"
      ],
      "text/plain": [
       "  Category Name    Unit  Price\n",
       "0  Ladies Kurta   Piece      1\n",
       "1  Ladies Kurta   Piece      1\n",
       "2  Ladies Kurta  dollar      7\n",
       "3  Ladies Kurta   Piece     20\n",
       "4  Ladies Kurta   Piece     20"
      ]
     },
     "execution_count": 45,
     "metadata": {},
     "output_type": "execute_result"
    }
   ],
   "source": [
    "kurtadf.head()"
   ]
  },
  {
   "cell_type": "code",
   "execution_count": 46,
   "metadata": {
    "colab": {
     "base_uri": "https://localhost:8080/",
     "height": 289
    },
    "colab_type": "code",
    "id": "-dHGmh-5Ee24",
    "outputId": "9f5127e6-0d95-47d8-d8cc-6b73deabccff"
   },
   "outputs": [
    {
     "name": "stdout",
     "output_type": "stream",
     "text": [
      "['Piece' 'Piece(s)' 'pack' 'unit' 'Number' 'Unit' 'Pack' '1nos' 'Unit(s)'\n",
      " 'kit' 'Set' 'Pc_Onwards' 'ONWARDS' 'Kit'] drills\n",
      "['Pair' 'Piece' 'pack' 'Unit' 'Pack' 'Unit/Onwards' 'Pair(s)' 'unit' 'Set'\n",
      " 'Pieces'] gloves\n",
      "['Piece' 'dollar' 'Packet' 'piece' 'Meter' 'Piece(s)' 'Set' 'Per piece'\n",
      " 'Unit' '1' '1pc' 'Box' '170 per peice' 'Unstitch' 'Barrel' 'Carton'\n",
      " 'peice' 'Pieces' 'Sets' 'Unit(s)' 'one' 'Bag' 'Selfie Kurtis' 'Pack'\n",
      " 'Pair' 'Pound' 'Peice' '1piece' 'No' 'Kilogram' 'Number' \"40' Container\"\n",
      " 'pack' '100 pic' 'Year' \"20' Container\" 'Pcs' 'Piece(s) Onwards' 'One'\n",
      " 'kurtI' 'Ounce' 'onwards' '10-10000' 'per piese' 'Day' 'Set(s)'\n",
      " '12 units' '1pis' 'Onwards' 'One peace' 'Set(S)' 'Pair piece' 'Ounce(s)'\n",
      " 'Packet(s)' 'Single' 'one pcs' 'Pc' '4 pcs' '4 units' '5' 'set' 'kurti'\n",
      " 'pcs' 'pices' 'Pics' 'single piece' 'pi' 'per piece' 'Kurti' 'one unit'\n",
      " '1 piece' '1 pice' 'Suit' 'pair piece' '10' 'pieces' '1pcs' '1 pc'\n",
      " '3 set' 'Xl size' '1000 per unit' '1pcd' 'Psc' 'Gram' 'Rs' 'in' '1 pcs'\n",
      " 'Feet' 'onepices'] kurtas\n"
     ]
    }
   ],
   "source": [
    "drill_units=drilldf['Unit'].unique()\n",
    "print(drill_units,'drills')\n",
    "glove_units=glovedf['Unit'].unique()\n",
    "print(glove_units,'gloves')\n",
    "kurta_units=kurtadf['Unit'].unique()\n",
    "print(kurta_units,'kurtas')"
   ]
  },
  {
   "cell_type": "code",
   "execution_count": 47,
   "metadata": {
    "colab": {
     "base_uri": "https://localhost:8080/",
     "height": 272
    },
    "colab_type": "code",
    "id": "7dKAIEMGEe28",
    "outputId": "f7794ea6-b4c2-4eaf-8102-d962116ebdcc"
   },
   "outputs": [
    {
     "data": {
      "text/plain": [
       "Piece         119\n",
       "pack           47\n",
       "unit           25\n",
       "Unit           17\n",
       "Number         14\n",
       "Pack            9\n",
       "Pc_Onwards      5\n",
       "Piece(s)        5\n",
       "kit             1\n",
       "Set             1\n",
       "1nos            1\n",
       "ONWARDS         1\n",
       "Unit(s)         1\n",
       "Kit             1\n",
       "Name: Unit, dtype: int64"
      ]
     },
     "execution_count": 47,
     "metadata": {},
     "output_type": "execute_result"
    }
   ],
   "source": [
    "drilldf['Unit'].value_counts()"
   ]
  },
  {
   "cell_type": "code",
   "execution_count": 48,
   "metadata": {
    "colab": {
     "base_uri": "https://localhost:8080/",
     "height": 204
    },
    "colab_type": "code",
    "id": "_aMEixII92Ku",
    "outputId": "cd3c1373-be74-41c1-9cd5-fa4234761a4c"
   },
   "outputs": [
    {
     "data": {
      "text/plain": [
       "Pair            113\n",
       "unit              9\n",
       "Piece             6\n",
       "pack              5\n",
       "Unit              3\n",
       "Pack              3\n",
       "Pair(s)           2\n",
       "Set               1\n",
       "Unit/Onwards      1\n",
       "Pieces            1\n",
       "Name: Unit, dtype: int64"
      ]
     },
     "execution_count": 48,
     "metadata": {},
     "output_type": "execute_result"
    }
   ],
   "source": [
    "glovedf['Unit'].value_counts()"
   ]
  },
  {
   "cell_type": "code",
   "execution_count": 49,
   "metadata": {
    "colab": {
     "base_uri": "https://localhost:8080/",
     "height": 1071
    },
    "colab_type": "code",
    "id": "_2f3W73W92vW",
    "outputId": "0e298368-669c-45df-f343-7fa62a2d7aa7"
   },
   "outputs": [
    {
     "data": {
      "text/plain": [
       "Piece            3334\n",
       "Piece(s)          500\n",
       "1                  76\n",
       "Unit               63\n",
       "Set                43\n",
       "Onwards            39\n",
       "piece              38\n",
       "No                 37\n",
       "Bag                23\n",
       "Number             23\n",
       "Pair               17\n",
       "Pack               13\n",
       "Pieces             13\n",
       "Unit(s)            11\n",
       "Box                 9\n",
       "onwards             9\n",
       "20' Container       6\n",
       "40' Container       5\n",
       "Set(s)              5\n",
       "Ounce               4\n",
       "Packet              4\n",
       "peice               3\n",
       "kurti               3\n",
       "one                 3\n",
       "Psc                 3\n",
       "1pc                 3\n",
       "1piece              3\n",
       "Meter               3\n",
       "Barrel              2\n",
       "1 pice              2\n",
       "                 ... \n",
       "Set(S)              1\n",
       "Pound               1\n",
       "set                 1\n",
       "kurtI               1\n",
       "100 pic             1\n",
       "pcs                 1\n",
       "one pcs             1\n",
       "Feet                1\n",
       "3 set               1\n",
       "1pcs                1\n",
       "single piece        1\n",
       "pair piece          1\n",
       "Xl size             1\n",
       "dollar              1\n",
       "Single              1\n",
       "Rs                  1\n",
       "1 pcs               1\n",
       "4 units             1\n",
       "per piece           1\n",
       "Pcs                 1\n",
       "Pair piece          1\n",
       "one unit            1\n",
       "Selfie Kurtis       1\n",
       "Sets                1\n",
       "1pcd                1\n",
       "Unstitch            1\n",
       "Pc                  1\n",
       "pi                  1\n",
       "4 pcs               1\n",
       "Gram                1\n",
       "Name: Unit, Length: 89, dtype: int64"
      ]
     },
     "execution_count": 49,
     "metadata": {},
     "output_type": "execute_result"
    }
   ],
   "source": [
    "kurtadf['Unit'].value_counts()\n"
   ]
  },
  {
   "cell_type": "code",
   "execution_count": 50,
   "metadata": {
    "colab": {
     "base_uri": "https://localhost:8080/",
     "height": 68
    },
    "colab_type": "code",
    "id": "UI2lCgTkLZVU",
    "outputId": "0e3abffe-6908-45b0-dbd5-89cd6ba91cc2"
   },
   "outputs": [
    {
     "data": {
      "text/plain": [
       "Piece       3323\n",
       "Piece(s)     500\n",
       "Name: Unit, dtype: int64"
      ]
     },
     "execution_count": 50,
     "metadata": {},
     "output_type": "execute_result"
    }
   ],
   "source": [
    "kurtadf.loc[((kurtadf['Unit']=='Piece') | (kurtadf['Unit']=='Piece(s)')) & (kurtadf['Price'] < 10000)]['Unit'].value_counts()"
   ]
  },
  {
   "cell_type": "code",
   "execution_count": 51,
   "metadata": {
    "colab": {
     "base_uri": "https://localhost:8080/",
     "height": 153
    },
    "colab_type": "code",
    "id": "a0WuLQXYEe3B",
    "outputId": "0e541b07-1857-479a-ded8-0a019090b012"
   },
   "outputs": [
    {
     "name": "stdout",
     "output_type": "stream",
     "text": [
      "<class 'pandas.core.frame.DataFrame'>\n",
      "RangeIndex: 247 entries, 0 to 246\n",
      "Data columns (total 3 columns):\n",
      "Category Name    247 non-null object\n",
      "Unit             247 non-null object\n",
      "Price            247 non-null int64\n",
      "dtypes: int64(1), object(2)\n",
      "memory usage: 5.9+ KB\n"
     ]
    }
   ],
   "source": [
    "drilldf.info()"
   ]
  },
  {
   "cell_type": "code",
   "execution_count": 52,
   "metadata": {
    "colab": {
     "base_uri": "https://localhost:8080/",
     "height": 297
    },
    "colab_type": "code",
    "id": "MSDd-12BEe3F",
    "outputId": "cf3f8cbf-6e5a-4234-b150-e5a40cbf3d63"
   },
   "outputs": [
    {
     "data": {
      "text/html": [
       "<div>\n",
       "<style scoped>\n",
       "    .dataframe tbody tr th:only-of-type {\n",
       "        vertical-align: middle;\n",
       "    }\n",
       "\n",
       "    .dataframe tbody tr th {\n",
       "        vertical-align: top;\n",
       "    }\n",
       "\n",
       "    .dataframe thead th {\n",
       "        text-align: right;\n",
       "    }\n",
       "</style>\n",
       "<table border=\"1\" class=\"dataframe\">\n",
       "  <thead>\n",
       "    <tr style=\"text-align: right;\">\n",
       "      <th></th>\n",
       "      <th>Price</th>\n",
       "    </tr>\n",
       "  </thead>\n",
       "  <tbody>\n",
       "    <tr>\n",
       "      <th>count</th>\n",
       "      <td>246.000000</td>\n",
       "    </tr>\n",
       "    <tr>\n",
       "      <th>mean</th>\n",
       "      <td>6596.853659</td>\n",
       "    </tr>\n",
       "    <tr>\n",
       "      <th>std</th>\n",
       "      <td>9554.054996</td>\n",
       "    </tr>\n",
       "    <tr>\n",
       "      <th>min</th>\n",
       "      <td>675.000000</td>\n",
       "    </tr>\n",
       "    <tr>\n",
       "      <th>25%</th>\n",
       "      <td>2115.500000</td>\n",
       "    </tr>\n",
       "    <tr>\n",
       "      <th>50%</th>\n",
       "      <td>3108.500000</td>\n",
       "    </tr>\n",
       "    <tr>\n",
       "      <th>75%</th>\n",
       "      <td>6030.000000</td>\n",
       "    </tr>\n",
       "    <tr>\n",
       "      <th>max</th>\n",
       "      <td>55000.000000</td>\n",
       "    </tr>\n",
       "  </tbody>\n",
       "</table>\n",
       "</div>"
      ],
      "text/plain": [
       "              Price\n",
       "count    246.000000\n",
       "mean    6596.853659\n",
       "std     9554.054996\n",
       "min      675.000000\n",
       "25%     2115.500000\n",
       "50%     3108.500000\n",
       "75%     6030.000000\n",
       "max    55000.000000"
      ]
     },
     "execution_count": 52,
     "metadata": {},
     "output_type": "execute_result"
    }
   ],
   "source": [
    "drilldf[1:].describe()"
   ]
  },
  {
   "cell_type": "code",
   "execution_count": 53,
   "metadata": {
    "colab": {},
    "colab_type": "code",
    "id": "I-o75iBmEe2_"
   },
   "outputs": [],
   "source": [
    "npa=drilldf['Price']\n",
    "npa1=glovedf.loc[glovedf['Unit']=='Pair']['Price']\n",
    "npa2=kurtadf.loc[((kurtadf['Unit']=='Piece') | (kurtadf['Unit']=='Piece(s)')) & (kurtadf['Price'] < 10000)]['Price'][:-1]"
   ]
  },
  {
   "cell_type": "code",
   "execution_count": 54,
   "metadata": {
    "colab": {
     "base_uri": "https://localhost:8080/",
     "height": 34
    },
    "colab_type": "code",
    "id": "PCtYTrCoF8Gh",
    "outputId": "47d13852-d781-4da8-b773-2c58f90cf22f"
   },
   "outputs": [
    {
     "name": "stdout",
     "output_type": "stream",
     "text": [
      "9524.506617154402 68.43560865450989 684.5330694070299\n"
     ]
    }
   ],
   "source": [
    "stdev=np.std(npa)\n",
    "stdev1=np.std(npa1)\n",
    "stdev2=np.std(npa2)\n",
    "print(stdev,stdev1,stdev2)"
   ]
  },
  {
   "cell_type": "code",
   "execution_count": 55,
   "metadata": {
    "colab": {
     "base_uri": "https://localhost:8080/",
     "height": 68
    },
    "colab_type": "code",
    "id": "EU4RgzAwMVXn",
    "outputId": "0f5bfbc2-2719-46bc-b047-3fec208f9677"
   },
   "outputs": [
    {
     "name": "stdout",
     "output_type": "stream",
     "text": [
      "2 55000\n",
      "10 350\n",
      "1 7500\n"
     ]
    }
   ],
   "source": [
    "print(np.amin(npa),np.amax(npa))\n",
    "print(np.amin(npa1),np.amax(npa1))\n",
    "print(np.amin(npa2),np.amax(npa2))"
   ]
  },
  {
   "cell_type": "code",
   "execution_count": 56,
   "metadata": {
    "colab": {},
    "colab_type": "code",
    "id": "nRb0nWC4Ee3I"
   },
   "outputs": [],
   "source": [
    "from scipy.stats import gaussian_kde\n",
    "def kde_scipy(x, x_grid, bandwidth, **kwargs):\n",
    "    \"\"\"Kernel Density Estimation with Scipy\"\"\"\n",
    "    # Note that scipy weights its bandwidth by the covariance of the\n",
    "    # input data.  To make the results comparable to the other methods,\n",
    "    # we divide the bandwidth by the sample standard deviation here.\n",
    "    kde = gaussian_kde(x, bw_method=bandwidth / x.std(ddof=1), **kwargs)\n",
    "    return kde.evaluate(x_grid)"
   ]
  },
  {
   "cell_type": "code",
   "execution_count": 57,
   "metadata": {
    "colab": {
     "base_uri": "https://localhost:8080/",
     "height": 286
    },
    "colab_type": "code",
    "id": "PBAlRD6kEe3K",
    "outputId": "23b38057-4383-4086-fa19-75e48144c7a8"
   },
   "outputs": [
    {
     "data": {
      "text/plain": [
       "[<matplotlib.lines.Line2D at 0x241f86302e8>]"
      ]
     },
     "execution_count": 57,
     "metadata": {},
     "output_type": "execute_result"
    },
    {
     "data": {
      "image/png": "[encoded data removed]",
      "text/plain": [
       "<Figure size 432x288 with 1 Axes>"
      ]
     },
     "metadata": {},
     "output_type": "display_data"
    }
   ],
   "source": [
    "y_grid=np.linspace(np.amin(npa)-(np.amax(npa)-np.amin(npa))*0,np.amax(npa)+(np.amax(npa)-np.amin(npa))*0,1000)\n",
    "ideal=1.06*(np.std(npa))*((len(npa)**(-1/5)))\n",
    "pdf = kde_scipy(npa, y_grid, bandwidth=500)\n",
    "plt.plot(y_grid, pdf, color='blue', alpha=1, lw=1)"
   ]
  },
  {
   "cell_type": "code",
   "execution_count": 58,
   "metadata": {
    "colab": {
     "base_uri": "https://localhost:8080/",
     "height": 286
    },
    "colab_type": "code",
    "id": "TzAdVqipNti5",
    "outputId": "9fba5514-ccd6-4a14-f066-abb053b8d7fa"
   },
   "outputs": [
    {
     "data": {
      "text/plain": [
       "[<matplotlib.lines.Line2D at 0x241f8689470>]"
      ]
     },
     "execution_count": 58,
     "metadata": {},
     "output_type": "execute_result"
    },
    {
     "data": {
      "image/png": "[encoded data removed]",
      "text/plain": [
       "<Figure size 432x288 with 1 Axes>"
      ]
     },
     "metadata": {},
     "output_type": "display_data"
    }
   ],
   "source": [
    "y_grid1=np.linspace(np.amin(npa1)-(np.amax(npa1)-np.amin(npa1))*0.4,np.amax(npa1)+(np.amax(npa1)-np.amin(npa1))*0.4,1000)\n",
    "ideal1=1.06*(np.std(npa1))*((len(npa1)**(-1/5)))\n",
    "pdf1 = kde_scipy(npa1, y_grid1, bandwidth=ideal1)\n",
    "plt.plot(y_grid1, pdf1, color='blue', alpha=1, lw=1)"
   ]
  },
  {
   "cell_type": "code",
   "execution_count": 59,
   "metadata": {
    "colab": {
     "base_uri": "https://localhost:8080/",
     "height": 286
    },
    "colab_type": "code",
    "id": "Y3reUnhuOQh0",
    "outputId": "e5688481-7db5-4670-8f57-aeb1a8da1ef9"
   },
   "outputs": [
    {
     "data": {
      "text/plain": [
       "[<matplotlib.lines.Line2D at 0x241f86e9048>]"
      ]
     },
     "execution_count": 59,
     "metadata": {},
     "output_type": "execute_result"
    },
    {
     "data": {
      "image/png": "[encoded data removed]",
      "text/plain": [
       "<Figure size 432x288 with 1 Axes>"
      ]
     },
     "metadata": {},
     "output_type": "display_data"
    }
   ],
   "source": [
    "y_grid2=np.linspace(0,np.amax(npa2),1000)\n",
    "ideal2=1.06*(np.std(npa2))*((len(npa2)**(-1/5)))\n",
    "pdf2 = kde_scipy(npa2, y_grid2, bandwidth=ideal2)\n",
    "plt.plot(y_grid2, pdf2, color='blue', alpha=1, lw=1)"
   ]
  },
  {
   "cell_type": "code",
   "execution_count": 62,
   "metadata": {
    "colab": {
     "base_uri": "https://localhost:8080/",
     "height": 34
    },
    "colab_type": "code",
    "id": "yLFkxtdUJNj-",
    "outputId": "18be6ba6-2309-49ce-aa70-2bee5dddbaec"
   },
   "outputs": [
    {
     "name": "stdout",
     "output_type": "stream",
     "text": [
      "0.9897678481595868\n"
     ]
    }
   ],
   "source": [
    "w=((np.amax(npa)-np.amin(npa)))/1000\n",
    "#w1=((np.amax(npa1)-np.amin(npa1))*1.8)/1000\n",
    "#w2=np.amax(npa2)/1000\n",
    "print(np.sum(pdf)*w)\n",
    "#print(np.sum(pdf1)*w1,np.sum(pdf2)*w2)"
   ]
  },
  {
   "cell_type": "code",
   "execution_count": null,
   "metadata": {},
   "outputs": [],
   "source": []
  },
  {
   "cell_type": "code",
   "execution_count": 63,
   "metadata": {
    "colab": {
     "base_uri": "https://localhost:8080/",
     "height": 34
    },
    "colab_type": "code",
    "id": "jHBGAYDqMYTC",
    "outputId": "23f5e623-dff1-4af6-f9af-e08e402a7a81"
   },
   "outputs": [
    {
     "name": "stdout",
     "output_type": "stream",
     "text": [
      "0.9891960441342237\n"
     ]
    }
   ],
   "source": [
    "pdf_area=np.zeros(len(pdf)-1)\n",
    "for a in range(len(pdf_area)):\n",
    "    pdf_area[a]=(pdf[a]+pdf[a+1])*(w/2)\n",
    "print(np.sum(pdf_area))"
   ]
  },
  {
   "cell_type": "code",
   "execution_count": 65,
   "metadata": {},
   "outputs": [
    {
     "data": {
      "text/plain": [
       "(array([ 40, 143, 176, 223, 242, 331, 399, 443, 503, 542, 636, 688, 722,\n",
       "        750, 862], dtype=int64),)"
      ]
     },
     "execution_count": 65,
     "metadata": {},
     "output_type": "execute_result"
    }
   ],
   "source": [
    "localmaxima=argrelextrema(pdf, np.greater);localmaxima"
   ]
  },
  {
   "cell_type": "code",
   "execution_count": 69,
   "metadata": {},
   "outputs": [
    {
     "data": {
      "text/plain": [
       "(array([40], dtype=int64),)"
      ]
     },
     "execution_count": 69,
     "metadata": {},
     "output_type": "execute_result"
    }
   ],
   "source": [
    "maxpos =np.where(pdf==max(pdf));maxpos"
   ]
  },
  {
   "cell_type": "code",
   "execution_count": 64,
   "metadata": {
    "colab": {
     "base_uri": "https://localhost:8080/",
     "height": 51
    },
    "colab_type": "code",
    "id": "00CBOvWMH7WT",
    "outputId": "19bd2f4a-3275-49b4-d19d-54f52746a5b1"
   },
   "outputs": [
    {
     "name": "stdout",
     "output_type": "stream",
     "text": [
      "-19797.28 -19797.28\n"
     ]
    }
   ],
   "source": [
    "f_peak=localmaxima[0][0]\n",
    "for q in range(f_peak):\n",
    "    if np.sum(pdf[f_peak-q:f_peak+q])*w > 0.5:\n",
    "        print(np.sum(pdf[f_peak-q:f_peak+q])*w,q)\n",
    "    break\n",
    "print((f_peak-q)*w+np.amin(npa)-(np.amax(npa)-np.amin(npa))*0.4,(f_peak+q)*w+np.amin(npa)-(np.amax(npa)-np.amin(npa))*0.4)"
   ]
  },
  {
   "cell_type": "code",
   "execution_count": 42,
   "metadata": {
    "colab": {
     "base_uri": "https://localhost:8080/",
     "height": 51
    },
    "colab_type": "code",
    "id": "7mS56QZLQhrN",
    "outputId": "f54681df-8c15-4d5b-fbfa-0a7fbf46556a"
   },
   "outputs": [
    {
     "name": "stdout",
     "output_type": "stream",
     "text": [
      "0.5025572739312131 88\n",
      "18.700000000000003 108.46000000000001\n"
     ]
    }
   ],
   "source": [
    "f_peak1=argrelextrema(pdf1, np.greater)[0][0]\n",
    "q=0\n",
    "for q in range(f_peak1):\n",
    "  if np.sum(pdf1[f_peak1-q:f_peak1+2*q])*w1 > 0.5:\n",
    "    print(np.sum(pdf1[f_peak1-q:f_peak1+2*q])*w1,q)\n",
    "    break\n",
    "print((f_peak1-q)*w1,(f_peak1+2*q)*w1)"
   ]
  },
  {
   "cell_type": "code",
   "execution_count": 71,
   "metadata": {
    "colab": {
     "base_uri": "https://localhost:8080/",
     "height": 51
    },
    "colab_type": "code",
    "id": "rFq5MSF4QiNI",
    "outputId": "666ddd57-71a4-479f-b7d8-4756df3d83a1"
   },
   "outputs": [
    {
     "name": "stdout",
     "output_type": "stream",
     "text": [
      "0.6041638937693559 39\n",
      "16.0 601.0\n"
     ]
    }
   ],
   "source": [
    "f_peak2=argrelextrema(pdf2, np.greater)[0][0]\n",
    "for q in range(f_peak2):\n",
    "  if np.sum(pdf2[f_peak2-q:f_peak2+q])*w2 > 0.6:\n",
    "    print(np.sum(pdf2[f_peak2-q:f_peak2+q])*w2,q)\n",
    "    break\n",
    "print((f_peak2-q)*w2+np.amin(npa2),(f_peak2+q)*w2+np.amin(npa2))"
   ]
  },
  {
   "cell_type": "code",
   "execution_count": 75,
   "metadata": {
    "colab": {
     "base_uri": "https://localhost:8080/",
     "height": 68
    },
    "colab_type": "code",
    "id": "43E_-ON6Xgsh",
    "outputId": "a0817c50-bb6e-42fc-a2cd-c1b8ed0f174b"
   },
   "outputs": [
    {
     "name": "stdout",
     "output_type": "stream",
     "text": [
      "0.5013962751878228 219 41\n",
      "0.5013962751878228 219 41\n",
      "359.9150000000009 4466.884999999998\n"
     ]
    }
   ],
   "source": [
    "qq1=len(pdf)\n",
    "for q in range(len(pdf)):\n",
    "  for p in range(len(pdf)-(q+1)):\n",
    "     if np.sum(pdf[p:p+q+1])*w > 0.5:\n",
    "        print(np.sum(pdf[p:p+q+1])*w,p,q)\n",
    "        break\n",
    "  if np.sum(pdf[p:p+q+1])*w > 0.5:\n",
    "    print(np.sum(pdf[p:p+q+1])*w,p,q)\n",
    "    break\n",
    "print((p)*w+np.amin(npa)-(np.amax(npa)-np.amin(npa))*0.4,(p+q+1)*w+np.amin(npa)-(np.amax(npa)-np.amin(npa))*0.4)  \n",
    "     \n",
    "        "
   ]
  },
  {
   "cell_type": "code",
   "execution_count": 78,
   "metadata": {
    "colab": {
     "base_uri": "https://localhost:8080/",
     "height": 68
    },
    "colab_type": "code",
    "id": "iS3Nmo98wL7L",
    "outputId": "2d81e972-258e-4979-cf7d-fb738a3808ac"
   },
   "outputs": [
    {
     "name": "stdout",
     "output_type": "stream",
     "text": [
      "0.5004084344413006 231 141\n",
      "0.5004084344413006 231 141\n",
      "15.371999999999986 102.27599999999998\n"
     ]
    }
   ],
   "source": [
    "qq2=len(pdf1)\n",
    "for q in range(len(pdf1)):\n",
    "  for p in range(len(pdf1)-(q+1)):\n",
    "     if np.sum(pdf1[p:p+q+1])*w1 > 0.5:\n",
    "        print(np.sum(pdf1[p:p+q+1])*w1,p,q)\n",
    "        break\n",
    "  if np.sum(pdf1[p:p+q+1])*w1 > 0.5:\n",
    "    print(np.sum(pdf1[p:p+q+1])*w1,p,q)\n",
    "    break\n",
    "print((p)*w1+np.amin(npa1)-(np.amax(npa1)-np.amin(npa1))*0.4,(p+q+1)*w1+np.amin(npa1)-(np.amax(npa1)-np.amin(npa1))*0.4)  \n",
    " "
   ]
  },
  {
   "cell_type": "code",
   "execution_count": 80,
   "metadata": {
    "colab": {
     "base_uri": "https://localhost:8080/",
     "height": 68
    },
    "colab_type": "code",
    "id": "5jp7a2JZ3b9f",
    "outputId": "a3d3090d-0383-4f71-af02-ca4e4bf3aca3"
   },
   "outputs": [
    {
     "name": "stdout",
     "output_type": "stream",
     "text": [
      "0.601064418557538 20 64\n",
      "0.601064418557538 20 64\n",
      "151.0 638.5\n"
     ]
    }
   ],
   "source": [
    "qq3=len(pdf2)\n",
    "for q in range(len(pdf2)):\n",
    "  for p in range(len(pdf2)-(q+1)):\n",
    "     if np.sum(pdf2[p:p+q+1])*w2 > 0.6:\n",
    "        print(np.sum(pdf2[p:p+q+1])*w2,p,q)\n",
    "        break\n",
    "  if np.sum(pdf2[p:p+q+1])*w2 > 0.6:\n",
    "    print(np.sum(pdf2[p:p+q+1])*w2,p,q)\n",
    "    break\n",
    "print((p)*w2+np.amin(npa2),(p+q+1)*w2+np.amin(npa2))"
   ]
  },
  {
   "cell_type": "code",
   "execution_count": 73,
   "metadata": {
    "colab": {
     "base_uri": "https://localhost:8080/",
     "height": 34
    },
    "colab_type": "code",
    "id": "iME6nif-r8il",
    "outputId": "2fc08966-5040-45de-e6f6-d3dc64b27daf"
   },
   "outputs": [
    {
     "data": {
      "text/plain": [
       "array([0.])"
      ]
     },
     "execution_count": 73,
     "metadata": {
      "tags": []
     },
     "output_type": "execute_result"
    }
   ],
   "source": [
    "aqw=np.zeros(6)\n",
    "aqw[1:2]"
   ]
  },
  {
   "cell_type": "code",
   "execution_count": 44,
   "metadata": {
    "colab": {
     "base_uri": "https://localhost:8080/",
     "height": 283
    },
    "colab_type": "code",
    "id": "AfI6YOdoEe3O",
    "outputId": "6e3ae61d-7e8b-4530-9aaa-99e28273ef78"
   },
   "outputs": [
    {
     "data": {
      "image/png": "[encoded data removed]",
      "text/plain": [
       "<Figure size 432x288 with 1 Axes>"
      ]
     },
     "metadata": {
      "tags": []
     },
     "output_type": "display_data"
    }
   ],
   "source": [
    "sns.distplot(drilldf['Price'][1:]);"
   ]
  },
  {
   "cell_type": "code",
   "execution_count": 45,
   "metadata": {
    "colab": {
     "base_uri": "https://localhost:8080/",
     "height": 198
    },
    "colab_type": "code",
    "id": "R7E0O6foEe3R",
    "outputId": "9a20a052-1dea-4daf-ce09-5dad7311756d"
   },
   "outputs": [
    {
     "ename": "NameError",
     "evalue": "ignored",
     "output_type": "error",
     "traceback": [
      "\u001b[0;31m---------------------------------------------------------------------------\u001b[0m",
      "\u001b[0;31mNameError\u001b[0m                                 Traceback (most recent call last)",
      "\u001b[0;32m<ipython-input-45-d52264af6de0>\u001b[0m in \u001b[0;36m<module>\u001b[0;34m()\u001b[0m\n\u001b[0;32m----> 1\u001b[0;31m \u001b[0msns\u001b[0m\u001b[0;34m.\u001b[0m\u001b[0mdistplot\u001b[0m\u001b[0;34m(\u001b[0m\u001b[0mdf_train\u001b[0m\u001b[0;34m[\u001b[0m\u001b[0;34m'Price'\u001b[0m\u001b[0;34m]\u001b[0m\u001b[0;34m[\u001b[0m\u001b[0;36m1\u001b[0m\u001b[0;34m:\u001b[0m\u001b[0;34m]\u001b[0m\u001b[0;34m,\u001b[0m \u001b[0mfit\u001b[0m\u001b[0;34m=\u001b[0m\u001b[0mnorm\u001b[0m\u001b[0;34m)\u001b[0m\u001b[0;34m;\u001b[0m\u001b[0;34m\u001b[0m\u001b[0;34m\u001b[0m\u001b[0m\n\u001b[0m\u001b[1;32m      2\u001b[0m \u001b[0mfig\u001b[0m \u001b[0;34m=\u001b[0m \u001b[0mplt\u001b[0m\u001b[0;34m.\u001b[0m\u001b[0mfigure\u001b[0m\u001b[0;34m(\u001b[0m\u001b[0;34m)\u001b[0m\u001b[0;34m\u001b[0m\u001b[0;34m\u001b[0m\u001b[0m\n\u001b[1;32m      3\u001b[0m \u001b[0mres\u001b[0m \u001b[0;34m=\u001b[0m \u001b[0mstats\u001b[0m\u001b[0;34m.\u001b[0m\u001b[0mprobplot\u001b[0m\u001b[0;34m(\u001b[0m\u001b[0mdf_train\u001b[0m\u001b[0;34m[\u001b[0m\u001b[0;34m'Price'\u001b[0m\u001b[0;34m]\u001b[0m\u001b[0;34m[\u001b[0m\u001b[0;36m1\u001b[0m\u001b[0;34m:\u001b[0m\u001b[0;34m]\u001b[0m\u001b[0;34m,\u001b[0m \u001b[0mplot\u001b[0m\u001b[0;34m=\u001b[0m\u001b[0mplt\u001b[0m\u001b[0;34m)\u001b[0m\u001b[0;34m\u001b[0m\u001b[0;34m\u001b[0m\u001b[0m\n",
      "\u001b[0;31mNameError\u001b[0m: name 'df_train' is not defined"
     ]
    }
   ],
   "source": [
    "sns.distplot(df_train['Price'][1:], fit=norm);\n",
    "fig = plt.figure()\n",
    "res = stats.probplot(df_train['Price'][1:], plot=plt)"
   ]
  },
  {
   "cell_type": "code",
   "execution_count": 0,
   "metadata": {
    "colab": {},
    "colab_type": "code",
    "id": "SlJC57DyEe3V"
   },
   "outputs": [],
   "source": [
    "plt.scatter(drilldf['Price'],array);"
   ]
  },
  {
   "cell_type": "code",
   "execution_count": 0,
   "metadata": {
    "colab": {},
    "colab_type": "code",
    "id": "2-t0l3WLEe3a"
   },
   "outputs": [],
   "source": [
    "array=np.arange(247)+1;array"
   ]
  },
  {
   "cell_type": "code",
   "execution_count": 0,
   "metadata": {
    "colab": {},
    "colab_type": "code",
    "id": "FfdJlg2SEe3f"
   },
   "outputs": [],
   "source": []
  }
 ],
 "metadata": {
  "colab": {
   "name": "Copy of phase1.ipynb",
   "provenance": [],
   "version": "0.3.2"
  },
  "kernelspec": {
   "display_name": "Python 3",
   "language": "python",
   "name": "python3"
  },
  "language_info": {
   "codemirror_mode": {
    "name": "ipython",
    "version": 3
   },
   "file_extension": ".py",
   "mimetype": "text/x-python",
   "name": "python",
   "nbconvert_exporter": "python",
   "pygments_lexer": "ipython3",
   "version": "3.6.5"
  }
 },
 "nbformat": 4,
 "nbformat_minor": 1
}
